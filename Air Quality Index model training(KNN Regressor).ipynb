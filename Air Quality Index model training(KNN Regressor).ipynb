{
 "cells": [
  {
   "cell_type": "markdown",
   "id": "fd80b320",
   "metadata": {},
   "source": [
    "# Air Quality Index"
   ]
  },
  {
   "cell_type": "markdown",
   "id": "00aba79d",
   "metadata": {},
   "source": [
    "## ML model to be used\n",
    "\n",
    "- Linear Regression\n",
    "- Lasso Regression\n",
    "- Ridge Regression\n",
    "- Decision Tree Regressor\n",
    "- KNN Regressor*\n",
    "- RandomForestRegressor\n",
    "- Xgboost Regressor\n",
    "- ANN- Artificial Neural Network\n"
   ]
  },
  {
   "cell_type": "markdown",
   "id": "f963b729",
   "metadata": {},
   "source": [
    "## K-Nearest Neighbors Regressor for training the data"
   ]
  },
  {
   "cell_type": "code",
   "execution_count": 47,
   "id": "de5c5d3c",
   "metadata": {},
   "outputs": [],
   "source": [
    "#import the libraries\n",
    "import pandas as pd\n",
    "import numpy as np\n",
    "import seaborn as sns\n",
    "import matplotlib.pyplot as plt\n",
    "from sklearn.model_selection import train_test_split\n",
    "from sklearn.neighbors import KNeighborsRegressor"
   ]
  },
  {
   "cell_type": "code",
   "execution_count": 48,
   "id": "055b6ec2",
   "metadata": {},
   "outputs": [],
   "source": [
    "import warnings\n",
    "warnings.filterwarnings('ignore')"
   ]
  },
  {
   "cell_type": "code",
   "execution_count": 49,
   "id": "3dc8e13b",
   "metadata": {},
   "outputs": [],
   "source": [
    "#Reading the dataframe\n",
    "data_frame=pd.read_csv('AQI_data.csv')"
   ]
  },
  {
   "cell_type": "code",
   "execution_count": 50,
   "id": "ae1f0f65",
   "metadata": {},
   "outputs": [
    {
     "data": {
      "text/html": [
       "<div>\n",
       "<style scoped>\n",
       "    .dataframe tbody tr th:only-of-type {\n",
       "        vertical-align: middle;\n",
       "    }\n",
       "\n",
       "    .dataframe tbody tr th {\n",
       "        vertical-align: top;\n",
       "    }\n",
       "\n",
       "    .dataframe thead th {\n",
       "        text-align: right;\n",
       "    }\n",
       "</style>\n",
       "<table border=\"1\" class=\"dataframe\">\n",
       "  <thead>\n",
       "    <tr style=\"text-align: right;\">\n",
       "      <th></th>\n",
       "      <th>T</th>\n",
       "      <th>TM</th>\n",
       "      <th>Tm</th>\n",
       "      <th>SLP</th>\n",
       "      <th>H</th>\n",
       "      <th>VV</th>\n",
       "      <th>V</th>\n",
       "      <th>VM</th>\n",
       "      <th>PM 2.5</th>\n",
       "    </tr>\n",
       "  </thead>\n",
       "  <tbody>\n",
       "    <tr>\n",
       "      <th>0</th>\n",
       "      <td>7.4</td>\n",
       "      <td>9.8</td>\n",
       "      <td>4.8</td>\n",
       "      <td>1017.6</td>\n",
       "      <td>93.0</td>\n",
       "      <td>0.5</td>\n",
       "      <td>4.3</td>\n",
       "      <td>9.4</td>\n",
       "      <td>219.720833</td>\n",
       "    </tr>\n",
       "    <tr>\n",
       "      <th>1</th>\n",
       "      <td>7.8</td>\n",
       "      <td>12.7</td>\n",
       "      <td>4.4</td>\n",
       "      <td>1018.5</td>\n",
       "      <td>87.0</td>\n",
       "      <td>0.6</td>\n",
       "      <td>4.4</td>\n",
       "      <td>11.1</td>\n",
       "      <td>182.187500</td>\n",
       "    </tr>\n",
       "    <tr>\n",
       "      <th>2</th>\n",
       "      <td>6.7</td>\n",
       "      <td>13.4</td>\n",
       "      <td>2.4</td>\n",
       "      <td>1019.4</td>\n",
       "      <td>82.0</td>\n",
       "      <td>0.6</td>\n",
       "      <td>4.8</td>\n",
       "      <td>11.1</td>\n",
       "      <td>154.037500</td>\n",
       "    </tr>\n",
       "    <tr>\n",
       "      <th>3</th>\n",
       "      <td>8.6</td>\n",
       "      <td>15.5</td>\n",
       "      <td>3.3</td>\n",
       "      <td>1018.7</td>\n",
       "      <td>72.0</td>\n",
       "      <td>0.8</td>\n",
       "      <td>8.1</td>\n",
       "      <td>20.6</td>\n",
       "      <td>223.208333</td>\n",
       "    </tr>\n",
       "    <tr>\n",
       "      <th>4</th>\n",
       "      <td>12.4</td>\n",
       "      <td>20.9</td>\n",
       "      <td>4.4</td>\n",
       "      <td>1017.3</td>\n",
       "      <td>61.0</td>\n",
       "      <td>1.3</td>\n",
       "      <td>8.7</td>\n",
       "      <td>22.2</td>\n",
       "      <td>200.645833</td>\n",
       "    </tr>\n",
       "  </tbody>\n",
       "</table>\n",
       "</div>"
      ],
      "text/plain": [
       "      T    TM   Tm     SLP     H   VV    V    VM      PM 2.5\n",
       "0   7.4   9.8  4.8  1017.6  93.0  0.5  4.3   9.4  219.720833\n",
       "1   7.8  12.7  4.4  1018.5  87.0  0.6  4.4  11.1  182.187500\n",
       "2   6.7  13.4  2.4  1019.4  82.0  0.6  4.8  11.1  154.037500\n",
       "3   8.6  15.5  3.3  1018.7  72.0  0.8  8.1  20.6  223.208333\n",
       "4  12.4  20.9  4.4  1017.3  61.0  1.3  8.7  22.2  200.645833"
      ]
     },
     "execution_count": 50,
     "metadata": {},
     "output_type": "execute_result"
    }
   ],
   "source": [
    "data_frame.head()"
   ]
  },
  {
   "cell_type": "code",
   "execution_count": 51,
   "id": "0087bb39",
   "metadata": {},
   "outputs": [],
   "source": [
    "x=data_frame.iloc[:,:-1]#independent features\n",
    "y=data_frame.iloc[:,-1]#dependent feature"
   ]
  },
  {
   "cell_type": "markdown",
   "id": "38d13f47",
   "metadata": {},
   "source": [
    "## Spliting the data"
   ]
  },
  {
   "cell_type": "code",
   "execution_count": 52,
   "id": "80ce4aab",
   "metadata": {},
   "outputs": [],
   "source": [
    "#spliting the data by dividing into 70% for training data and 30% for test data"
   ]
  },
  {
   "cell_type": "code",
   "execution_count": 53,
   "id": "208d6144",
   "metadata": {},
   "outputs": [],
   "source": [
    "x_train,x_test,y_train,y_test=train_test_split(x,y,test_size=0.3,random_state=0)"
   ]
  },
  {
   "cell_type": "markdown",
   "id": "b83ae36a",
   "metadata": {},
   "source": [
    "- x_train and y_train are used for training the model.\n",
    "- x_test and y_test are used for test the model."
   ]
  },
  {
   "cell_type": "code",
   "execution_count": 54,
   "id": "df58d6e1",
   "metadata": {},
   "outputs": [],
   "source": [
    "#initializing the model"
   ]
  },
  {
   "cell_type": "code",
   "execution_count": 55,
   "id": "f007c314",
   "metadata": {},
   "outputs": [],
   "source": [
    "model=KNeighborsRegressor()"
   ]
  },
  {
   "cell_type": "code",
   "execution_count": 56,
   "id": "a649ea01",
   "metadata": {},
   "outputs": [],
   "source": [
    "#fitting the model with data"
   ]
  },
  {
   "cell_type": "code",
   "execution_count": 57,
   "id": "a5a68e96",
   "metadata": {},
   "outputs": [
    {
     "data": {
      "text/plain": [
       "KNeighborsRegressor()"
      ]
     },
     "execution_count": 57,
     "metadata": {},
     "output_type": "execute_result"
    }
   ],
   "source": [
    "model.fit(x_train,y_train)"
   ]
  },
  {
   "cell_type": "code",
   "execution_count": 58,
   "id": "4bf803a3",
   "metadata": {},
   "outputs": [
    {
     "data": {
      "text/plain": [
       "0.5491808529670075"
      ]
     },
     "execution_count": 58,
     "metadata": {},
     "output_type": "execute_result"
    }
   ],
   "source": [
    "#testing the data with test data\n",
    "model.score(x_test,y_test)"
   ]
  },
  {
   "cell_type": "code",
   "execution_count": 59,
   "id": "a46d5f74",
   "metadata": {},
   "outputs": [
    {
     "data": {
      "text/plain": [
       "0.7020375433790301"
      ]
     },
     "execution_count": 59,
     "metadata": {},
     "output_type": "execute_result"
    }
   ],
   "source": [
    "#testing the data with train data\n",
    "model.score(x_train,y_train)"
   ]
  },
  {
   "cell_type": "code",
   "execution_count": 60,
   "id": "a1936380",
   "metadata": {},
   "outputs": [],
   "source": [
    "from sklearn.model_selection import cross_val_score"
   ]
  },
  {
   "cell_type": "code",
   "execution_count": 61,
   "id": "cfc19dd1",
   "metadata": {},
   "outputs": [
    {
     "data": {
      "text/plain": [
       "0.44367142556959427"
      ]
     },
     "execution_count": 61,
     "metadata": {},
     "output_type": "execute_result"
    }
   ],
   "source": [
    "#cross validation for test data\n",
    "score=cross_val_score(model,x_test,y_test,cv=5)\n",
    "score.mean()"
   ]
  },
  {
   "cell_type": "code",
   "execution_count": 62,
   "id": "e199071b",
   "metadata": {},
   "outputs": [
    {
     "data": {
      "text/plain": [
       "0.5241118061865706"
      ]
     },
     "execution_count": 62,
     "metadata": {},
     "output_type": "execute_result"
    }
   ],
   "source": [
    "#cross validation for train data\n",
    "score=cross_val_score(model,x_train,y_train,cv=5)\n",
    "score.mean()"
   ]
  },
  {
   "cell_type": "markdown",
   "id": "47b09dae",
   "metadata": {},
   "source": [
    "## Evaluating the model"
   ]
  },
  {
   "cell_type": "code",
   "execution_count": 63,
   "id": "3402510f",
   "metadata": {},
   "outputs": [],
   "source": [
    "#chekcing the predictions"
   ]
  },
  {
   "cell_type": "code",
   "execution_count": 64,
   "id": "18d6c6c3",
   "metadata": {},
   "outputs": [],
   "source": [
    "predictions=model.predict(x_test)"
   ]
  },
  {
   "cell_type": "code",
   "execution_count": 65,
   "id": "224f70ba",
   "metadata": {},
   "outputs": [
    {
     "data": {
      "image/png": "[encoded data removed]",
      "text/plain": [
       "<Figure size 432x288 with 1 Axes>"
      ]
     },
     "metadata": {
      "needs_background": "light"
     },
     "output_type": "display_data"
    }
   ],
   "source": [
    "sns.distplot(predictions-y_test);"
   ]
  },
  {
   "cell_type": "code",
   "execution_count": 66,
   "id": "4ac79481",
   "metadata": {},
   "outputs": [
    {
     "data": {
      "text/plain": [
       "Text(0.5, 1.0, 'Relation between the y_test and predicted values')"
      ]
     },
     "execution_count": 66,
     "metadata": {},
     "output_type": "execute_result"
    },
    {
     "data": {
      "image/png": "[encoded data removed]",
      "text/plain": [
       "<Figure size 432x288 with 1 Axes>"
      ]
     },
     "metadata": {
      "needs_background": "light"
     },
     "output_type": "display_data"
    }
   ],
   "source": [
    "plt.scatter(y_test,predictions);\n",
    "plt.xlabel('y_test');\n",
    "plt.ylabel('Predicted values');\n",
    "plt.title('Relation between the y_test and predicted values')"
   ]
  },
  {
   "cell_type": "markdown",
   "id": "2c6982be",
   "metadata": {},
   "source": [
    "## Evaluating the model using the most common evaluation metrics from scratch"
   ]
  },
  {
   "cell_type": "markdown",
   "id": "9732dc19",
   "metadata": {},
   "source": [
    "- MAE:- Mean Absolute Error\n",
    "- MSE:- Mean Squared Error\n",
    "- RSME:- Root Mean Squared Error"
   ]
  },
  {
   "cell_type": "code",
   "execution_count": 67,
   "id": "3bfbebae",
   "metadata": {},
   "outputs": [
    {
     "name": "stdout",
     "output_type": "stream",
     "text": [
      "MAE:  38.135335365853656\n",
      "MSE:  3229.5788319063345\n",
      "RMSE:  56.82938352565805\n"
     ]
    }
   ],
   "source": [
    "#python module for metrics\n",
    "from sklearn import metrics\n",
    "print('MAE: ',metrics.mean_absolute_error(y_test,predictions))\n",
    "print('MSE: ',metrics.mean_squared_error(y_test,predictions))\n",
    "print('RMSE: ',np.sqrt(metrics.mean_squared_error(y_test,predictions)))"
   ]
  },
  {
   "cell_type": "markdown",
   "id": "6de59abf",
   "metadata": {},
   "source": [
    "## We got good accuracy, so we will perform hyperparameter tuning to get even better accuracy."
   ]
  },
  {
   "cell_type": "markdown",
   "id": "97de61f9",
   "metadata": {},
   "source": [
    "## Hyperparameter tuning for KNNRegressor"
   ]
  },
  {
   "cell_type": "markdown",
   "id": "2536f6a4",
   "metadata": {},
   "source": [
    "**Using Random search where the model the picks the given parameters randomly and tune the model.**"
   ]
  },
  {
   "cell_type": "code",
   "execution_count": 68,
   "id": "c929ffb4",
   "metadata": {},
   "outputs": [],
   "source": [
    "accuracy_rate = []\n",
    "\n",
    "for i in range(1,40):    \n",
    "    knn = KNeighborsRegressor(n_neighbors=i)\n",
    "    score=cross_val_score(knn,x,y,cv=10,scoring=\"neg_mean_squared_error\")\n",
    "    accuracy_rate.append(score.mean())"
   ]
  },
  {
   "cell_type": "code",
   "execution_count": 69,
   "id": "593e7c60",
   "metadata": {},
   "outputs": [
    {
     "data": {
      "image/png": "[encoded data removed]",
      "text/plain": [
       "<Figure size 720x432 with 1 Axes>"
      ]
     },
     "metadata": {
      "needs_background": "light"
     },
     "output_type": "display_data"
    }
   ],
   "source": [
    "plt.figure(figsize=(10,6))\n",
    "plt.plot(range(1,40),accuracy_rate,color='blue', linestyle='dashed', marker='o',\n",
    "         markerfacecolor='red', markersize=10)\n",
    "plt.title('Accuracy Rate vs. K Value');\n",
    "plt.xlabel('K');\n",
    "plt.ylabel('Accuracy Rate');"
   ]
  },
  {
   "cell_type": "code",
   "execution_count": 70,
   "id": "d236ebbd",
   "metadata": {},
   "outputs": [
    {
     "data": {
      "text/plain": [
       "KNeighborsRegressor(n_neighbors=1)"
      ]
     },
     "execution_count": 70,
     "metadata": {},
     "output_type": "execute_result"
    }
   ],
   "source": [
    "#let's take our very first k=1\n",
    "knn = KNeighborsRegressor(n_neighbors=1)\n",
    "knn.fit(x_train,y_train)"
   ]
  },
  {
   "cell_type": "markdown",
   "id": "696d0556",
   "metadata": {},
   "source": [
    "## Evaluating the model"
   ]
  },
  {
   "cell_type": "code",
   "execution_count": 71,
   "id": "80f39ff8",
   "metadata": {},
   "outputs": [
    {
     "name": "stdout",
     "output_type": "stream",
     "text": [
      "Score:  0.5417545333477789\n"
     ]
    }
   ],
   "source": [
    "score=knn.score(x_test,y_test)\n",
    "print('Score: ',score)"
   ]
  },
  {
   "cell_type": "code",
   "execution_count": 72,
   "id": "be4ec7a8",
   "metadata": {},
   "outputs": [],
   "source": [
    "predictions=knn.predict(x_test)"
   ]
  },
  {
   "cell_type": "code",
   "execution_count": 73,
   "id": "5e943468",
   "metadata": {},
   "outputs": [
    {
     "data": {
      "image/png": "[encoded data removed]",
      "text/plain": [
       "<Figure size 432x288 with 1 Axes>"
      ]
     },
     "metadata": {
      "needs_background": "light"
     },
     "output_type": "display_data"
    }
   ],
   "source": [
    "sns.distplot(y_test-predictions);"
   ]
  },
  {
   "cell_type": "code",
   "execution_count": 74,
   "id": "681c42e0",
   "metadata": {},
   "outputs": [
    {
     "data": {
      "image/png": "[encoded data removed]",
      "text/plain": [
       "<Figure size 432x288 with 1 Axes>"
      ]
     },
     "metadata": {
      "needs_background": "light"
     },
     "output_type": "display_data"
    }
   ],
   "source": [
    "plt.scatter(y_test,predictions);\n",
    "plt.xlabel('y_test');\n",
    "plt.ylabel('Predicted values');"
   ]
  },
  {
   "cell_type": "code",
   "execution_count": 75,
   "id": "ba7bfe76",
   "metadata": {},
   "outputs": [],
   "source": [
    "#let's take k=39 and try"
   ]
  },
  {
   "cell_type": "code",
   "execution_count": 76,
   "id": "f883f970",
   "metadata": {},
   "outputs": [
    {
     "data": {
      "text/plain": [
       "KNeighborsRegressor(n_neighbors=39)"
      ]
     },
     "execution_count": 76,
     "metadata": {},
     "output_type": "execute_result"
    }
   ],
   "source": [
    "#let's take our very first k=1\n",
    "knn = KNeighborsRegressor(n_neighbors=39)\n",
    "knn.fit(x_train,y_train)"
   ]
  },
  {
   "cell_type": "code",
   "execution_count": 77,
   "id": "936be59c",
   "metadata": {},
   "outputs": [
    {
     "name": "stdout",
     "output_type": "stream",
     "text": [
      "Score:  0.49689152150244287\n"
     ]
    }
   ],
   "source": [
    "score=knn.score(x_test,y_test)\n",
    "print('Score: ',score)"
   ]
  },
  {
   "cell_type": "code",
   "execution_count": 78,
   "id": "ac1dd4ae",
   "metadata": {},
   "outputs": [],
   "source": [
    "predictions=knn.predict(x_test)"
   ]
  },
  {
   "cell_type": "code",
   "execution_count": 79,
   "id": "bd010c51",
   "metadata": {},
   "outputs": [
    {
     "data": {
      "image/png": "[encoded data removed]",
      "text/plain": [
       "<Figure size 432x288 with 1 Axes>"
      ]
     },
     "metadata": {
      "needs_background": "light"
     },
     "output_type": "display_data"
    }
   ],
   "source": [
    "sns.distplot(y_test-predictions);"
   ]
  },
  {
   "cell_type": "code",
   "execution_count": 80,
   "id": "08c81227",
   "metadata": {},
   "outputs": [
    {
     "data": {
      "image/png": "[encoded data removed]",
      "text/plain": [
       "<Figure size 432x288 with 1 Axes>"
      ]
     },
     "metadata": {
      "needs_background": "light"
     },
     "output_type": "display_data"
    }
   ],
   "source": [
    "plt.scatter(y_test,predictions);\n",
    "plt.xlabel('y_test');\n",
    "plt.ylabel('Predicted values');"
   ]
  }
 ],
 "metadata": {
  "kernelspec": {
   "display_name": "Python 3 (ipykernel)",
   "language": "python",
   "name": "python3"
  },
  "language_info": {
   "codemirror_mode": {
    "name": "ipython",
    "version": 3
   },
   "file_extension": ".py",
   "mimetype": "text/x-python",
   "name": "python",
   "nbconvert_exporter": "python",
   "pygments_lexer": "ipython3",
   "version": "3.9.6"
  }
 },
 "nbformat": 4,
 "nbformat_minor": 5
}
