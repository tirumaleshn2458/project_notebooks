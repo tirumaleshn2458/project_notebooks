{
 "cells": [
  {
   "cell_type": "markdown",
   "id": "d4d69b77",
   "metadata": {},
   "source": [
    "# Real Estate Sales\n",
    "\n",
    "## Aim: To predict the Sale Amount in Connecticut US State."
   ]
  },
  {
   "cell_type": "code",
   "execution_count": 267,
   "id": "606e1a81",
   "metadata": {},
   "outputs": [],
   "source": [
    "#import required libraries\n",
    "import pandas as pd\n",
    "import numpy as np\n",
    "import seaborn as sns"
   ]
  },
  {
   "cell_type": "code",
   "execution_count": 268,
   "id": "b4e48043",
   "metadata": {},
   "outputs": [],
   "source": [
    "import warnings\n",
    "warnings.filterwarnings('ignore')"
   ]
  },
  {
   "cell_type": "code",
   "execution_count": 269,
   "id": "ac8c3a26",
   "metadata": {},
   "outputs": [],
   "source": [
    "data_frame=pd.read_csv('modified_data.csv')"
   ]
  },
  {
   "cell_type": "code",
   "execution_count": 270,
   "id": "bcf3ddd0",
   "metadata": {},
   "outputs": [
    {
     "data": {
      "text/html": [
       "<div>\n",
       "<style scoped>\n",
       "    .dataframe tbody tr th:only-of-type {\n",
       "        vertical-align: middle;\n",
       "    }\n",
       "\n",
       "    .dataframe tbody tr th {\n",
       "        vertical-align: top;\n",
       "    }\n",
       "\n",
       "    .dataframe thead th {\n",
       "        text-align: right;\n",
       "    }\n",
       "</style>\n",
       "<table border=\"1\" class=\"dataframe\">\n",
       "  <thead>\n",
       "    <tr style=\"text-align: right;\">\n",
       "      <th></th>\n",
       "      <th>Serial Number</th>\n",
       "      <th>List Year</th>\n",
       "      <th>Date Recorded</th>\n",
       "      <th>Town</th>\n",
       "      <th>Address</th>\n",
       "      <th>Assessed Value</th>\n",
       "      <th>Sale Amount</th>\n",
       "      <th>Sales Ratio</th>\n",
       "      <th>Property Type</th>\n",
       "    </tr>\n",
       "  </thead>\n",
       "  <tbody>\n",
       "    <tr>\n",
       "      <th>0</th>\n",
       "      <td>19029</td>\n",
       "      <td>2019</td>\n",
       "      <td>10/31/2019</td>\n",
       "      <td>Ansonia</td>\n",
       "      <td>23 ROBERT BARRY RD</td>\n",
       "      <td>202200.0</td>\n",
       "      <td>284000.0</td>\n",
       "      <td>0.7120</td>\n",
       "      <td>Single Family</td>\n",
       "    </tr>\n",
       "    <tr>\n",
       "      <th>1</th>\n",
       "      <td>190189</td>\n",
       "      <td>2019</td>\n",
       "      <td>04/07/2020</td>\n",
       "      <td>Avon</td>\n",
       "      <td>23 RIVER MEAD</td>\n",
       "      <td>134460.0</td>\n",
       "      <td>173800.0</td>\n",
       "      <td>0.7736</td>\n",
       "      <td>Condo</td>\n",
       "    </tr>\n",
       "    <tr>\n",
       "      <th>2</th>\n",
       "      <td>190352</td>\n",
       "      <td>2019</td>\n",
       "      <td>08/06/2020</td>\n",
       "      <td>Avon</td>\n",
       "      <td>204 LOVELY STREET</td>\n",
       "      <td>207450.0</td>\n",
       "      <td>317500.0</td>\n",
       "      <td>0.6534</td>\n",
       "      <td>Single Family</td>\n",
       "    </tr>\n",
       "    <tr>\n",
       "      <th>3</th>\n",
       "      <td>190033</td>\n",
       "      <td>2019</td>\n",
       "      <td>12/03/2019</td>\n",
       "      <td>Beacon Falls</td>\n",
       "      <td>73 HILLVIEW STREET</td>\n",
       "      <td>111480.0</td>\n",
       "      <td>229900.0</td>\n",
       "      <td>0.4849</td>\n",
       "      <td>Single Family</td>\n",
       "    </tr>\n",
       "    <tr>\n",
       "      <th>4</th>\n",
       "      <td>190056</td>\n",
       "      <td>2019</td>\n",
       "      <td>05/13/2020</td>\n",
       "      <td>Bethany</td>\n",
       "      <td>200 RUSSELL DR</td>\n",
       "      <td>323020.0</td>\n",
       "      <td>560000.0</td>\n",
       "      <td>0.5768</td>\n",
       "      <td>Single Family</td>\n",
       "    </tr>\n",
       "  </tbody>\n",
       "</table>\n",
       "</div>"
      ],
      "text/plain": [
       "   Serial Number  List Year Date Recorded          Town             Address  \\\n",
       "0          19029       2019    10/31/2019       Ansonia  23 ROBERT BARRY RD   \n",
       "1         190189       2019    04/07/2020          Avon       23 RIVER MEAD   \n",
       "2         190352       2019    08/06/2020          Avon   204 LOVELY STREET   \n",
       "3         190033       2019    12/03/2019  Beacon Falls  73 HILLVIEW STREET   \n",
       "4         190056       2019    05/13/2020       Bethany      200 RUSSELL DR   \n",
       "\n",
       "   Assessed Value  Sale Amount  Sales Ratio  Property Type  \n",
       "0        202200.0     284000.0       0.7120  Single Family  \n",
       "1        134460.0     173800.0       0.7736          Condo  \n",
       "2        207450.0     317500.0       0.6534  Single Family  \n",
       "3        111480.0     229900.0       0.4849  Single Family  \n",
       "4        323020.0     560000.0       0.5768  Single Family  "
      ]
     },
     "execution_count": 270,
     "metadata": {},
     "output_type": "execute_result"
    }
   ],
   "source": [
    "data_frame.head()"
   ]
  },
  {
   "cell_type": "markdown",
   "id": "01cb9e23",
   "metadata": {},
   "source": [
    "### Handling missing values"
   ]
  },
  {
   "cell_type": "code",
   "execution_count": 272,
   "id": "a40a175f",
   "metadata": {},
   "outputs": [
    {
     "data": {
      "text/plain": [
       "Serial Number        0\n",
       "List Year            0\n",
       "Date Recorded        2\n",
       "Town                 0\n",
       "Address             51\n",
       "Assessed Value       0\n",
       "Sale Amount          0\n",
       "Sales Ratio          0\n",
       "Property Type     4888\n",
       "dtype: int64"
      ]
     },
     "execution_count": 272,
     "metadata": {},
     "output_type": "execute_result"
    }
   ],
   "source": [
    "data_frame.isnull().sum()"
   ]
  },
  {
   "cell_type": "markdown",
   "id": "a8e4ae55",
   "metadata": {},
   "source": [
    "Dropping Null values from the dataframe since they are less in count within the dataset length"
   ]
  },
  {
   "cell_type": "code",
   "execution_count": 273,
   "id": "cf35fc43",
   "metadata": {},
   "outputs": [],
   "source": [
    "data_frame.dropna(axis=0,inplace=True)"
   ]
  },
  {
   "cell_type": "code",
   "execution_count": 274,
   "id": "1977c034",
   "metadata": {},
   "outputs": [
    {
     "data": {
      "text/plain": [
       "Serial Number     0\n",
       "List Year         0\n",
       "Date Recorded     0\n",
       "Town              0\n",
       "Address           0\n",
       "Assessed Value    0\n",
       "Sale Amount       0\n",
       "Sales Ratio       0\n",
       "Property Type     0\n",
       "dtype: int64"
      ]
     },
     "execution_count": 274,
     "metadata": {},
     "output_type": "execute_result"
    }
   ],
   "source": [
    "data_frame.isnull().sum()"
   ]
  },
  {
   "cell_type": "markdown",
   "id": "6568e8ef",
   "metadata": {},
   "source": [
    "### Handling temporal features"
   ]
  },
  {
   "cell_type": "markdown",
   "id": "c50805d7",
   "metadata": {},
   "source": [
    "Extracting only Year value from 'Date Recorded' feature"
   ]
  },
  {
   "cell_type": "code",
   "execution_count": 275,
   "id": "dde7b4a1",
   "metadata": {},
   "outputs": [],
   "source": [
    "year_recorded=[]\n",
    "for i in data_frame['Date Recorded']:\n",
    "    year_recorded.append(int(i[-4:]))"
   ]
  },
  {
   "cell_type": "code",
   "execution_count": 276,
   "id": "d7eaf8f1",
   "metadata": {},
   "outputs": [],
   "source": [
    "data_frame['Date Recorded']=year_recorded"
   ]
  },
  {
   "cell_type": "code",
   "execution_count": 277,
   "id": "891de764",
   "metadata": {},
   "outputs": [
    {
     "data": {
      "text/html": [
       "<div>\n",
       "<style scoped>\n",
       "    .dataframe tbody tr th:only-of-type {\n",
       "        vertical-align: middle;\n",
       "    }\n",
       "\n",
       "    .dataframe tbody tr th {\n",
       "        vertical-align: top;\n",
       "    }\n",
       "\n",
       "    .dataframe thead th {\n",
       "        text-align: right;\n",
       "    }\n",
       "</style>\n",
       "<table border=\"1\" class=\"dataframe\">\n",
       "  <thead>\n",
       "    <tr style=\"text-align: right;\">\n",
       "      <th></th>\n",
       "      <th>Serial Number</th>\n",
       "      <th>List Year</th>\n",
       "      <th>Date Recorded</th>\n",
       "      <th>Town</th>\n",
       "      <th>Address</th>\n",
       "      <th>Assessed Value</th>\n",
       "      <th>Sale Amount</th>\n",
       "      <th>Sales Ratio</th>\n",
       "      <th>Property Type</th>\n",
       "    </tr>\n",
       "  </thead>\n",
       "  <tbody>\n",
       "    <tr>\n",
       "      <th>0</th>\n",
       "      <td>19029</td>\n",
       "      <td>2019</td>\n",
       "      <td>2019</td>\n",
       "      <td>Ansonia</td>\n",
       "      <td>23 ROBERT BARRY RD</td>\n",
       "      <td>202200.0</td>\n",
       "      <td>284000.0</td>\n",
       "      <td>0.7120</td>\n",
       "      <td>Single Family</td>\n",
       "    </tr>\n",
       "    <tr>\n",
       "      <th>1</th>\n",
       "      <td>190189</td>\n",
       "      <td>2019</td>\n",
       "      <td>2020</td>\n",
       "      <td>Avon</td>\n",
       "      <td>23 RIVER MEAD</td>\n",
       "      <td>134460.0</td>\n",
       "      <td>173800.0</td>\n",
       "      <td>0.7736</td>\n",
       "      <td>Condo</td>\n",
       "    </tr>\n",
       "    <tr>\n",
       "      <th>2</th>\n",
       "      <td>190352</td>\n",
       "      <td>2019</td>\n",
       "      <td>2020</td>\n",
       "      <td>Avon</td>\n",
       "      <td>204 LOVELY STREET</td>\n",
       "      <td>207450.0</td>\n",
       "      <td>317500.0</td>\n",
       "      <td>0.6534</td>\n",
       "      <td>Single Family</td>\n",
       "    </tr>\n",
       "    <tr>\n",
       "      <th>3</th>\n",
       "      <td>190033</td>\n",
       "      <td>2019</td>\n",
       "      <td>2019</td>\n",
       "      <td>Beacon Falls</td>\n",
       "      <td>73 HILLVIEW STREET</td>\n",
       "      <td>111480.0</td>\n",
       "      <td>229900.0</td>\n",
       "      <td>0.4849</td>\n",
       "      <td>Single Family</td>\n",
       "    </tr>\n",
       "    <tr>\n",
       "      <th>4</th>\n",
       "      <td>190056</td>\n",
       "      <td>2019</td>\n",
       "      <td>2020</td>\n",
       "      <td>Bethany</td>\n",
       "      <td>200 RUSSELL DR</td>\n",
       "      <td>323020.0</td>\n",
       "      <td>560000.0</td>\n",
       "      <td>0.5768</td>\n",
       "      <td>Single Family</td>\n",
       "    </tr>\n",
       "  </tbody>\n",
       "</table>\n",
       "</div>"
      ],
      "text/plain": [
       "   Serial Number  List Year  Date Recorded          Town             Address  \\\n",
       "0          19029       2019           2019       Ansonia  23 ROBERT BARRY RD   \n",
       "1         190189       2019           2020          Avon       23 RIVER MEAD   \n",
       "2         190352       2019           2020          Avon   204 LOVELY STREET   \n",
       "3         190033       2019           2019  Beacon Falls  73 HILLVIEW STREET   \n",
       "4         190056       2019           2020       Bethany      200 RUSSELL DR   \n",
       "\n",
       "   Assessed Value  Sale Amount  Sales Ratio  Property Type  \n",
       "0        202200.0     284000.0       0.7120  Single Family  \n",
       "1        134460.0     173800.0       0.7736          Condo  \n",
       "2        207450.0     317500.0       0.6534  Single Family  \n",
       "3        111480.0     229900.0       0.4849  Single Family  \n",
       "4        323020.0     560000.0       0.5768  Single Family  "
      ]
     },
     "execution_count": 277,
     "metadata": {},
     "output_type": "execute_result"
    }
   ],
   "source": [
    "data_frame.head()"
   ]
  },
  {
   "cell_type": "markdown",
   "id": "91cb7f59",
   "metadata": {},
   "source": [
    "## Spliting the data into categorical and numerical data"
   ]
  },
  {
   "cell_type": "code",
   "execution_count": 278,
   "id": "00775093",
   "metadata": {},
   "outputs": [],
   "source": [
    "categorical_features=[]\n",
    "numerical_features=[]\n",
    "for cols in data_frame.columns:\n",
    "    if data_frame[cols].dtype=='O':\n",
    "        categorical_features.append(cols)\n",
    "    else:\n",
    "        numerical_features.append(cols)"
   ]
  },
  {
   "cell_type": "code",
   "execution_count": 279,
   "id": "70a7a10b",
   "metadata": {},
   "outputs": [],
   "source": [
    "cat_data_frame=data_frame[categorical_features]\n",
    "num_data_frame=data_frame[numerical_features]"
   ]
  },
  {
   "cell_type": "code",
   "execution_count": 280,
   "id": "34744f46",
   "metadata": {},
   "outputs": [
    {
     "data": {
      "text/html": [
       "<div>\n",
       "<style scoped>\n",
       "    .dataframe tbody tr th:only-of-type {\n",
       "        vertical-align: middle;\n",
       "    }\n",
       "\n",
       "    .dataframe tbody tr th {\n",
       "        vertical-align: top;\n",
       "    }\n",
       "\n",
       "    .dataframe thead th {\n",
       "        text-align: right;\n",
       "    }\n",
       "</style>\n",
       "<table border=\"1\" class=\"dataframe\">\n",
       "  <thead>\n",
       "    <tr style=\"text-align: right;\">\n",
       "      <th></th>\n",
       "      <th>Town</th>\n",
       "      <th>Address</th>\n",
       "      <th>Property Type</th>\n",
       "    </tr>\n",
       "  </thead>\n",
       "  <tbody>\n",
       "    <tr>\n",
       "      <th>0</th>\n",
       "      <td>Ansonia</td>\n",
       "      <td>23 ROBERT BARRY RD</td>\n",
       "      <td>Single Family</td>\n",
       "    </tr>\n",
       "    <tr>\n",
       "      <th>1</th>\n",
       "      <td>Avon</td>\n",
       "      <td>23 RIVER MEAD</td>\n",
       "      <td>Condo</td>\n",
       "    </tr>\n",
       "    <tr>\n",
       "      <th>2</th>\n",
       "      <td>Avon</td>\n",
       "      <td>204 LOVELY STREET</td>\n",
       "      <td>Single Family</td>\n",
       "    </tr>\n",
       "    <tr>\n",
       "      <th>3</th>\n",
       "      <td>Beacon Falls</td>\n",
       "      <td>73 HILLVIEW STREET</td>\n",
       "      <td>Single Family</td>\n",
       "    </tr>\n",
       "    <tr>\n",
       "      <th>4</th>\n",
       "      <td>Bethany</td>\n",
       "      <td>200 RUSSELL DR</td>\n",
       "      <td>Single Family</td>\n",
       "    </tr>\n",
       "  </tbody>\n",
       "</table>\n",
       "</div>"
      ],
      "text/plain": [
       "           Town             Address  Property Type\n",
       "0       Ansonia  23 ROBERT BARRY RD  Single Family\n",
       "1          Avon       23 RIVER MEAD          Condo\n",
       "2          Avon   204 LOVELY STREET  Single Family\n",
       "3  Beacon Falls  73 HILLVIEW STREET  Single Family\n",
       "4       Bethany      200 RUSSELL DR  Single Family"
      ]
     },
     "execution_count": 280,
     "metadata": {},
     "output_type": "execute_result"
    }
   ],
   "source": [
    "cat_data_frame.head()"
   ]
  },
  {
   "cell_type": "code",
   "execution_count": 281,
   "id": "bf26efa9",
   "metadata": {},
   "outputs": [
    {
     "data": {
      "text/html": [
       "<div>\n",
       "<style scoped>\n",
       "    .dataframe tbody tr th:only-of-type {\n",
       "        vertical-align: middle;\n",
       "    }\n",
       "\n",
       "    .dataframe tbody tr th {\n",
       "        vertical-align: top;\n",
       "    }\n",
       "\n",
       "    .dataframe thead th {\n",
       "        text-align: right;\n",
       "    }\n",
       "</style>\n",
       "<table border=\"1\" class=\"dataframe\">\n",
       "  <thead>\n",
       "    <tr style=\"text-align: right;\">\n",
       "      <th></th>\n",
       "      <th>Serial Number</th>\n",
       "      <th>List Year</th>\n",
       "      <th>Date Recorded</th>\n",
       "      <th>Assessed Value</th>\n",
       "      <th>Sale Amount</th>\n",
       "      <th>Sales Ratio</th>\n",
       "    </tr>\n",
       "  </thead>\n",
       "  <tbody>\n",
       "    <tr>\n",
       "      <th>0</th>\n",
       "      <td>19029</td>\n",
       "      <td>2019</td>\n",
       "      <td>2019</td>\n",
       "      <td>202200.0</td>\n",
       "      <td>284000.0</td>\n",
       "      <td>0.7120</td>\n",
       "    </tr>\n",
       "    <tr>\n",
       "      <th>1</th>\n",
       "      <td>190189</td>\n",
       "      <td>2019</td>\n",
       "      <td>2020</td>\n",
       "      <td>134460.0</td>\n",
       "      <td>173800.0</td>\n",
       "      <td>0.7736</td>\n",
       "    </tr>\n",
       "    <tr>\n",
       "      <th>2</th>\n",
       "      <td>190352</td>\n",
       "      <td>2019</td>\n",
       "      <td>2020</td>\n",
       "      <td>207450.0</td>\n",
       "      <td>317500.0</td>\n",
       "      <td>0.6534</td>\n",
       "    </tr>\n",
       "    <tr>\n",
       "      <th>3</th>\n",
       "      <td>190033</td>\n",
       "      <td>2019</td>\n",
       "      <td>2019</td>\n",
       "      <td>111480.0</td>\n",
       "      <td>229900.0</td>\n",
       "      <td>0.4849</td>\n",
       "    </tr>\n",
       "    <tr>\n",
       "      <th>4</th>\n",
       "      <td>190056</td>\n",
       "      <td>2019</td>\n",
       "      <td>2020</td>\n",
       "      <td>323020.0</td>\n",
       "      <td>560000.0</td>\n",
       "      <td>0.5768</td>\n",
       "    </tr>\n",
       "  </tbody>\n",
       "</table>\n",
       "</div>"
      ],
      "text/plain": [
       "   Serial Number  List Year  Date Recorded  Assessed Value  Sale Amount  \\\n",
       "0          19029       2019           2019        202200.0     284000.0   \n",
       "1         190189       2019           2020        134460.0     173800.0   \n",
       "2         190352       2019           2020        207450.0     317500.0   \n",
       "3         190033       2019           2019        111480.0     229900.0   \n",
       "4         190056       2019           2020        323020.0     560000.0   \n",
       "\n",
       "   Sales Ratio  \n",
       "0       0.7120  \n",
       "1       0.7736  \n",
       "2       0.6534  \n",
       "3       0.4849  \n",
       "4       0.5768  "
      ]
     },
     "execution_count": 281,
     "metadata": {},
     "output_type": "execute_result"
    }
   ],
   "source": [
    "num_data_frame.head()"
   ]
  },
  {
   "cell_type": "markdown",
   "id": "96e583ca",
   "metadata": {},
   "source": [
    "## Converting the categorical features into numerical features"
   ]
  },
  {
   "cell_type": "markdown",
   "id": "6a64962e",
   "metadata": {},
   "source": [
    "Performing label encoding"
   ]
  },
  {
   "cell_type": "code",
   "execution_count": 282,
   "id": "e489261d",
   "metadata": {},
   "outputs": [],
   "source": [
    "for cols in categorical_features:\n",
    "    rank=cat_data_frame[cols].value_counts(ascending=True).index\n",
    "    mapping={i:k for k,i in enumerate(rank,0)}\n",
    "    cat_data_frame[cols]=cat_data_frame[cols].map(mapping)"
   ]
  },
  {
   "cell_type": "code",
   "execution_count": 283,
   "id": "b8e9b4b7",
   "metadata": {},
   "outputs": [
    {
     "data": {
      "text/html": [
       "<div>\n",
       "<style scoped>\n",
       "    .dataframe tbody tr th:only-of-type {\n",
       "        vertical-align: middle;\n",
       "    }\n",
       "\n",
       "    .dataframe tbody tr th {\n",
       "        vertical-align: top;\n",
       "    }\n",
       "\n",
       "    .dataframe thead th {\n",
       "        text-align: right;\n",
       "    }\n",
       "</style>\n",
       "<table border=\"1\" class=\"dataframe\">\n",
       "  <thead>\n",
       "    <tr style=\"text-align: right;\">\n",
       "      <th></th>\n",
       "      <th>Town</th>\n",
       "      <th>Address</th>\n",
       "      <th>Property Type</th>\n",
       "    </tr>\n",
       "  </thead>\n",
       "  <tbody>\n",
       "    <tr>\n",
       "      <th>0</th>\n",
       "      <td>93</td>\n",
       "      <td>0</td>\n",
       "      <td>14</td>\n",
       "    </tr>\n",
       "    <tr>\n",
       "      <th>1</th>\n",
       "      <td>124</td>\n",
       "      <td>577418</td>\n",
       "      <td>9</td>\n",
       "    </tr>\n",
       "    <tr>\n",
       "      <th>2</th>\n",
       "      <td>124</td>\n",
       "      <td>391996</td>\n",
       "      <td>14</td>\n",
       "    </tr>\n",
       "    <tr>\n",
       "      <th>3</th>\n",
       "      <td>47</td>\n",
       "      <td>391995</td>\n",
       "      <td>14</td>\n",
       "    </tr>\n",
       "    <tr>\n",
       "      <th>4</th>\n",
       "      <td>41</td>\n",
       "      <td>391994</td>\n",
       "      <td>14</td>\n",
       "    </tr>\n",
       "  </tbody>\n",
       "</table>\n",
       "</div>"
      ],
      "text/plain": [
       "   Town  Address  Property Type\n",
       "0    93        0             14\n",
       "1   124   577418              9\n",
       "2   124   391996             14\n",
       "3    47   391995             14\n",
       "4    41   391994             14"
      ]
     },
     "execution_count": 283,
     "metadata": {},
     "output_type": "execute_result"
    }
   ],
   "source": [
    "cat_data_frame.head()"
   ]
  },
  {
   "cell_type": "markdown",
   "id": "ba07c34b",
   "metadata": {},
   "source": [
    "## Handling Numerical data"
   ]
  },
  {
   "cell_type": "code",
   "execution_count": 285,
   "id": "0f67b428",
   "metadata": {},
   "outputs": [
    {
     "data": {
      "text/html": [
       "<div>\n",
       "<style scoped>\n",
       "    .dataframe tbody tr th:only-of-type {\n",
       "        vertical-align: middle;\n",
       "    }\n",
       "\n",
       "    .dataframe tbody tr th {\n",
       "        vertical-align: top;\n",
       "    }\n",
       "\n",
       "    .dataframe thead th {\n",
       "        text-align: right;\n",
       "    }\n",
       "</style>\n",
       "<table border=\"1\" class=\"dataframe\">\n",
       "  <thead>\n",
       "    <tr style=\"text-align: right;\">\n",
       "      <th></th>\n",
       "      <th>Serial Number</th>\n",
       "      <th>List Year</th>\n",
       "      <th>Date Recorded</th>\n",
       "      <th>Assessed Value</th>\n",
       "      <th>Sale Amount</th>\n",
       "      <th>Sales Ratio</th>\n",
       "    </tr>\n",
       "  </thead>\n",
       "  <tbody>\n",
       "    <tr>\n",
       "      <th>0</th>\n",
       "      <td>19029</td>\n",
       "      <td>2019</td>\n",
       "      <td>2019</td>\n",
       "      <td>202200.0</td>\n",
       "      <td>284000.0</td>\n",
       "      <td>0.7120</td>\n",
       "    </tr>\n",
       "    <tr>\n",
       "      <th>1</th>\n",
       "      <td>190189</td>\n",
       "      <td>2019</td>\n",
       "      <td>2020</td>\n",
       "      <td>134460.0</td>\n",
       "      <td>173800.0</td>\n",
       "      <td>0.7736</td>\n",
       "    </tr>\n",
       "    <tr>\n",
       "      <th>2</th>\n",
       "      <td>190352</td>\n",
       "      <td>2019</td>\n",
       "      <td>2020</td>\n",
       "      <td>207450.0</td>\n",
       "      <td>317500.0</td>\n",
       "      <td>0.6534</td>\n",
       "    </tr>\n",
       "    <tr>\n",
       "      <th>3</th>\n",
       "      <td>190033</td>\n",
       "      <td>2019</td>\n",
       "      <td>2019</td>\n",
       "      <td>111480.0</td>\n",
       "      <td>229900.0</td>\n",
       "      <td>0.4849</td>\n",
       "    </tr>\n",
       "    <tr>\n",
       "      <th>4</th>\n",
       "      <td>190056</td>\n",
       "      <td>2019</td>\n",
       "      <td>2020</td>\n",
       "      <td>323020.0</td>\n",
       "      <td>560000.0</td>\n",
       "      <td>0.5768</td>\n",
       "    </tr>\n",
       "  </tbody>\n",
       "</table>\n",
       "</div>"
      ],
      "text/plain": [
       "   Serial Number  List Year  Date Recorded  Assessed Value  Sale Amount  \\\n",
       "0          19029       2019           2019        202200.0     284000.0   \n",
       "1         190189       2019           2020        134460.0     173800.0   \n",
       "2         190352       2019           2020        207450.0     317500.0   \n",
       "3         190033       2019           2019        111480.0     229900.0   \n",
       "4         190056       2019           2020        323020.0     560000.0   \n",
       "\n",
       "   Sales Ratio  \n",
       "0       0.7120  \n",
       "1       0.7736  \n",
       "2       0.6534  \n",
       "3       0.4849  \n",
       "4       0.5768  "
      ]
     },
     "execution_count": 285,
     "metadata": {},
     "output_type": "execute_result"
    }
   ],
   "source": [
    "num_data_frame.head()"
   ]
  },
  {
   "cell_type": "markdown",
   "id": "abf14537",
   "metadata": {},
   "source": [
    "Modifying temporal features by subtracting them with 2021(Current year)"
   ]
  },
  {
   "cell_type": "code",
   "execution_count": 286,
   "id": "0464ad94",
   "metadata": {},
   "outputs": [],
   "source": [
    "num_data_frame['Date Recorded']=2021-num_data_frame['Date Recorded']\n",
    "num_data_frame['List Year']=2021-num_data_frame['List Year']"
   ]
  },
  {
   "cell_type": "code",
   "execution_count": 287,
   "id": "f00d3476",
   "metadata": {},
   "outputs": [
    {
     "data": {
      "text/html": [
       "<div>\n",
       "<style scoped>\n",
       "    .dataframe tbody tr th:only-of-type {\n",
       "        vertical-align: middle;\n",
       "    }\n",
       "\n",
       "    .dataframe tbody tr th {\n",
       "        vertical-align: top;\n",
       "    }\n",
       "\n",
       "    .dataframe thead th {\n",
       "        text-align: right;\n",
       "    }\n",
       "</style>\n",
       "<table border=\"1\" class=\"dataframe\">\n",
       "  <thead>\n",
       "    <tr style=\"text-align: right;\">\n",
       "      <th></th>\n",
       "      <th>Serial Number</th>\n",
       "      <th>List Year</th>\n",
       "      <th>Date Recorded</th>\n",
       "      <th>Assessed Value</th>\n",
       "      <th>Sale Amount</th>\n",
       "      <th>Sales Ratio</th>\n",
       "    </tr>\n",
       "  </thead>\n",
       "  <tbody>\n",
       "    <tr>\n",
       "      <th>0</th>\n",
       "      <td>19029</td>\n",
       "      <td>2</td>\n",
       "      <td>2</td>\n",
       "      <td>202200.0</td>\n",
       "      <td>284000.0</td>\n",
       "      <td>0.7120</td>\n",
       "    </tr>\n",
       "    <tr>\n",
       "      <th>1</th>\n",
       "      <td>190189</td>\n",
       "      <td>2</td>\n",
       "      <td>1</td>\n",
       "      <td>134460.0</td>\n",
       "      <td>173800.0</td>\n",
       "      <td>0.7736</td>\n",
       "    </tr>\n",
       "    <tr>\n",
       "      <th>2</th>\n",
       "      <td>190352</td>\n",
       "      <td>2</td>\n",
       "      <td>1</td>\n",
       "      <td>207450.0</td>\n",
       "      <td>317500.0</td>\n",
       "      <td>0.6534</td>\n",
       "    </tr>\n",
       "    <tr>\n",
       "      <th>3</th>\n",
       "      <td>190033</td>\n",
       "      <td>2</td>\n",
       "      <td>2</td>\n",
       "      <td>111480.0</td>\n",
       "      <td>229900.0</td>\n",
       "      <td>0.4849</td>\n",
       "    </tr>\n",
       "    <tr>\n",
       "      <th>4</th>\n",
       "      <td>190056</td>\n",
       "      <td>2</td>\n",
       "      <td>1</td>\n",
       "      <td>323020.0</td>\n",
       "      <td>560000.0</td>\n",
       "      <td>0.5768</td>\n",
       "    </tr>\n",
       "  </tbody>\n",
       "</table>\n",
       "</div>"
      ],
      "text/plain": [
       "   Serial Number  List Year  Date Recorded  Assessed Value  Sale Amount  \\\n",
       "0          19029          2              2        202200.0     284000.0   \n",
       "1         190189          2              1        134460.0     173800.0   \n",
       "2         190352          2              1        207450.0     317500.0   \n",
       "3         190033          2              2        111480.0     229900.0   \n",
       "4         190056          2              1        323020.0     560000.0   \n",
       "\n",
       "   Sales Ratio  \n",
       "0       0.7120  \n",
       "1       0.7736  \n",
       "2       0.6534  \n",
       "3       0.4849  \n",
       "4       0.5768  "
      ]
     },
     "execution_count": 287,
     "metadata": {},
     "output_type": "execute_result"
    }
   ],
   "source": [
    "num_data_frame.head()"
   ]
  },
  {
   "cell_type": "markdown",
   "id": "76dbf6b2",
   "metadata": {},
   "source": [
    "Combining the categorical and numerical data"
   ]
  },
  {
   "cell_type": "code",
   "execution_count": 290,
   "id": "1ff24148",
   "metadata": {},
   "outputs": [],
   "source": [
    "combined_data=pd.concat([cat_data_frame,num_data_frame],axis=1)"
   ]
  },
  {
   "cell_type": "code",
   "execution_count": 291,
   "id": "97ae5257",
   "metadata": {},
   "outputs": [
    {
     "data": {
      "text/html": [
       "<div>\n",
       "<style scoped>\n",
       "    .dataframe tbody tr th:only-of-type {\n",
       "        vertical-align: middle;\n",
       "    }\n",
       "\n",
       "    .dataframe tbody tr th {\n",
       "        vertical-align: top;\n",
       "    }\n",
       "\n",
       "    .dataframe thead th {\n",
       "        text-align: right;\n",
       "    }\n",
       "</style>\n",
       "<table border=\"1\" class=\"dataframe\">\n",
       "  <thead>\n",
       "    <tr style=\"text-align: right;\">\n",
       "      <th></th>\n",
       "      <th>Town</th>\n",
       "      <th>Address</th>\n",
       "      <th>Property Type</th>\n",
       "      <th>Serial Number</th>\n",
       "      <th>List Year</th>\n",
       "      <th>Date Recorded</th>\n",
       "      <th>Assessed Value</th>\n",
       "      <th>Sale Amount</th>\n",
       "      <th>Sales Ratio</th>\n",
       "    </tr>\n",
       "  </thead>\n",
       "  <tbody>\n",
       "    <tr>\n",
       "      <th>0</th>\n",
       "      <td>93</td>\n",
       "      <td>0</td>\n",
       "      <td>14</td>\n",
       "      <td>19029</td>\n",
       "      <td>2</td>\n",
       "      <td>2</td>\n",
       "      <td>202200.0</td>\n",
       "      <td>284000.0</td>\n",
       "      <td>0.7120</td>\n",
       "    </tr>\n",
       "    <tr>\n",
       "      <th>1</th>\n",
       "      <td>124</td>\n",
       "      <td>577418</td>\n",
       "      <td>9</td>\n",
       "      <td>190189</td>\n",
       "      <td>2</td>\n",
       "      <td>1</td>\n",
       "      <td>134460.0</td>\n",
       "      <td>173800.0</td>\n",
       "      <td>0.7736</td>\n",
       "    </tr>\n",
       "    <tr>\n",
       "      <th>2</th>\n",
       "      <td>124</td>\n",
       "      <td>391996</td>\n",
       "      <td>14</td>\n",
       "      <td>190352</td>\n",
       "      <td>2</td>\n",
       "      <td>1</td>\n",
       "      <td>207450.0</td>\n",
       "      <td>317500.0</td>\n",
       "      <td>0.6534</td>\n",
       "    </tr>\n",
       "    <tr>\n",
       "      <th>3</th>\n",
       "      <td>47</td>\n",
       "      <td>391995</td>\n",
       "      <td>14</td>\n",
       "      <td>190033</td>\n",
       "      <td>2</td>\n",
       "      <td>2</td>\n",
       "      <td>111480.0</td>\n",
       "      <td>229900.0</td>\n",
       "      <td>0.4849</td>\n",
       "    </tr>\n",
       "    <tr>\n",
       "      <th>4</th>\n",
       "      <td>41</td>\n",
       "      <td>391994</td>\n",
       "      <td>14</td>\n",
       "      <td>190056</td>\n",
       "      <td>2</td>\n",
       "      <td>1</td>\n",
       "      <td>323020.0</td>\n",
       "      <td>560000.0</td>\n",
       "      <td>0.5768</td>\n",
       "    </tr>\n",
       "  </tbody>\n",
       "</table>\n",
       "</div>"
      ],
      "text/plain": [
       "   Town  Address  Property Type  Serial Number  List Year  Date Recorded  \\\n",
       "0    93        0             14          19029          2              2   \n",
       "1   124   577418              9         190189          2              1   \n",
       "2   124   391996             14         190352          2              1   \n",
       "3    47   391995             14         190033          2              2   \n",
       "4    41   391994             14         190056          2              1   \n",
       "\n",
       "   Assessed Value  Sale Amount  Sales Ratio  \n",
       "0        202200.0     284000.0       0.7120  \n",
       "1        134460.0     173800.0       0.7736  \n",
       "2        207450.0     317500.0       0.6534  \n",
       "3        111480.0     229900.0       0.4849  \n",
       "4        323020.0     560000.0       0.5768  "
      ]
     },
     "execution_count": 291,
     "metadata": {},
     "output_type": "execute_result"
    }
   ],
   "source": [
    "combined_data.head()"
   ]
  },
  {
   "cell_type": "code",
   "execution_count": 292,
   "id": "a34c4257",
   "metadata": {},
   "outputs": [],
   "source": [
    "combined_data.to_csv('final_data.csv',index=False)"
   ]
  }
 ],
 "metadata": {
  "kernelspec": {
   "display_name": "Python 3 (ipykernel)",
   "language": "python",
   "name": "python3"
  },
  "language_info": {
   "codemirror_mode": {
    "name": "ipython",
    "version": 3
   },
   "file_extension": ".py",
   "mimetype": "text/x-python",
   "name": "python",
   "nbconvert_exporter": "python",
   "pygments_lexer": "ipython3",
   "version": "3.9.6"
  }
 },
 "nbformat": 4,
 "nbformat_minor": 5
}
