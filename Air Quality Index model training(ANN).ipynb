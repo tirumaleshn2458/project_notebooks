{
 "cells": [
  {
   "cell_type": "markdown",
   "id": "91b7d194",
   "metadata": {},
   "source": [
    "# Air Quality Index"
   ]
  },
  {
   "cell_type": "markdown",
   "id": "3407804d",
   "metadata": {},
   "source": [
    "## ML model to be used\n",
    "\n",
    "- Linear Regression\n",
    "- Lasso Regression\n",
    "- Ridge Regression\n",
    "- Decision Tree Regressor\n",
    "- KNN Regressor\n",
    "- RandomForestRegressor\n",
    "- Xgboost Regressor*\n",
    "- ANN- Artificial Neural Network\n"
   ]
  },
  {
   "cell_type": "markdown",
   "id": "395b4f0f",
   "metadata": {},
   "source": [
    "## Artificial Neural Networks for training the data"
   ]
  },
  {
   "cell_type": "code",
   "execution_count": 4,
   "id": "087cd35c",
   "metadata": {},
   "outputs": [],
   "source": [
    "#import the libraries\n",
    "import pandas as pd\n",
    "import numpy as np\n",
    "import seaborn as sns\n",
    "import matplotlib.pyplot as plt\n",
    "from sklearn.model_selection import train_test_split\n",
    "import keras\n",
    "from keras.models import Sequential\n",
    "from keras.layers import Dense\n",
    "from keras.layers import LeakyReLU,PReLU,ELU\n",
    "from keras.layers import Dropout"
   ]
  },
  {
   "cell_type": "code",
   "execution_count": 5,
   "id": "9a1e3611",
   "metadata": {},
   "outputs": [],
   "source": [
    "import warnings\n",
    "warnings.filterwarnings('ignore')"
   ]
  },
  {
   "cell_type": "code",
   "execution_count": 6,
   "id": "71c7bf55",
   "metadata": {},
   "outputs": [],
   "source": [
    "#Reading the dataframe\n",
    "data_frame=pd.read_csv('AQI_data.csv')"
   ]
  },
  {
   "cell_type": "code",
   "execution_count": 7,
   "id": "aa892c09",
   "metadata": {},
   "outputs": [
    {
     "data": {
      "text/html": [
       "<div>\n",
       "<style scoped>\n",
       "    .dataframe tbody tr th:only-of-type {\n",
       "        vertical-align: middle;\n",
       "    }\n",
       "\n",
       "    .dataframe tbody tr th {\n",
       "        vertical-align: top;\n",
       "    }\n",
       "\n",
       "    .dataframe thead th {\n",
       "        text-align: right;\n",
       "    }\n",
       "</style>\n",
       "<table border=\"1\" class=\"dataframe\">\n",
       "  <thead>\n",
       "    <tr style=\"text-align: right;\">\n",
       "      <th></th>\n",
       "      <th>T</th>\n",
       "      <th>TM</th>\n",
       "      <th>Tm</th>\n",
       "      <th>SLP</th>\n",
       "      <th>H</th>\n",
       "      <th>VV</th>\n",
       "      <th>V</th>\n",
       "      <th>VM</th>\n",
       "      <th>PM 2.5</th>\n",
       "    </tr>\n",
       "  </thead>\n",
       "  <tbody>\n",
       "    <tr>\n",
       "      <th>0</th>\n",
       "      <td>7.4</td>\n",
       "      <td>9.8</td>\n",
       "      <td>4.8</td>\n",
       "      <td>1017.6</td>\n",
       "      <td>93.0</td>\n",
       "      <td>0.5</td>\n",
       "      <td>4.3</td>\n",
       "      <td>9.4</td>\n",
       "      <td>219.720833</td>\n",
       "    </tr>\n",
       "    <tr>\n",
       "      <th>1</th>\n",
       "      <td>7.8</td>\n",
       "      <td>12.7</td>\n",
       "      <td>4.4</td>\n",
       "      <td>1018.5</td>\n",
       "      <td>87.0</td>\n",
       "      <td>0.6</td>\n",
       "      <td>4.4</td>\n",
       "      <td>11.1</td>\n",
       "      <td>182.187500</td>\n",
       "    </tr>\n",
       "    <tr>\n",
       "      <th>2</th>\n",
       "      <td>6.7</td>\n",
       "      <td>13.4</td>\n",
       "      <td>2.4</td>\n",
       "      <td>1019.4</td>\n",
       "      <td>82.0</td>\n",
       "      <td>0.6</td>\n",
       "      <td>4.8</td>\n",
       "      <td>11.1</td>\n",
       "      <td>154.037500</td>\n",
       "    </tr>\n",
       "    <tr>\n",
       "      <th>3</th>\n",
       "      <td>8.6</td>\n",
       "      <td>15.5</td>\n",
       "      <td>3.3</td>\n",
       "      <td>1018.7</td>\n",
       "      <td>72.0</td>\n",
       "      <td>0.8</td>\n",
       "      <td>8.1</td>\n",
       "      <td>20.6</td>\n",
       "      <td>223.208333</td>\n",
       "    </tr>\n",
       "    <tr>\n",
       "      <th>4</th>\n",
       "      <td>12.4</td>\n",
       "      <td>20.9</td>\n",
       "      <td>4.4</td>\n",
       "      <td>1017.3</td>\n",
       "      <td>61.0</td>\n",
       "      <td>1.3</td>\n",
       "      <td>8.7</td>\n",
       "      <td>22.2</td>\n",
       "      <td>200.645833</td>\n",
       "    </tr>\n",
       "  </tbody>\n",
       "</table>\n",
       "</div>"
      ],
      "text/plain": [
       "      T    TM   Tm     SLP     H   VV    V    VM      PM 2.5\n",
       "0   7.4   9.8  4.8  1017.6  93.0  0.5  4.3   9.4  219.720833\n",
       "1   7.8  12.7  4.4  1018.5  87.0  0.6  4.4  11.1  182.187500\n",
       "2   6.7  13.4  2.4  1019.4  82.0  0.6  4.8  11.1  154.037500\n",
       "3   8.6  15.5  3.3  1018.7  72.0  0.8  8.1  20.6  223.208333\n",
       "4  12.4  20.9  4.4  1017.3  61.0  1.3  8.7  22.2  200.645833"
      ]
     },
     "execution_count": 7,
     "metadata": {},
     "output_type": "execute_result"
    }
   ],
   "source": [
    "data_frame.head()"
   ]
  },
  {
   "cell_type": "code",
   "execution_count": 8,
   "id": "0f005bc1",
   "metadata": {},
   "outputs": [],
   "source": [
    "x=data_frame.iloc[:,:-1]#independent features\n",
    "y=data_frame.iloc[:,-1]#dependent feature"
   ]
  },
  {
   "cell_type": "markdown",
   "id": "a11c2c88",
   "metadata": {},
   "source": [
    "## Spliting the data"
   ]
  },
  {
   "cell_type": "code",
   "execution_count": 9,
   "id": "46e26e5c",
   "metadata": {},
   "outputs": [],
   "source": [
    "#spliting the data by dividing into 70% for training data and 30% for test data"
   ]
  },
  {
   "cell_type": "code",
   "execution_count": 10,
   "id": "783b5833",
   "metadata": {},
   "outputs": [],
   "source": [
    "x_train,x_test,y_train,y_test=train_test_split(x,y,test_size=0.3,random_state=0)"
   ]
  },
  {
   "cell_type": "markdown",
   "id": "f2bc9584",
   "metadata": {},
   "source": [
    "- x_train and y_train are used for training the model.\n",
    "- x_test and y_test are used for test the model."
   ]
  },
  {
   "cell_type": "code",
   "execution_count": 12,
   "id": "1c310b6a",
   "metadata": {
    "scrolled": true
   },
   "outputs": [
    {
     "name": "stdout",
     "output_type": "stream",
     "text": [
      "Model: \"sequential_3\"\n",
      "_________________________________________________________________\n",
      "Layer (type)                 Output Shape              Param #   \n",
      "=================================================================\n",
      "dense_5 (Dense)              (None, 128)               1152      \n",
      "_________________________________________________________________\n",
      "dense_6 (Dense)              (None, 256)               33024     \n",
      "_________________________________________________________________\n",
      "dense_7 (Dense)              (None, 256)               65792     \n",
      "_________________________________________________________________\n",
      "dense_8 (Dense)              (None, 256)               65792     \n",
      "_________________________________________________________________\n",
      "dense_9 (Dense)              (None, 1)                 257       \n",
      "=================================================================\n",
      "Total params: 166,017\n",
      "Trainable params: 166,017\n",
      "Non-trainable params: 0\n",
      "_________________________________________________________________\n",
      "Epoch 1/100\n"
     ]
    },
    {
     "name": "stderr",
     "output_type": "stream",
     "text": [
      "2022-01-12 01:19:55.545188: I tensorflow/compiler/mlir/mlir_graph_optimization_pass.cc:185] None of the MLIR Optimization Passes are enabled (registered 2)\n"
     ]
    },
    {
     "name": "stdout",
     "output_type": "stream",
     "text": [
      "52/52 [==============================] - 1s 4ms/step - loss: 68.8801 - mean_absolute_error: 68.8801 - val_loss: 71.6838 - val_mean_absolute_error: 71.6838\n",
      "Epoch 2/100\n",
      "52/52 [==============================] - 0s 2ms/step - loss: 66.1955 - mean_absolute_error: 66.1955 - val_loss: 63.9459 - val_mean_absolute_error: 63.9459\n",
      "Epoch 3/100\n",
      "52/52 [==============================] - 0s 2ms/step - loss: 65.4737 - mean_absolute_error: 65.4737 - val_loss: 66.4318 - val_mean_absolute_error: 66.4318\n",
      "Epoch 4/100\n",
      "52/52 [==============================] - 0s 2ms/step - loss: 62.8132 - mean_absolute_error: 62.8132 - val_loss: 59.1576 - val_mean_absolute_error: 59.1576\n",
      "Epoch 5/100\n",
      "52/52 [==============================] - 0s 2ms/step - loss: 57.6803 - mean_absolute_error: 57.6803 - val_loss: 53.8659 - val_mean_absolute_error: 53.8659\n",
      "Epoch 6/100\n",
      "52/52 [==============================] - 0s 2ms/step - loss: 52.2216 - mean_absolute_error: 52.2216 - val_loss: 52.9571 - val_mean_absolute_error: 52.9571\n",
      "Epoch 7/100\n",
      "52/52 [==============================] - 0s 2ms/step - loss: 48.7698 - mean_absolute_error: 48.7698 - val_loss: 45.9496 - val_mean_absolute_error: 45.9496\n",
      "Epoch 8/100\n",
      "52/52 [==============================] - 0s 2ms/step - loss: 46.1575 - mean_absolute_error: 46.1575 - val_loss: 48.2650 - val_mean_absolute_error: 48.2650\n",
      "Epoch 9/100\n",
      "52/52 [==============================] - 0s 2ms/step - loss: 44.9815 - mean_absolute_error: 44.9815 - val_loss: 50.0826 - val_mean_absolute_error: 50.0826\n",
      "Epoch 10/100\n",
      "52/52 [==============================] - 0s 2ms/step - loss: 46.7561 - mean_absolute_error: 46.7561 - val_loss: 46.6285 - val_mean_absolute_error: 46.6285\n",
      "Epoch 11/100\n",
      "52/52 [==============================] - 0s 2ms/step - loss: 45.2986 - mean_absolute_error: 45.2986 - val_loss: 49.1327 - val_mean_absolute_error: 49.1327\n",
      "Epoch 12/100\n",
      "52/52 [==============================] - 0s 2ms/step - loss: 45.1759 - mean_absolute_error: 45.1759 - val_loss: 50.9376 - val_mean_absolute_error: 50.9376\n",
      "Epoch 13/100\n",
      "52/52 [==============================] - 0s 2ms/step - loss: 44.3870 - mean_absolute_error: 44.3870 - val_loss: 47.5801 - val_mean_absolute_error: 47.5801\n",
      "Epoch 14/100\n",
      "52/52 [==============================] - 0s 2ms/step - loss: 45.2937 - mean_absolute_error: 45.2937 - val_loss: 45.8388 - val_mean_absolute_error: 45.8388\n",
      "Epoch 15/100\n",
      "52/52 [==============================] - 0s 2ms/step - loss: 43.0388 - mean_absolute_error: 43.0388 - val_loss: 45.1585 - val_mean_absolute_error: 45.1585\n",
      "Epoch 16/100\n",
      "52/52 [==============================] - 0s 2ms/step - loss: 42.8739 - mean_absolute_error: 42.8739 - val_loss: 51.4127 - val_mean_absolute_error: 51.4127\n",
      "Epoch 17/100\n",
      "52/52 [==============================] - 0s 1ms/step - loss: 46.1579 - mean_absolute_error: 46.1579 - val_loss: 44.9991 - val_mean_absolute_error: 44.9991\n",
      "Epoch 18/100\n",
      "52/52 [==============================] - 0s 2ms/step - loss: 42.1330 - mean_absolute_error: 42.1330 - val_loss: 45.1718 - val_mean_absolute_error: 45.1718\n",
      "Epoch 19/100\n",
      "52/52 [==============================] - 0s 2ms/step - loss: 46.6306 - mean_absolute_error: 46.6306 - val_loss: 44.9622 - val_mean_absolute_error: 44.9622\n",
      "Epoch 20/100\n",
      "52/52 [==============================] - 0s 2ms/step - loss: 44.0483 - mean_absolute_error: 44.0483 - val_loss: 44.4473 - val_mean_absolute_error: 44.4473\n",
      "Epoch 21/100\n",
      "52/52 [==============================] - 0s 1ms/step - loss: 41.5599 - mean_absolute_error: 41.5599 - val_loss: 44.2942 - val_mean_absolute_error: 44.2942\n",
      "Epoch 22/100\n",
      "52/52 [==============================] - 0s 2ms/step - loss: 43.3569 - mean_absolute_error: 43.3569 - val_loss: 45.1839 - val_mean_absolute_error: 45.1839\n",
      "Epoch 23/100\n",
      "52/52 [==============================] - 0s 2ms/step - loss: 42.0986 - mean_absolute_error: 42.0986 - val_loss: 44.3808 - val_mean_absolute_error: 44.3808\n",
      "Epoch 24/100\n",
      "52/52 [==============================] - 0s 1ms/step - loss: 41.6618 - mean_absolute_error: 41.6618 - val_loss: 45.7838 - val_mean_absolute_error: 45.7838\n",
      "Epoch 25/100\n",
      "52/52 [==============================] - 0s 1ms/step - loss: 42.6835 - mean_absolute_error: 42.6835 - val_loss: 44.9219 - val_mean_absolute_error: 44.9219\n",
      "Epoch 26/100\n",
      "52/52 [==============================] - 0s 2ms/step - loss: 41.9392 - mean_absolute_error: 41.9392 - val_loss: 47.5797 - val_mean_absolute_error: 47.5797\n",
      "Epoch 27/100\n",
      "52/52 [==============================] - 0s 2ms/step - loss: 41.7757 - mean_absolute_error: 41.7757 - val_loss: 45.6387 - val_mean_absolute_error: 45.6387\n",
      "Epoch 28/100\n",
      "52/52 [==============================] - 0s 2ms/step - loss: 42.0159 - mean_absolute_error: 42.0159 - val_loss: 45.2320 - val_mean_absolute_error: 45.2320\n",
      "Epoch 29/100\n",
      "52/52 [==============================] - 0s 1ms/step - loss: 41.5326 - mean_absolute_error: 41.5326 - val_loss: 44.5937 - val_mean_absolute_error: 44.5937\n",
      "Epoch 30/100\n",
      "52/52 [==============================] - 0s 1ms/step - loss: 40.9179 - mean_absolute_error: 40.9179 - val_loss: 44.0418 - val_mean_absolute_error: 44.0418\n",
      "Epoch 31/100\n",
      "52/52 [==============================] - 0s 1ms/step - loss: 42.1255 - mean_absolute_error: 42.1255 - val_loss: 44.2435 - val_mean_absolute_error: 44.2435\n",
      "Epoch 32/100\n",
      "52/52 [==============================] - 0s 1ms/step - loss: 40.9001 - mean_absolute_error: 40.9001 - val_loss: 45.0023 - val_mean_absolute_error: 45.0023\n",
      "Epoch 33/100\n",
      "52/52 [==============================] - 0s 1ms/step - loss: 41.4548 - mean_absolute_error: 41.4548 - val_loss: 44.6109 - val_mean_absolute_error: 44.6109\n",
      "Epoch 34/100\n",
      "52/52 [==============================] - 0s 1ms/step - loss: 42.6943 - mean_absolute_error: 42.6943 - val_loss: 46.7712 - val_mean_absolute_error: 46.7712\n",
      "Epoch 35/100\n",
      "52/52 [==============================] - 0s 1ms/step - loss: 40.4804 - mean_absolute_error: 40.4804 - val_loss: 46.3296 - val_mean_absolute_error: 46.3296\n",
      "Epoch 36/100\n",
      "52/52 [==============================] - 0s 1ms/step - loss: 41.9751 - mean_absolute_error: 41.9751 - val_loss: 47.7475 - val_mean_absolute_error: 47.7475\n",
      "Epoch 37/100\n",
      "52/52 [==============================] - 0s 1ms/step - loss: 41.3657 - mean_absolute_error: 41.3657 - val_loss: 44.5662 - val_mean_absolute_error: 44.5662\n",
      "Epoch 38/100\n",
      "52/52 [==============================] - 0s 1ms/step - loss: 41.3981 - mean_absolute_error: 41.3981 - val_loss: 49.8937 - val_mean_absolute_error: 49.8937\n",
      "Epoch 39/100\n",
      "52/52 [==============================] - 0s 1ms/step - loss: 40.7520 - mean_absolute_error: 40.7520 - val_loss: 46.8046 - val_mean_absolute_error: 46.8046\n",
      "Epoch 40/100\n",
      "52/52 [==============================] - 0s 1ms/step - loss: 40.9381 - mean_absolute_error: 40.9381 - val_loss: 44.3844 - val_mean_absolute_error: 44.3844\n",
      "Epoch 41/100\n",
      "52/52 [==============================] - 0s 1ms/step - loss: 41.4670 - mean_absolute_error: 41.4670 - val_loss: 44.4169 - val_mean_absolute_error: 44.4169\n",
      "Epoch 42/100\n",
      "52/52 [==============================] - 0s 1ms/step - loss: 40.2242 - mean_absolute_error: 40.2242 - val_loss: 43.9508 - val_mean_absolute_error: 43.9508\n",
      "Epoch 43/100\n",
      "52/52 [==============================] - 0s 1ms/step - loss: 43.7052 - mean_absolute_error: 43.7052 - val_loss: 43.7285 - val_mean_absolute_error: 43.7285\n",
      "Epoch 44/100\n",
      "52/52 [==============================] - 0s 1ms/step - loss: 41.2778 - mean_absolute_error: 41.2778 - val_loss: 44.2942 - val_mean_absolute_error: 44.2942\n",
      "Epoch 45/100\n",
      "52/52 [==============================] - 0s 2ms/step - loss: 41.1197 - mean_absolute_error: 41.1197 - val_loss: 44.2293 - val_mean_absolute_error: 44.2293\n",
      "Epoch 46/100\n",
      "52/52 [==============================] - 0s 1ms/step - loss: 40.5321 - mean_absolute_error: 40.5321 - val_loss: 44.1694 - val_mean_absolute_error: 44.1694\n",
      "Epoch 47/100\n",
      "52/52 [==============================] - 0s 1ms/step - loss: 42.7140 - mean_absolute_error: 42.7140 - val_loss: 44.3224 - val_mean_absolute_error: 44.3224\n",
      "Epoch 48/100\n",
      "52/52 [==============================] - 0s 1ms/step - loss: 40.8521 - mean_absolute_error: 40.8521 - val_loss: 47.2961 - val_mean_absolute_error: 47.2961\n",
      "Epoch 49/100\n",
      "52/52 [==============================] - 0s 2ms/step - loss: 41.8126 - mean_absolute_error: 41.8126 - val_loss: 47.6504 - val_mean_absolute_error: 47.6504\n"
     ]
    },
    {
     "name": "stdout",
     "output_type": "stream",
     "text": [
      "Epoch 50/100\n",
      "52/52 [==============================] - 0s 1ms/step - loss: 41.5236 - mean_absolute_error: 41.5236 - val_loss: 46.3789 - val_mean_absolute_error: 46.3789\n",
      "Epoch 51/100\n",
      "52/52 [==============================] - 0s 1ms/step - loss: 40.8694 - mean_absolute_error: 40.8694 - val_loss: 47.2867 - val_mean_absolute_error: 47.2867\n",
      "Epoch 52/100\n",
      "52/52 [==============================] - 0s 1ms/step - loss: 41.4800 - mean_absolute_error: 41.4800 - val_loss: 47.0249 - val_mean_absolute_error: 47.0249\n",
      "Epoch 53/100\n",
      "52/52 [==============================] - 0s 1ms/step - loss: 41.5230 - mean_absolute_error: 41.5230 - val_loss: 43.5754 - val_mean_absolute_error: 43.5754\n",
      "Epoch 54/100\n",
      "52/52 [==============================] - 0s 1ms/step - loss: 42.2644 - mean_absolute_error: 42.2644 - val_loss: 44.9848 - val_mean_absolute_error: 44.9848\n",
      "Epoch 55/100\n",
      "52/52 [==============================] - 0s 1ms/step - loss: 41.2999 - mean_absolute_error: 41.2999 - val_loss: 43.5446 - val_mean_absolute_error: 43.5446\n",
      "Epoch 56/100\n",
      "52/52 [==============================] - 0s 1ms/step - loss: 39.6604 - mean_absolute_error: 39.6604 - val_loss: 45.4679 - val_mean_absolute_error: 45.4679\n",
      "Epoch 57/100\n",
      "52/52 [==============================] - 0s 1ms/step - loss: 46.2959 - mean_absolute_error: 46.2959 - val_loss: 47.9531 - val_mean_absolute_error: 47.9531\n",
      "Epoch 58/100\n",
      "52/52 [==============================] - 0s 1ms/step - loss: 41.3718 - mean_absolute_error: 41.3718 - val_loss: 43.9230 - val_mean_absolute_error: 43.9230\n",
      "Epoch 59/100\n",
      "52/52 [==============================] - 0s 1ms/step - loss: 39.7828 - mean_absolute_error: 39.7828 - val_loss: 47.0229 - val_mean_absolute_error: 47.0229\n",
      "Epoch 60/100\n",
      "52/52 [==============================] - 0s 1ms/step - loss: 40.0723 - mean_absolute_error: 40.0723 - val_loss: 43.7548 - val_mean_absolute_error: 43.7548\n",
      "Epoch 61/100\n",
      "52/52 [==============================] - 0s 1ms/step - loss: 39.5828 - mean_absolute_error: 39.5828 - val_loss: 46.1774 - val_mean_absolute_error: 46.1774\n",
      "Epoch 62/100\n",
      "52/52 [==============================] - 0s 1ms/step - loss: 41.0655 - mean_absolute_error: 41.0655 - val_loss: 43.9373 - val_mean_absolute_error: 43.9373\n",
      "Epoch 63/100\n",
      "52/52 [==============================] - 0s 1ms/step - loss: 40.0413 - mean_absolute_error: 40.0413 - val_loss: 44.0147 - val_mean_absolute_error: 44.0147\n",
      "Epoch 64/100\n",
      "52/52 [==============================] - 0s 1ms/step - loss: 39.9653 - mean_absolute_error: 39.9653 - val_loss: 47.2770 - val_mean_absolute_error: 47.2770\n",
      "Epoch 65/100\n",
      "52/52 [==============================] - 0s 1ms/step - loss: 41.3992 - mean_absolute_error: 41.3992 - val_loss: 45.3181 - val_mean_absolute_error: 45.3181\n",
      "Epoch 66/100\n",
      "52/52 [==============================] - 0s 1ms/step - loss: 39.1598 - mean_absolute_error: 39.1598 - val_loss: 44.5456 - val_mean_absolute_error: 44.5456\n",
      "Epoch 67/100\n",
      "52/52 [==============================] - 0s 1ms/step - loss: 40.3490 - mean_absolute_error: 40.3490 - val_loss: 44.9229 - val_mean_absolute_error: 44.9229\n",
      "Epoch 68/100\n",
      "52/52 [==============================] - 0s 1ms/step - loss: 39.5924 - mean_absolute_error: 39.5924 - val_loss: 45.0427 - val_mean_absolute_error: 45.0427\n",
      "Epoch 69/100\n",
      "52/52 [==============================] - 0s 1ms/step - loss: 42.4911 - mean_absolute_error: 42.4911 - val_loss: 43.7505 - val_mean_absolute_error: 43.7505\n",
      "Epoch 70/100\n",
      "52/52 [==============================] - 0s 1ms/step - loss: 43.1343 - mean_absolute_error: 43.1343 - val_loss: 43.5368 - val_mean_absolute_error: 43.5368\n",
      "Epoch 71/100\n",
      "52/52 [==============================] - 0s 1ms/step - loss: 39.0393 - mean_absolute_error: 39.0393 - val_loss: 44.2880 - val_mean_absolute_error: 44.2880\n",
      "Epoch 72/100\n",
      "52/52 [==============================] - 0s 1ms/step - loss: 40.1873 - mean_absolute_error: 40.1873 - val_loss: 43.5368 - val_mean_absolute_error: 43.5368\n",
      "Epoch 73/100\n",
      "52/52 [==============================] - 0s 1ms/step - loss: 39.6354 - mean_absolute_error: 39.6354 - val_loss: 46.1713 - val_mean_absolute_error: 46.1713\n",
      "Epoch 74/100\n",
      "52/52 [==============================] - 0s 1ms/step - loss: 39.0624 - mean_absolute_error: 39.0624 - val_loss: 44.1045 - val_mean_absolute_error: 44.1045\n",
      "Epoch 75/100\n",
      "52/52 [==============================] - 0s 1ms/step - loss: 38.6058 - mean_absolute_error: 38.6058 - val_loss: 43.5477 - val_mean_absolute_error: 43.5477\n",
      "Epoch 76/100\n",
      "52/52 [==============================] - 0s 1ms/step - loss: 39.7964 - mean_absolute_error: 39.7964 - val_loss: 43.6287 - val_mean_absolute_error: 43.6287\n",
      "Epoch 77/100\n",
      "52/52 [==============================] - 0s 1ms/step - loss: 40.0896 - mean_absolute_error: 40.0896 - val_loss: 46.0412 - val_mean_absolute_error: 46.0412\n",
      "Epoch 78/100\n",
      "52/52 [==============================] - 0s 1ms/step - loss: 42.2488 - mean_absolute_error: 42.2488 - val_loss: 48.1930 - val_mean_absolute_error: 48.1930\n",
      "Epoch 79/100\n",
      "52/52 [==============================] - 0s 1ms/step - loss: 39.9873 - mean_absolute_error: 39.9873 - val_loss: 44.2546 - val_mean_absolute_error: 44.2546\n",
      "Epoch 80/100\n",
      "52/52 [==============================] - 0s 2ms/step - loss: 40.1494 - mean_absolute_error: 40.1494 - val_loss: 43.9838 - val_mean_absolute_error: 43.9838\n",
      "Epoch 81/100\n",
      "52/52 [==============================] - 0s 1ms/step - loss: 39.1656 - mean_absolute_error: 39.1656 - val_loss: 43.9308 - val_mean_absolute_error: 43.9308\n",
      "Epoch 82/100\n",
      "52/52 [==============================] - 0s 1ms/step - loss: 39.9942 - mean_absolute_error: 39.9942 - val_loss: 43.7835 - val_mean_absolute_error: 43.7835\n",
      "Epoch 83/100\n",
      "52/52 [==============================] - 0s 2ms/step - loss: 39.8359 - mean_absolute_error: 39.8359 - val_loss: 44.1581 - val_mean_absolute_error: 44.1581\n",
      "Epoch 84/100\n",
      "52/52 [==============================] - 0s 1ms/step - loss: 39.7293 - mean_absolute_error: 39.7293 - val_loss: 43.5019 - val_mean_absolute_error: 43.5019\n",
      "Epoch 85/100\n",
      "52/52 [==============================] - 0s 1ms/step - loss: 41.4588 - mean_absolute_error: 41.4588 - val_loss: 43.9562 - val_mean_absolute_error: 43.9562\n",
      "Epoch 86/100\n",
      "52/52 [==============================] - 0s 1ms/step - loss: 40.3921 - mean_absolute_error: 40.3921 - val_loss: 43.7289 - val_mean_absolute_error: 43.7289\n",
      "Epoch 87/100\n",
      "52/52 [==============================] - 0s 1ms/step - loss: 39.1409 - mean_absolute_error: 39.1409 - val_loss: 43.5850 - val_mean_absolute_error: 43.5850\n",
      "Epoch 88/100\n",
      "52/52 [==============================] - 0s 1ms/step - loss: 38.5592 - mean_absolute_error: 38.5592 - val_loss: 43.3352 - val_mean_absolute_error: 43.3352\n",
      "Epoch 89/100\n",
      "52/52 [==============================] - 0s 1ms/step - loss: 38.9519 - mean_absolute_error: 38.9519 - val_loss: 43.1893 - val_mean_absolute_error: 43.1893\n",
      "Epoch 90/100\n",
      "52/52 [==============================] - 0s 1ms/step - loss: 41.0100 - mean_absolute_error: 41.0100 - val_loss: 45.7650 - val_mean_absolute_error: 45.7650\n",
      "Epoch 91/100\n",
      "52/52 [==============================] - 0s 1ms/step - loss: 41.9666 - mean_absolute_error: 41.9666 - val_loss: 44.5674 - val_mean_absolute_error: 44.5674\n",
      "Epoch 92/100\n",
      "52/52 [==============================] - 0s 1ms/step - loss: 39.6030 - mean_absolute_error: 39.6030 - val_loss: 43.2351 - val_mean_absolute_error: 43.2351\n",
      "Epoch 93/100\n",
      "52/52 [==============================] - 0s 1ms/step - loss: 38.9643 - mean_absolute_error: 38.9643 - val_loss: 43.8661 - val_mean_absolute_error: 43.8661\n",
      "Epoch 94/100\n",
      "52/52 [==============================] - 0s 1ms/step - loss: 38.7390 - mean_absolute_error: 38.7390 - val_loss: 43.4235 - val_mean_absolute_error: 43.4235\n",
      "Epoch 95/100\n",
      "52/52 [==============================] - 0s 1ms/step - loss: 38.8764 - mean_absolute_error: 38.8764 - val_loss: 43.3803 - val_mean_absolute_error: 43.3803\n",
      "Epoch 96/100\n",
      "52/52 [==============================] - 0s 1ms/step - loss: 38.4716 - mean_absolute_error: 38.4716 - val_loss: 44.9562 - val_mean_absolute_error: 44.9562\n",
      "Epoch 97/100\n",
      "52/52 [==============================] - 0s 1ms/step - loss: 40.5644 - mean_absolute_error: 40.5644 - val_loss: 46.0927 - val_mean_absolute_error: 46.0927\n",
      "Epoch 98/100\n",
      "52/52 [==============================] - 0s 1ms/step - loss: 39.4988 - mean_absolute_error: 39.4988 - val_loss: 43.0516 - val_mean_absolute_error: 43.0516\n"
     ]
    },
    {
     "name": "stdout",
     "output_type": "stream",
     "text": [
      "Epoch 99/100\n",
      "52/52 [==============================] - 0s 1ms/step - loss: 38.9011 - mean_absolute_error: 38.9011 - val_loss: 44.4171 - val_mean_absolute_error: 44.4171\n",
      "Epoch 100/100\n",
      "52/52 [==============================] - 0s 1ms/step - loss: 39.3402 - mean_absolute_error: 39.3402 - val_loss: 43.2821 - val_mean_absolute_error: 43.2821\n"
     ]
    }
   ],
   "source": [
    "ann_model = Sequential()\n",
    "\n",
    "#Input layer\n",
    "ann_model.add(Dense(128, kernel_initializer='normal',input_dim = x_train.shape[1], activation='relu'))\n",
    "\n",
    "#Hidden layers\n",
    "ann_model.add(Dense(256, kernel_initializer='normal',activation='relu'))\n",
    "ann_model.add(Dense(256, kernel_initializer='normal',activation='relu'))\n",
    "ann_model.add(Dense(256, kernel_initializer='normal',activation='relu'))\n",
    "\n",
    "#Output layer\n",
    "ann_model.add(Dense(1, kernel_initializer='normal',activation='linear'))\n",
    "\n",
    "#Compiling the network\n",
    "ann_model.compile(loss='mean_absolute_error', optimizer='adam', metrics=['mean_absolute_error'])\n",
    "ann_model.summary()\n",
    "\n",
    "# Fitting the ANN to the Training set\n",
    "model_history=ann_model.fit(x_train, y_train,validation_split=0.33, batch_size = 10, epochs = 100)"
   ]
  },
  {
   "cell_type": "code",
   "execution_count": 16,
   "id": "d064395f",
   "metadata": {},
   "outputs": [],
   "source": [
    "from sklearn.model_selection import cross_val_score"
   ]
  },
  {
   "cell_type": "markdown",
   "id": "7f0d8637",
   "metadata": {},
   "source": [
    "## Evaluating the model"
   ]
  },
  {
   "cell_type": "code",
   "execution_count": 21,
   "id": "8b402c70",
   "metadata": {},
   "outputs": [],
   "source": [
    "#chekcing the predictions"
   ]
  },
  {
   "cell_type": "code",
   "execution_count": 22,
   "id": "ffa0c699",
   "metadata": {},
   "outputs": [],
   "source": [
    "predictions=ann_model.predict(x_test)"
   ]
  },
  {
   "cell_type": "code",
   "execution_count": 27,
   "id": "7c7a0860",
   "metadata": {},
   "outputs": [
    {
     "data": {
      "image/png": "[encoded data removed]",
      "text/plain": [
       "<Figure size 432x288 with 1 Axes>"
      ]
     },
     "metadata": {
      "needs_background": "light"
     },
     "output_type": "display_data"
    }
   ],
   "source": [
    "sns.distplot(predictions-y_test.values.reshape(-1,1));"
   ]
  },
  {
   "cell_type": "code",
   "execution_count": 28,
   "id": "4eec78d8",
   "metadata": {},
   "outputs": [
    {
     "data": {
      "text/plain": [
       "Text(0.5, 1.0, 'Relation between the y_test and predicted values')"
      ]
     },
     "execution_count": 28,
     "metadata": {},
     "output_type": "execute_result"
    },
    {
     "data": {
      "image/png": "[encoded data removed]",
      "text/plain": [
       "<Figure size 432x288 with 1 Axes>"
      ]
     },
     "metadata": {
      "needs_background": "light"
     },
     "output_type": "display_data"
    }
   ],
   "source": [
    "plt.scatter(y_test,predictions);\n",
    "plt.xlabel('y_test');\n",
    "plt.ylabel('Predicted values');\n",
    "plt.title('Relation between the y_test and predicted values')"
   ]
  },
  {
   "cell_type": "markdown",
   "id": "bbabc432",
   "metadata": {},
   "source": [
    "## Evaluating the model using the most common evaluation metrics from scratch"
   ]
  },
  {
   "cell_type": "markdown",
   "id": "10893223",
   "metadata": {},
   "source": [
    "- MAE:- Mean Absolute Error\n",
    "- MSE:- Mean Squared Error\n",
    "- RSME:- Root Mean Squared Error"
   ]
  },
  {
   "cell_type": "code",
   "execution_count": 30,
   "id": "e1753d0f",
   "metadata": {},
   "outputs": [
    {
     "name": "stdout",
     "output_type": "stream",
     "text": [
      "MAE:  42.40874113299982\n",
      "MSE:  3874.1187545753983\n",
      "RMSE:  62.242419253877\n"
     ]
    }
   ],
   "source": [
    "#python module for metrics\n",
    "from sklearn import metrics\n",
    "print('MAE: ',metrics.mean_absolute_error(y_test,predictions))\n",
    "print('MSE: ',metrics.mean_squared_error(y_test,predictions))\n",
    "print('RMSE: ',np.sqrt(metrics.mean_squared_error(y_test,predictions)))"
   ]
  }
 ],
 "metadata": {
  "kernelspec": {
   "display_name": "Python 3 (ipykernel)",
   "language": "python",
   "name": "python3"
  },
  "language_info": {
   "codemirror_mode": {
    "name": "ipython",
    "version": 3
   },
   "file_extension": ".py",
   "mimetype": "text/x-python",
   "name": "python",
   "nbconvert_exporter": "python",
   "pygments_lexer": "ipython3",
   "version": "3.9.6"
  }
 },
 "nbformat": 4,
 "nbformat_minor": 5
}
