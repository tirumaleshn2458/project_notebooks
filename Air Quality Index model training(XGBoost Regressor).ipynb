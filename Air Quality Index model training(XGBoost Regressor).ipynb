{
 "cells": [
  {
   "cell_type": "markdown",
   "id": "91b7d194",
   "metadata": {},
   "source": [
    "# Air Quality Index"
   ]
  },
  {
   "cell_type": "markdown",
   "id": "3407804d",
   "metadata": {},
   "source": [
    "## ML model to be used\n",
    "\n",
    "- Linear Regression\n",
    "- Lasso Regression\n",
    "- Ridge Regression\n",
    "- Decision Tree Regressor\n",
    "- KNN Regressor\n",
    "- RandomForestRegressor\n",
    "- Xgboost Regressor*\n",
    "- ANN- Artificial Neural Network\n"
   ]
  },
  {
   "cell_type": "markdown",
   "id": "395b4f0f",
   "metadata": {},
   "source": [
    "## XGBRegressor for training the data"
   ]
  },
  {
   "cell_type": "code",
   "execution_count": 22,
   "id": "087cd35c",
   "metadata": {},
   "outputs": [],
   "source": [
    "#import the libraries\n",
    "import pandas as pd\n",
    "import numpy as np\n",
    "import seaborn as sns\n",
    "import matplotlib.pyplot as plt\n",
    "from sklearn.model_selection import train_test_split\n",
    "from xgboost import XGBRegressor"
   ]
  },
  {
   "cell_type": "code",
   "execution_count": 23,
   "id": "9a1e3611",
   "metadata": {},
   "outputs": [],
   "source": [
    "import warnings\n",
    "warnings.filterwarnings('ignore')"
   ]
  },
  {
   "cell_type": "code",
   "execution_count": 24,
   "id": "71c7bf55",
   "metadata": {},
   "outputs": [],
   "source": [
    "#Reading the dataframe\n",
    "data_frame=pd.read_csv('AQI_data.csv')"
   ]
  },
  {
   "cell_type": "code",
   "execution_count": 25,
   "id": "aa892c09",
   "metadata": {},
   "outputs": [
    {
     "data": {
      "text/html": [
       "<div>\n",
       "<style scoped>\n",
       "    .dataframe tbody tr th:only-of-type {\n",
       "        vertical-align: middle;\n",
       "    }\n",
       "\n",
       "    .dataframe tbody tr th {\n",
       "        vertical-align: top;\n",
       "    }\n",
       "\n",
       "    .dataframe thead th {\n",
       "        text-align: right;\n",
       "    }\n",
       "</style>\n",
       "<table border=\"1\" class=\"dataframe\">\n",
       "  <thead>\n",
       "    <tr style=\"text-align: right;\">\n",
       "      <th></th>\n",
       "      <th>T</th>\n",
       "      <th>TM</th>\n",
       "      <th>Tm</th>\n",
       "      <th>SLP</th>\n",
       "      <th>H</th>\n",
       "      <th>VV</th>\n",
       "      <th>V</th>\n",
       "      <th>VM</th>\n",
       "      <th>PM 2.5</th>\n",
       "    </tr>\n",
       "  </thead>\n",
       "  <tbody>\n",
       "    <tr>\n",
       "      <th>0</th>\n",
       "      <td>7.4</td>\n",
       "      <td>9.8</td>\n",
       "      <td>4.8</td>\n",
       "      <td>1017.6</td>\n",
       "      <td>93.0</td>\n",
       "      <td>0.5</td>\n",
       "      <td>4.3</td>\n",
       "      <td>9.4</td>\n",
       "      <td>219.720833</td>\n",
       "    </tr>\n",
       "    <tr>\n",
       "      <th>1</th>\n",
       "      <td>7.8</td>\n",
       "      <td>12.7</td>\n",
       "      <td>4.4</td>\n",
       "      <td>1018.5</td>\n",
       "      <td>87.0</td>\n",
       "      <td>0.6</td>\n",
       "      <td>4.4</td>\n",
       "      <td>11.1</td>\n",
       "      <td>182.187500</td>\n",
       "    </tr>\n",
       "    <tr>\n",
       "      <th>2</th>\n",
       "      <td>6.7</td>\n",
       "      <td>13.4</td>\n",
       "      <td>2.4</td>\n",
       "      <td>1019.4</td>\n",
       "      <td>82.0</td>\n",
       "      <td>0.6</td>\n",
       "      <td>4.8</td>\n",
       "      <td>11.1</td>\n",
       "      <td>154.037500</td>\n",
       "    </tr>\n",
       "    <tr>\n",
       "      <th>3</th>\n",
       "      <td>8.6</td>\n",
       "      <td>15.5</td>\n",
       "      <td>3.3</td>\n",
       "      <td>1018.7</td>\n",
       "      <td>72.0</td>\n",
       "      <td>0.8</td>\n",
       "      <td>8.1</td>\n",
       "      <td>20.6</td>\n",
       "      <td>223.208333</td>\n",
       "    </tr>\n",
       "    <tr>\n",
       "      <th>4</th>\n",
       "      <td>12.4</td>\n",
       "      <td>20.9</td>\n",
       "      <td>4.4</td>\n",
       "      <td>1017.3</td>\n",
       "      <td>61.0</td>\n",
       "      <td>1.3</td>\n",
       "      <td>8.7</td>\n",
       "      <td>22.2</td>\n",
       "      <td>200.645833</td>\n",
       "    </tr>\n",
       "  </tbody>\n",
       "</table>\n",
       "</div>"
      ],
      "text/plain": [
       "      T    TM   Tm     SLP     H   VV    V    VM      PM 2.5\n",
       "0   7.4   9.8  4.8  1017.6  93.0  0.5  4.3   9.4  219.720833\n",
       "1   7.8  12.7  4.4  1018.5  87.0  0.6  4.4  11.1  182.187500\n",
       "2   6.7  13.4  2.4  1019.4  82.0  0.6  4.8  11.1  154.037500\n",
       "3   8.6  15.5  3.3  1018.7  72.0  0.8  8.1  20.6  223.208333\n",
       "4  12.4  20.9  4.4  1017.3  61.0  1.3  8.7  22.2  200.645833"
      ]
     },
     "execution_count": 25,
     "metadata": {},
     "output_type": "execute_result"
    }
   ],
   "source": [
    "data_frame.head()"
   ]
  },
  {
   "cell_type": "code",
   "execution_count": 26,
   "id": "0f005bc1",
   "metadata": {},
   "outputs": [],
   "source": [
    "x=data_frame.iloc[:,:-1]#independent features\n",
    "y=data_frame.iloc[:,-1]#dependent feature"
   ]
  },
  {
   "cell_type": "markdown",
   "id": "a11c2c88",
   "metadata": {},
   "source": [
    "## Spliting the data"
   ]
  },
  {
   "cell_type": "code",
   "execution_count": 27,
   "id": "46e26e5c",
   "metadata": {},
   "outputs": [],
   "source": [
    "#spliting the data by dividing into 70% for training data and 30% for test data"
   ]
  },
  {
   "cell_type": "code",
   "execution_count": 28,
   "id": "783b5833",
   "metadata": {},
   "outputs": [],
   "source": [
    "x_train,x_test,y_train,y_test=train_test_split(x,y,test_size=0.3,random_state=0)"
   ]
  },
  {
   "cell_type": "markdown",
   "id": "f2bc9584",
   "metadata": {},
   "source": [
    "- x_train and y_train are used for training the model.\n",
    "- x_test and y_test are used for test the model."
   ]
  },
  {
   "cell_type": "code",
   "execution_count": 29,
   "id": "51b375db",
   "metadata": {},
   "outputs": [],
   "source": [
    "#initializing the model"
   ]
  },
  {
   "cell_type": "code",
   "execution_count": 30,
   "id": "809a9f4b",
   "metadata": {},
   "outputs": [],
   "source": [
    "model=XGBRegressor()"
   ]
  },
  {
   "cell_type": "code",
   "execution_count": 31,
   "id": "7fa584f0",
   "metadata": {},
   "outputs": [],
   "source": [
    "#fitting the model with data"
   ]
  },
  {
   "cell_type": "code",
   "execution_count": 32,
   "id": "ee9f4db6",
   "metadata": {},
   "outputs": [
    {
     "data": {
      "text/plain": [
       "XGBRegressor(base_score=0.5, booster='gbtree', colsample_bylevel=1,\n",
       "             colsample_bynode=1, colsample_bytree=1, gamma=0, gpu_id=-1,\n",
       "             importance_type='gain', interaction_constraints='',\n",
       "             learning_rate=0.300000012, max_delta_step=0, max_depth=6,\n",
       "             min_child_weight=1, missing=nan, monotone_constraints='()',\n",
       "             n_estimators=100, n_jobs=16, num_parallel_tree=1, random_state=0,\n",
       "             reg_alpha=0, reg_lambda=1, scale_pos_weight=1, subsample=1,\n",
       "             tree_method='exact', validate_parameters=1, verbosity=None)"
      ]
     },
     "execution_count": 32,
     "metadata": {},
     "output_type": "execute_result"
    }
   ],
   "source": [
    "model.fit(x_train,y_train)"
   ]
  },
  {
   "cell_type": "code",
   "execution_count": 33,
   "id": "98bc18b5",
   "metadata": {},
   "outputs": [
    {
     "data": {
      "text/plain": [
       "0.8123312908288712"
      ]
     },
     "execution_count": 33,
     "metadata": {},
     "output_type": "execute_result"
    }
   ],
   "source": [
    "#testing the data with test data\n",
    "model.score(x_test,y_test)"
   ]
  },
  {
   "cell_type": "code",
   "execution_count": 34,
   "id": "af842ac8",
   "metadata": {},
   "outputs": [
    {
     "data": {
      "text/plain": [
       "0.9997717196345083"
      ]
     },
     "execution_count": 34,
     "metadata": {},
     "output_type": "execute_result"
    }
   ],
   "source": [
    "#testing the data with train data\n",
    "model.score(x_train,y_train)"
   ]
  },
  {
   "cell_type": "code",
   "execution_count": 35,
   "id": "d064395f",
   "metadata": {},
   "outputs": [],
   "source": [
    "from sklearn.model_selection import cross_val_score"
   ]
  },
  {
   "cell_type": "code",
   "execution_count": 36,
   "id": "7f41a826",
   "metadata": {},
   "outputs": [
    {
     "data": {
      "text/plain": [
       "0.5458603448304723"
      ]
     },
     "execution_count": 36,
     "metadata": {},
     "output_type": "execute_result"
    }
   ],
   "source": [
    "#cross validation for test data\n",
    "score=cross_val_score(model,x_test,y_test,cv=5)\n",
    "score.mean()"
   ]
  },
  {
   "cell_type": "code",
   "execution_count": 37,
   "id": "8d10f549",
   "metadata": {},
   "outputs": [
    {
     "data": {
      "text/plain": [
       "0.7785279495874976"
      ]
     },
     "execution_count": 37,
     "metadata": {},
     "output_type": "execute_result"
    }
   ],
   "source": [
    "#cross validation for train data\n",
    "score=cross_val_score(model,x_train,y_train,cv=5)\n",
    "score.mean()"
   ]
  },
  {
   "cell_type": "markdown",
   "id": "7f0d8637",
   "metadata": {},
   "source": [
    "## Evaluating the model"
   ]
  },
  {
   "cell_type": "code",
   "execution_count": 38,
   "id": "8b402c70",
   "metadata": {},
   "outputs": [],
   "source": [
    "#chekcing the predictions"
   ]
  },
  {
   "cell_type": "code",
   "execution_count": 39,
   "id": "ffa0c699",
   "metadata": {},
   "outputs": [],
   "source": [
    "predictions=model.predict(x_test)"
   ]
  },
  {
   "cell_type": "code",
   "execution_count": 40,
   "id": "7c7a0860",
   "metadata": {},
   "outputs": [
    {
     "data": {
      "image/png": "[encoded data removed]",
      "text/plain": [
       "<Figure size 432x288 with 1 Axes>"
      ]
     },
     "metadata": {
      "needs_background": "light"
     },
     "output_type": "display_data"
    }
   ],
   "source": [
    "sns.distplot(predictions-y_test);"
   ]
  },
  {
   "cell_type": "code",
   "execution_count": 41,
   "id": "4eec78d8",
   "metadata": {},
   "outputs": [
    {
     "data": {
      "text/plain": [
       "Text(0.5, 1.0, 'Relation between the y_test and predicted values')"
      ]
     },
     "execution_count": 41,
     "metadata": {},
     "output_type": "execute_result"
    },
    {
     "data": {
      "image/png": "[encoded data removed]",
      "text/plain": [
       "<Figure size 432x288 with 1 Axes>"
      ]
     },
     "metadata": {
      "needs_background": "light"
     },
     "output_type": "display_data"
    }
   ],
   "source": [
    "plt.scatter(y_test,predictions);\n",
    "plt.xlabel('y_test');\n",
    "plt.ylabel('Predicted values');\n",
    "plt.title('Relation between the y_test and predicted values')"
   ]
  },
  {
   "cell_type": "markdown",
   "id": "bbabc432",
   "metadata": {},
   "source": [
    "## Evaluating the model using the most common evaluation metrics from scratch"
   ]
  },
  {
   "cell_type": "markdown",
   "id": "10893223",
   "metadata": {},
   "source": [
    "- MAE:- Mean Absolute Error\n",
    "- MSE:- Mean Squared Error\n",
    "- RSME:- Root Mean Squared Error"
   ]
  },
  {
   "cell_type": "code",
   "execution_count": 45,
   "id": "e1753d0f",
   "metadata": {},
   "outputs": [
    {
     "name": "stdout",
     "output_type": "stream",
     "text": [
      "MAE:  19.580280922483503\n",
      "MSE:  1344.4213595167196\n",
      "RMSE:  36.66635187084638\n"
     ]
    }
   ],
   "source": [
    "#python module for metrics\n",
    "from sklearn import metrics\n",
    "print('MAE: ',metrics.mean_absolute_error(y_test,predictions))\n",
    "print('MSE: ',metrics.mean_squared_error(y_test,predictions))\n",
    "print('RMSE: ',np.sqrt(metrics.mean_squared_error(y_test,predictions)))"
   ]
  },
  {
   "cell_type": "markdown",
   "id": "a7a5a72e",
   "metadata": {},
   "source": [
    "## Hyperparameter tuning"
   ]
  },
  {
   "cell_type": "markdown",
   "id": "3761d1cb",
   "metadata": {},
   "source": [
    "## Using RandomSearchCV to tune the model"
   ]
  },
  {
   "cell_type": "code",
   "execution_count": 52,
   "id": "4493877f",
   "metadata": {},
   "outputs": [],
   "source": [
    "from sklearn.model_selection import RandomizedSearchCV"
   ]
  },
  {
   "cell_type": "code",
   "execution_count": 46,
   "id": "218efe67",
   "metadata": {},
   "outputs": [],
   "source": [
    "# Number of trees in random forest\n",
    "n_estimators = [int(x) for x in np.linspace(start = 100, stop = 1200, num = 12)]\n",
    "# Various learning rate parameters\n",
    "learning_rate = ['0.05','0.1', '0.2','0.3','0.5','0.6']\n",
    "# Maximum number of levels in tree\n",
    "max_depth = [int(x) for x in np.linspace(5, 30, num = 6)]\n",
    "# max_depth.append(None)\n",
    "#Subssample parameter values\n",
    "subsample=[0.7,0.6,0.8]\n",
    "# Minimum child weight parameters\n",
    "min_child_weight=[3,4,5,6,7]"
   ]
  },
  {
   "cell_type": "code",
   "execution_count": 47,
   "id": "8f9e74c9",
   "metadata": {},
   "outputs": [
    {
     "name": "stdout",
     "output_type": "stream",
     "text": [
      "{'n_estimators': [100, 200, 300, 400, 500, 600, 700, 800, 900, 1000, 1100, 1200], 'learning_rate': ['0.05', '0.1', '0.2', '0.3', '0.5', '0.6'], 'max_depth': [5, 10, 15, 20, 25, 30], 'subsample': [0.7, 0.6, 0.8], 'min_child_weight': [3, 4, 5, 6, 7]}\n"
     ]
    }
   ],
   "source": [
    "param_grid = {'n_estimators': n_estimators,\n",
    "               'learning_rate': learning_rate,\n",
    "               'max_depth': max_depth,\n",
    "               'subsample': subsample,\n",
    "               'min_child_weight': min_child_weight}\n",
    "\n",
    "print(param_grid)"
   ]
  },
  {
   "cell_type": "code",
   "execution_count": 49,
   "id": "67a40f1f",
   "metadata": {},
   "outputs": [],
   "source": [
    "#initialize the base model\n",
    "regressor=XGBRegressor()"
   ]
  },
  {
   "cell_type": "code",
   "execution_count": 54,
   "id": "fb2c7220",
   "metadata": {},
   "outputs": [],
   "source": [
    "#search across 100 combinations\n",
    "#cv=5\n",
    "xg_random = RandomizedSearchCV(estimator = regressor, param_distributions = param_grid,scoring='neg_mean_squared_error', n_iter = 100,cv=5,verbose=10)"
   ]
  },
  {
   "cell_type": "code",
   "execution_count": 55,
   "id": "c5db56c6",
   "metadata": {
    "scrolled": true
   },
   "outputs": [
    {
     "name": "stdout",
     "output_type": "stream",
     "text": [
      "Fitting 5 folds for each of 100 candidates, totalling 500 fits\n",
      "[CV] subsample=0.8, n_estimators=100, min_child_weight=3, max_depth=25, learning_rate=0.1 \n"
     ]
    },
    {
     "name": "stderr",
     "output_type": "stream",
     "text": [
      "[Parallel(n_jobs=1)]: Using backend SequentialBackend with 1 concurrent workers.\n"
     ]
    },
    {
     "name": "stdout",
     "output_type": "stream",
     "text": [
      "[CV]  subsample=0.8, n_estimators=100, min_child_weight=3, max_depth=25, learning_rate=0.1, score=-1393.754, total=   0.2s\n",
      "[CV] subsample=0.8, n_estimators=100, min_child_weight=3, max_depth=25, learning_rate=0.1 \n",
      "[CV]  subsample=0.8, n_estimators=100, min_child_weight=3, max_depth=25, learning_rate=0.1, score=-1150.811, total=   0.2s\n",
      "[CV] subsample=0.8, n_estimators=100, min_child_weight=3, max_depth=25, learning_rate=0.1 \n"
     ]
    },
    {
     "name": "stderr",
     "output_type": "stream",
     "text": [
      "[Parallel(n_jobs=1)]: Done   1 out of   1 | elapsed:    0.2s remaining:    0.0s\n",
      "[Parallel(n_jobs=1)]: Done   2 out of   2 | elapsed:    0.4s remaining:    0.0s\n"
     ]
    },
    {
     "name": "stdout",
     "output_type": "stream",
     "text": [
      "[CV]  subsample=0.8, n_estimators=100, min_child_weight=3, max_depth=25, learning_rate=0.1, score=-1351.895, total=   0.2s\n",
      "[CV] subsample=0.8, n_estimators=100, min_child_weight=3, max_depth=25, learning_rate=0.1 \n"
     ]
    },
    {
     "name": "stderr",
     "output_type": "stream",
     "text": [
      "[Parallel(n_jobs=1)]: Done   3 out of   3 | elapsed:    0.7s remaining:    0.0s\n"
     ]
    },
    {
     "name": "stdout",
     "output_type": "stream",
     "text": [
      "[CV]  subsample=0.8, n_estimators=100, min_child_weight=3, max_depth=25, learning_rate=0.1, score=-1304.915, total=   0.2s\n",
      "[CV] subsample=0.8, n_estimators=100, min_child_weight=3, max_depth=25, learning_rate=0.1 \n"
     ]
    },
    {
     "name": "stderr",
     "output_type": "stream",
     "text": [
      "[Parallel(n_jobs=1)]: Done   4 out of   4 | elapsed:    0.9s remaining:    0.0s\n"
     ]
    },
    {
     "name": "stdout",
     "output_type": "stream",
     "text": [
      "[CV]  subsample=0.8, n_estimators=100, min_child_weight=3, max_depth=25, learning_rate=0.1, score=-1778.375, total=   0.3s\n",
      "[CV] subsample=0.8, n_estimators=1000, min_child_weight=7, max_depth=5, learning_rate=0.3 \n"
     ]
    },
    {
     "name": "stderr",
     "output_type": "stream",
     "text": [
      "[Parallel(n_jobs=1)]: Done   5 out of   5 | elapsed:    1.2s remaining:    0.0s\n"
     ]
    },
    {
     "name": "stdout",
     "output_type": "stream",
     "text": [
      "[CV]  subsample=0.8, n_estimators=1000, min_child_weight=7, max_depth=5, learning_rate=0.3, score=-1628.834, total=   0.5s\n",
      "[CV] subsample=0.8, n_estimators=1000, min_child_weight=7, max_depth=5, learning_rate=0.3 \n"
     ]
    },
    {
     "name": "stderr",
     "output_type": "stream",
     "text": [
      "[Parallel(n_jobs=1)]: Done   6 out of   6 | elapsed:    1.7s remaining:    0.0s\n"
     ]
    },
    {
     "name": "stdout",
     "output_type": "stream",
     "text": [
      "[CV]  subsample=0.8, n_estimators=1000, min_child_weight=7, max_depth=5, learning_rate=0.3, score=-1435.511, total=   0.5s\n",
      "[CV] subsample=0.8, n_estimators=1000, min_child_weight=7, max_depth=5, learning_rate=0.3 \n"
     ]
    },
    {
     "name": "stderr",
     "output_type": "stream",
     "text": [
      "[Parallel(n_jobs=1)]: Done   7 out of   7 | elapsed:    2.2s remaining:    0.0s\n"
     ]
    },
    {
     "name": "stdout",
     "output_type": "stream",
     "text": [
      "[CV]  subsample=0.8, n_estimators=1000, min_child_weight=7, max_depth=5, learning_rate=0.3, score=-1918.602, total=   0.4s\n",
      "[CV] subsample=0.8, n_estimators=1000, min_child_weight=7, max_depth=5, learning_rate=0.3 \n"
     ]
    },
    {
     "name": "stderr",
     "output_type": "stream",
     "text": [
      "[Parallel(n_jobs=1)]: Done   8 out of   8 | elapsed:    2.6s remaining:    0.0s\n"
     ]
    },
    {
     "name": "stdout",
     "output_type": "stream",
     "text": [
      "[CV]  subsample=0.8, n_estimators=1000, min_child_weight=7, max_depth=5, learning_rate=0.3, score=-1707.769, total=   0.5s\n",
      "[CV] subsample=0.8, n_estimators=1000, min_child_weight=7, max_depth=5, learning_rate=0.3 \n"
     ]
    },
    {
     "name": "stderr",
     "output_type": "stream",
     "text": [
      "[Parallel(n_jobs=1)]: Done   9 out of   9 | elapsed:    3.1s remaining:    0.0s\n"
     ]
    },
    {
     "name": "stdout",
     "output_type": "stream",
     "text": [
      "[CV]  subsample=0.8, n_estimators=1000, min_child_weight=7, max_depth=5, learning_rate=0.3, score=-1960.932, total=   0.6s\n",
      "[CV] subsample=0.7, n_estimators=900, min_child_weight=3, max_depth=15, learning_rate=0.3 \n",
      "[CV]  subsample=0.7, n_estimators=900, min_child_weight=3, max_depth=15, learning_rate=0.3, score=-1601.292, total=   0.6s\n",
      "[CV] subsample=0.7, n_estimators=900, min_child_weight=3, max_depth=15, learning_rate=0.3 \n",
      "[CV]  subsample=0.7, n_estimators=900, min_child_weight=3, max_depth=15, learning_rate=0.3, score=-1335.083, total=   0.5s\n",
      "[CV] subsample=0.7, n_estimators=900, min_child_weight=3, max_depth=15, learning_rate=0.3 \n",
      "[CV]  subsample=0.7, n_estimators=900, min_child_weight=3, max_depth=15, learning_rate=0.3, score=-1849.396, total=   0.4s\n",
      "[CV] subsample=0.7, n_estimators=900, min_child_weight=3, max_depth=15, learning_rate=0.3 \n",
      "[CV]  subsample=0.7, n_estimators=900, min_child_weight=3, max_depth=15, learning_rate=0.3, score=-1435.001, total=   0.5s\n",
      "[CV] subsample=0.7, n_estimators=900, min_child_weight=3, max_depth=15, learning_rate=0.3 \n",
      "[CV]  subsample=0.7, n_estimators=900, min_child_weight=3, max_depth=15, learning_rate=0.3, score=-1829.520, total=   0.5s\n",
      "[CV] subsample=0.8, n_estimators=400, min_child_weight=7, max_depth=20, learning_rate=0.05 \n",
      "[CV]  subsample=0.8, n_estimators=400, min_child_weight=7, max_depth=20, learning_rate=0.05, score=-1467.002, total=   0.5s\n",
      "[CV] subsample=0.8, n_estimators=400, min_child_weight=7, max_depth=20, learning_rate=0.05 \n",
      "[CV]  subsample=0.8, n_estimators=400, min_child_weight=7, max_depth=20, learning_rate=0.05, score=-1245.707, total=   0.5s\n",
      "[CV] subsample=0.8, n_estimators=400, min_child_weight=7, max_depth=20, learning_rate=0.05 \n",
      "[CV]  subsample=0.8, n_estimators=400, min_child_weight=7, max_depth=20, learning_rate=0.05, score=-1597.559, total=   0.5s\n",
      "[CV] subsample=0.8, n_estimators=400, min_child_weight=7, max_depth=20, learning_rate=0.05 \n",
      "[CV]  subsample=0.8, n_estimators=400, min_child_weight=7, max_depth=20, learning_rate=0.05, score=-1444.694, total=   0.5s\n",
      "[CV] subsample=0.8, n_estimators=400, min_child_weight=7, max_depth=20, learning_rate=0.05 \n",
      "[CV]  subsample=0.8, n_estimators=400, min_child_weight=7, max_depth=20, learning_rate=0.05, score=-1861.180, total=   0.5s\n",
      "[CV] subsample=0.6, n_estimators=1200, min_child_weight=3, max_depth=25, learning_rate=0.3 \n",
      "[CV]  subsample=0.6, n_estimators=1200, min_child_weight=3, max_depth=25, learning_rate=0.3, score=-1622.194, total=   0.6s\n",
      "[CV] subsample=0.6, n_estimators=1200, min_child_weight=3, max_depth=25, learning_rate=0.3 \n",
      "[CV]  subsample=0.6, n_estimators=1200, min_child_weight=3, max_depth=25, learning_rate=0.3, score=-1519.368, total=   0.6s\n",
      "[CV] subsample=0.6, n_estimators=1200, min_child_weight=3, max_depth=25, learning_rate=0.3 \n",
      "[CV]  subsample=0.6, n_estimators=1200, min_child_weight=3, max_depth=25, learning_rate=0.3, score=-1789.945, total=   0.7s\n",
      "[CV] subsample=0.6, n_estimators=1200, min_child_weight=3, max_depth=25, learning_rate=0.3 \n",
      "[CV]  subsample=0.6, n_estimators=1200, min_child_weight=3, max_depth=25, learning_rate=0.3, score=-1599.188, total=   0.6s\n",
      "[CV] subsample=0.6, n_estimators=1200, min_child_weight=3, max_depth=25, learning_rate=0.3 \n",
      "[CV]  subsample=0.6, n_estimators=1200, min_child_weight=3, max_depth=25, learning_rate=0.3, score=-2246.446, total=   0.6s\n",
      "[CV] subsample=0.7, n_estimators=900, min_child_weight=4, max_depth=25, learning_rate=0.5 \n",
      "[CV]  subsample=0.7, n_estimators=900, min_child_weight=4, max_depth=25, learning_rate=0.5, score=-1822.795, total=   0.5s\n",
      "[CV] subsample=0.7, n_estimators=900, min_child_weight=4, max_depth=25, learning_rate=0.5 \n",
      "[CV]  subsample=0.7, n_estimators=900, min_child_weight=4, max_depth=25, learning_rate=0.5, score=-2051.871, total=   0.3s\n",
      "[CV] subsample=0.7, n_estimators=900, min_child_weight=4, max_depth=25, learning_rate=0.5 \n",
      "[CV]  subsample=0.7, n_estimators=900, min_child_weight=4, max_depth=25, learning_rate=0.5, score=-1720.269, total=   0.4s\n",
      "[CV] subsample=0.7, n_estimators=900, min_child_weight=4, max_depth=25, learning_rate=0.5 \n",
      "[CV]  subsample=0.7, n_estimators=900, min_child_weight=4, max_depth=25, learning_rate=0.5, score=-2051.780, total=   0.5s\n",
      "[CV] subsample=0.7, n_estimators=900, min_child_weight=4, max_depth=25, learning_rate=0.5 \n",
      "[CV]  subsample=0.7, n_estimators=900, min_child_weight=4, max_depth=25, learning_rate=0.5, score=-2089.156, total=   0.4s\n",
      "[CV] subsample=0.7, n_estimators=100, min_child_weight=4, max_depth=10, learning_rate=0.5 \n",
      "[CV]  subsample=0.7, n_estimators=100, min_child_weight=4, max_depth=10, learning_rate=0.5, score=-1648.725, total=   0.1s\n",
      "[CV] subsample=0.7, n_estimators=100, min_child_weight=4, max_depth=10, learning_rate=0.5 \n",
      "[CV]  subsample=0.7, n_estimators=100, min_child_weight=4, max_depth=10, learning_rate=0.5, score=-1812.442, total=   0.1s\n",
      "[CV] subsample=0.7, n_estimators=100, min_child_weight=4, max_depth=10, learning_rate=0.5 \n",
      "[CV]  subsample=0.7, n_estimators=100, min_child_weight=4, max_depth=10, learning_rate=0.5, score=-1859.986, total=   0.1s\n",
      "[CV] subsample=0.7, n_estimators=100, min_child_weight=4, max_depth=10, learning_rate=0.5 \n",
      "[CV]  subsample=0.7, n_estimators=100, min_child_weight=4, max_depth=10, learning_rate=0.5, score=-2000.856, total=   0.1s\n",
      "[CV] subsample=0.7, n_estimators=100, min_child_weight=4, max_depth=10, learning_rate=0.5 \n",
      "[CV]  subsample=0.7, n_estimators=100, min_child_weight=4, max_depth=10, learning_rate=0.5, score=-2176.861, total=   0.1s\n",
      "[CV] subsample=0.6, n_estimators=700, min_child_weight=3, max_depth=20, learning_rate=0.3 \n",
      "[CV]  subsample=0.6, n_estimators=700, min_child_weight=3, max_depth=20, learning_rate=0.3, score=-1614.493, total=   0.6s\n",
      "[CV] subsample=0.6, n_estimators=700, min_child_weight=3, max_depth=20, learning_rate=0.3 \n",
      "[CV]  subsample=0.6, n_estimators=700, min_child_weight=3, max_depth=20, learning_rate=0.3, score=-1500.976, total=   0.5s\n",
      "[CV] subsample=0.6, n_estimators=700, min_child_weight=3, max_depth=20, learning_rate=0.3 \n",
      "[CV]  subsample=0.6, n_estimators=700, min_child_weight=3, max_depth=20, learning_rate=0.3, score=-1857.773, total=   0.5s\n",
      "[CV] subsample=0.6, n_estimators=700, min_child_weight=3, max_depth=20, learning_rate=0.3 \n",
      "[CV]  subsample=0.6, n_estimators=700, min_child_weight=3, max_depth=20, learning_rate=0.3, score=-1548.362, total=   0.5s\n",
      "[CV] subsample=0.6, n_estimators=700, min_child_weight=3, max_depth=20, learning_rate=0.3 \n",
      "[CV]  subsample=0.6, n_estimators=700, min_child_weight=3, max_depth=20, learning_rate=0.3, score=-2177.390, total=   0.6s\n",
      "[CV] subsample=0.6, n_estimators=400, min_child_weight=5, max_depth=10, learning_rate=0.05 \n",
      "[CV]  subsample=0.6, n_estimators=400, min_child_weight=5, max_depth=10, learning_rate=0.05, score=-1431.419, total=   0.4s\n",
      "[CV] subsample=0.6, n_estimators=400, min_child_weight=5, max_depth=10, learning_rate=0.05 \n",
      "[CV]  subsample=0.6, n_estimators=400, min_child_weight=5, max_depth=10, learning_rate=0.05, score=-1297.738, total=   0.4s\n",
      "[CV] subsample=0.6, n_estimators=400, min_child_weight=5, max_depth=10, learning_rate=0.05 \n",
      "[CV]  subsample=0.6, n_estimators=400, min_child_weight=5, max_depth=10, learning_rate=0.05, score=-1420.173, total=   0.4s\n",
      "[CV] subsample=0.6, n_estimators=400, min_child_weight=5, max_depth=10, learning_rate=0.05 \n",
      "[CV]  subsample=0.6, n_estimators=400, min_child_weight=5, max_depth=10, learning_rate=0.05, score=-1368.880, total=   0.4s\n",
      "[CV] subsample=0.6, n_estimators=400, min_child_weight=5, max_depth=10, learning_rate=0.05 \n",
      "[CV]  subsample=0.6, n_estimators=400, min_child_weight=5, max_depth=10, learning_rate=0.05, score=-1829.670, total=   0.3s\n",
      "[CV] subsample=0.6, n_estimators=600, min_child_weight=3, max_depth=5, learning_rate=0.5 \n",
      "[CV]  subsample=0.6, n_estimators=600, min_child_weight=3, max_depth=5, learning_rate=0.5, score=-2557.578, total=   0.2s\n",
      "[CV] subsample=0.6, n_estimators=600, min_child_weight=3, max_depth=5, learning_rate=0.5 \n",
      "[CV]  subsample=0.6, n_estimators=600, min_child_weight=3, max_depth=5, learning_rate=0.5, score=-1742.479, total=   0.2s\n",
      "[CV] subsample=0.6, n_estimators=600, min_child_weight=3, max_depth=5, learning_rate=0.5 \n",
      "[CV]  subsample=0.6, n_estimators=600, min_child_weight=3, max_depth=5, learning_rate=0.5, score=-2009.863, total=   0.3s\n",
      "[CV] subsample=0.6, n_estimators=600, min_child_weight=3, max_depth=5, learning_rate=0.5 \n"
     ]
    },
    {
     "name": "stdout",
     "output_type": "stream",
     "text": [
      "[CV]  subsample=0.6, n_estimators=600, min_child_weight=3, max_depth=5, learning_rate=0.5, score=-1916.430, total=   0.2s\n",
      "[CV] subsample=0.6, n_estimators=600, min_child_weight=3, max_depth=5, learning_rate=0.5 \n",
      "[CV]  subsample=0.6, n_estimators=600, min_child_weight=3, max_depth=5, learning_rate=0.5, score=-2480.042, total=   0.3s\n",
      "[CV] subsample=0.8, n_estimators=400, min_child_weight=5, max_depth=10, learning_rate=0.6 \n",
      "[CV]  subsample=0.8, n_estimators=400, min_child_weight=5, max_depth=10, learning_rate=0.6, score=-2032.212, total=   0.2s\n",
      "[CV] subsample=0.8, n_estimators=400, min_child_weight=5, max_depth=10, learning_rate=0.6 \n",
      "[CV]  subsample=0.8, n_estimators=400, min_child_weight=5, max_depth=10, learning_rate=0.6, score=-1535.133, total=   0.2s\n",
      "[CV] subsample=0.8, n_estimators=400, min_child_weight=5, max_depth=10, learning_rate=0.6 \n",
      "[CV]  subsample=0.8, n_estimators=400, min_child_weight=5, max_depth=10, learning_rate=0.6, score=-1921.626, total=   0.2s\n",
      "[CV] subsample=0.8, n_estimators=400, min_child_weight=5, max_depth=10, learning_rate=0.6 \n",
      "[CV]  subsample=0.8, n_estimators=400, min_child_weight=5, max_depth=10, learning_rate=0.6, score=-1650.497, total=   0.2s\n",
      "[CV] subsample=0.8, n_estimators=400, min_child_weight=5, max_depth=10, learning_rate=0.6 \n",
      "[CV]  subsample=0.8, n_estimators=400, min_child_weight=5, max_depth=10, learning_rate=0.6, score=-2177.104, total=   0.2s\n",
      "[CV] subsample=0.6, n_estimators=1200, min_child_weight=6, max_depth=5, learning_rate=0.1 \n",
      "[CV]  subsample=0.6, n_estimators=1200, min_child_weight=6, max_depth=5, learning_rate=0.1, score=-1328.407, total=   0.6s\n",
      "[CV] subsample=0.6, n_estimators=1200, min_child_weight=6, max_depth=5, learning_rate=0.1 \n",
      "[CV]  subsample=0.6, n_estimators=1200, min_child_weight=6, max_depth=5, learning_rate=0.1, score=-1379.342, total=   0.6s\n",
      "[CV] subsample=0.6, n_estimators=1200, min_child_weight=6, max_depth=5, learning_rate=0.1 \n",
      "[CV]  subsample=0.6, n_estimators=1200, min_child_weight=6, max_depth=5, learning_rate=0.1, score=-1604.453, total=   0.5s\n",
      "[CV] subsample=0.6, n_estimators=1200, min_child_weight=6, max_depth=5, learning_rate=0.1 \n",
      "[CV]  subsample=0.6, n_estimators=1200, min_child_weight=6, max_depth=5, learning_rate=0.1, score=-1357.356, total=   0.5s\n",
      "[CV] subsample=0.6, n_estimators=1200, min_child_weight=6, max_depth=5, learning_rate=0.1 \n",
      "[CV]  subsample=0.6, n_estimators=1200, min_child_weight=6, max_depth=5, learning_rate=0.1, score=-1658.079, total=   0.5s\n",
      "[CV] subsample=0.8, n_estimators=800, min_child_weight=7, max_depth=30, learning_rate=0.2 \n",
      "[CV]  subsample=0.8, n_estimators=800, min_child_weight=7, max_depth=30, learning_rate=0.2, score=-1548.075, total=   0.9s\n",
      "[CV] subsample=0.8, n_estimators=800, min_child_weight=7, max_depth=30, learning_rate=0.2 \n",
      "[CV]  subsample=0.8, n_estimators=800, min_child_weight=7, max_depth=30, learning_rate=0.2, score=-1395.788, total=   1.1s\n",
      "[CV] subsample=0.8, n_estimators=800, min_child_weight=7, max_depth=30, learning_rate=0.2 \n",
      "[CV]  subsample=0.8, n_estimators=800, min_child_weight=7, max_depth=30, learning_rate=0.2, score=-1634.238, total=   0.9s\n",
      "[CV] subsample=0.8, n_estimators=800, min_child_weight=7, max_depth=30, learning_rate=0.2 \n",
      "[CV]  subsample=0.8, n_estimators=800, min_child_weight=7, max_depth=30, learning_rate=0.2, score=-1439.065, total=   0.9s\n",
      "[CV] subsample=0.8, n_estimators=800, min_child_weight=7, max_depth=30, learning_rate=0.2 \n",
      "[CV]  subsample=0.8, n_estimators=800, min_child_weight=7, max_depth=30, learning_rate=0.2, score=-2115.181, total=   1.0s\n",
      "[CV] subsample=0.8, n_estimators=600, min_child_weight=5, max_depth=30, learning_rate=0.3 \n",
      "[CV]  subsample=0.8, n_estimators=600, min_child_weight=5, max_depth=30, learning_rate=0.3, score=-1542.357, total=   0.7s\n",
      "[CV] subsample=0.8, n_estimators=600, min_child_weight=5, max_depth=30, learning_rate=0.3 \n",
      "[CV]  subsample=0.8, n_estimators=600, min_child_weight=5, max_depth=30, learning_rate=0.3, score=-1319.654, total=   0.7s\n",
      "[CV] subsample=0.8, n_estimators=600, min_child_weight=5, max_depth=30, learning_rate=0.3 \n",
      "[CV]  subsample=0.8, n_estimators=600, min_child_weight=5, max_depth=30, learning_rate=0.3, score=-1721.784, total=   0.6s\n",
      "[CV] subsample=0.8, n_estimators=600, min_child_weight=5, max_depth=30, learning_rate=0.3 \n",
      "[CV]  subsample=0.8, n_estimators=600, min_child_weight=5, max_depth=30, learning_rate=0.3, score=-1640.625, total=   0.8s\n",
      "[CV] subsample=0.8, n_estimators=600, min_child_weight=5, max_depth=30, learning_rate=0.3 \n",
      "[CV]  subsample=0.8, n_estimators=600, min_child_weight=5, max_depth=30, learning_rate=0.3, score=-1957.612, total=   0.5s\n",
      "[CV] subsample=0.6, n_estimators=800, min_child_weight=3, max_depth=10, learning_rate=0.5 \n",
      "[CV]  subsample=0.6, n_estimators=800, min_child_weight=3, max_depth=10, learning_rate=0.5, score=-1651.943, total=   0.3s\n",
      "[CV] subsample=0.6, n_estimators=800, min_child_weight=3, max_depth=10, learning_rate=0.5 \n",
      "[CV]  subsample=0.6, n_estimators=800, min_child_weight=3, max_depth=10, learning_rate=0.5, score=-1725.461, total=   0.3s\n",
      "[CV] subsample=0.6, n_estimators=800, min_child_weight=3, max_depth=10, learning_rate=0.5 \n",
      "[CV]  subsample=0.6, n_estimators=800, min_child_weight=3, max_depth=10, learning_rate=0.5, score=-1571.841, total=   0.3s\n",
      "[CV] subsample=0.6, n_estimators=800, min_child_weight=3, max_depth=10, learning_rate=0.5 \n",
      "[CV]  subsample=0.6, n_estimators=800, min_child_weight=3, max_depth=10, learning_rate=0.5, score=-1756.037, total=   0.4s\n",
      "[CV] subsample=0.6, n_estimators=800, min_child_weight=3, max_depth=10, learning_rate=0.5 \n",
      "[CV]  subsample=0.6, n_estimators=800, min_child_weight=3, max_depth=10, learning_rate=0.5, score=-2612.367, total=   0.4s\n",
      "[CV] subsample=0.6, n_estimators=800, min_child_weight=7, max_depth=25, learning_rate=0.05 \n",
      "[CV]  subsample=0.6, n_estimators=800, min_child_weight=7, max_depth=25, learning_rate=0.05, score=-1389.756, total=   0.9s\n",
      "[CV] subsample=0.6, n_estimators=800, min_child_weight=7, max_depth=25, learning_rate=0.05 \n",
      "[CV]  subsample=0.6, n_estimators=800, min_child_weight=7, max_depth=25, learning_rate=0.05, score=-1332.565, total=   0.8s\n",
      "[CV] subsample=0.6, n_estimators=800, min_child_weight=7, max_depth=25, learning_rate=0.05 \n",
      "[CV]  subsample=0.6, n_estimators=800, min_child_weight=7, max_depth=25, learning_rate=0.05, score=-1507.146, total=   0.9s\n",
      "[CV] subsample=0.6, n_estimators=800, min_child_weight=7, max_depth=25, learning_rate=0.05 \n",
      "[CV]  subsample=0.6, n_estimators=800, min_child_weight=7, max_depth=25, learning_rate=0.05, score=-1336.339, total=   0.9s\n",
      "[CV] subsample=0.6, n_estimators=800, min_child_weight=7, max_depth=25, learning_rate=0.05 \n",
      "[CV]  subsample=0.6, n_estimators=800, min_child_weight=7, max_depth=25, learning_rate=0.05, score=-1812.435, total=   0.8s\n",
      "[CV] subsample=0.8, n_estimators=1200, min_child_weight=4, max_depth=25, learning_rate=0.6 \n",
      "[CV]  subsample=0.8, n_estimators=1200, min_child_weight=4, max_depth=25, learning_rate=0.6, score=-2114.416, total=   0.5s\n",
      "[CV] subsample=0.8, n_estimators=1200, min_child_weight=4, max_depth=25, learning_rate=0.6 \n",
      "[CV]  subsample=0.8, n_estimators=1200, min_child_weight=4, max_depth=25, learning_rate=0.6, score=-1638.284, total=   0.5s\n",
      "[CV] subsample=0.8, n_estimators=1200, min_child_weight=4, max_depth=25, learning_rate=0.6 \n",
      "[CV]  subsample=0.8, n_estimators=1200, min_child_weight=4, max_depth=25, learning_rate=0.6, score=-2092.432, total=   0.4s\n",
      "[CV] subsample=0.8, n_estimators=1200, min_child_weight=4, max_depth=25, learning_rate=0.6 \n",
      "[CV]  subsample=0.8, n_estimators=1200, min_child_weight=4, max_depth=25, learning_rate=0.6, score=-1680.678, total=   0.5s\n",
      "[CV] subsample=0.8, n_estimators=1200, min_child_weight=4, max_depth=25, learning_rate=0.6 \n",
      "[CV]  subsample=0.8, n_estimators=1200, min_child_weight=4, max_depth=25, learning_rate=0.6, score=-2359.789, total=   0.4s\n",
      "[CV] subsample=0.8, n_estimators=200, min_child_weight=6, max_depth=10, learning_rate=0.5 \n",
      "[CV]  subsample=0.8, n_estimators=200, min_child_weight=6, max_depth=10, learning_rate=0.5, score=-1912.782, total=   0.2s\n",
      "[CV] subsample=0.8, n_estimators=200, min_child_weight=6, max_depth=10, learning_rate=0.5 \n",
      "[CV]  subsample=0.8, n_estimators=200, min_child_weight=6, max_depth=10, learning_rate=0.5, score=-1389.962, total=   0.2s\n",
      "[CV] subsample=0.8, n_estimators=200, min_child_weight=6, max_depth=10, learning_rate=0.5 \n",
      "[CV]  subsample=0.8, n_estimators=200, min_child_weight=6, max_depth=10, learning_rate=0.5, score=-1851.522, total=   0.2s\n",
      "[CV] subsample=0.8, n_estimators=200, min_child_weight=6, max_depth=10, learning_rate=0.5 \n"
     ]
    },
    {
     "name": "stdout",
     "output_type": "stream",
     "text": [
      "[CV]  subsample=0.8, n_estimators=200, min_child_weight=6, max_depth=10, learning_rate=0.5, score=-1414.405, total=   0.3s\n",
      "[CV] subsample=0.8, n_estimators=200, min_child_weight=6, max_depth=10, learning_rate=0.5 \n",
      "[CV]  subsample=0.8, n_estimators=200, min_child_weight=6, max_depth=10, learning_rate=0.5, score=-1812.818, total=   0.2s\n",
      "[CV] subsample=0.7, n_estimators=800, min_child_weight=5, max_depth=15, learning_rate=0.05 \n",
      "[CV]  subsample=0.7, n_estimators=800, min_child_weight=5, max_depth=15, learning_rate=0.05, score=-1464.068, total=   1.1s\n",
      "[CV] subsample=0.7, n_estimators=800, min_child_weight=5, max_depth=15, learning_rate=0.05 \n",
      "[CV]  subsample=0.7, n_estimators=800, min_child_weight=5, max_depth=15, learning_rate=0.05, score=-1145.176, total=   1.1s\n",
      "[CV] subsample=0.7, n_estimators=800, min_child_weight=5, max_depth=15, learning_rate=0.05 \n",
      "[CV]  subsample=0.7, n_estimators=800, min_child_weight=5, max_depth=15, learning_rate=0.05, score=-1539.761, total=   0.9s\n",
      "[CV] subsample=0.7, n_estimators=800, min_child_weight=5, max_depth=15, learning_rate=0.05 \n",
      "[CV]  subsample=0.7, n_estimators=800, min_child_weight=5, max_depth=15, learning_rate=0.05, score=-1271.517, total=   1.0s\n",
      "[CV] subsample=0.7, n_estimators=800, min_child_weight=5, max_depth=15, learning_rate=0.05 \n",
      "[CV]  subsample=0.7, n_estimators=800, min_child_weight=5, max_depth=15, learning_rate=0.05, score=-1901.976, total=   1.1s\n",
      "[CV] subsample=0.7, n_estimators=100, min_child_weight=3, max_depth=30, learning_rate=0.5 \n",
      "[CV]  subsample=0.7, n_estimators=100, min_child_weight=3, max_depth=30, learning_rate=0.5, score=-1620.211, total=   0.2s\n",
      "[CV] subsample=0.7, n_estimators=100, min_child_weight=3, max_depth=30, learning_rate=0.5 \n",
      "[CV]  subsample=0.7, n_estimators=100, min_child_weight=3, max_depth=30, learning_rate=0.5, score=-1697.679, total=   0.2s\n",
      "[CV] subsample=0.7, n_estimators=100, min_child_weight=3, max_depth=30, learning_rate=0.5 \n",
      "[CV]  subsample=0.7, n_estimators=100, min_child_weight=3, max_depth=30, learning_rate=0.5, score=-1786.972, total=   0.2s\n",
      "[CV] subsample=0.7, n_estimators=100, min_child_weight=3, max_depth=30, learning_rate=0.5 \n",
      "[CV]  subsample=0.7, n_estimators=100, min_child_weight=3, max_depth=30, learning_rate=0.5, score=-1464.942, total=   0.2s\n",
      "[CV] subsample=0.7, n_estimators=100, min_child_weight=3, max_depth=30, learning_rate=0.5 \n",
      "[CV]  subsample=0.7, n_estimators=100, min_child_weight=3, max_depth=30, learning_rate=0.5, score=-2130.947, total=   0.2s\n",
      "[CV] subsample=0.6, n_estimators=1200, min_child_weight=4, max_depth=15, learning_rate=0.3 \n",
      "[CV]  subsample=0.6, n_estimators=1200, min_child_weight=4, max_depth=15, learning_rate=0.3, score=-1443.254, total=   0.8s\n",
      "[CV] subsample=0.6, n_estimators=1200, min_child_weight=4, max_depth=15, learning_rate=0.3 \n",
      "[CV]  subsample=0.6, n_estimators=1200, min_child_weight=4, max_depth=15, learning_rate=0.3, score=-1348.455, total=   1.1s\n",
      "[CV] subsample=0.6, n_estimators=1200, min_child_weight=4, max_depth=15, learning_rate=0.3 \n",
      "[CV]  subsample=0.6, n_estimators=1200, min_child_weight=4, max_depth=15, learning_rate=0.3, score=-1793.908, total=   1.0s\n",
      "[CV] subsample=0.6, n_estimators=1200, min_child_weight=4, max_depth=15, learning_rate=0.3 \n",
      "[CV]  subsample=0.6, n_estimators=1200, min_child_weight=4, max_depth=15, learning_rate=0.3, score=-1777.631, total=   0.8s\n",
      "[CV] subsample=0.6, n_estimators=1200, min_child_weight=4, max_depth=15, learning_rate=0.3 \n",
      "[CV]  subsample=0.6, n_estimators=1200, min_child_weight=4, max_depth=15, learning_rate=0.3, score=-2335.675, total=   0.6s\n",
      "[CV] subsample=0.7, n_estimators=200, min_child_weight=6, max_depth=30, learning_rate=0.1 \n",
      "[CV]  subsample=0.7, n_estimators=200, min_child_weight=6, max_depth=30, learning_rate=0.1, score=-1569.154, total=   0.3s\n",
      "[CV] subsample=0.7, n_estimators=200, min_child_weight=6, max_depth=30, learning_rate=0.1 \n",
      "[CV]  subsample=0.7, n_estimators=200, min_child_weight=6, max_depth=30, learning_rate=0.1, score=-1390.076, total=   0.2s\n",
      "[CV] subsample=0.7, n_estimators=200, min_child_weight=6, max_depth=30, learning_rate=0.1 \n",
      "[CV]  subsample=0.7, n_estimators=200, min_child_weight=6, max_depth=30, learning_rate=0.1, score=-1576.327, total=   0.2s\n",
      "[CV] subsample=0.7, n_estimators=200, min_child_weight=6, max_depth=30, learning_rate=0.1 \n",
      "[CV]  subsample=0.7, n_estimators=200, min_child_weight=6, max_depth=30, learning_rate=0.1, score=-1356.948, total=   0.2s\n",
      "[CV] subsample=0.7, n_estimators=200, min_child_weight=6, max_depth=30, learning_rate=0.1 \n",
      "[CV]  subsample=0.7, n_estimators=200, min_child_weight=6, max_depth=30, learning_rate=0.1, score=-1912.412, total=   0.2s\n",
      "[CV] subsample=0.8, n_estimators=800, min_child_weight=6, max_depth=30, learning_rate=0.5 \n",
      "[CV]  subsample=0.8, n_estimators=800, min_child_weight=6, max_depth=30, learning_rate=0.5, score=-2135.497, total=   0.5s\n",
      "[CV] subsample=0.8, n_estimators=800, min_child_weight=6, max_depth=30, learning_rate=0.5 \n",
      "[CV]  subsample=0.8, n_estimators=800, min_child_weight=6, max_depth=30, learning_rate=0.5, score=-1358.770, total=   0.7s\n",
      "[CV] subsample=0.8, n_estimators=800, min_child_weight=6, max_depth=30, learning_rate=0.5 \n",
      "[CV]  subsample=0.8, n_estimators=800, min_child_weight=6, max_depth=30, learning_rate=0.5, score=-1928.685, total=   0.5s\n",
      "[CV] subsample=0.8, n_estimators=800, min_child_weight=6, max_depth=30, learning_rate=0.5 \n",
      "[CV]  subsample=0.8, n_estimators=800, min_child_weight=6, max_depth=30, learning_rate=0.5, score=-1558.524, total=   0.9s\n",
      "[CV] subsample=0.8, n_estimators=800, min_child_weight=6, max_depth=30, learning_rate=0.5 \n",
      "[CV]  subsample=0.8, n_estimators=800, min_child_weight=6, max_depth=30, learning_rate=0.5, score=-1989.086, total=   0.6s\n",
      "[CV] subsample=0.8, n_estimators=300, min_child_weight=6, max_depth=30, learning_rate=0.5 \n",
      "[CV]  subsample=0.8, n_estimators=300, min_child_weight=6, max_depth=30, learning_rate=0.5, score=-2135.384, total=   0.3s\n",
      "[CV] subsample=0.8, n_estimators=300, min_child_weight=6, max_depth=30, learning_rate=0.5 \n",
      "[CV]  subsample=0.8, n_estimators=300, min_child_weight=6, max_depth=30, learning_rate=0.5, score=-1358.680, total=   0.5s\n",
      "[CV] subsample=0.8, n_estimators=300, min_child_weight=6, max_depth=30, learning_rate=0.5 \n",
      "[CV]  subsample=0.8, n_estimators=300, min_child_weight=6, max_depth=30, learning_rate=0.5, score=-1928.645, total=   0.4s\n",
      "[CV] subsample=0.8, n_estimators=300, min_child_weight=6, max_depth=30, learning_rate=0.5 \n",
      "[CV]  subsample=0.8, n_estimators=300, min_child_weight=6, max_depth=30, learning_rate=0.5, score=-1558.162, total=   0.5s\n",
      "[CV] subsample=0.8, n_estimators=300, min_child_weight=6, max_depth=30, learning_rate=0.5 \n",
      "[CV]  subsample=0.8, n_estimators=300, min_child_weight=6, max_depth=30, learning_rate=0.5, score=-1989.239, total=   0.5s\n",
      "[CV] subsample=0.7, n_estimators=600, min_child_weight=5, max_depth=30, learning_rate=0.1 \n",
      "[CV]  subsample=0.7, n_estimators=600, min_child_weight=5, max_depth=30, learning_rate=0.1, score=-1406.200, total=   0.9s\n",
      "[CV] subsample=0.7, n_estimators=600, min_child_weight=5, max_depth=30, learning_rate=0.1 \n",
      "[CV]  subsample=0.7, n_estimators=600, min_child_weight=5, max_depth=30, learning_rate=0.1, score=-1217.435, total=   0.8s\n",
      "[CV] subsample=0.7, n_estimators=600, min_child_weight=5, max_depth=30, learning_rate=0.1 \n",
      "[CV]  subsample=0.7, n_estimators=600, min_child_weight=5, max_depth=30, learning_rate=0.1, score=-1533.929, total=   0.8s\n",
      "[CV] subsample=0.7, n_estimators=600, min_child_weight=5, max_depth=30, learning_rate=0.1 \n",
      "[CV]  subsample=0.7, n_estimators=600, min_child_weight=5, max_depth=30, learning_rate=0.1, score=-1497.552, total=   1.0s\n",
      "[CV] subsample=0.7, n_estimators=600, min_child_weight=5, max_depth=30, learning_rate=0.1 \n",
      "[CV]  subsample=0.7, n_estimators=600, min_child_weight=5, max_depth=30, learning_rate=0.1, score=-1788.957, total=   0.8s\n",
      "[CV] subsample=0.6, n_estimators=1200, min_child_weight=5, max_depth=30, learning_rate=0.2 \n",
      "[CV]  subsample=0.6, n_estimators=1200, min_child_weight=5, max_depth=30, learning_rate=0.2, score=-1516.595, total=   1.2s\n",
      "[CV] subsample=0.6, n_estimators=1200, min_child_weight=5, max_depth=30, learning_rate=0.2 \n",
      "[CV]  subsample=0.6, n_estimators=1200, min_child_weight=5, max_depth=30, learning_rate=0.2, score=-1294.380, total=   1.0s\n",
      "[CV] subsample=0.6, n_estimators=1200, min_child_weight=5, max_depth=30, learning_rate=0.2 \n"
     ]
    },
    {
     "name": "stdout",
     "output_type": "stream",
     "text": [
      "[CV]  subsample=0.6, n_estimators=1200, min_child_weight=5, max_depth=30, learning_rate=0.2, score=-1910.336, total=   1.1s\n",
      "[CV] subsample=0.6, n_estimators=1200, min_child_weight=5, max_depth=30, learning_rate=0.2 \n",
      "[CV]  subsample=0.6, n_estimators=1200, min_child_weight=5, max_depth=30, learning_rate=0.2, score=-1453.864, total=   1.7s\n",
      "[CV] subsample=0.6, n_estimators=1200, min_child_weight=5, max_depth=30, learning_rate=0.2 \n",
      "[CV]  subsample=0.6, n_estimators=1200, min_child_weight=5, max_depth=30, learning_rate=0.2, score=-1843.617, total=   1.3s\n",
      "[CV] subsample=0.8, n_estimators=1200, min_child_weight=3, max_depth=20, learning_rate=0.1 \n",
      "[CV]  subsample=0.8, n_estimators=1200, min_child_weight=3, max_depth=20, learning_rate=0.1, score=-1397.460, total=   1.4s\n",
      "[CV] subsample=0.8, n_estimators=1200, min_child_weight=3, max_depth=20, learning_rate=0.1 \n",
      "[CV]  subsample=0.8, n_estimators=1200, min_child_weight=3, max_depth=20, learning_rate=0.1, score=-1140.717, total=   1.3s\n",
      "[CV] subsample=0.8, n_estimators=1200, min_child_weight=3, max_depth=20, learning_rate=0.1 \n",
      "[CV]  subsample=0.8, n_estimators=1200, min_child_weight=3, max_depth=20, learning_rate=0.1, score=-1342.984, total=   1.1s\n",
      "[CV] subsample=0.8, n_estimators=1200, min_child_weight=3, max_depth=20, learning_rate=0.1 \n",
      "[CV]  subsample=0.8, n_estimators=1200, min_child_weight=3, max_depth=20, learning_rate=0.1, score=-1299.347, total=   1.2s\n",
      "[CV] subsample=0.8, n_estimators=1200, min_child_weight=3, max_depth=20, learning_rate=0.1 \n",
      "[CV]  subsample=0.8, n_estimators=1200, min_child_weight=3, max_depth=20, learning_rate=0.1, score=-1789.413, total=   1.1s\n",
      "[CV] subsample=0.6, n_estimators=700, min_child_weight=3, max_depth=20, learning_rate=0.1 \n",
      "[CV]  subsample=0.6, n_estimators=700, min_child_weight=3, max_depth=20, learning_rate=0.1, score=-1517.428, total=   1.1s\n",
      "[CV] subsample=0.6, n_estimators=700, min_child_weight=3, max_depth=20, learning_rate=0.1 \n",
      "[CV]  subsample=0.6, n_estimators=700, min_child_weight=3, max_depth=20, learning_rate=0.1, score=-1290.466, total=   1.1s\n",
      "[CV] subsample=0.6, n_estimators=700, min_child_weight=3, max_depth=20, learning_rate=0.1 \n",
      "[CV]  subsample=0.6, n_estimators=700, min_child_weight=3, max_depth=20, learning_rate=0.1, score=-1460.476, total=   1.1s\n",
      "[CV] subsample=0.6, n_estimators=700, min_child_weight=3, max_depth=20, learning_rate=0.1 \n",
      "[CV]  subsample=0.6, n_estimators=700, min_child_weight=3, max_depth=20, learning_rate=0.1, score=-1209.795, total=   1.2s\n",
      "[CV] subsample=0.6, n_estimators=700, min_child_weight=3, max_depth=20, learning_rate=0.1 \n",
      "[CV]  subsample=0.6, n_estimators=700, min_child_weight=3, max_depth=20, learning_rate=0.1, score=-1911.417, total=   1.1s\n",
      "[CV] subsample=0.7, n_estimators=300, min_child_weight=5, max_depth=20, learning_rate=0.1 \n",
      "[CV]  subsample=0.7, n_estimators=300, min_child_weight=5, max_depth=20, learning_rate=0.1, score=-1414.438, total=   0.4s\n",
      "[CV] subsample=0.7, n_estimators=300, min_child_weight=5, max_depth=20, learning_rate=0.1 \n",
      "[CV]  subsample=0.7, n_estimators=300, min_child_weight=5, max_depth=20, learning_rate=0.1, score=-1227.477, total=   0.4s\n",
      "[CV] subsample=0.7, n_estimators=300, min_child_weight=5, max_depth=20, learning_rate=0.1 \n",
      "[CV]  subsample=0.7, n_estimators=300, min_child_weight=5, max_depth=20, learning_rate=0.1, score=-1505.711, total=   0.4s\n",
      "[CV] subsample=0.7, n_estimators=300, min_child_weight=5, max_depth=20, learning_rate=0.1 \n",
      "[CV]  subsample=0.7, n_estimators=300, min_child_weight=5, max_depth=20, learning_rate=0.1, score=-1485.603, total=   0.5s\n",
      "[CV] subsample=0.7, n_estimators=300, min_child_weight=5, max_depth=20, learning_rate=0.1 \n",
      "[CV]  subsample=0.7, n_estimators=300, min_child_weight=5, max_depth=20, learning_rate=0.1, score=-1836.739, total=   0.5s\n",
      "[CV] subsample=0.6, n_estimators=900, min_child_weight=6, max_depth=5, learning_rate=0.3 \n",
      "[CV]  subsample=0.6, n_estimators=900, min_child_weight=6, max_depth=5, learning_rate=0.3, score=-1566.732, total=   0.5s\n",
      "[CV] subsample=0.6, n_estimators=900, min_child_weight=6, max_depth=5, learning_rate=0.3 \n",
      "[CV]  subsample=0.6, n_estimators=900, min_child_weight=6, max_depth=5, learning_rate=0.3, score=-1598.916, total=   0.5s\n",
      "[CV] subsample=0.6, n_estimators=900, min_child_weight=6, max_depth=5, learning_rate=0.3 \n",
      "[CV]  subsample=0.6, n_estimators=900, min_child_weight=6, max_depth=5, learning_rate=0.3, score=-1753.262, total=   0.6s\n",
      "[CV] subsample=0.6, n_estimators=900, min_child_weight=6, max_depth=5, learning_rate=0.3 \n",
      "[CV]  subsample=0.6, n_estimators=900, min_child_weight=6, max_depth=5, learning_rate=0.3, score=-1636.846, total=   0.4s\n",
      "[CV] subsample=0.6, n_estimators=900, min_child_weight=6, max_depth=5, learning_rate=0.3 \n",
      "[CV]  subsample=0.6, n_estimators=900, min_child_weight=6, max_depth=5, learning_rate=0.3, score=-1961.633, total=   0.5s\n",
      "[CV] subsample=0.8, n_estimators=700, min_child_weight=6, max_depth=20, learning_rate=0.2 \n",
      "[CV]  subsample=0.8, n_estimators=700, min_child_weight=6, max_depth=20, learning_rate=0.2, score=-1526.378, total=   0.9s\n",
      "[CV] subsample=0.8, n_estimators=700, min_child_weight=6, max_depth=20, learning_rate=0.2 \n",
      "[CV]  subsample=0.8, n_estimators=700, min_child_weight=6, max_depth=20, learning_rate=0.2, score=-1347.553, total=   0.9s\n",
      "[CV] subsample=0.8, n_estimators=700, min_child_weight=6, max_depth=20, learning_rate=0.2 \n",
      "[CV]  subsample=0.8, n_estimators=700, min_child_weight=6, max_depth=20, learning_rate=0.2, score=-1696.440, total=   0.8s\n",
      "[CV] subsample=0.8, n_estimators=700, min_child_weight=6, max_depth=20, learning_rate=0.2 \n",
      "[CV]  subsample=0.8, n_estimators=700, min_child_weight=6, max_depth=20, learning_rate=0.2, score=-1413.571, total=   0.9s\n",
      "[CV] subsample=0.8, n_estimators=700, min_child_weight=6, max_depth=20, learning_rate=0.2 \n",
      "[CV]  subsample=0.8, n_estimators=700, min_child_weight=6, max_depth=20, learning_rate=0.2, score=-2170.240, total=   1.0s\n",
      "[CV] subsample=0.8, n_estimators=700, min_child_weight=7, max_depth=5, learning_rate=0.2 \n",
      "[CV]  subsample=0.8, n_estimators=700, min_child_weight=7, max_depth=5, learning_rate=0.2, score=-1481.405, total=   0.3s\n",
      "[CV] subsample=0.8, n_estimators=700, min_child_weight=7, max_depth=5, learning_rate=0.2 \n",
      "[CV]  subsample=0.8, n_estimators=700, min_child_weight=7, max_depth=5, learning_rate=0.2, score=-1419.998, total=   0.4s\n",
      "[CV] subsample=0.8, n_estimators=700, min_child_weight=7, max_depth=5, learning_rate=0.2 \n",
      "[CV]  subsample=0.8, n_estimators=700, min_child_weight=7, max_depth=5, learning_rate=0.2, score=-1772.307, total=   0.4s\n",
      "[CV] subsample=0.8, n_estimators=700, min_child_weight=7, max_depth=5, learning_rate=0.2 \n",
      "[CV]  subsample=0.8, n_estimators=700, min_child_weight=7, max_depth=5, learning_rate=0.2, score=-1601.320, total=   0.4s\n",
      "[CV] subsample=0.8, n_estimators=700, min_child_weight=7, max_depth=5, learning_rate=0.2 \n",
      "[CV]  subsample=0.8, n_estimators=700, min_child_weight=7, max_depth=5, learning_rate=0.2, score=-1867.184, total=   0.4s\n",
      "[CV] subsample=0.7, n_estimators=100, min_child_weight=6, max_depth=25, learning_rate=0.05 \n",
      "[CV]  subsample=0.7, n_estimators=100, min_child_weight=6, max_depth=25, learning_rate=0.05, score=-1626.440, total=   0.1s\n",
      "[CV] subsample=0.7, n_estimators=100, min_child_weight=6, max_depth=25, learning_rate=0.05 \n",
      "[CV]  subsample=0.7, n_estimators=100, min_child_weight=6, max_depth=25, learning_rate=0.05, score=-1465.590, total=   0.1s\n",
      "[CV] subsample=0.7, n_estimators=100, min_child_weight=6, max_depth=25, learning_rate=0.05 \n",
      "[CV]  subsample=0.7, n_estimators=100, min_child_weight=6, max_depth=25, learning_rate=0.05, score=-1598.386, total=   0.1s\n",
      "[CV] subsample=0.7, n_estimators=100, min_child_weight=6, max_depth=25, learning_rate=0.05 \n",
      "[CV]  subsample=0.7, n_estimators=100, min_child_weight=6, max_depth=25, learning_rate=0.05, score=-1443.315, total=   0.1s\n",
      "[CV] subsample=0.7, n_estimators=100, min_child_weight=6, max_depth=25, learning_rate=0.05 \n",
      "[CV]  subsample=0.7, n_estimators=100, min_child_weight=6, max_depth=25, learning_rate=0.05, score=-2065.329, total=   0.1s\n",
      "[CV] subsample=0.6, n_estimators=1200, min_child_weight=7, max_depth=5, learning_rate=0.3 \n",
      "[CV]  subsample=0.6, n_estimators=1200, min_child_weight=7, max_depth=5, learning_rate=0.3, score=-1549.179, total=   0.5s\n",
      "[CV] subsample=0.6, n_estimators=1200, min_child_weight=7, max_depth=5, learning_rate=0.3 \n"
     ]
    },
    {
     "name": "stdout",
     "output_type": "stream",
     "text": [
      "[CV]  subsample=0.6, n_estimators=1200, min_child_weight=7, max_depth=5, learning_rate=0.3, score=-1579.892, total=   0.5s\n",
      "[CV] subsample=0.6, n_estimators=1200, min_child_weight=7, max_depth=5, learning_rate=0.3 \n",
      "[CV]  subsample=0.6, n_estimators=1200, min_child_weight=7, max_depth=5, learning_rate=0.3, score=-1798.132, total=   0.5s\n",
      "[CV] subsample=0.6, n_estimators=1200, min_child_weight=7, max_depth=5, learning_rate=0.3 \n",
      "[CV]  subsample=0.6, n_estimators=1200, min_child_weight=7, max_depth=5, learning_rate=0.3, score=-1433.717, total=   0.6s\n",
      "[CV] subsample=0.6, n_estimators=1200, min_child_weight=7, max_depth=5, learning_rate=0.3 \n",
      "[CV]  subsample=0.6, n_estimators=1200, min_child_weight=7, max_depth=5, learning_rate=0.3, score=-1878.422, total=   0.5s\n",
      "[CV] subsample=0.7, n_estimators=1100, min_child_weight=7, max_depth=25, learning_rate=0.05 \n",
      "[CV]  subsample=0.7, n_estimators=1100, min_child_weight=7, max_depth=25, learning_rate=0.05, score=-1540.006, total=   1.3s\n",
      "[CV] subsample=0.7, n_estimators=1100, min_child_weight=7, max_depth=25, learning_rate=0.05 \n",
      "[CV]  subsample=0.7, n_estimators=1100, min_child_weight=7, max_depth=25, learning_rate=0.05, score=-1266.035, total=   1.2s\n",
      "[CV] subsample=0.7, n_estimators=1100, min_child_weight=7, max_depth=25, learning_rate=0.05 \n",
      "[CV]  subsample=0.7, n_estimators=1100, min_child_weight=7, max_depth=25, learning_rate=0.05, score=-1619.966, total=   1.3s\n",
      "[CV] subsample=0.7, n_estimators=1100, min_child_weight=7, max_depth=25, learning_rate=0.05 \n",
      "[CV]  subsample=0.7, n_estimators=1100, min_child_weight=7, max_depth=25, learning_rate=0.05, score=-1411.623, total=   1.2s\n",
      "[CV] subsample=0.7, n_estimators=1100, min_child_weight=7, max_depth=25, learning_rate=0.05 \n",
      "[CV]  subsample=0.7, n_estimators=1100, min_child_weight=7, max_depth=25, learning_rate=0.05, score=-1904.569, total=   1.2s\n",
      "[CV] subsample=0.6, n_estimators=300, min_child_weight=3, max_depth=15, learning_rate=0.1 \n",
      "[CV]  subsample=0.6, n_estimators=300, min_child_weight=3, max_depth=15, learning_rate=0.1, score=-1517.754, total=   0.5s\n",
      "[CV] subsample=0.6, n_estimators=300, min_child_weight=3, max_depth=15, learning_rate=0.1 \n",
      "[CV]  subsample=0.6, n_estimators=300, min_child_weight=3, max_depth=15, learning_rate=0.1, score=-1249.444, total=   0.5s\n",
      "[CV] subsample=0.6, n_estimators=300, min_child_weight=3, max_depth=15, learning_rate=0.1 \n",
      "[CV]  subsample=0.6, n_estimators=300, min_child_weight=3, max_depth=15, learning_rate=0.1, score=-1455.181, total=   0.4s\n",
      "[CV] subsample=0.6, n_estimators=300, min_child_weight=3, max_depth=15, learning_rate=0.1 \n",
      "[CV]  subsample=0.6, n_estimators=300, min_child_weight=3, max_depth=15, learning_rate=0.1, score=-1281.365, total=   0.4s\n",
      "[CV] subsample=0.6, n_estimators=300, min_child_weight=3, max_depth=15, learning_rate=0.1 \n",
      "[CV]  subsample=0.6, n_estimators=300, min_child_weight=3, max_depth=15, learning_rate=0.1, score=-1920.473, total=   0.5s\n",
      "[CV] subsample=0.6, n_estimators=800, min_child_weight=7, max_depth=20, learning_rate=0.5 \n",
      "[CV]  subsample=0.6, n_estimators=800, min_child_weight=7, max_depth=20, learning_rate=0.5, score=-1791.961, total=   0.9s\n",
      "[CV] subsample=0.6, n_estimators=800, min_child_weight=7, max_depth=20, learning_rate=0.5 \n",
      "[CV]  subsample=0.6, n_estimators=800, min_child_weight=7, max_depth=20, learning_rate=0.5, score=-1585.379, total=   0.7s\n",
      "[CV] subsample=0.6, n_estimators=800, min_child_weight=7, max_depth=20, learning_rate=0.5 \n",
      "[CV]  subsample=0.6, n_estimators=800, min_child_weight=7, max_depth=20, learning_rate=0.5, score=-1664.379, total=   0.6s\n",
      "[CV] subsample=0.6, n_estimators=800, min_child_weight=7, max_depth=20, learning_rate=0.5 \n",
      "[CV]  subsample=0.6, n_estimators=800, min_child_weight=7, max_depth=20, learning_rate=0.5, score=-1548.326, total=   0.7s\n",
      "[CV] subsample=0.6, n_estimators=800, min_child_weight=7, max_depth=20, learning_rate=0.5 \n",
      "[CV]  subsample=0.6, n_estimators=800, min_child_weight=7, max_depth=20, learning_rate=0.5, score=-1677.982, total=   0.9s\n",
      "[CV] subsample=0.6, n_estimators=800, min_child_weight=5, max_depth=10, learning_rate=0.3 \n",
      "[CV]  subsample=0.6, n_estimators=800, min_child_weight=5, max_depth=10, learning_rate=0.3, score=-1446.544, total=   0.6s\n",
      "[CV] subsample=0.6, n_estimators=800, min_child_weight=5, max_depth=10, learning_rate=0.3 \n",
      "[CV]  subsample=0.6, n_estimators=800, min_child_weight=5, max_depth=10, learning_rate=0.3, score=-1396.710, total=   0.5s\n",
      "[CV] subsample=0.6, n_estimators=800, min_child_weight=5, max_depth=10, learning_rate=0.3 \n",
      "[CV]  subsample=0.6, n_estimators=800, min_child_weight=5, max_depth=10, learning_rate=0.3, score=-1914.324, total=   0.6s\n",
      "[CV] subsample=0.6, n_estimators=800, min_child_weight=5, max_depth=10, learning_rate=0.3 \n",
      "[CV]  subsample=0.6, n_estimators=800, min_child_weight=5, max_depth=10, learning_rate=0.3, score=-1336.151, total=   0.7s\n",
      "[CV] subsample=0.6, n_estimators=800, min_child_weight=5, max_depth=10, learning_rate=0.3 \n",
      "[CV]  subsample=0.6, n_estimators=800, min_child_weight=5, max_depth=10, learning_rate=0.3, score=-2432.597, total=   0.6s\n",
      "[CV] subsample=0.8, n_estimators=300, min_child_weight=3, max_depth=15, learning_rate=0.2 \n",
      "[CV]  subsample=0.8, n_estimators=300, min_child_weight=3, max_depth=15, learning_rate=0.2, score=-1627.160, total=   0.4s\n",
      "[CV] subsample=0.8, n_estimators=300, min_child_weight=3, max_depth=15, learning_rate=0.2 \n",
      "[CV]  subsample=0.8, n_estimators=300, min_child_weight=3, max_depth=15, learning_rate=0.2, score=-1391.628, total=   0.5s\n",
      "[CV] subsample=0.8, n_estimators=300, min_child_weight=3, max_depth=15, learning_rate=0.2 \n",
      "[CV]  subsample=0.8, n_estimators=300, min_child_weight=3, max_depth=15, learning_rate=0.2, score=-1684.020, total=   0.5s\n",
      "[CV] subsample=0.8, n_estimators=300, min_child_weight=3, max_depth=15, learning_rate=0.2 \n",
      "[CV]  subsample=0.8, n_estimators=300, min_child_weight=3, max_depth=15, learning_rate=0.2, score=-1293.553, total=   0.5s\n",
      "[CV] subsample=0.8, n_estimators=300, min_child_weight=3, max_depth=15, learning_rate=0.2 \n",
      "[CV]  subsample=0.8, n_estimators=300, min_child_weight=3, max_depth=15, learning_rate=0.2, score=-1938.720, total=   0.4s\n",
      "[CV] subsample=0.8, n_estimators=200, min_child_weight=4, max_depth=15, learning_rate=0.5 \n",
      "[CV]  subsample=0.8, n_estimators=200, min_child_weight=4, max_depth=15, learning_rate=0.5, score=-1840.546, total=   0.2s\n",
      "[CV] subsample=0.8, n_estimators=200, min_child_weight=4, max_depth=15, learning_rate=0.5 \n",
      "[CV]  subsample=0.8, n_estimators=200, min_child_weight=4, max_depth=15, learning_rate=0.5, score=-1553.503, total=   0.2s\n",
      "[CV] subsample=0.8, n_estimators=200, min_child_weight=4, max_depth=15, learning_rate=0.5 \n",
      "[CV]  subsample=0.8, n_estimators=200, min_child_weight=4, max_depth=15, learning_rate=0.5, score=-2011.274, total=   0.3s\n",
      "[CV] subsample=0.8, n_estimators=200, min_child_weight=4, max_depth=15, learning_rate=0.5 \n",
      "[CV]  subsample=0.8, n_estimators=200, min_child_weight=4, max_depth=15, learning_rate=0.5, score=-1383.104, total=   0.3s\n",
      "[CV] subsample=0.8, n_estimators=200, min_child_weight=4, max_depth=15, learning_rate=0.5 \n",
      "[CV]  subsample=0.8, n_estimators=200, min_child_weight=4, max_depth=15, learning_rate=0.5, score=-2006.284, total=   0.3s\n",
      "[CV] subsample=0.6, n_estimators=500, min_child_weight=6, max_depth=30, learning_rate=0.05 \n",
      "[CV]  subsample=0.6, n_estimators=500, min_child_weight=6, max_depth=30, learning_rate=0.05, score=-1474.476, total=   0.6s\n",
      "[CV] subsample=0.6, n_estimators=500, min_child_weight=6, max_depth=30, learning_rate=0.05 \n",
      "[CV]  subsample=0.6, n_estimators=500, min_child_weight=6, max_depth=30, learning_rate=0.05, score=-1250.691, total=   0.6s\n",
      "[CV] subsample=0.6, n_estimators=500, min_child_weight=6, max_depth=30, learning_rate=0.05 \n",
      "[CV]  subsample=0.6, n_estimators=500, min_child_weight=6, max_depth=30, learning_rate=0.05, score=-1458.498, total=   0.6s\n",
      "[CV] subsample=0.6, n_estimators=500, min_child_weight=6, max_depth=30, learning_rate=0.05 \n",
      "[CV]  subsample=0.6, n_estimators=500, min_child_weight=6, max_depth=30, learning_rate=0.05, score=-1340.430, total=   0.5s\n",
      "[CV] subsample=0.6, n_estimators=500, min_child_weight=6, max_depth=30, learning_rate=0.05 \n",
      "[CV]  subsample=0.6, n_estimators=500, min_child_weight=6, max_depth=30, learning_rate=0.05, score=-1885.599, total=   0.6s\n",
      "[CV] subsample=0.7, n_estimators=900, min_child_weight=5, max_depth=20, learning_rate=0.1 \n"
     ]
    },
    {
     "name": "stdout",
     "output_type": "stream",
     "text": [
      "[CV]  subsample=0.7, n_estimators=900, min_child_weight=5, max_depth=20, learning_rate=0.1, score=-1416.985, total=   1.3s\n",
      "[CV] subsample=0.7, n_estimators=900, min_child_weight=5, max_depth=20, learning_rate=0.1 \n",
      "[CV]  subsample=0.7, n_estimators=900, min_child_weight=5, max_depth=20, learning_rate=0.1, score=-1225.465, total=   1.2s\n",
      "[CV] subsample=0.7, n_estimators=900, min_child_weight=5, max_depth=20, learning_rate=0.1 \n",
      "[CV]  subsample=0.7, n_estimators=900, min_child_weight=5, max_depth=20, learning_rate=0.1, score=-1500.754, total=   1.2s\n",
      "[CV] subsample=0.7, n_estimators=900, min_child_weight=5, max_depth=20, learning_rate=0.1 \n",
      "[CV]  subsample=0.7, n_estimators=900, min_child_weight=5, max_depth=20, learning_rate=0.1, score=-1492.209, total=   1.1s\n",
      "[CV] subsample=0.7, n_estimators=900, min_child_weight=5, max_depth=20, learning_rate=0.1 \n",
      "[CV]  subsample=0.7, n_estimators=900, min_child_weight=5, max_depth=20, learning_rate=0.1, score=-1838.210, total=   1.3s\n",
      "[CV] subsample=0.6, n_estimators=200, min_child_weight=4, max_depth=25, learning_rate=0.05 \n",
      "[CV]  subsample=0.6, n_estimators=200, min_child_weight=4, max_depth=25, learning_rate=0.05, score=-1487.788, total=   0.3s\n",
      "[CV] subsample=0.6, n_estimators=200, min_child_weight=4, max_depth=25, learning_rate=0.05 \n",
      "[CV]  subsample=0.6, n_estimators=200, min_child_weight=4, max_depth=25, learning_rate=0.05, score=-1329.968, total=   0.3s\n",
      "[CV] subsample=0.6, n_estimators=200, min_child_weight=4, max_depth=25, learning_rate=0.05 \n",
      "[CV]  subsample=0.6, n_estimators=200, min_child_weight=4, max_depth=25, learning_rate=0.05, score=-1439.007, total=   0.3s\n",
      "[CV] subsample=0.6, n_estimators=200, min_child_weight=4, max_depth=25, learning_rate=0.05 \n",
      "[CV]  subsample=0.6, n_estimators=200, min_child_weight=4, max_depth=25, learning_rate=0.05, score=-1292.530, total=   0.3s\n",
      "[CV] subsample=0.6, n_estimators=200, min_child_weight=4, max_depth=25, learning_rate=0.05 \n",
      "[CV]  subsample=0.6, n_estimators=200, min_child_weight=4, max_depth=25, learning_rate=0.05, score=-1759.753, total=   0.3s\n",
      "[CV] subsample=0.7, n_estimators=300, min_child_weight=7, max_depth=30, learning_rate=0.2 \n",
      "[CV]  subsample=0.7, n_estimators=300, min_child_weight=7, max_depth=30, learning_rate=0.2, score=-1589.994, total=   0.4s\n",
      "[CV] subsample=0.7, n_estimators=300, min_child_weight=7, max_depth=30, learning_rate=0.2 \n",
      "[CV]  subsample=0.7, n_estimators=300, min_child_weight=7, max_depth=30, learning_rate=0.2, score=-1384.790, total=   0.5s\n",
      "[CV] subsample=0.7, n_estimators=300, min_child_weight=7, max_depth=30, learning_rate=0.2 \n",
      "[CV]  subsample=0.7, n_estimators=300, min_child_weight=7, max_depth=30, learning_rate=0.2, score=-1686.431, total=   0.4s\n",
      "[CV] subsample=0.7, n_estimators=300, min_child_weight=7, max_depth=30, learning_rate=0.2 \n",
      "[CV]  subsample=0.7, n_estimators=300, min_child_weight=7, max_depth=30, learning_rate=0.2, score=-1585.931, total=   0.4s\n",
      "[CV] subsample=0.7, n_estimators=300, min_child_weight=7, max_depth=30, learning_rate=0.2 \n",
      "[CV]  subsample=0.7, n_estimators=300, min_child_weight=7, max_depth=30, learning_rate=0.2, score=-1810.428, total=   0.4s\n",
      "[CV] subsample=0.6, n_estimators=1200, min_child_weight=7, max_depth=25, learning_rate=0.6 \n",
      "[CV]  subsample=0.6, n_estimators=1200, min_child_weight=7, max_depth=25, learning_rate=0.6, score=-1982.760, total=   0.6s\n",
      "[CV] subsample=0.6, n_estimators=1200, min_child_weight=7, max_depth=25, learning_rate=0.6 \n",
      "[CV]  subsample=0.6, n_estimators=1200, min_child_weight=7, max_depth=25, learning_rate=0.6, score=-1852.093, total=   0.5s\n",
      "[CV] subsample=0.6, n_estimators=1200, min_child_weight=7, max_depth=25, learning_rate=0.6 \n",
      "[CV]  subsample=0.6, n_estimators=1200, min_child_weight=7, max_depth=25, learning_rate=0.6, score=-2058.434, total=   0.7s\n",
      "[CV] subsample=0.6, n_estimators=1200, min_child_weight=7, max_depth=25, learning_rate=0.6 \n",
      "[CV]  subsample=0.6, n_estimators=1200, min_child_weight=7, max_depth=25, learning_rate=0.6, score=-2197.223, total=   0.4s\n",
      "[CV] subsample=0.6, n_estimators=1200, min_child_weight=7, max_depth=25, learning_rate=0.6 \n",
      "[CV]  subsample=0.6, n_estimators=1200, min_child_weight=7, max_depth=25, learning_rate=0.6, score=-2315.554, total=   0.7s\n",
      "[CV] subsample=0.6, n_estimators=600, min_child_weight=6, max_depth=20, learning_rate=0.3 \n",
      "[CV]  subsample=0.6, n_estimators=600, min_child_weight=6, max_depth=20, learning_rate=0.3, score=-1838.182, total=   0.8s\n",
      "[CV] subsample=0.6, n_estimators=600, min_child_weight=6, max_depth=20, learning_rate=0.3 \n",
      "[CV]  subsample=0.6, n_estimators=600, min_child_weight=6, max_depth=20, learning_rate=0.3, score=-1459.334, total=   0.7s\n",
      "[CV] subsample=0.6, n_estimators=600, min_child_weight=6, max_depth=20, learning_rate=0.3 \n",
      "[CV]  subsample=0.6, n_estimators=600, min_child_weight=6, max_depth=20, learning_rate=0.3, score=-1734.984, total=   0.8s\n",
      "[CV] subsample=0.6, n_estimators=600, min_child_weight=6, max_depth=20, learning_rate=0.3 \n",
      "[CV]  subsample=0.6, n_estimators=600, min_child_weight=6, max_depth=20, learning_rate=0.3, score=-1863.788, total=   0.7s\n",
      "[CV] subsample=0.6, n_estimators=600, min_child_weight=6, max_depth=20, learning_rate=0.3 \n",
      "[CV]  subsample=0.6, n_estimators=600, min_child_weight=6, max_depth=20, learning_rate=0.3, score=-2220.136, total=   0.8s\n",
      "[CV] subsample=0.6, n_estimators=500, min_child_weight=4, max_depth=25, learning_rate=0.3 \n",
      "[CV]  subsample=0.6, n_estimators=500, min_child_weight=4, max_depth=25, learning_rate=0.3, score=-1392.319, total=   0.9s\n",
      "[CV] subsample=0.6, n_estimators=500, min_child_weight=4, max_depth=25, learning_rate=0.3 \n",
      "[CV]  subsample=0.6, n_estimators=500, min_child_weight=4, max_depth=25, learning_rate=0.3, score=-1410.451, total=   0.6s\n",
      "[CV] subsample=0.6, n_estimators=500, min_child_weight=4, max_depth=25, learning_rate=0.3 \n",
      "[CV]  subsample=0.6, n_estimators=500, min_child_weight=4, max_depth=25, learning_rate=0.3, score=-1702.447, total=   0.7s\n",
      "[CV] subsample=0.6, n_estimators=500, min_child_weight=4, max_depth=25, learning_rate=0.3 \n",
      "[CV]  subsample=0.6, n_estimators=500, min_child_weight=4, max_depth=25, learning_rate=0.3, score=-1735.623, total=   0.7s\n",
      "[CV] subsample=0.6, n_estimators=500, min_child_weight=4, max_depth=25, learning_rate=0.3 \n",
      "[CV]  subsample=0.6, n_estimators=500, min_child_weight=4, max_depth=25, learning_rate=0.3, score=-2210.950, total=   0.6s\n",
      "[CV] subsample=0.8, n_estimators=500, min_child_weight=7, max_depth=15, learning_rate=0.1 \n",
      "[CV]  subsample=0.8, n_estimators=500, min_child_weight=7, max_depth=15, learning_rate=0.1, score=-1497.448, total=   0.6s\n",
      "[CV] subsample=0.8, n_estimators=500, min_child_weight=7, max_depth=15, learning_rate=0.1 \n",
      "[CV]  subsample=0.8, n_estimators=500, min_child_weight=7, max_depth=15, learning_rate=0.1, score=-1288.852, total=   0.5s\n",
      "[CV] subsample=0.8, n_estimators=500, min_child_weight=7, max_depth=15, learning_rate=0.1 \n",
      "[CV]  subsample=0.8, n_estimators=500, min_child_weight=7, max_depth=15, learning_rate=0.1, score=-1621.963, total=   0.5s\n",
      "[CV] subsample=0.8, n_estimators=500, min_child_weight=7, max_depth=15, learning_rate=0.1 \n",
      "[CV]  subsample=0.8, n_estimators=500, min_child_weight=7, max_depth=15, learning_rate=0.1, score=-1413.366, total=   0.6s\n",
      "[CV] subsample=0.8, n_estimators=500, min_child_weight=7, max_depth=15, learning_rate=0.1 \n",
      "[CV]  subsample=0.8, n_estimators=500, min_child_weight=7, max_depth=15, learning_rate=0.1, score=-1927.045, total=   0.6s\n",
      "[CV] subsample=0.8, n_estimators=700, min_child_weight=6, max_depth=10, learning_rate=0.1 \n",
      "[CV]  subsample=0.8, n_estimators=700, min_child_weight=6, max_depth=10, learning_rate=0.1, score=-1468.432, total=   0.6s\n",
      "[CV] subsample=0.8, n_estimators=700, min_child_weight=6, max_depth=10, learning_rate=0.1 \n",
      "[CV]  subsample=0.8, n_estimators=700, min_child_weight=6, max_depth=10, learning_rate=0.1, score=-1383.415, total=   0.6s\n",
      "[CV] subsample=0.8, n_estimators=700, min_child_weight=6, max_depth=10, learning_rate=0.1 \n",
      "[CV]  subsample=0.8, n_estimators=700, min_child_weight=6, max_depth=10, learning_rate=0.1, score=-1608.233, total=   0.8s\n",
      "[CV] subsample=0.8, n_estimators=700, min_child_weight=6, max_depth=10, learning_rate=0.1 \n",
      "[CV]  subsample=0.8, n_estimators=700, min_child_weight=6, max_depth=10, learning_rate=0.1, score=-1423.747, total=   0.7s\n",
      "[CV] subsample=0.8, n_estimators=700, min_child_weight=6, max_depth=10, learning_rate=0.1 \n"
     ]
    },
    {
     "name": "stdout",
     "output_type": "stream",
     "text": [
      "[CV]  subsample=0.8, n_estimators=700, min_child_weight=6, max_depth=10, learning_rate=0.1, score=-1855.597, total=   0.9s\n",
      "[CV] subsample=0.7, n_estimators=700, min_child_weight=6, max_depth=20, learning_rate=0.1 \n",
      "[CV]  subsample=0.7, n_estimators=700, min_child_weight=6, max_depth=20, learning_rate=0.1, score=-1540.174, total=   0.8s\n",
      "[CV] subsample=0.7, n_estimators=700, min_child_weight=6, max_depth=20, learning_rate=0.1 \n",
      "[CV]  subsample=0.7, n_estimators=700, min_child_weight=6, max_depth=20, learning_rate=0.1, score=-1381.244, total=   0.9s\n",
      "[CV] subsample=0.7, n_estimators=700, min_child_weight=6, max_depth=20, learning_rate=0.1 \n",
      "[CV]  subsample=0.7, n_estimators=700, min_child_weight=6, max_depth=20, learning_rate=0.1, score=-1626.031, total=   0.9s\n",
      "[CV] subsample=0.7, n_estimators=700, min_child_weight=6, max_depth=20, learning_rate=0.1 \n",
      "[CV]  subsample=0.7, n_estimators=700, min_child_weight=6, max_depth=20, learning_rate=0.1, score=-1384.204, total=   1.5s\n",
      "[CV] subsample=0.7, n_estimators=700, min_child_weight=6, max_depth=20, learning_rate=0.1 \n",
      "[CV]  subsample=0.7, n_estimators=700, min_child_weight=6, max_depth=20, learning_rate=0.1, score=-1963.021, total=   0.8s\n",
      "[CV] subsample=0.8, n_estimators=100, min_child_weight=6, max_depth=30, learning_rate=0.6 \n",
      "[CV]  subsample=0.8, n_estimators=100, min_child_weight=6, max_depth=30, learning_rate=0.6, score=-2174.427, total=   0.1s\n",
      "[CV] subsample=0.8, n_estimators=100, min_child_weight=6, max_depth=30, learning_rate=0.6 \n",
      "[CV]  subsample=0.8, n_estimators=100, min_child_weight=6, max_depth=30, learning_rate=0.6, score=-1441.246, total=   0.1s\n",
      "[CV] subsample=0.8, n_estimators=100, min_child_weight=6, max_depth=30, learning_rate=0.6 \n",
      "[CV]  subsample=0.8, n_estimators=100, min_child_weight=6, max_depth=30, learning_rate=0.6, score=-1874.531, total=   0.2s\n",
      "[CV] subsample=0.8, n_estimators=100, min_child_weight=6, max_depth=30, learning_rate=0.6 \n",
      "[CV]  subsample=0.8, n_estimators=100, min_child_weight=6, max_depth=30, learning_rate=0.6, score=-1664.686, total=   0.1s\n",
      "[CV] subsample=0.8, n_estimators=100, min_child_weight=6, max_depth=30, learning_rate=0.6 \n",
      "[CV]  subsample=0.8, n_estimators=100, min_child_weight=6, max_depth=30, learning_rate=0.6, score=-2157.229, total=   0.2s\n",
      "[CV] subsample=0.6, n_estimators=1200, min_child_weight=3, max_depth=25, learning_rate=0.5 \n",
      "[CV]  subsample=0.6, n_estimators=1200, min_child_weight=3, max_depth=25, learning_rate=0.5, score=-1870.000, total=   0.5s\n",
      "[CV] subsample=0.6, n_estimators=1200, min_child_weight=3, max_depth=25, learning_rate=0.5 \n",
      "[CV]  subsample=0.6, n_estimators=1200, min_child_weight=3, max_depth=25, learning_rate=0.5, score=-1605.405, total=   0.5s\n",
      "[CV] subsample=0.6, n_estimators=1200, min_child_weight=3, max_depth=25, learning_rate=0.5 \n",
      "[CV]  subsample=0.6, n_estimators=1200, min_child_weight=3, max_depth=25, learning_rate=0.5, score=-1677.823, total=   0.4s\n",
      "[CV] subsample=0.6, n_estimators=1200, min_child_weight=3, max_depth=25, learning_rate=0.5 \n",
      "[CV]  subsample=0.6, n_estimators=1200, min_child_weight=3, max_depth=25, learning_rate=0.5, score=-2187.016, total=   0.5s\n",
      "[CV] subsample=0.6, n_estimators=1200, min_child_weight=3, max_depth=25, learning_rate=0.5 \n",
      "[CV]  subsample=0.6, n_estimators=1200, min_child_weight=3, max_depth=25, learning_rate=0.5, score=-2566.462, total=   0.4s\n",
      "[CV] subsample=0.6, n_estimators=100, min_child_weight=5, max_depth=15, learning_rate=0.5 \n",
      "[CV]  subsample=0.6, n_estimators=100, min_child_weight=5, max_depth=15, learning_rate=0.5, score=-1749.626, total=   0.1s\n",
      "[CV] subsample=0.6, n_estimators=100, min_child_weight=5, max_depth=15, learning_rate=0.5 \n",
      "[CV]  subsample=0.6, n_estimators=100, min_child_weight=5, max_depth=15, learning_rate=0.5, score=-1695.816, total=   0.1s\n",
      "[CV] subsample=0.6, n_estimators=100, min_child_weight=5, max_depth=15, learning_rate=0.5 \n",
      "[CV]  subsample=0.6, n_estimators=100, min_child_weight=5, max_depth=15, learning_rate=0.5, score=-1725.854, total=   0.1s\n",
      "[CV] subsample=0.6, n_estimators=100, min_child_weight=5, max_depth=15, learning_rate=0.5 \n",
      "[CV]  subsample=0.6, n_estimators=100, min_child_weight=5, max_depth=15, learning_rate=0.5, score=-1527.375, total=   0.1s\n",
      "[CV] subsample=0.6, n_estimators=100, min_child_weight=5, max_depth=15, learning_rate=0.5 \n",
      "[CV]  subsample=0.6, n_estimators=100, min_child_weight=5, max_depth=15, learning_rate=0.5, score=-2284.338, total=   0.1s\n",
      "[CV] subsample=0.7, n_estimators=100, min_child_weight=5, max_depth=15, learning_rate=0.2 \n",
      "[CV]  subsample=0.7, n_estimators=100, min_child_weight=5, max_depth=15, learning_rate=0.2, score=-1518.600, total=   0.1s\n",
      "[CV] subsample=0.7, n_estimators=100, min_child_weight=5, max_depth=15, learning_rate=0.2 \n",
      "[CV]  subsample=0.7, n_estimators=100, min_child_weight=5, max_depth=15, learning_rate=0.2, score=-1380.751, total=   0.1s\n",
      "[CV] subsample=0.7, n_estimators=100, min_child_weight=5, max_depth=15, learning_rate=0.2 \n",
      "[CV]  subsample=0.7, n_estimators=100, min_child_weight=5, max_depth=15, learning_rate=0.2, score=-1743.621, total=   0.1s\n",
      "[CV] subsample=0.7, n_estimators=100, min_child_weight=5, max_depth=15, learning_rate=0.2 \n",
      "[CV]  subsample=0.7, n_estimators=100, min_child_weight=5, max_depth=15, learning_rate=0.2, score=-1534.081, total=   0.1s\n",
      "[CV] subsample=0.7, n_estimators=100, min_child_weight=5, max_depth=15, learning_rate=0.2 \n",
      "[CV]  subsample=0.7, n_estimators=100, min_child_weight=5, max_depth=15, learning_rate=0.2, score=-2033.927, total=   0.1s\n",
      "[CV] subsample=0.6, n_estimators=1200, min_child_weight=3, max_depth=10, learning_rate=0.3 \n",
      "[CV]  subsample=0.6, n_estimators=1200, min_child_weight=3, max_depth=10, learning_rate=0.3, score=-1746.751, total=   0.6s\n",
      "[CV] subsample=0.6, n_estimators=1200, min_child_weight=3, max_depth=10, learning_rate=0.3 \n",
      "[CV]  subsample=0.6, n_estimators=1200, min_child_weight=3, max_depth=10, learning_rate=0.3, score=-1503.199, total=   0.5s\n",
      "[CV] subsample=0.6, n_estimators=1200, min_child_weight=3, max_depth=10, learning_rate=0.3 \n",
      "[CV]  subsample=0.6, n_estimators=1200, min_child_weight=3, max_depth=10, learning_rate=0.3, score=-2080.318, total=   0.5s\n",
      "[CV] subsample=0.6, n_estimators=1200, min_child_weight=3, max_depth=10, learning_rate=0.3 \n",
      "[CV]  subsample=0.6, n_estimators=1200, min_child_weight=3, max_depth=10, learning_rate=0.3, score=-1505.166, total=   0.6s\n",
      "[CV] subsample=0.6, n_estimators=1200, min_child_weight=3, max_depth=10, learning_rate=0.3 \n",
      "[CV]  subsample=0.6, n_estimators=1200, min_child_weight=3, max_depth=10, learning_rate=0.3, score=-2102.583, total=   0.5s\n",
      "[CV] subsample=0.6, n_estimators=700, min_child_weight=7, max_depth=30, learning_rate=0.05 \n",
      "[CV]  subsample=0.6, n_estimators=700, min_child_weight=7, max_depth=30, learning_rate=0.05, score=-1387.467, total=   0.7s\n",
      "[CV] subsample=0.6, n_estimators=700, min_child_weight=7, max_depth=30, learning_rate=0.05 \n",
      "[CV]  subsample=0.6, n_estimators=700, min_child_weight=7, max_depth=30, learning_rate=0.05, score=-1334.582, total=   0.7s\n",
      "[CV] subsample=0.6, n_estimators=700, min_child_weight=7, max_depth=30, learning_rate=0.05 \n",
      "[CV]  subsample=0.6, n_estimators=700, min_child_weight=7, max_depth=30, learning_rate=0.05, score=-1511.045, total=   0.7s\n",
      "[CV] subsample=0.6, n_estimators=700, min_child_weight=7, max_depth=30, learning_rate=0.05 \n",
      "[CV]  subsample=0.6, n_estimators=700, min_child_weight=7, max_depth=30, learning_rate=0.05, score=-1337.367, total=   0.6s\n",
      "[CV] subsample=0.6, n_estimators=700, min_child_weight=7, max_depth=30, learning_rate=0.05 \n",
      "[CV]  subsample=0.6, n_estimators=700, min_child_weight=7, max_depth=30, learning_rate=0.05, score=-1808.992, total=   0.6s\n",
      "[CV] subsample=0.7, n_estimators=1100, min_child_weight=6, max_depth=30, learning_rate=0.05 \n",
      "[CV]  subsample=0.7, n_estimators=1100, min_child_weight=6, max_depth=30, learning_rate=0.05, score=-1510.305, total=   1.3s\n",
      "[CV] subsample=0.7, n_estimators=1100, min_child_weight=6, max_depth=30, learning_rate=0.05 \n",
      "[CV]  subsample=0.7, n_estimators=1100, min_child_weight=6, max_depth=30, learning_rate=0.05, score=-1249.313, total=   1.7s\n",
      "[CV] subsample=0.7, n_estimators=1100, min_child_weight=6, max_depth=30, learning_rate=0.05 \n",
      "[CV]  subsample=0.7, n_estimators=1100, min_child_weight=6, max_depth=30, learning_rate=0.05, score=-1551.949, total=   1.3s\n",
      "[CV] subsample=0.7, n_estimators=1100, min_child_weight=6, max_depth=30, learning_rate=0.05 \n"
     ]
    },
    {
     "name": "stdout",
     "output_type": "stream",
     "text": [
      "[CV]  subsample=0.7, n_estimators=1100, min_child_weight=6, max_depth=30, learning_rate=0.05, score=-1402.490, total=   1.2s\n",
      "[CV] subsample=0.7, n_estimators=1100, min_child_weight=6, max_depth=30, learning_rate=0.05 \n",
      "[CV]  subsample=0.7, n_estimators=1100, min_child_weight=6, max_depth=30, learning_rate=0.05, score=-1982.711, total=   1.5s\n",
      "[CV] subsample=0.7, n_estimators=800, min_child_weight=7, max_depth=15, learning_rate=0.5 \n",
      "[CV]  subsample=0.7, n_estimators=800, min_child_weight=7, max_depth=15, learning_rate=0.5, score=-2028.790, total=   0.6s\n",
      "[CV] subsample=0.7, n_estimators=800, min_child_weight=7, max_depth=15, learning_rate=0.5 \n",
      "[CV]  subsample=0.7, n_estimators=800, min_child_weight=7, max_depth=15, learning_rate=0.5, score=-1812.082, total=   0.7s\n",
      "[CV] subsample=0.7, n_estimators=800, min_child_weight=7, max_depth=15, learning_rate=0.5 \n",
      "[CV]  subsample=0.7, n_estimators=800, min_child_weight=7, max_depth=15, learning_rate=0.5, score=-1716.552, total=   0.4s\n",
      "[CV] subsample=0.7, n_estimators=800, min_child_weight=7, max_depth=15, learning_rate=0.5 \n",
      "[CV]  subsample=0.7, n_estimators=800, min_child_weight=7, max_depth=15, learning_rate=0.5, score=-1754.247, total=   0.9s\n",
      "[CV] subsample=0.7, n_estimators=800, min_child_weight=7, max_depth=15, learning_rate=0.5 \n",
      "[CV]  subsample=0.7, n_estimators=800, min_child_weight=7, max_depth=15, learning_rate=0.5, score=-2190.613, total=   0.6s\n",
      "[CV] subsample=0.8, n_estimators=300, min_child_weight=6, max_depth=20, learning_rate=0.1 \n",
      "[CV]  subsample=0.8, n_estimators=300, min_child_weight=6, max_depth=20, learning_rate=0.1, score=-1535.807, total=   0.4s\n",
      "[CV] subsample=0.8, n_estimators=300, min_child_weight=6, max_depth=20, learning_rate=0.1 \n",
      "[CV]  subsample=0.8, n_estimators=300, min_child_weight=6, max_depth=20, learning_rate=0.1, score=-1265.264, total=   0.4s\n",
      "[CV] subsample=0.8, n_estimators=300, min_child_weight=6, max_depth=20, learning_rate=0.1 \n",
      "[CV]  subsample=0.8, n_estimators=300, min_child_weight=6, max_depth=20, learning_rate=0.1, score=-1517.252, total=   0.4s\n",
      "[CV] subsample=0.8, n_estimators=300, min_child_weight=6, max_depth=20, learning_rate=0.1 \n",
      "[CV]  subsample=0.8, n_estimators=300, min_child_weight=6, max_depth=20, learning_rate=0.1, score=-1411.043, total=   0.5s\n",
      "[CV] subsample=0.8, n_estimators=300, min_child_weight=6, max_depth=20, learning_rate=0.1 \n",
      "[CV]  subsample=0.8, n_estimators=300, min_child_weight=6, max_depth=20, learning_rate=0.1, score=-1804.876, total=   0.9s\n",
      "[CV] subsample=0.7, n_estimators=900, min_child_weight=7, max_depth=20, learning_rate=0.2 \n",
      "[CV]  subsample=0.7, n_estimators=900, min_child_weight=7, max_depth=20, learning_rate=0.2, score=-1590.631, total=   1.1s\n",
      "[CV] subsample=0.7, n_estimators=900, min_child_weight=7, max_depth=20, learning_rate=0.2 \n",
      "[CV]  subsample=0.7, n_estimators=900, min_child_weight=7, max_depth=20, learning_rate=0.2, score=-1354.562, total=   1.1s\n",
      "[CV] subsample=0.7, n_estimators=900, min_child_weight=7, max_depth=20, learning_rate=0.2 \n",
      "[CV]  subsample=0.7, n_estimators=900, min_child_weight=7, max_depth=20, learning_rate=0.2, score=-1779.827, total=   1.1s\n",
      "[CV] subsample=0.7, n_estimators=900, min_child_weight=7, max_depth=20, learning_rate=0.2 \n",
      "[CV]  subsample=0.7, n_estimators=900, min_child_weight=7, max_depth=20, learning_rate=0.2, score=-1567.767, total=   1.1s\n",
      "[CV] subsample=0.7, n_estimators=900, min_child_weight=7, max_depth=20, learning_rate=0.2 \n",
      "[CV]  subsample=0.7, n_estimators=900, min_child_weight=7, max_depth=20, learning_rate=0.2, score=-1850.564, total=   1.0s\n",
      "[CV] subsample=0.6, n_estimators=300, min_child_weight=6, max_depth=5, learning_rate=0.6 \n",
      "[CV]  subsample=0.6, n_estimators=300, min_child_weight=6, max_depth=5, learning_rate=0.6, score=-2131.198, total=   0.2s\n",
      "[CV] subsample=0.6, n_estimators=300, min_child_weight=6, max_depth=5, learning_rate=0.6 \n",
      "[CV]  subsample=0.6, n_estimators=300, min_child_weight=6, max_depth=5, learning_rate=0.6, score=-1929.084, total=   0.2s\n",
      "[CV] subsample=0.6, n_estimators=300, min_child_weight=6, max_depth=5, learning_rate=0.6 \n",
      "[CV]  subsample=0.6, n_estimators=300, min_child_weight=6, max_depth=5, learning_rate=0.6, score=-1905.148, total=   0.2s\n",
      "[CV] subsample=0.6, n_estimators=300, min_child_weight=6, max_depth=5, learning_rate=0.6 \n",
      "[CV]  subsample=0.6, n_estimators=300, min_child_weight=6, max_depth=5, learning_rate=0.6, score=-1780.429, total=   0.2s\n",
      "[CV] subsample=0.6, n_estimators=300, min_child_weight=6, max_depth=5, learning_rate=0.6 \n",
      "[CV]  subsample=0.6, n_estimators=300, min_child_weight=6, max_depth=5, learning_rate=0.6, score=-2120.690, total=   0.2s\n",
      "[CV] subsample=0.7, n_estimators=1000, min_child_weight=7, max_depth=15, learning_rate=0.05 \n",
      "[CV]  subsample=0.7, n_estimators=1000, min_child_weight=7, max_depth=15, learning_rate=0.05, score=-1581.544, total=   1.2s\n",
      "[CV] subsample=0.7, n_estimators=1000, min_child_weight=7, max_depth=15, learning_rate=0.05 \n",
      "[CV]  subsample=0.7, n_estimators=1000, min_child_weight=7, max_depth=15, learning_rate=0.05, score=-1309.499, total=   1.6s\n",
      "[CV] subsample=0.7, n_estimators=1000, min_child_weight=7, max_depth=15, learning_rate=0.05 \n",
      "[CV]  subsample=0.7, n_estimators=1000, min_child_weight=7, max_depth=15, learning_rate=0.05, score=-1597.066, total=   1.0s\n",
      "[CV] subsample=0.7, n_estimators=1000, min_child_weight=7, max_depth=15, learning_rate=0.05 \n",
      "[CV]  subsample=0.7, n_estimators=1000, min_child_weight=7, max_depth=15, learning_rate=0.05, score=-1412.021, total=   1.4s\n",
      "[CV] subsample=0.7, n_estimators=1000, min_child_weight=7, max_depth=15, learning_rate=0.05 \n",
      "[CV]  subsample=0.7, n_estimators=1000, min_child_weight=7, max_depth=15, learning_rate=0.05, score=-1941.021, total=   1.3s\n",
      "[CV] subsample=0.8, n_estimators=800, min_child_weight=4, max_depth=20, learning_rate=0.5 \n",
      "[CV]  subsample=0.8, n_estimators=800, min_child_weight=4, max_depth=20, learning_rate=0.5, score=-1859.702, total=   0.4s\n",
      "[CV] subsample=0.8, n_estimators=800, min_child_weight=4, max_depth=20, learning_rate=0.5 \n",
      "[CV]  subsample=0.8, n_estimators=800, min_child_weight=4, max_depth=20, learning_rate=0.5, score=-1543.813, total=   0.7s\n",
      "[CV] subsample=0.8, n_estimators=800, min_child_weight=4, max_depth=20, learning_rate=0.5 \n",
      "[CV]  subsample=0.8, n_estimators=800, min_child_weight=4, max_depth=20, learning_rate=0.5, score=-2026.238, total=   0.6s\n",
      "[CV] subsample=0.8, n_estimators=800, min_child_weight=4, max_depth=20, learning_rate=0.5 \n",
      "[CV]  subsample=0.8, n_estimators=800, min_child_weight=4, max_depth=20, learning_rate=0.5, score=-1375.728, total=   0.9s\n",
      "[CV] subsample=0.8, n_estimators=800, min_child_weight=4, max_depth=20, learning_rate=0.5 \n",
      "[CV]  subsample=0.8, n_estimators=800, min_child_weight=4, max_depth=20, learning_rate=0.5, score=-2281.074, total=   0.4s\n",
      "[CV] subsample=0.8, n_estimators=200, min_child_weight=6, max_depth=30, learning_rate=0.6 \n",
      "[CV]  subsample=0.8, n_estimators=200, min_child_weight=6, max_depth=30, learning_rate=0.6, score=-2174.029, total=   0.3s\n",
      "[CV] subsample=0.8, n_estimators=200, min_child_weight=6, max_depth=30, learning_rate=0.6 \n",
      "[CV]  subsample=0.8, n_estimators=200, min_child_weight=6, max_depth=30, learning_rate=0.6, score=-1439.593, total=   0.3s\n",
      "[CV] subsample=0.8, n_estimators=200, min_child_weight=6, max_depth=30, learning_rate=0.6 \n",
      "[CV]  subsample=0.8, n_estimators=200, min_child_weight=6, max_depth=30, learning_rate=0.6, score=-1874.786, total=   0.3s\n",
      "[CV] subsample=0.8, n_estimators=200, min_child_weight=6, max_depth=30, learning_rate=0.6 \n",
      "[CV]  subsample=0.8, n_estimators=200, min_child_weight=6, max_depth=30, learning_rate=0.6, score=-1664.970, total=   0.3s\n",
      "[CV] subsample=0.8, n_estimators=200, min_child_weight=6, max_depth=30, learning_rate=0.6 \n",
      "[CV]  subsample=0.8, n_estimators=200, min_child_weight=6, max_depth=30, learning_rate=0.6, score=-2157.203, total=   0.2s\n",
      "[CV] subsample=0.7, n_estimators=300, min_child_weight=3, max_depth=15, learning_rate=0.1 \n",
      "[CV]  subsample=0.7, n_estimators=300, min_child_weight=3, max_depth=15, learning_rate=0.1, score=-1524.127, total=   0.5s\n",
      "[CV] subsample=0.7, n_estimators=300, min_child_weight=3, max_depth=15, learning_rate=0.1 \n",
      "[CV]  subsample=0.7, n_estimators=300, min_child_weight=3, max_depth=15, learning_rate=0.1, score=-1263.077, total=   0.7s\n",
      "[CV] subsample=0.7, n_estimators=300, min_child_weight=3, max_depth=15, learning_rate=0.1 \n"
     ]
    },
    {
     "name": "stdout",
     "output_type": "stream",
     "text": [
      "[CV]  subsample=0.7, n_estimators=300, min_child_weight=3, max_depth=15, learning_rate=0.1, score=-1521.180, total=   0.6s\n",
      "[CV] subsample=0.7, n_estimators=300, min_child_weight=3, max_depth=15, learning_rate=0.1 \n",
      "[CV]  subsample=0.7, n_estimators=300, min_child_weight=3, max_depth=15, learning_rate=0.1, score=-1401.579, total=   0.5s\n",
      "[CV] subsample=0.7, n_estimators=300, min_child_weight=3, max_depth=15, learning_rate=0.1 \n",
      "[CV]  subsample=0.7, n_estimators=300, min_child_weight=3, max_depth=15, learning_rate=0.1, score=-1841.221, total=   0.5s\n",
      "[CV] subsample=0.6, n_estimators=1200, min_child_weight=7, max_depth=10, learning_rate=0.05 \n",
      "[CV]  subsample=0.6, n_estimators=1200, min_child_weight=7, max_depth=10, learning_rate=0.05, score=-1438.894, total=   0.8s\n",
      "[CV] subsample=0.6, n_estimators=1200, min_child_weight=7, max_depth=10, learning_rate=0.05 \n",
      "[CV]  subsample=0.6, n_estimators=1200, min_child_weight=7, max_depth=10, learning_rate=0.05, score=-1306.653, total=   0.9s\n",
      "[CV] subsample=0.6, n_estimators=1200, min_child_weight=7, max_depth=10, learning_rate=0.05 \n",
      "[CV]  subsample=0.6, n_estimators=1200, min_child_weight=7, max_depth=10, learning_rate=0.05, score=-1579.809, total=   0.9s\n",
      "[CV] subsample=0.6, n_estimators=1200, min_child_weight=7, max_depth=10, learning_rate=0.05 \n",
      "[CV]  subsample=0.6, n_estimators=1200, min_child_weight=7, max_depth=10, learning_rate=0.05, score=-1275.970, total=   0.9s\n",
      "[CV] subsample=0.6, n_estimators=1200, min_child_weight=7, max_depth=10, learning_rate=0.05 \n",
      "[CV]  subsample=0.6, n_estimators=1200, min_child_weight=7, max_depth=10, learning_rate=0.05, score=-1837.851, total=   1.1s\n",
      "[CV] subsample=0.6, n_estimators=1200, min_child_weight=3, max_depth=25, learning_rate=0.1 \n",
      "[CV]  subsample=0.6, n_estimators=1200, min_child_weight=3, max_depth=25, learning_rate=0.1, score=-1502.616, total=   1.7s\n",
      "[CV] subsample=0.6, n_estimators=1200, min_child_weight=3, max_depth=25, learning_rate=0.1 \n",
      "[CV]  subsample=0.6, n_estimators=1200, min_child_weight=3, max_depth=25, learning_rate=0.1, score=-1327.663, total=   1.3s\n",
      "[CV] subsample=0.6, n_estimators=1200, min_child_weight=3, max_depth=25, learning_rate=0.1 \n",
      "[CV]  subsample=0.6, n_estimators=1200, min_child_weight=3, max_depth=25, learning_rate=0.1, score=-1495.878, total=   1.4s\n",
      "[CV] subsample=0.6, n_estimators=1200, min_child_weight=3, max_depth=25, learning_rate=0.1 \n",
      "[CV]  subsample=0.6, n_estimators=1200, min_child_weight=3, max_depth=25, learning_rate=0.1, score=-1224.636, total=   1.5s\n",
      "[CV] subsample=0.6, n_estimators=1200, min_child_weight=3, max_depth=25, learning_rate=0.1 \n",
      "[CV]  subsample=0.6, n_estimators=1200, min_child_weight=3, max_depth=25, learning_rate=0.1, score=-1931.995, total=   1.3s\n",
      "[CV] subsample=0.8, n_estimators=900, min_child_weight=5, max_depth=20, learning_rate=0.2 \n",
      "[CV]  subsample=0.8, n_estimators=900, min_child_weight=5, max_depth=20, learning_rate=0.2, score=-1443.763, total=   1.0s\n",
      "[CV] subsample=0.8, n_estimators=900, min_child_weight=5, max_depth=20, learning_rate=0.2 \n",
      "[CV]  subsample=0.8, n_estimators=900, min_child_weight=5, max_depth=20, learning_rate=0.2, score=-1314.849, total=   0.9s\n",
      "[CV] subsample=0.8, n_estimators=900, min_child_weight=5, max_depth=20, learning_rate=0.2 \n",
      "[CV]  subsample=0.8, n_estimators=900, min_child_weight=5, max_depth=20, learning_rate=0.2, score=-1585.285, total=   1.0s\n",
      "[CV] subsample=0.8, n_estimators=900, min_child_weight=5, max_depth=20, learning_rate=0.2 \n",
      "[CV]  subsample=0.8, n_estimators=900, min_child_weight=5, max_depth=20, learning_rate=0.2, score=-1496.894, total=   1.1s\n",
      "[CV] subsample=0.8, n_estimators=900, min_child_weight=5, max_depth=20, learning_rate=0.2 \n",
      "[CV]  subsample=0.8, n_estimators=900, min_child_weight=5, max_depth=20, learning_rate=0.2, score=-1928.367, total=   1.0s\n",
      "[CV] subsample=0.6, n_estimators=800, min_child_weight=4, max_depth=10, learning_rate=0.2 \n",
      "[CV]  subsample=0.6, n_estimators=800, min_child_weight=4, max_depth=10, learning_rate=0.2, score=-1516.278, total=   0.7s\n",
      "[CV] subsample=0.6, n_estimators=800, min_child_weight=4, max_depth=10, learning_rate=0.2 \n",
      "[CV]  subsample=0.6, n_estimators=800, min_child_weight=4, max_depth=10, learning_rate=0.2, score=-1160.849, total=   0.6s\n",
      "[CV] subsample=0.6, n_estimators=800, min_child_weight=4, max_depth=10, learning_rate=0.2 \n",
      "[CV]  subsample=0.6, n_estimators=800, min_child_weight=4, max_depth=10, learning_rate=0.2, score=-1781.394, total=   0.6s\n",
      "[CV] subsample=0.6, n_estimators=800, min_child_weight=4, max_depth=10, learning_rate=0.2 \n",
      "[CV]  subsample=0.6, n_estimators=800, min_child_weight=4, max_depth=10, learning_rate=0.2, score=-1490.519, total=   0.7s\n",
      "[CV] subsample=0.6, n_estimators=800, min_child_weight=4, max_depth=10, learning_rate=0.2 \n",
      "[CV]  subsample=0.6, n_estimators=800, min_child_weight=4, max_depth=10, learning_rate=0.2, score=-1933.608, total=   1.0s\n",
      "[CV] subsample=0.7, n_estimators=1000, min_child_weight=4, max_depth=15, learning_rate=0.5 \n",
      "[CV]  subsample=0.7, n_estimators=1000, min_child_weight=4, max_depth=15, learning_rate=0.5, score=-1853.740, total=   0.4s\n",
      "[CV] subsample=0.7, n_estimators=1000, min_child_weight=4, max_depth=15, learning_rate=0.5 \n",
      "[CV]  subsample=0.7, n_estimators=1000, min_child_weight=4, max_depth=15, learning_rate=0.5, score=-1917.094, total=   0.4s\n",
      "[CV] subsample=0.7, n_estimators=1000, min_child_weight=4, max_depth=15, learning_rate=0.5 \n",
      "[CV]  subsample=0.7, n_estimators=1000, min_child_weight=4, max_depth=15, learning_rate=0.5, score=-1903.583, total=   0.5s\n",
      "[CV] subsample=0.7, n_estimators=1000, min_child_weight=4, max_depth=15, learning_rate=0.5 \n",
      "[CV]  subsample=0.7, n_estimators=1000, min_child_weight=4, max_depth=15, learning_rate=0.5, score=-2045.078, total=   0.3s\n",
      "[CV] subsample=0.7, n_estimators=1000, min_child_weight=4, max_depth=15, learning_rate=0.5 \n",
      "[CV]  subsample=0.7, n_estimators=1000, min_child_weight=4, max_depth=15, learning_rate=0.5, score=-2121.362, total=   0.4s\n",
      "[CV] subsample=0.8, n_estimators=300, min_child_weight=3, max_depth=15, learning_rate=0.05 \n",
      "[CV]  subsample=0.8, n_estimators=300, min_child_weight=3, max_depth=15, learning_rate=0.05, score=-1389.741, total=   0.5s\n",
      "[CV] subsample=0.8, n_estimators=300, min_child_weight=3, max_depth=15, learning_rate=0.05 \n",
      "[CV]  subsample=0.8, n_estimators=300, min_child_weight=3, max_depth=15, learning_rate=0.05, score=-1172.916, total=   0.5s\n",
      "[CV] subsample=0.8, n_estimators=300, min_child_weight=3, max_depth=15, learning_rate=0.05 \n",
      "[CV]  subsample=0.8, n_estimators=300, min_child_weight=3, max_depth=15, learning_rate=0.05, score=-1372.694, total=   0.6s\n",
      "[CV] subsample=0.8, n_estimators=300, min_child_weight=3, max_depth=15, learning_rate=0.05 \n",
      "[CV]  subsample=0.8, n_estimators=300, min_child_weight=3, max_depth=15, learning_rate=0.05, score=-1314.601, total=   0.6s\n",
      "[CV] subsample=0.8, n_estimators=300, min_child_weight=3, max_depth=15, learning_rate=0.05 \n",
      "[CV]  subsample=0.8, n_estimators=300, min_child_weight=3, max_depth=15, learning_rate=0.05, score=-1740.080, total=   0.5s\n",
      "[CV] subsample=0.7, n_estimators=1000, min_child_weight=6, max_depth=25, learning_rate=0.2 \n",
      "[CV]  subsample=0.7, n_estimators=1000, min_child_weight=6, max_depth=25, learning_rate=0.2, score=-1426.003, total=   1.0s\n",
      "[CV] subsample=0.7, n_estimators=1000, min_child_weight=6, max_depth=25, learning_rate=0.2 \n",
      "[CV]  subsample=0.7, n_estimators=1000, min_child_weight=6, max_depth=25, learning_rate=0.2, score=-1410.854, total=   0.9s\n",
      "[CV] subsample=0.7, n_estimators=1000, min_child_weight=6, max_depth=25, learning_rate=0.2 \n",
      "[CV]  subsample=0.7, n_estimators=1000, min_child_weight=6, max_depth=25, learning_rate=0.2, score=-1722.022, total=   1.1s\n",
      "[CV] subsample=0.7, n_estimators=1000, min_child_weight=6, max_depth=25, learning_rate=0.2 \n",
      "[CV]  subsample=0.7, n_estimators=1000, min_child_weight=6, max_depth=25, learning_rate=0.2, score=-1531.215, total=   1.1s\n",
      "[CV] subsample=0.7, n_estimators=1000, min_child_weight=6, max_depth=25, learning_rate=0.2 \n",
      "[CV]  subsample=0.7, n_estimators=1000, min_child_weight=6, max_depth=25, learning_rate=0.2, score=-2098.798, total=   1.0s\n",
      "[CV] subsample=0.6, n_estimators=1200, min_child_weight=3, max_depth=25, learning_rate=0.6 \n"
     ]
    },
    {
     "name": "stdout",
     "output_type": "stream",
     "text": [
      "[CV]  subsample=0.6, n_estimators=1200, min_child_weight=3, max_depth=25, learning_rate=0.6, score=-1906.057, total=   0.3s\n",
      "[CV] subsample=0.6, n_estimators=1200, min_child_weight=3, max_depth=25, learning_rate=0.6 \n",
      "[CV]  subsample=0.6, n_estimators=1200, min_child_weight=3, max_depth=25, learning_rate=0.6, score=-1543.728, total=   0.4s\n",
      "[CV] subsample=0.6, n_estimators=1200, min_child_weight=3, max_depth=25, learning_rate=0.6 \n",
      "[CV]  subsample=0.6, n_estimators=1200, min_child_weight=3, max_depth=25, learning_rate=0.6, score=-1866.551, total=   0.4s\n",
      "[CV] subsample=0.6, n_estimators=1200, min_child_weight=3, max_depth=25, learning_rate=0.6 \n",
      "[CV]  subsample=0.6, n_estimators=1200, min_child_weight=3, max_depth=25, learning_rate=0.6, score=-1829.752, total=   0.4s\n",
      "[CV] subsample=0.6, n_estimators=1200, min_child_weight=3, max_depth=25, learning_rate=0.6 \n",
      "[CV]  subsample=0.6, n_estimators=1200, min_child_weight=3, max_depth=25, learning_rate=0.6, score=-2979.021, total=   0.4s\n",
      "[CV] subsample=0.7, n_estimators=300, min_child_weight=5, max_depth=15, learning_rate=0.3 \n",
      "[CV]  subsample=0.7, n_estimators=300, min_child_weight=5, max_depth=15, learning_rate=0.3, score=-1607.656, total=   0.3s\n",
      "[CV] subsample=0.7, n_estimators=300, min_child_weight=5, max_depth=15, learning_rate=0.3 \n",
      "[CV]  subsample=0.7, n_estimators=300, min_child_weight=5, max_depth=15, learning_rate=0.3, score=-1201.945, total=   0.3s\n",
      "[CV] subsample=0.7, n_estimators=300, min_child_weight=5, max_depth=15, learning_rate=0.3 \n",
      "[CV]  subsample=0.7, n_estimators=300, min_child_weight=5, max_depth=15, learning_rate=0.3, score=-1656.779, total=   0.3s\n",
      "[CV] subsample=0.7, n_estimators=300, min_child_weight=5, max_depth=15, learning_rate=0.3 \n",
      "[CV]  subsample=0.7, n_estimators=300, min_child_weight=5, max_depth=15, learning_rate=0.3, score=-1723.326, total=   0.4s\n",
      "[CV] subsample=0.7, n_estimators=300, min_child_weight=5, max_depth=15, learning_rate=0.3 \n",
      "[CV]  subsample=0.7, n_estimators=300, min_child_weight=5, max_depth=15, learning_rate=0.3, score=-1969.785, total=   0.4s\n",
      "[CV] subsample=0.6, n_estimators=900, min_child_weight=4, max_depth=15, learning_rate=0.2 \n",
      "[CV]  subsample=0.6, n_estimators=900, min_child_weight=4, max_depth=15, learning_rate=0.2, score=-1441.725, total=   1.0s\n",
      "[CV] subsample=0.6, n_estimators=900, min_child_weight=4, max_depth=15, learning_rate=0.2 \n",
      "[CV]  subsample=0.6, n_estimators=900, min_child_weight=4, max_depth=15, learning_rate=0.2, score=-1362.583, total=   1.0s\n",
      "[CV] subsample=0.6, n_estimators=900, min_child_weight=4, max_depth=15, learning_rate=0.2 \n",
      "[CV]  subsample=0.6, n_estimators=900, min_child_weight=4, max_depth=15, learning_rate=0.2, score=-1524.605, total=   1.1s\n",
      "[CV] subsample=0.6, n_estimators=900, min_child_weight=4, max_depth=15, learning_rate=0.2 \n",
      "[CV]  subsample=0.6, n_estimators=900, min_child_weight=4, max_depth=15, learning_rate=0.2, score=-1433.768, total=   1.3s\n",
      "[CV] subsample=0.6, n_estimators=900, min_child_weight=4, max_depth=15, learning_rate=0.2 \n",
      "[CV]  subsample=0.6, n_estimators=900, min_child_weight=4, max_depth=15, learning_rate=0.2, score=-2134.368, total=   0.7s\n",
      "[CV] subsample=0.6, n_estimators=500, min_child_weight=4, max_depth=5, learning_rate=0.6 \n",
      "[CV]  subsample=0.6, n_estimators=500, min_child_weight=4, max_depth=5, learning_rate=0.6, score=-1933.158, total=   0.2s\n",
      "[CV] subsample=0.6, n_estimators=500, min_child_weight=4, max_depth=5, learning_rate=0.6 \n",
      "[CV]  subsample=0.6, n_estimators=500, min_child_weight=4, max_depth=5, learning_rate=0.6, score=-1533.534, total=   0.2s\n",
      "[CV] subsample=0.6, n_estimators=500, min_child_weight=4, max_depth=5, learning_rate=0.6 \n",
      "[CV]  subsample=0.6, n_estimators=500, min_child_weight=4, max_depth=5, learning_rate=0.6, score=-1668.481, total=   0.2s\n",
      "[CV] subsample=0.6, n_estimators=500, min_child_weight=4, max_depth=5, learning_rate=0.6 \n",
      "[CV]  subsample=0.6, n_estimators=500, min_child_weight=4, max_depth=5, learning_rate=0.6, score=-2157.121, total=   0.2s\n",
      "[CV] subsample=0.6, n_estimators=500, min_child_weight=4, max_depth=5, learning_rate=0.6 \n",
      "[CV]  subsample=0.6, n_estimators=500, min_child_weight=4, max_depth=5, learning_rate=0.6, score=-2428.880, total=   0.2s\n",
      "[CV] subsample=0.8, n_estimators=400, min_child_weight=5, max_depth=5, learning_rate=0.05 \n",
      "[CV]  subsample=0.8, n_estimators=400, min_child_weight=5, max_depth=5, learning_rate=0.05, score=-1356.656, total=   0.2s\n",
      "[CV] subsample=0.8, n_estimators=400, min_child_weight=5, max_depth=5, learning_rate=0.05 \n",
      "[CV]  subsample=0.8, n_estimators=400, min_child_weight=5, max_depth=5, learning_rate=0.05, score=-1312.037, total=   0.2s\n",
      "[CV] subsample=0.8, n_estimators=400, min_child_weight=5, max_depth=5, learning_rate=0.05 \n",
      "[CV]  subsample=0.8, n_estimators=400, min_child_weight=5, max_depth=5, learning_rate=0.05, score=-1427.102, total=   0.2s\n",
      "[CV] subsample=0.8, n_estimators=400, min_child_weight=5, max_depth=5, learning_rate=0.05 \n",
      "[CV]  subsample=0.8, n_estimators=400, min_child_weight=5, max_depth=5, learning_rate=0.05, score=-1389.754, total=   0.2s\n",
      "[CV] subsample=0.8, n_estimators=400, min_child_weight=5, max_depth=5, learning_rate=0.05 \n",
      "[CV]  subsample=0.8, n_estimators=400, min_child_weight=5, max_depth=5, learning_rate=0.05, score=-1607.319, total=   0.2s\n",
      "[CV] subsample=0.7, n_estimators=600, min_child_weight=6, max_depth=10, learning_rate=0.6 \n",
      "[CV]  subsample=0.7, n_estimators=600, min_child_weight=6, max_depth=10, learning_rate=0.6, score=-1738.126, total=   0.2s\n",
      "[CV] subsample=0.7, n_estimators=600, min_child_weight=6, max_depth=10, learning_rate=0.6 \n",
      "[CV]  subsample=0.7, n_estimators=600, min_child_weight=6, max_depth=10, learning_rate=0.6, score=-2265.473, total=   0.2s\n",
      "[CV] subsample=0.7, n_estimators=600, min_child_weight=6, max_depth=10, learning_rate=0.6 \n",
      "[CV]  subsample=0.7, n_estimators=600, min_child_weight=6, max_depth=10, learning_rate=0.6, score=-2221.968, total=   0.3s\n",
      "[CV] subsample=0.7, n_estimators=600, min_child_weight=6, max_depth=10, learning_rate=0.6 \n",
      "[CV]  subsample=0.7, n_estimators=600, min_child_weight=6, max_depth=10, learning_rate=0.6, score=-2118.344, total=   0.5s\n",
      "[CV] subsample=0.7, n_estimators=600, min_child_weight=6, max_depth=10, learning_rate=0.6 \n",
      "[CV]  subsample=0.7, n_estimators=600, min_child_weight=6, max_depth=10, learning_rate=0.6, score=-2608.404, total=   0.7s\n",
      "[CV] subsample=0.6, n_estimators=900, min_child_weight=3, max_depth=10, learning_rate=0.6 \n",
      "[CV]  subsample=0.6, n_estimators=900, min_child_weight=3, max_depth=10, learning_rate=0.6, score=-1753.456, total=   0.6s\n",
      "[CV] subsample=0.6, n_estimators=900, min_child_weight=3, max_depth=10, learning_rate=0.6 \n",
      "[CV]  subsample=0.6, n_estimators=900, min_child_weight=3, max_depth=10, learning_rate=0.6, score=-2187.214, total=   0.5s\n",
      "[CV] subsample=0.6, n_estimators=900, min_child_weight=3, max_depth=10, learning_rate=0.6 \n",
      "[CV]  subsample=0.6, n_estimators=900, min_child_weight=3, max_depth=10, learning_rate=0.6, score=-1597.906, total=   0.5s\n",
      "[CV] subsample=0.6, n_estimators=900, min_child_weight=3, max_depth=10, learning_rate=0.6 \n",
      "[CV]  subsample=0.6, n_estimators=900, min_child_weight=3, max_depth=10, learning_rate=0.6, score=-2140.719, total=   0.4s\n",
      "[CV] subsample=0.6, n_estimators=900, min_child_weight=3, max_depth=10, learning_rate=0.6 \n",
      "[CV]  subsample=0.6, n_estimators=900, min_child_weight=3, max_depth=10, learning_rate=0.6, score=-2516.248, total=   0.3s\n",
      "[CV] subsample=0.7, n_estimators=800, min_child_weight=5, max_depth=25, learning_rate=0.1 \n",
      "[CV]  subsample=0.7, n_estimators=800, min_child_weight=5, max_depth=25, learning_rate=0.1, score=-1438.123, total=   1.2s\n",
      "[CV] subsample=0.7, n_estimators=800, min_child_weight=5, max_depth=25, learning_rate=0.1 \n",
      "[CV]  subsample=0.7, n_estimators=800, min_child_weight=5, max_depth=25, learning_rate=0.1, score=-1219.834, total=   1.2s\n",
      "[CV] subsample=0.7, n_estimators=800, min_child_weight=5, max_depth=25, learning_rate=0.1 \n",
      "[CV]  subsample=0.7, n_estimators=800, min_child_weight=5, max_depth=25, learning_rate=0.1, score=-1515.966, total=   1.2s\n",
      "[CV] subsample=0.7, n_estimators=800, min_child_weight=5, max_depth=25, learning_rate=0.1 \n",
      "[CV]  subsample=0.7, n_estimators=800, min_child_weight=5, max_depth=25, learning_rate=0.1, score=-1488.008, total=   1.3s\n",
      "[CV] subsample=0.7, n_estimators=800, min_child_weight=5, max_depth=25, learning_rate=0.1 \n"
     ]
    },
    {
     "name": "stdout",
     "output_type": "stream",
     "text": [
      "[CV]  subsample=0.7, n_estimators=800, min_child_weight=5, max_depth=25, learning_rate=0.1, score=-1791.043, total=   1.0s\n",
      "[CV] subsample=0.7, n_estimators=1000, min_child_weight=4, max_depth=5, learning_rate=0.6 \n",
      "[CV]  subsample=0.7, n_estimators=1000, min_child_weight=4, max_depth=5, learning_rate=0.6, score=-1616.972, total=   0.3s\n",
      "[CV] subsample=0.7, n_estimators=1000, min_child_weight=4, max_depth=5, learning_rate=0.6 \n",
      "[CV]  subsample=0.7, n_estimators=1000, min_child_weight=4, max_depth=5, learning_rate=0.6, score=-1616.464, total=   0.3s\n",
      "[CV] subsample=0.7, n_estimators=1000, min_child_weight=4, max_depth=5, learning_rate=0.6 \n",
      "[CV]  subsample=0.7, n_estimators=1000, min_child_weight=4, max_depth=5, learning_rate=0.6, score=-2508.980, total=   0.3s\n",
      "[CV] subsample=0.7, n_estimators=1000, min_child_weight=4, max_depth=5, learning_rate=0.6 \n",
      "[CV]  subsample=0.7, n_estimators=1000, min_child_weight=4, max_depth=5, learning_rate=0.6, score=-1834.217, total=   0.3s\n",
      "[CV] subsample=0.7, n_estimators=1000, min_child_weight=4, max_depth=5, learning_rate=0.6 \n",
      "[CV]  subsample=0.7, n_estimators=1000, min_child_weight=4, max_depth=5, learning_rate=0.6, score=-2337.012, total=   0.3s\n",
      "[CV] subsample=0.7, n_estimators=200, min_child_weight=5, max_depth=10, learning_rate=0.2 \n",
      "[CV]  subsample=0.7, n_estimators=200, min_child_weight=5, max_depth=10, learning_rate=0.2, score=-1444.675, total=   0.2s\n",
      "[CV] subsample=0.7, n_estimators=200, min_child_weight=5, max_depth=10, learning_rate=0.2 \n",
      "[CV]  subsample=0.7, n_estimators=200, min_child_weight=5, max_depth=10, learning_rate=0.2, score=-1419.111, total=   0.2s\n",
      "[CV] subsample=0.7, n_estimators=200, min_child_weight=5, max_depth=10, learning_rate=0.2 \n",
      "[CV]  subsample=0.7, n_estimators=200, min_child_weight=5, max_depth=10, learning_rate=0.2, score=-1643.258, total=   0.2s\n",
      "[CV] subsample=0.7, n_estimators=200, min_child_weight=5, max_depth=10, learning_rate=0.2 \n",
      "[CV]  subsample=0.7, n_estimators=200, min_child_weight=5, max_depth=10, learning_rate=0.2, score=-1575.218, total=   0.2s\n",
      "[CV] subsample=0.7, n_estimators=200, min_child_weight=5, max_depth=10, learning_rate=0.2 \n",
      "[CV]  subsample=0.7, n_estimators=200, min_child_weight=5, max_depth=10, learning_rate=0.2, score=-2027.109, total=   0.2s\n",
      "[CV] subsample=0.8, n_estimators=1100, min_child_weight=5, max_depth=30, learning_rate=0.5 \n",
      "[CV]  subsample=0.8, n_estimators=1100, min_child_weight=5, max_depth=30, learning_rate=0.5, score=-1773.051, total=   0.5s\n",
      "[CV] subsample=0.8, n_estimators=1100, min_child_weight=5, max_depth=30, learning_rate=0.5 \n",
      "[CV]  subsample=0.8, n_estimators=1100, min_child_weight=5, max_depth=30, learning_rate=0.5, score=-1453.223, total=   0.7s\n",
      "[CV] subsample=0.8, n_estimators=1100, min_child_weight=5, max_depth=30, learning_rate=0.5 \n",
      "[CV]  subsample=0.8, n_estimators=1100, min_child_weight=5, max_depth=30, learning_rate=0.5, score=-1857.954, total=   0.4s\n",
      "[CV] subsample=0.8, n_estimators=1100, min_child_weight=5, max_depth=30, learning_rate=0.5 \n",
      "[CV]  subsample=0.8, n_estimators=1100, min_child_weight=5, max_depth=30, learning_rate=0.5, score=-1851.981, total=   0.8s\n",
      "[CV] subsample=0.8, n_estimators=1100, min_child_weight=5, max_depth=30, learning_rate=0.5 \n",
      "[CV]  subsample=0.8, n_estimators=1100, min_child_weight=5, max_depth=30, learning_rate=0.5, score=-2162.745, total=   1.0s\n",
      "[CV] subsample=0.8, n_estimators=900, min_child_weight=5, max_depth=5, learning_rate=0.05 \n",
      "[CV]  subsample=0.8, n_estimators=900, min_child_weight=5, max_depth=5, learning_rate=0.05, score=-1332.432, total=   0.4s\n",
      "[CV] subsample=0.8, n_estimators=900, min_child_weight=5, max_depth=5, learning_rate=0.05 \n",
      "[CV]  subsample=0.8, n_estimators=900, min_child_weight=5, max_depth=5, learning_rate=0.05, score=-1284.934, total=   0.5s\n",
      "[CV] subsample=0.8, n_estimators=900, min_child_weight=5, max_depth=5, learning_rate=0.05 \n",
      "[CV]  subsample=0.8, n_estimators=900, min_child_weight=5, max_depth=5, learning_rate=0.05, score=-1434.980, total=   1.1s\n",
      "[CV] subsample=0.8, n_estimators=900, min_child_weight=5, max_depth=5, learning_rate=0.05 \n",
      "[CV]  subsample=0.8, n_estimators=900, min_child_weight=5, max_depth=5, learning_rate=0.05, score=-1351.803, total=   0.7s\n",
      "[CV] subsample=0.8, n_estimators=900, min_child_weight=5, max_depth=5, learning_rate=0.05 \n",
      "[CV]  subsample=0.8, n_estimators=900, min_child_weight=5, max_depth=5, learning_rate=0.05, score=-1595.772, total=   1.0s\n",
      "[CV] subsample=0.7, n_estimators=100, min_child_weight=5, max_depth=20, learning_rate=0.3 \n",
      "[CV]  subsample=0.7, n_estimators=100, min_child_weight=5, max_depth=20, learning_rate=0.3, score=-1527.599, total=   0.2s\n",
      "[CV] subsample=0.7, n_estimators=100, min_child_weight=5, max_depth=20, learning_rate=0.3 \n",
      "[CV]  subsample=0.7, n_estimators=100, min_child_weight=5, max_depth=20, learning_rate=0.3, score=-1331.403, total=   0.2s\n",
      "[CV] subsample=0.7, n_estimators=100, min_child_weight=5, max_depth=20, learning_rate=0.3 \n",
      "[CV]  subsample=0.7, n_estimators=100, min_child_weight=5, max_depth=20, learning_rate=0.3, score=-1723.028, total=   0.2s\n",
      "[CV] subsample=0.7, n_estimators=100, min_child_weight=5, max_depth=20, learning_rate=0.3 \n",
      "[CV]  subsample=0.7, n_estimators=100, min_child_weight=5, max_depth=20, learning_rate=0.3, score=-1776.287, total=   0.1s\n",
      "[CV] subsample=0.7, n_estimators=100, min_child_weight=5, max_depth=20, learning_rate=0.3 \n",
      "[CV]  subsample=0.7, n_estimators=100, min_child_weight=5, max_depth=20, learning_rate=0.3, score=-1819.478, total=   0.2s\n",
      "[CV] subsample=0.7, n_estimators=1000, min_child_weight=6, max_depth=5, learning_rate=0.5 \n",
      "[CV]  subsample=0.7, n_estimators=1000, min_child_weight=6, max_depth=5, learning_rate=0.5, score=-1413.407, total=   0.5s\n",
      "[CV] subsample=0.7, n_estimators=1000, min_child_weight=6, max_depth=5, learning_rate=0.5 \n",
      "[CV]  subsample=0.7, n_estimators=1000, min_child_weight=6, max_depth=5, learning_rate=0.5, score=-1698.396, total=   0.4s\n",
      "[CV] subsample=0.7, n_estimators=1000, min_child_weight=6, max_depth=5, learning_rate=0.5 \n",
      "[CV]  subsample=0.7, n_estimators=1000, min_child_weight=6, max_depth=5, learning_rate=0.5, score=-1638.140, total=   0.5s\n",
      "[CV] subsample=0.7, n_estimators=1000, min_child_weight=6, max_depth=5, learning_rate=0.5 \n",
      "[CV]  subsample=0.7, n_estimators=1000, min_child_weight=6, max_depth=5, learning_rate=0.5, score=-1705.438, total=   0.3s\n",
      "[CV] subsample=0.7, n_estimators=1000, min_child_weight=6, max_depth=5, learning_rate=0.5 \n",
      "[CV]  subsample=0.7, n_estimators=1000, min_child_weight=6, max_depth=5, learning_rate=0.5, score=-2047.590, total=   0.4s\n",
      "[CV] subsample=0.8, n_estimators=1100, min_child_weight=4, max_depth=25, learning_rate=0.5 \n",
      "[CV]  subsample=0.8, n_estimators=1100, min_child_weight=4, max_depth=25, learning_rate=0.5, score=-1788.488, total=   0.6s\n",
      "[CV] subsample=0.8, n_estimators=1100, min_child_weight=4, max_depth=25, learning_rate=0.5 \n",
      "[CV]  subsample=0.8, n_estimators=1100, min_child_weight=4, max_depth=25, learning_rate=0.5, score=-1550.877, total=   0.8s\n",
      "[CV] subsample=0.8, n_estimators=1100, min_child_weight=4, max_depth=25, learning_rate=0.5 \n",
      "[CV]  subsample=0.8, n_estimators=1100, min_child_weight=4, max_depth=25, learning_rate=0.5, score=-2005.064, total=   0.7s\n",
      "[CV] subsample=0.8, n_estimators=1100, min_child_weight=4, max_depth=25, learning_rate=0.5 \n",
      "[CV]  subsample=0.8, n_estimators=1100, min_child_weight=4, max_depth=25, learning_rate=0.5, score=-1345.689, total=   1.1s\n",
      "[CV] subsample=0.8, n_estimators=1100, min_child_weight=4, max_depth=25, learning_rate=0.5 \n",
      "[CV]  subsample=0.8, n_estimators=1100, min_child_weight=4, max_depth=25, learning_rate=0.5, score=-2245.758, total=   0.5s\n",
      "[CV] subsample=0.7, n_estimators=900, min_child_weight=7, max_depth=15, learning_rate=0.3 \n",
      "[CV]  subsample=0.7, n_estimators=900, min_child_weight=7, max_depth=15, learning_rate=0.3, score=-1585.093, total=   0.8s\n",
      "[CV] subsample=0.7, n_estimators=900, min_child_weight=7, max_depth=15, learning_rate=0.3 \n",
      "[CV]  subsample=0.7, n_estimators=900, min_child_weight=7, max_depth=15, learning_rate=0.3, score=-1396.591, total=   1.1s\n",
      "[CV] subsample=0.7, n_estimators=900, min_child_weight=7, max_depth=15, learning_rate=0.3 \n",
      "[CV]  subsample=0.7, n_estimators=900, min_child_weight=7, max_depth=15, learning_rate=0.3, score=-1641.495, total=   1.1s\n",
      "[CV] subsample=0.7, n_estimators=900, min_child_weight=7, max_depth=15, learning_rate=0.3 \n"
     ]
    },
    {
     "name": "stdout",
     "output_type": "stream",
     "text": [
      "[CV]  subsample=0.7, n_estimators=900, min_child_weight=7, max_depth=15, learning_rate=0.3, score=-1581.818, total=   1.2s\n",
      "[CV] subsample=0.7, n_estimators=900, min_child_weight=7, max_depth=15, learning_rate=0.3 \n",
      "[CV]  subsample=0.7, n_estimators=900, min_child_weight=7, max_depth=15, learning_rate=0.3, score=-2219.835, total=   0.9s\n",
      "[CV] subsample=0.8, n_estimators=1200, min_child_weight=7, max_depth=25, learning_rate=0.5 \n",
      "[CV]  subsample=0.8, n_estimators=1200, min_child_weight=7, max_depth=25, learning_rate=0.5, score=-1789.606, total=   0.7s\n",
      "[CV] subsample=0.8, n_estimators=1200, min_child_weight=7, max_depth=25, learning_rate=0.5 \n",
      "[CV]  subsample=0.8, n_estimators=1200, min_child_weight=7, max_depth=25, learning_rate=0.5, score=-1562.291, total=   1.2s\n",
      "[CV] subsample=0.8, n_estimators=1200, min_child_weight=7, max_depth=25, learning_rate=0.5 \n",
      "[CV]  subsample=0.8, n_estimators=1200, min_child_weight=7, max_depth=25, learning_rate=0.5, score=-2151.678, total=   0.8s\n",
      "[CV] subsample=0.8, n_estimators=1200, min_child_weight=7, max_depth=25, learning_rate=0.5 \n",
      "[CV]  subsample=0.8, n_estimators=1200, min_child_weight=7, max_depth=25, learning_rate=0.5, score=-1470.987, total=   0.5s\n",
      "[CV] subsample=0.8, n_estimators=1200, min_child_weight=7, max_depth=25, learning_rate=0.5 \n",
      "[CV]  subsample=0.8, n_estimators=1200, min_child_weight=7, max_depth=25, learning_rate=0.5, score=-2018.695, total=   0.7s\n",
      "[CV] subsample=0.7, n_estimators=900, min_child_weight=5, max_depth=30, learning_rate=0.2 \n",
      "[CV]  subsample=0.7, n_estimators=900, min_child_weight=5, max_depth=30, learning_rate=0.2, score=-1703.263, total=   1.1s\n",
      "[CV] subsample=0.7, n_estimators=900, min_child_weight=5, max_depth=30, learning_rate=0.2 \n",
      "[CV]  subsample=0.7, n_estimators=900, min_child_weight=5, max_depth=30, learning_rate=0.2, score=-1441.456, total=   1.1s\n",
      "[CV] subsample=0.7, n_estimators=900, min_child_weight=5, max_depth=30, learning_rate=0.2 \n",
      "[CV]  subsample=0.7, n_estimators=900, min_child_weight=5, max_depth=30, learning_rate=0.2, score=-1623.108, total=   1.1s\n",
      "[CV] subsample=0.7, n_estimators=900, min_child_weight=5, max_depth=30, learning_rate=0.2 \n",
      "[CV]  subsample=0.7, n_estimators=900, min_child_weight=5, max_depth=30, learning_rate=0.2, score=-1501.790, total=   1.1s\n",
      "[CV] subsample=0.7, n_estimators=900, min_child_weight=5, max_depth=30, learning_rate=0.2 \n",
      "[CV]  subsample=0.7, n_estimators=900, min_child_weight=5, max_depth=30, learning_rate=0.2, score=-1987.684, total=   0.8s\n",
      "[CV] subsample=0.8, n_estimators=900, min_child_weight=5, max_depth=20, learning_rate=0.5 \n",
      "[CV]  subsample=0.8, n_estimators=900, min_child_weight=5, max_depth=20, learning_rate=0.5, score=-1811.013, total=   0.4s\n",
      "[CV] subsample=0.8, n_estimators=900, min_child_weight=5, max_depth=20, learning_rate=0.5 \n",
      "[CV]  subsample=0.8, n_estimators=900, min_child_weight=5, max_depth=20, learning_rate=0.5, score=-1426.939, total=   0.6s\n",
      "[CV] subsample=0.8, n_estimators=900, min_child_weight=5, max_depth=20, learning_rate=0.5 \n",
      "[CV]  subsample=0.8, n_estimators=900, min_child_weight=5, max_depth=20, learning_rate=0.5, score=-1875.667, total=   0.4s\n",
      "[CV] subsample=0.8, n_estimators=900, min_child_weight=5, max_depth=20, learning_rate=0.5 \n",
      "[CV]  subsample=0.8, n_estimators=900, min_child_weight=5, max_depth=20, learning_rate=0.5, score=-1848.427, total=   0.6s\n",
      "[CV] subsample=0.8, n_estimators=900, min_child_weight=5, max_depth=20, learning_rate=0.5 \n",
      "[CV]  subsample=0.8, n_estimators=900, min_child_weight=5, max_depth=20, learning_rate=0.5, score=-2238.830, total=   0.4s\n",
      "[CV] subsample=0.7, n_estimators=100, min_child_weight=4, max_depth=25, learning_rate=0.6 \n",
      "[CV]  subsample=0.7, n_estimators=100, min_child_weight=4, max_depth=25, learning_rate=0.6, score=-1636.454, total=   0.2s\n",
      "[CV] subsample=0.7, n_estimators=100, min_child_weight=4, max_depth=25, learning_rate=0.6 \n",
      "[CV]  subsample=0.7, n_estimators=100, min_child_weight=4, max_depth=25, learning_rate=0.6, score=-1897.421, total=   0.2s\n",
      "[CV] subsample=0.7, n_estimators=100, min_child_weight=4, max_depth=25, learning_rate=0.6 \n",
      "[CV]  subsample=0.7, n_estimators=100, min_child_weight=4, max_depth=25, learning_rate=0.6, score=-2251.545, total=   0.1s\n",
      "[CV] subsample=0.7, n_estimators=100, min_child_weight=4, max_depth=25, learning_rate=0.6 \n",
      "[CV]  subsample=0.7, n_estimators=100, min_child_weight=4, max_depth=25, learning_rate=0.6, score=-1872.149, total=   0.2s\n",
      "[CV] subsample=0.7, n_estimators=100, min_child_weight=4, max_depth=25, learning_rate=0.6 \n",
      "[CV]  subsample=0.7, n_estimators=100, min_child_weight=4, max_depth=25, learning_rate=0.6, score=-3144.063, total=   0.2s\n",
      "[CV] subsample=0.6, n_estimators=100, min_child_weight=3, max_depth=5, learning_rate=0.1 \n",
      "[CV]  subsample=0.6, n_estimators=100, min_child_weight=3, max_depth=5, learning_rate=0.1, score=-1557.484, total=   0.0s\n",
      "[CV] subsample=0.6, n_estimators=100, min_child_weight=3, max_depth=5, learning_rate=0.1 \n",
      "[CV]  subsample=0.6, n_estimators=100, min_child_weight=3, max_depth=5, learning_rate=0.1, score=-1301.856, total=   0.1s\n",
      "[CV] subsample=0.6, n_estimators=100, min_child_weight=3, max_depth=5, learning_rate=0.1 \n",
      "[CV]  subsample=0.6, n_estimators=100, min_child_weight=3, max_depth=5, learning_rate=0.1, score=-1412.683, total=   0.0s\n",
      "[CV] subsample=0.6, n_estimators=100, min_child_weight=3, max_depth=5, learning_rate=0.1 \n",
      "[CV]  subsample=0.6, n_estimators=100, min_child_weight=3, max_depth=5, learning_rate=0.1, score=-1356.722, total=   0.1s\n",
      "[CV] subsample=0.6, n_estimators=100, min_child_weight=3, max_depth=5, learning_rate=0.1 \n",
      "[CV]  subsample=0.6, n_estimators=100, min_child_weight=3, max_depth=5, learning_rate=0.1, score=-1829.183, total=   0.1s\n",
      "[CV] subsample=0.8, n_estimators=1000, min_child_weight=5, max_depth=5, learning_rate=0.5 \n",
      "[CV]  subsample=0.8, n_estimators=1000, min_child_weight=5, max_depth=5, learning_rate=0.5, score=-1746.007, total=   0.3s\n",
      "[CV] subsample=0.8, n_estimators=1000, min_child_weight=5, max_depth=5, learning_rate=0.5 \n",
      "[CV]  subsample=0.8, n_estimators=1000, min_child_weight=5, max_depth=5, learning_rate=0.5, score=-1330.553, total=   0.3s\n",
      "[CV] subsample=0.8, n_estimators=1000, min_child_weight=5, max_depth=5, learning_rate=0.5 \n",
      "[CV]  subsample=0.8, n_estimators=1000, min_child_weight=5, max_depth=5, learning_rate=0.5, score=-1947.065, total=   0.3s\n",
      "[CV] subsample=0.8, n_estimators=1000, min_child_weight=5, max_depth=5, learning_rate=0.5 \n",
      "[CV]  subsample=0.8, n_estimators=1000, min_child_weight=5, max_depth=5, learning_rate=0.5, score=-1751.309, total=   0.3s\n",
      "[CV] subsample=0.8, n_estimators=1000, min_child_weight=5, max_depth=5, learning_rate=0.5 \n",
      "[CV]  subsample=0.8, n_estimators=1000, min_child_weight=5, max_depth=5, learning_rate=0.5, score=-2361.751, total=   0.3s\n",
      "[CV] subsample=0.7, n_estimators=400, min_child_weight=5, max_depth=15, learning_rate=0.1 \n",
      "[CV]  subsample=0.7, n_estimators=400, min_child_weight=5, max_depth=15, learning_rate=0.1, score=-1427.374, total=   0.5s\n",
      "[CV] subsample=0.7, n_estimators=400, min_child_weight=5, max_depth=15, learning_rate=0.1 \n",
      "[CV]  subsample=0.7, n_estimators=400, min_child_weight=5, max_depth=15, learning_rate=0.1, score=-1181.070, total=   0.5s\n",
      "[CV] subsample=0.7, n_estimators=400, min_child_weight=5, max_depth=15, learning_rate=0.1 \n",
      "[CV]  subsample=0.7, n_estimators=400, min_child_weight=5, max_depth=15, learning_rate=0.1, score=-1575.099, total=   0.5s\n",
      "[CV] subsample=0.7, n_estimators=400, min_child_weight=5, max_depth=15, learning_rate=0.1 \n",
      "[CV]  subsample=0.7, n_estimators=400, min_child_weight=5, max_depth=15, learning_rate=0.1, score=-1453.085, total=   0.6s\n",
      "[CV] subsample=0.7, n_estimators=400, min_child_weight=5, max_depth=15, learning_rate=0.1 \n",
      "[CV]  subsample=0.7, n_estimators=400, min_child_weight=5, max_depth=15, learning_rate=0.1, score=-1746.292, total=   0.7s\n",
      "[CV] subsample=0.6, n_estimators=1100, min_child_weight=5, max_depth=5, learning_rate=0.2 \n",
      "[CV]  subsample=0.6, n_estimators=1100, min_child_weight=5, max_depth=5, learning_rate=0.2, score=-1432.713, total=   0.6s\n",
      "[CV] subsample=0.6, n_estimators=1100, min_child_weight=5, max_depth=5, learning_rate=0.2 \n",
      "[CV]  subsample=0.6, n_estimators=1100, min_child_weight=5, max_depth=5, learning_rate=0.2, score=-1300.905, total=   0.5s\n",
      "[CV] subsample=0.6, n_estimators=1100, min_child_weight=5, max_depth=5, learning_rate=0.2 \n"
     ]
    },
    {
     "name": "stdout",
     "output_type": "stream",
     "text": [
      "[CV]  subsample=0.6, n_estimators=1100, min_child_weight=5, max_depth=5, learning_rate=0.2, score=-1745.514, total=   0.6s\n",
      "[CV] subsample=0.6, n_estimators=1100, min_child_weight=5, max_depth=5, learning_rate=0.2 \n",
      "[CV]  subsample=0.6, n_estimators=1100, min_child_weight=5, max_depth=5, learning_rate=0.2, score=-1412.133, total=   0.5s\n",
      "[CV] subsample=0.6, n_estimators=1100, min_child_weight=5, max_depth=5, learning_rate=0.2 \n",
      "[CV]  subsample=0.6, n_estimators=1100, min_child_weight=5, max_depth=5, learning_rate=0.2, score=-1768.517, total=   0.6s\n",
      "[CV] subsample=0.7, n_estimators=800, min_child_weight=4, max_depth=15, learning_rate=0.5 \n",
      "[CV]  subsample=0.7, n_estimators=800, min_child_weight=4, max_depth=15, learning_rate=0.5, score=-1853.740, total=   0.4s\n",
      "[CV] subsample=0.7, n_estimators=800, min_child_weight=4, max_depth=15, learning_rate=0.5 \n",
      "[CV]  subsample=0.7, n_estimators=800, min_child_weight=4, max_depth=15, learning_rate=0.5, score=-1917.094, total=   0.4s\n",
      "[CV] subsample=0.7, n_estimators=800, min_child_weight=4, max_depth=15, learning_rate=0.5 \n",
      "[CV]  subsample=0.7, n_estimators=800, min_child_weight=4, max_depth=15, learning_rate=0.5, score=-1903.583, total=   0.4s\n",
      "[CV] subsample=0.7, n_estimators=800, min_child_weight=4, max_depth=15, learning_rate=0.5 \n",
      "[CV]  subsample=0.7, n_estimators=800, min_child_weight=4, max_depth=15, learning_rate=0.5, score=-2045.079, total=   0.4s\n",
      "[CV] subsample=0.7, n_estimators=800, min_child_weight=4, max_depth=15, learning_rate=0.5 \n",
      "[CV]  subsample=0.7, n_estimators=800, min_child_weight=4, max_depth=15, learning_rate=0.5, score=-2121.362, total=   0.4s\n",
      "[CV] subsample=0.6, n_estimators=200, min_child_weight=5, max_depth=15, learning_rate=0.5 \n",
      "[CV]  subsample=0.6, n_estimators=200, min_child_weight=5, max_depth=15, learning_rate=0.5, score=-1750.667, total=   0.2s\n",
      "[CV] subsample=0.6, n_estimators=200, min_child_weight=5, max_depth=15, learning_rate=0.5 \n",
      "[CV]  subsample=0.6, n_estimators=200, min_child_weight=5, max_depth=15, learning_rate=0.5, score=-1695.760, total=   0.3s\n",
      "[CV] subsample=0.6, n_estimators=200, min_child_weight=5, max_depth=15, learning_rate=0.5 \n",
      "[CV]  subsample=0.6, n_estimators=200, min_child_weight=5, max_depth=15, learning_rate=0.5, score=-1722.716, total=   0.2s\n",
      "[CV] subsample=0.6, n_estimators=200, min_child_weight=5, max_depth=15, learning_rate=0.5 \n",
      "[CV]  subsample=0.6, n_estimators=200, min_child_weight=5, max_depth=15, learning_rate=0.5, score=-1528.150, total=   0.9s\n",
      "[CV] subsample=0.6, n_estimators=200, min_child_weight=5, max_depth=15, learning_rate=0.5 \n",
      "[CV]  subsample=0.6, n_estimators=200, min_child_weight=5, max_depth=15, learning_rate=0.5, score=-2278.047, total=   0.4s\n",
      "[CV] subsample=0.7, n_estimators=800, min_child_weight=6, max_depth=30, learning_rate=0.05 \n",
      "[CV]  subsample=0.7, n_estimators=800, min_child_weight=6, max_depth=30, learning_rate=0.05, score=-1508.232, total=   1.0s\n",
      "[CV] subsample=0.7, n_estimators=800, min_child_weight=6, max_depth=30, learning_rate=0.05 \n",
      "[CV]  subsample=0.7, n_estimators=800, min_child_weight=6, max_depth=30, learning_rate=0.05, score=-1250.093, total=   1.0s\n",
      "[CV] subsample=0.7, n_estimators=800, min_child_weight=6, max_depth=30, learning_rate=0.05 \n",
      "[CV]  subsample=0.7, n_estimators=800, min_child_weight=6, max_depth=30, learning_rate=0.05, score=-1556.323, total=   0.9s\n",
      "[CV] subsample=0.7, n_estimators=800, min_child_weight=6, max_depth=30, learning_rate=0.05 \n",
      "[CV]  subsample=0.7, n_estimators=800, min_child_weight=6, max_depth=30, learning_rate=0.05, score=-1403.911, total=   0.9s\n",
      "[CV] subsample=0.7, n_estimators=800, min_child_weight=6, max_depth=30, learning_rate=0.05 \n",
      "[CV]  subsample=0.7, n_estimators=800, min_child_weight=6, max_depth=30, learning_rate=0.05, score=-1982.053, total=   1.1s\n",
      "[CV] subsample=0.7, n_estimators=1000, min_child_weight=5, max_depth=5, learning_rate=0.5 \n",
      "[CV]  subsample=0.7, n_estimators=1000, min_child_weight=5, max_depth=5, learning_rate=0.5, score=-1745.348, total=   0.4s\n",
      "[CV] subsample=0.7, n_estimators=1000, min_child_weight=5, max_depth=5, learning_rate=0.5 \n",
      "[CV]  subsample=0.7, n_estimators=1000, min_child_weight=5, max_depth=5, learning_rate=0.5, score=-1626.937, total=   0.4s\n",
      "[CV] subsample=0.7, n_estimators=1000, min_child_weight=5, max_depth=5, learning_rate=0.5 \n",
      "[CV]  subsample=0.7, n_estimators=1000, min_child_weight=5, max_depth=5, learning_rate=0.5, score=-2049.541, total=   0.3s\n",
      "[CV] subsample=0.7, n_estimators=1000, min_child_weight=5, max_depth=5, learning_rate=0.5 \n",
      "[CV]  subsample=0.7, n_estimators=1000, min_child_weight=5, max_depth=5, learning_rate=0.5, score=-1620.797, total=   0.3s\n",
      "[CV] subsample=0.7, n_estimators=1000, min_child_weight=5, max_depth=5, learning_rate=0.5 \n",
      "[CV]  subsample=0.7, n_estimators=1000, min_child_weight=5, max_depth=5, learning_rate=0.5, score=-2243.108, total=   0.4s\n"
     ]
    },
    {
     "name": "stderr",
     "output_type": "stream",
     "text": [
      "[Parallel(n_jobs=1)]: Done 500 out of 500 | elapsed:  4.9min finished\n"
     ]
    },
    {
     "data": {
      "text/plain": [
       "RandomizedSearchCV(cv=5,\n",
       "                   estimator=XGBRegressor(base_score=None, booster=None,\n",
       "                                          colsample_bylevel=None,\n",
       "                                          colsample_bynode=None,\n",
       "                                          colsample_bytree=None, gamma=None,\n",
       "                                          gpu_id=None, importance_type='gain',\n",
       "                                          interaction_constraints=None,\n",
       "                                          learning_rate=None,\n",
       "                                          max_delta_step=None, max_depth=None,\n",
       "                                          min_child_weight=None, missing=nan,\n",
       "                                          monotone_constraints=None,\n",
       "                                          n_estimators=100, n...\n",
       "                                          scale_pos_weight=None, subsample=None,\n",
       "                                          tree_method=None,\n",
       "                                          validate_parameters=None,\n",
       "                                          verbosity=None),\n",
       "                   n_iter=100,\n",
       "                   param_distributions={'learning_rate': ['0.05', '0.1', '0.2',\n",
       "                                                          '0.3', '0.5', '0.6'],\n",
       "                                        'max_depth': [5, 10, 15, 20, 25, 30],\n",
       "                                        'min_child_weight': [3, 4, 5, 6, 7],\n",
       "                                        'n_estimators': [100, 200, 300, 400,\n",
       "                                                         500, 600, 700, 800,\n",
       "                                                         900, 1000, 1100,\n",
       "                                                         1200],\n",
       "                                        'subsample': [0.7, 0.6, 0.8]},\n",
       "                   scoring='neg_mean_squared_error', verbose=10)"
      ]
     },
     "execution_count": 55,
     "metadata": {},
     "output_type": "execute_result"
    }
   ],
   "source": [
    "xg_random.fit(x_train,y_train)"
   ]
  },
  {
   "cell_type": "code",
   "execution_count": 57,
   "id": "33dcce23",
   "metadata": {},
   "outputs": [
    {
     "data": {
      "text/plain": [
       "{'subsample': 0.8,\n",
       " 'n_estimators': 1200,\n",
       " 'min_child_weight': 3,\n",
       " 'max_depth': 20,\n",
       " 'learning_rate': '0.1'}"
      ]
     },
     "execution_count": 57,
     "metadata": {},
     "output_type": "execute_result"
    }
   ],
   "source": [
    "#getting best params\n",
    "xg_random.best_params_"
   ]
  },
  {
   "cell_type": "code",
   "execution_count": 59,
   "id": "5aa0ac30",
   "metadata": {},
   "outputs": [
    {
     "data": {
      "text/plain": [
       "-1393.9842455702553"
      ]
     },
     "execution_count": 59,
     "metadata": {},
     "output_type": "execute_result"
    }
   ],
   "source": [
    "#getting best score\n",
    "xg_random.best_score_"
   ]
  },
  {
   "cell_type": "code",
   "execution_count": 60,
   "id": "cb8a5e1b",
   "metadata": {},
   "outputs": [],
   "source": [
    "## Evaluating the model"
   ]
  },
  {
   "cell_type": "code",
   "execution_count": 61,
   "id": "59c89104",
   "metadata": {},
   "outputs": [],
   "source": [
    "predictions=xg_random.predict(x_test)"
   ]
  },
  {
   "cell_type": "code",
   "execution_count": 64,
   "id": "77b4007a",
   "metadata": {},
   "outputs": [
    {
     "data": {
      "image/png": "[encoded data removed]",
      "text/plain": [
       "<Figure size 432x288 with 1 Axes>"
      ]
     },
     "metadata": {
      "needs_background": "light"
     },
     "output_type": "display_data"
    }
   ],
   "source": [
    "sns.distplot(y_test-predictions);"
   ]
  },
  {
   "cell_type": "code",
   "execution_count": 66,
   "id": "0e7a08d9",
   "metadata": {},
   "outputs": [
    {
     "data": {
      "image/png": "[encoded data removed]",
      "text/plain": [
       "<Figure size 432x288 with 1 Axes>"
      ]
     },
     "metadata": {
      "needs_background": "light"
     },
     "output_type": "display_data"
    }
   ],
   "source": [
    "plt.scatter(y_test,predictions);\n",
    "plt.xlabel('y_test values');\n",
    "plt.ylabel('predicted values');"
   ]
  },
  {
   "cell_type": "code",
   "execution_count": 67,
   "id": "2da97e28",
   "metadata": {},
   "outputs": [
    {
     "name": "stdout",
     "output_type": "stream",
     "text": [
      "MAE:  19.35244346095794\n",
      "MSE:  1408.4210778057964\n",
      "RMSE:  37.52893653976617\n"
     ]
    }
   ],
   "source": [
    "print('MAE: ',metrics.mean_absolute_error(y_test,predictions))\n",
    "print('MSE: ',metrics.mean_squared_error(y_test,predictions))\n",
    "print('RMSE: ',np.sqrt(metrics.mean_squared_error(y_test,predictions)))"
   ]
  },
  {
   "cell_type": "code",
   "execution_count": 68,
   "id": "e4d218de",
   "metadata": {},
   "outputs": [],
   "source": [
    "import pickle\n",
    "with open('xgboostRegressor_model.pkl','wb') as file:\n",
    "    pickle.dump(xg_random,file)"
   ]
  }
 ],
 "metadata": {
  "kernelspec": {
   "display_name": "Python 3 (ipykernel)",
   "language": "python",
   "name": "python3"
  },
  "language_info": {
   "codemirror_mode": {
    "name": "ipython",
    "version": 3
   },
   "file_extension": ".py",
   "mimetype": "text/x-python",
   "name": "python",
   "nbconvert_exporter": "python",
   "pygments_lexer": "ipython3",
   "version": "3.9.6"
  }
 },
 "nbformat": 4,
 "nbformat_minor": 5
}
