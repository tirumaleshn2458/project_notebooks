{
 "cells": [
  {
   "cell_type": "markdown",
   "id": "fd80b320",
   "metadata": {},
   "source": [
    "# Air Quality Index"
   ]
  },
  {
   "cell_type": "markdown",
   "id": "00aba79d",
   "metadata": {},
   "source": [
    "## ML model to be used\n",
    "\n",
    "- Linear Regression\n",
    "- Lasso and Ridge Regression\n",
    "- Decision Tree Regressor\n",
    "- KNN Regressor\n",
    "- RandomForestRegressor*\n",
    "- Xgboost Regressor\n",
    "- ANN- Artificial Neural Network\n"
   ]
  },
  {
   "cell_type": "markdown",
   "id": "f963b729",
   "metadata": {},
   "source": [
    "## Random Forest Regressor for training the data"
   ]
  },
  {
   "cell_type": "code",
   "execution_count": 135,
   "id": "de5c5d3c",
   "metadata": {},
   "outputs": [],
   "source": [
    "#import the libraries\n",
    "import pandas as pd\n",
    "import numpy as np\n",
    "import seaborn as sns\n",
    "import matplotlib.pyplot as plt\n",
    "from sklearn.model_selection import train_test_split\n",
    "from sklearn.ensemble import RandomForestRegressor"
   ]
  },
  {
   "cell_type": "code",
   "execution_count": 136,
   "id": "055b6ec2",
   "metadata": {},
   "outputs": [],
   "source": [
    "import warnings\n",
    "warnings.filterwarnings('ignore')"
   ]
  },
  {
   "cell_type": "code",
   "execution_count": 137,
   "id": "3dc8e13b",
   "metadata": {},
   "outputs": [],
   "source": [
    "#Reading the dataframe\n",
    "data_frame=pd.read_csv('AQI_data.csv')"
   ]
  },
  {
   "cell_type": "code",
   "execution_count": 138,
   "id": "ae1f0f65",
   "metadata": {},
   "outputs": [
    {
     "data": {
      "text/html": [
       "<div>\n",
       "<style scoped>\n",
       "    .dataframe tbody tr th:only-of-type {\n",
       "        vertical-align: middle;\n",
       "    }\n",
       "\n",
       "    .dataframe tbody tr th {\n",
       "        vertical-align: top;\n",
       "    }\n",
       "\n",
       "    .dataframe thead th {\n",
       "        text-align: right;\n",
       "    }\n",
       "</style>\n",
       "<table border=\"1\" class=\"dataframe\">\n",
       "  <thead>\n",
       "    <tr style=\"text-align: right;\">\n",
       "      <th></th>\n",
       "      <th>T</th>\n",
       "      <th>TM</th>\n",
       "      <th>Tm</th>\n",
       "      <th>SLP</th>\n",
       "      <th>H</th>\n",
       "      <th>VV</th>\n",
       "      <th>V</th>\n",
       "      <th>VM</th>\n",
       "      <th>PM 2.5</th>\n",
       "    </tr>\n",
       "  </thead>\n",
       "  <tbody>\n",
       "    <tr>\n",
       "      <th>0</th>\n",
       "      <td>7.4</td>\n",
       "      <td>9.8</td>\n",
       "      <td>4.8</td>\n",
       "      <td>1017.6</td>\n",
       "      <td>93.0</td>\n",
       "      <td>0.5</td>\n",
       "      <td>4.3</td>\n",
       "      <td>9.4</td>\n",
       "      <td>219.720833</td>\n",
       "    </tr>\n",
       "    <tr>\n",
       "      <th>1</th>\n",
       "      <td>7.8</td>\n",
       "      <td>12.7</td>\n",
       "      <td>4.4</td>\n",
       "      <td>1018.5</td>\n",
       "      <td>87.0</td>\n",
       "      <td>0.6</td>\n",
       "      <td>4.4</td>\n",
       "      <td>11.1</td>\n",
       "      <td>182.187500</td>\n",
       "    </tr>\n",
       "    <tr>\n",
       "      <th>2</th>\n",
       "      <td>6.7</td>\n",
       "      <td>13.4</td>\n",
       "      <td>2.4</td>\n",
       "      <td>1019.4</td>\n",
       "      <td>82.0</td>\n",
       "      <td>0.6</td>\n",
       "      <td>4.8</td>\n",
       "      <td>11.1</td>\n",
       "      <td>154.037500</td>\n",
       "    </tr>\n",
       "    <tr>\n",
       "      <th>3</th>\n",
       "      <td>8.6</td>\n",
       "      <td>15.5</td>\n",
       "      <td>3.3</td>\n",
       "      <td>1018.7</td>\n",
       "      <td>72.0</td>\n",
       "      <td>0.8</td>\n",
       "      <td>8.1</td>\n",
       "      <td>20.6</td>\n",
       "      <td>223.208333</td>\n",
       "    </tr>\n",
       "    <tr>\n",
       "      <th>4</th>\n",
       "      <td>12.4</td>\n",
       "      <td>20.9</td>\n",
       "      <td>4.4</td>\n",
       "      <td>1017.3</td>\n",
       "      <td>61.0</td>\n",
       "      <td>1.3</td>\n",
       "      <td>8.7</td>\n",
       "      <td>22.2</td>\n",
       "      <td>200.645833</td>\n",
       "    </tr>\n",
       "  </tbody>\n",
       "</table>\n",
       "</div>"
      ],
      "text/plain": [
       "      T    TM   Tm     SLP     H   VV    V    VM      PM 2.5\n",
       "0   7.4   9.8  4.8  1017.6  93.0  0.5  4.3   9.4  219.720833\n",
       "1   7.8  12.7  4.4  1018.5  87.0  0.6  4.4  11.1  182.187500\n",
       "2   6.7  13.4  2.4  1019.4  82.0  0.6  4.8  11.1  154.037500\n",
       "3   8.6  15.5  3.3  1018.7  72.0  0.8  8.1  20.6  223.208333\n",
       "4  12.4  20.9  4.4  1017.3  61.0  1.3  8.7  22.2  200.645833"
      ]
     },
     "execution_count": 138,
     "metadata": {},
     "output_type": "execute_result"
    }
   ],
   "source": [
    "data_frame.head()"
   ]
  },
  {
   "cell_type": "code",
   "execution_count": 139,
   "id": "0087bb39",
   "metadata": {},
   "outputs": [],
   "source": [
    "x=data_frame.iloc[:,:-1]#independent features\n",
    "y=data_frame.iloc[:,-1]#dependent feature"
   ]
  },
  {
   "cell_type": "markdown",
   "id": "38d13f47",
   "metadata": {},
   "source": [
    "## Spliting the data"
   ]
  },
  {
   "cell_type": "code",
   "execution_count": 140,
   "id": "80ce4aab",
   "metadata": {},
   "outputs": [],
   "source": [
    "#spliting the data by dividing into 70% for training data and 30% for test data"
   ]
  },
  {
   "cell_type": "code",
   "execution_count": 141,
   "id": "208d6144",
   "metadata": {},
   "outputs": [],
   "source": [
    "x_train,x_test,y_train,y_test=train_test_split(x,y,test_size=0.3,random_state=0)"
   ]
  },
  {
   "cell_type": "markdown",
   "id": "b83ae36a",
   "metadata": {},
   "source": [
    "- x_train and y_train are used for training the model.\n",
    "- x_test and y_test are used for test the model."
   ]
  },
  {
   "cell_type": "code",
   "execution_count": 142,
   "id": "df58d6e1",
   "metadata": {},
   "outputs": [],
   "source": [
    "#initializing the model"
   ]
  },
  {
   "cell_type": "code",
   "execution_count": 143,
   "id": "f007c314",
   "metadata": {},
   "outputs": [],
   "source": [
    "model=RandomForestRegressor()"
   ]
  },
  {
   "cell_type": "code",
   "execution_count": 144,
   "id": "a649ea01",
   "metadata": {},
   "outputs": [],
   "source": [
    "#fitting the model with data"
   ]
  },
  {
   "cell_type": "code",
   "execution_count": 145,
   "id": "a5a68e96",
   "metadata": {},
   "outputs": [
    {
     "data": {
      "text/plain": [
       "RandomForestRegressor()"
      ]
     },
     "execution_count": 145,
     "metadata": {},
     "output_type": "execute_result"
    }
   ],
   "source": [
    "model.fit(x_train,y_train)"
   ]
  },
  {
   "cell_type": "code",
   "execution_count": 146,
   "id": "4bf803a3",
   "metadata": {},
   "outputs": [
    {
     "data": {
      "text/plain": [
       "0.7869382229912816"
      ]
     },
     "execution_count": 146,
     "metadata": {},
     "output_type": "execute_result"
    }
   ],
   "source": [
    "#testing the data with test data\n",
    "model.score(x_test,y_test)"
   ]
  },
  {
   "cell_type": "code",
   "execution_count": 147,
   "id": "a46d5f74",
   "metadata": {},
   "outputs": [
    {
     "data": {
      "text/plain": [
       "0.9732862068370368"
      ]
     },
     "execution_count": 147,
     "metadata": {},
     "output_type": "execute_result"
    }
   ],
   "source": [
    "#testing the data with train data\n",
    "model.score(x_train,y_train)"
   ]
  },
  {
   "cell_type": "code",
   "execution_count": 148,
   "id": "a1936380",
   "metadata": {},
   "outputs": [],
   "source": [
    "from sklearn.model_selection import cross_val_score"
   ]
  },
  {
   "cell_type": "code",
   "execution_count": 149,
   "id": "cfc19dd1",
   "metadata": {},
   "outputs": [
    {
     "data": {
      "text/plain": [
       "0.6139553722562047"
      ]
     },
     "execution_count": 149,
     "metadata": {},
     "output_type": "execute_result"
    }
   ],
   "source": [
    "#cross validation for test data\n",
    "score=cross_val_score(model,x_test,y_test,cv=5)\n",
    "score.mean()"
   ]
  },
  {
   "cell_type": "code",
   "execution_count": 150,
   "id": "e199071b",
   "metadata": {},
   "outputs": [
    {
     "data": {
      "text/plain": [
       "0.7789616622019684"
      ]
     },
     "execution_count": 150,
     "metadata": {},
     "output_type": "execute_result"
    }
   ],
   "source": [
    "#cross validation for train data\n",
    "score=cross_val_score(model,x_train,y_train,cv=5)\n",
    "score.mean()"
   ]
  },
  {
   "cell_type": "markdown",
   "id": "47b09dae",
   "metadata": {},
   "source": [
    "## Evaluating the model"
   ]
  },
  {
   "cell_type": "code",
   "execution_count": 151,
   "id": "3402510f",
   "metadata": {},
   "outputs": [],
   "source": [
    "#chekcing the predictions"
   ]
  },
  {
   "cell_type": "code",
   "execution_count": 152,
   "id": "18d6c6c3",
   "metadata": {},
   "outputs": [],
   "source": [
    "predictions=model.predict(x_test)"
   ]
  },
  {
   "cell_type": "code",
   "execution_count": 153,
   "id": "224f70ba",
   "metadata": {},
   "outputs": [
    {
     "data": {
      "image/png": "[encoded data removed]",
      "text/plain": [
       "<Figure size 432x288 with 1 Axes>"
      ]
     },
     "metadata": {
      "needs_background": "light"
     },
     "output_type": "display_data"
    }
   ],
   "source": [
    "sns.distplot(predictions-y_test);"
   ]
  },
  {
   "cell_type": "code",
   "execution_count": 154,
   "id": "4ac79481",
   "metadata": {},
   "outputs": [
    {
     "data": {
      "text/plain": [
       "Text(0.5, 1.0, 'Relation between the y_test and predicted values')"
      ]
     },
     "execution_count": 154,
     "metadata": {},
     "output_type": "execute_result"
    },
    {
     "data": {
      "image/png": "[encoded data removed]",
      "text/plain": [
       "<Figure size 432x288 with 1 Axes>"
      ]
     },
     "metadata": {
      "needs_background": "light"
     },
     "output_type": "display_data"
    }
   ],
   "source": [
    "plt.scatter(y_test,predictions);\n",
    "plt.xlabel('y_test');\n",
    "plt.ylabel('Predicted values');\n",
    "plt.title('Relation between the y_test and predicted values')"
   ]
  },
  {
   "cell_type": "markdown",
   "id": "2c6982be",
   "metadata": {},
   "source": [
    "## Evaluating the model using the most common evaluation metrics from scratch"
   ]
  },
  {
   "cell_type": "markdown",
   "id": "9732dc19",
   "metadata": {},
   "source": [
    "- MAE:- Mean Absolute Error\n",
    "- MSE:- Mean Squared Error\n",
    "- RSME:- Root Mean Squared Error"
   ]
  },
  {
   "cell_type": "code",
   "execution_count": 155,
   "id": "3bfbebae",
   "metadata": {},
   "outputs": [
    {
     "name": "stdout",
     "output_type": "stream",
     "text": [
      "MAE:  23.99122573678862\n",
      "MSE:  1526.3322541740824\n",
      "RMSE:  39.06830242247649\n"
     ]
    }
   ],
   "source": [
    "#python module for metrics\n",
    "from sklearn import metrics\n",
    "print('MAE: ',metrics.mean_absolute_error(y_test,predictions))\n",
    "print('MSE: ',metrics.mean_squared_error(y_test,predictions))\n",
    "print('RMSE: ',np.sqrt(metrics.mean_squared_error(y_test,predictions)))"
   ]
  },
  {
   "cell_type": "markdown",
   "id": "939ad260",
   "metadata": {},
   "source": [
    "## We got good accuracy, so we will perform hyperparameter tuning to get even better accuracy."
   ]
  },
  {
   "cell_type": "markdown",
   "id": "a5c099af",
   "metadata": {},
   "source": [
    "## Hyperparameter tuning for RandomForestRegressor"
   ]
  },
  {
   "cell_type": "markdown",
   "id": "ee404cf0",
   "metadata": {},
   "source": [
    "**Using Random search where the model the picks the given parameters randomly and tune the model.**"
   ]
  },
  {
   "cell_type": "code",
   "execution_count": 156,
   "id": "2fd9d419",
   "metadata": {},
   "outputs": [],
   "source": [
    "from sklearn.model_selection import RandomizedSearchCV"
   ]
  },
  {
   "cell_type": "code",
   "execution_count": 157,
   "id": "500fd438",
   "metadata": {},
   "outputs": [],
   "source": [
    "# Number of trees in random forest\n",
    "n_estimators = [int(x) for x in np.linspace(start = 100, stop = 1200, num = 12)]\n",
    "# Number of features to consider at every split\n",
    "max_features = ['auto', 'sqrt']\n",
    "# Maximum number of levels in tree\n",
    "max_depth = [int(x) for x in np.linspace(5, 30, num = 6)]\n",
    "# max_depth.append(None)\n",
    "# Minimum number of samples required to split a node\n",
    "min_samples_split = [2, 5, 10, 15, 100]\n",
    "# Minimum number of samples required at each leaf node\n",
    "min_samples_leaf = [1, 2, 5, 10]\n",
    "# Method of selecting samples for training each tree"
   ]
  },
  {
   "cell_type": "markdown",
   "id": "5bdb49a2",
   "metadata": {},
   "source": [
    "Creating the paramgrid which contains parameter combinations of RandomForestRegressor and those params are sent into the random cv model to train RandomForestRegressor"
   ]
  },
  {
   "cell_type": "code",
   "execution_count": 158,
   "id": "67ece5d4",
   "metadata": {},
   "outputs": [
    {
     "name": "stdout",
     "output_type": "stream",
     "text": [
      "{'n_estimators': [100, 200, 300, 400, 500, 600, 700, 800, 900, 1000, 1100, 1200], 'max_features': ['auto', 'sqrt'], 'max_depth': [5, 10, 15, 20, 25, 30], 'min_samples_split': [2, 5, 10, 15, 100], 'min_samples_leaf': [1, 2, 5, 10]}\n"
     ]
    }
   ],
   "source": [
    "param_grid = {'n_estimators': n_estimators,\n",
    "               'max_features': max_features,\n",
    "               'max_depth': max_depth,\n",
    "               'min_samples_split': min_samples_split,\n",
    "               'min_samples_leaf': min_samples_leaf}\n",
    "\n",
    "print(param_grid)"
   ]
  },
  {
   "cell_type": "code",
   "execution_count": 159,
   "id": "55c6907d",
   "metadata": {},
   "outputs": [],
   "source": [
    "rfr_model=RandomForestRegressor()"
   ]
  },
  {
   "cell_type": "code",
   "execution_count": 160,
   "id": "45cc737b",
   "metadata": {},
   "outputs": [],
   "source": [
    "#initialzing the RandomSearchCV model\n",
    "random_cv=RandomizedSearchCV(estimator=rfr_model,param_distributions=param_grid,scoring='neg_mean_squared_error',n_iter=100,cv=5,verbose=10)"
   ]
  },
  {
   "cell_type": "code",
   "execution_count": 161,
   "id": "a64c2f41",
   "metadata": {
    "scrolled": true
   },
   "outputs": [
    {
     "name": "stdout",
     "output_type": "stream",
     "text": [
      "Fitting 5 folds for each of 100 candidates, totalling 500 fits\n",
      "[CV] n_estimators=400, min_samples_split=100, min_samples_leaf=2, max_features=auto, max_depth=5 \n"
     ]
    },
    {
     "name": "stderr",
     "output_type": "stream",
     "text": [
      "[Parallel(n_jobs=1)]: Using backend SequentialBackend with 1 concurrent workers.\n"
     ]
    },
    {
     "name": "stdout",
     "output_type": "stream",
     "text": [
      "[CV]  n_estimators=400, min_samples_split=100, min_samples_leaf=2, max_features=auto, max_depth=5, score=-2774.019, total=   0.5s\n",
      "[CV] n_estimators=400, min_samples_split=100, min_samples_leaf=2, max_features=auto, max_depth=5 \n"
     ]
    },
    {
     "name": "stderr",
     "output_type": "stream",
     "text": [
      "[Parallel(n_jobs=1)]: Done   1 out of   1 | elapsed:    0.5s remaining:    0.0s\n"
     ]
    },
    {
     "name": "stdout",
     "output_type": "stream",
     "text": [
      "[CV]  n_estimators=400, min_samples_split=100, min_samples_leaf=2, max_features=auto, max_depth=5, score=-2984.094, total=   0.5s\n",
      "[CV] n_estimators=400, min_samples_split=100, min_samples_leaf=2, max_features=auto, max_depth=5 \n"
     ]
    },
    {
     "name": "stderr",
     "output_type": "stream",
     "text": [
      "[Parallel(n_jobs=1)]: Done   2 out of   2 | elapsed:    1.0s remaining:    0.0s\n"
     ]
    },
    {
     "name": "stdout",
     "output_type": "stream",
     "text": [
      "[CV]  n_estimators=400, min_samples_split=100, min_samples_leaf=2, max_features=auto, max_depth=5, score=-2677.133, total=   0.5s\n",
      "[CV] n_estimators=400, min_samples_split=100, min_samples_leaf=2, max_features=auto, max_depth=5 \n"
     ]
    },
    {
     "name": "stderr",
     "output_type": "stream",
     "text": [
      "[Parallel(n_jobs=1)]: Done   3 out of   3 | elapsed:    1.5s remaining:    0.0s\n"
     ]
    },
    {
     "name": "stdout",
     "output_type": "stream",
     "text": [
      "[CV]  n_estimators=400, min_samples_split=100, min_samples_leaf=2, max_features=auto, max_depth=5, score=-2666.736, total=   0.5s\n",
      "[CV] n_estimators=400, min_samples_split=100, min_samples_leaf=2, max_features=auto, max_depth=5 \n"
     ]
    },
    {
     "name": "stderr",
     "output_type": "stream",
     "text": [
      "[Parallel(n_jobs=1)]: Done   4 out of   4 | elapsed:    2.0s remaining:    0.0s\n"
     ]
    },
    {
     "name": "stdout",
     "output_type": "stream",
     "text": [
      "[CV]  n_estimators=400, min_samples_split=100, min_samples_leaf=2, max_features=auto, max_depth=5, score=-3299.648, total=   0.6s\n",
      "[CV] n_estimators=600, min_samples_split=15, min_samples_leaf=5, max_features=auto, max_depth=20 \n"
     ]
    },
    {
     "name": "stderr",
     "output_type": "stream",
     "text": [
      "[Parallel(n_jobs=1)]: Done   5 out of   5 | elapsed:    2.6s remaining:    0.0s\n"
     ]
    },
    {
     "name": "stdout",
     "output_type": "stream",
     "text": [
      "[CV]  n_estimators=600, min_samples_split=15, min_samples_leaf=5, max_features=auto, max_depth=20, score=-1981.457, total=   1.1s\n",
      "[CV] n_estimators=600, min_samples_split=15, min_samples_leaf=5, max_features=auto, max_depth=20 \n"
     ]
    },
    {
     "name": "stderr",
     "output_type": "stream",
     "text": [
      "[Parallel(n_jobs=1)]: Done   6 out of   6 | elapsed:    3.7s remaining:    0.0s\n"
     ]
    },
    {
     "name": "stdout",
     "output_type": "stream",
     "text": [
      "[CV]  n_estimators=600, min_samples_split=15, min_samples_leaf=5, max_features=auto, max_depth=20, score=-1950.247, total=   1.0s\n",
      "[CV] n_estimators=600, min_samples_split=15, min_samples_leaf=5, max_features=auto, max_depth=20 \n"
     ]
    },
    {
     "name": "stderr",
     "output_type": "stream",
     "text": [
      "[Parallel(n_jobs=1)]: Done   7 out of   7 | elapsed:    4.7s remaining:    0.0s\n"
     ]
    },
    {
     "name": "stdout",
     "output_type": "stream",
     "text": [
      "[CV]  n_estimators=600, min_samples_split=15, min_samples_leaf=5, max_features=auto, max_depth=20, score=-1873.696, total=   1.0s\n",
      "[CV] n_estimators=600, min_samples_split=15, min_samples_leaf=5, max_features=auto, max_depth=20 \n"
     ]
    },
    {
     "name": "stderr",
     "output_type": "stream",
     "text": [
      "[Parallel(n_jobs=1)]: Done   8 out of   8 | elapsed:    5.7s remaining:    0.0s\n"
     ]
    },
    {
     "name": "stdout",
     "output_type": "stream",
     "text": [
      "[CV]  n_estimators=600, min_samples_split=15, min_samples_leaf=5, max_features=auto, max_depth=20, score=-1872.094, total=   0.9s\n",
      "[CV] n_estimators=600, min_samples_split=15, min_samples_leaf=5, max_features=auto, max_depth=20 \n"
     ]
    },
    {
     "name": "stderr",
     "output_type": "stream",
     "text": [
      "[Parallel(n_jobs=1)]: Done   9 out of   9 | elapsed:    6.6s remaining:    0.0s\n"
     ]
    },
    {
     "name": "stdout",
     "output_type": "stream",
     "text": [
      "[CV]  n_estimators=600, min_samples_split=15, min_samples_leaf=5, max_features=auto, max_depth=20, score=-2399.619, total=   0.9s\n",
      "[CV] n_estimators=300, min_samples_split=15, min_samples_leaf=5, max_features=auto, max_depth=25 \n",
      "[CV]  n_estimators=300, min_samples_split=15, min_samples_leaf=5, max_features=auto, max_depth=25, score=-1928.267, total=   0.5s\n",
      "[CV] n_estimators=300, min_samples_split=15, min_samples_leaf=5, max_features=auto, max_depth=25 \n",
      "[CV]  n_estimators=300, min_samples_split=15, min_samples_leaf=5, max_features=auto, max_depth=25, score=-1990.412, total=   0.5s\n",
      "[CV] n_estimators=300, min_samples_split=15, min_samples_leaf=5, max_features=auto, max_depth=25 \n",
      "[CV]  n_estimators=300, min_samples_split=15, min_samples_leaf=5, max_features=auto, max_depth=25, score=-1856.058, total=   0.5s\n",
      "[CV] n_estimators=300, min_samples_split=15, min_samples_leaf=5, max_features=auto, max_depth=25 \n",
      "[CV]  n_estimators=300, min_samples_split=15, min_samples_leaf=5, max_features=auto, max_depth=25, score=-1882.007, total=   0.5s\n",
      "[CV] n_estimators=300, min_samples_split=15, min_samples_leaf=5, max_features=auto, max_depth=25 \n",
      "[CV]  n_estimators=300, min_samples_split=15, min_samples_leaf=5, max_features=auto, max_depth=25, score=-2416.870, total=   0.5s\n",
      "[CV] n_estimators=1100, min_samples_split=15, min_samples_leaf=1, max_features=sqrt, max_depth=15 \n",
      "[CV]  n_estimators=1100, min_samples_split=15, min_samples_leaf=1, max_features=sqrt, max_depth=15, score=-2041.611, total=   1.4s\n",
      "[CV] n_estimators=1100, min_samples_split=15, min_samples_leaf=1, max_features=sqrt, max_depth=15 \n",
      "[CV]  n_estimators=1100, min_samples_split=15, min_samples_leaf=1, max_features=sqrt, max_depth=15, score=-1926.152, total=   1.3s\n",
      "[CV] n_estimators=1100, min_samples_split=15, min_samples_leaf=1, max_features=sqrt, max_depth=15 \n",
      "[CV]  n_estimators=1100, min_samples_split=15, min_samples_leaf=1, max_features=sqrt, max_depth=15, score=-1873.243, total=   1.2s\n",
      "[CV] n_estimators=1100, min_samples_split=15, min_samples_leaf=1, max_features=sqrt, max_depth=15 \n",
      "[CV]  n_estimators=1100, min_samples_split=15, min_samples_leaf=1, max_features=sqrt, max_depth=15, score=-1854.060, total=   1.2s\n",
      "[CV] n_estimators=1100, min_samples_split=15, min_samples_leaf=1, max_features=sqrt, max_depth=15 \n",
      "[CV]  n_estimators=1100, min_samples_split=15, min_samples_leaf=1, max_features=sqrt, max_depth=15, score=-2462.792, total=   1.2s\n",
      "[CV] n_estimators=500, min_samples_split=2, min_samples_leaf=1, max_features=sqrt, max_depth=10 \n",
      "[CV]  n_estimators=500, min_samples_split=2, min_samples_leaf=1, max_features=sqrt, max_depth=10, score=-1676.787, total=   0.6s\n",
      "[CV] n_estimators=500, min_samples_split=2, min_samples_leaf=1, max_features=sqrt, max_depth=10 \n",
      "[CV]  n_estimators=500, min_samples_split=2, min_samples_leaf=1, max_features=sqrt, max_depth=10, score=-1441.313, total=   0.6s\n",
      "[CV] n_estimators=500, min_samples_split=2, min_samples_leaf=1, max_features=sqrt, max_depth=10 \n",
      "[CV]  n_estimators=500, min_samples_split=2, min_samples_leaf=1, max_features=sqrt, max_depth=10, score=-1467.124, total=   0.6s\n",
      "[CV] n_estimators=500, min_samples_split=2, min_samples_leaf=1, max_features=sqrt, max_depth=10 \n",
      "[CV]  n_estimators=500, min_samples_split=2, min_samples_leaf=1, max_features=sqrt, max_depth=10, score=-1485.681, total=   0.6s\n",
      "[CV] n_estimators=500, min_samples_split=2, min_samples_leaf=1, max_features=sqrt, max_depth=10 \n",
      "[CV]  n_estimators=500, min_samples_split=2, min_samples_leaf=1, max_features=sqrt, max_depth=10, score=-2074.992, total=   0.6s\n",
      "[CV] n_estimators=1000, min_samples_split=100, min_samples_leaf=5, max_features=sqrt, max_depth=15 \n",
      "[CV]  n_estimators=1000, min_samples_split=100, min_samples_leaf=5, max_features=sqrt, max_depth=15, score=-3039.557, total=   1.0s\n",
      "[CV] n_estimators=1000, min_samples_split=100, min_samples_leaf=5, max_features=sqrt, max_depth=15 \n",
      "[CV]  n_estimators=1000, min_samples_split=100, min_samples_leaf=5, max_features=sqrt, max_depth=15, score=-2872.730, total=   1.0s\n",
      "[CV] n_estimators=1000, min_samples_split=100, min_samples_leaf=5, max_features=sqrt, max_depth=15 \n",
      "[CV]  n_estimators=1000, min_samples_split=100, min_samples_leaf=5, max_features=sqrt, max_depth=15, score=-2941.835, total=   1.0s\n",
      "[CV] n_estimators=1000, min_samples_split=100, min_samples_leaf=5, max_features=sqrt, max_depth=15 \n",
      "[CV]  n_estimators=1000, min_samples_split=100, min_samples_leaf=5, max_features=sqrt, max_depth=15, score=-2712.199, total=   1.0s\n",
      "[CV] n_estimators=1000, min_samples_split=100, min_samples_leaf=5, max_features=sqrt, max_depth=15 \n",
      "[CV]  n_estimators=1000, min_samples_split=100, min_samples_leaf=5, max_features=sqrt, max_depth=15, score=-3256.975, total=   1.0s\n",
      "[CV] n_estimators=1200, min_samples_split=100, min_samples_leaf=2, max_features=auto, max_depth=30 \n",
      "[CV]  n_estimators=1200, min_samples_split=100, min_samples_leaf=2, max_features=auto, max_depth=30, score=-2787.803, total=   1.6s\n",
      "[CV] n_estimators=1200, min_samples_split=100, min_samples_leaf=2, max_features=auto, max_depth=30 \n",
      "[CV]  n_estimators=1200, min_samples_split=100, min_samples_leaf=2, max_features=auto, max_depth=30, score=-2966.021, total=   1.7s\n",
      "[CV] n_estimators=1200, min_samples_split=100, min_samples_leaf=2, max_features=auto, max_depth=30 \n",
      "[CV]  n_estimators=1200, min_samples_split=100, min_samples_leaf=2, max_features=auto, max_depth=30, score=-2695.669, total=   1.6s\n",
      "[CV] n_estimators=1200, min_samples_split=100, min_samples_leaf=2, max_features=auto, max_depth=30 \n",
      "[CV]  n_estimators=1200, min_samples_split=100, min_samples_leaf=2, max_features=auto, max_depth=30, score=-2679.685, total=   1.6s\n",
      "[CV] n_estimators=1200, min_samples_split=100, min_samples_leaf=2, max_features=auto, max_depth=30 \n",
      "[CV]  n_estimators=1200, min_samples_split=100, min_samples_leaf=2, max_features=auto, max_depth=30, score=-3282.840, total=   1.7s\n",
      "[CV] n_estimators=1000, min_samples_split=10, min_samples_leaf=1, max_features=auto, max_depth=10 \n",
      "[CV]  n_estimators=1000, min_samples_split=10, min_samples_leaf=1, max_features=auto, max_depth=10, score=-1759.395, total=   1.8s\n",
      "[CV] n_estimators=1000, min_samples_split=10, min_samples_leaf=1, max_features=auto, max_depth=10 \n",
      "[CV]  n_estimators=1000, min_samples_split=10, min_samples_leaf=1, max_features=auto, max_depth=10, score=-1669.102, total=   1.8s\n",
      "[CV] n_estimators=1000, min_samples_split=10, min_samples_leaf=1, max_features=auto, max_depth=10 \n",
      "[CV]  n_estimators=1000, min_samples_split=10, min_samples_leaf=1, max_features=auto, max_depth=10, score=-1551.211, total=   2.0s\n",
      "[CV] n_estimators=1000, min_samples_split=10, min_samples_leaf=1, max_features=auto, max_depth=10 \n",
      "[CV]  n_estimators=1000, min_samples_split=10, min_samples_leaf=1, max_features=auto, max_depth=10, score=-1671.754, total=   1.8s\n",
      "[CV] n_estimators=1000, min_samples_split=10, min_samples_leaf=1, max_features=auto, max_depth=10 \n",
      "[CV]  n_estimators=1000, min_samples_split=10, min_samples_leaf=1, max_features=auto, max_depth=10, score=-2092.189, total=   1.7s\n",
      "[CV] n_estimators=100, min_samples_split=10, min_samples_leaf=2, max_features=auto, max_depth=25 \n",
      "[CV]  n_estimators=100, min_samples_split=10, min_samples_leaf=2, max_features=auto, max_depth=25, score=-1812.434, total=   0.2s\n",
      "[CV] n_estimators=100, min_samples_split=10, min_samples_leaf=2, max_features=auto, max_depth=25 \n",
      "[CV]  n_estimators=100, min_samples_split=10, min_samples_leaf=2, max_features=auto, max_depth=25, score=-1690.687, total=   0.2s\n",
      "[CV] n_estimators=100, min_samples_split=10, min_samples_leaf=2, max_features=auto, max_depth=25 \n",
      "[CV]  n_estimators=100, min_samples_split=10, min_samples_leaf=2, max_features=auto, max_depth=25, score=-1595.656, total=   0.2s\n",
      "[CV] n_estimators=100, min_samples_split=10, min_samples_leaf=2, max_features=auto, max_depth=25 \n",
      "[CV]  n_estimators=100, min_samples_split=10, min_samples_leaf=2, max_features=auto, max_depth=25, score=-1759.290, total=   0.2s\n",
      "[CV] n_estimators=100, min_samples_split=10, min_samples_leaf=2, max_features=auto, max_depth=25 \n",
      "[CV]  n_estimators=100, min_samples_split=10, min_samples_leaf=2, max_features=auto, max_depth=25, score=-2058.826, total=   0.2s\n",
      "[CV] n_estimators=500, min_samples_split=5, min_samples_leaf=5, max_features=auto, max_depth=15 \n"
     ]
    },
    {
     "name": "stdout",
     "output_type": "stream",
     "text": [
      "[CV]  n_estimators=500, min_samples_split=5, min_samples_leaf=5, max_features=auto, max_depth=15, score=-1897.400, total=   0.8s\n",
      "[CV] n_estimators=500, min_samples_split=5, min_samples_leaf=5, max_features=auto, max_depth=15 \n",
      "[CV]  n_estimators=500, min_samples_split=5, min_samples_leaf=5, max_features=auto, max_depth=15, score=-1868.601, total=   0.8s\n",
      "[CV] n_estimators=500, min_samples_split=5, min_samples_leaf=5, max_features=auto, max_depth=15 \n",
      "[CV]  n_estimators=500, min_samples_split=5, min_samples_leaf=5, max_features=auto, max_depth=15, score=-1789.765, total=   0.8s\n",
      "[CV] n_estimators=500, min_samples_split=5, min_samples_leaf=5, max_features=auto, max_depth=15 \n",
      "[CV]  n_estimators=500, min_samples_split=5, min_samples_leaf=5, max_features=auto, max_depth=15, score=-1773.090, total=   0.8s\n",
      "[CV] n_estimators=500, min_samples_split=5, min_samples_leaf=5, max_features=auto, max_depth=15 \n",
      "[CV]  n_estimators=500, min_samples_split=5, min_samples_leaf=5, max_features=auto, max_depth=15, score=-2285.788, total=   0.8s\n",
      "[CV] n_estimators=400, min_samples_split=10, min_samples_leaf=10, max_features=auto, max_depth=10 \n",
      "[CV]  n_estimators=400, min_samples_split=10, min_samples_leaf=10, max_features=auto, max_depth=10, score=-2138.109, total=   0.6s\n",
      "[CV] n_estimators=400, min_samples_split=10, min_samples_leaf=10, max_features=auto, max_depth=10 \n",
      "[CV]  n_estimators=400, min_samples_split=10, min_samples_leaf=10, max_features=auto, max_depth=10, score=-2126.701, total=   0.6s\n",
      "[CV] n_estimators=400, min_samples_split=10, min_samples_leaf=10, max_features=auto, max_depth=10 \n",
      "[CV]  n_estimators=400, min_samples_split=10, min_samples_leaf=10, max_features=auto, max_depth=10, score=-2070.886, total=   0.6s\n",
      "[CV] n_estimators=400, min_samples_split=10, min_samples_leaf=10, max_features=auto, max_depth=10 \n",
      "[CV]  n_estimators=400, min_samples_split=10, min_samples_leaf=10, max_features=auto, max_depth=10, score=-2105.581, total=   0.8s\n",
      "[CV] n_estimators=400, min_samples_split=10, min_samples_leaf=10, max_features=auto, max_depth=10 \n",
      "[CV]  n_estimators=400, min_samples_split=10, min_samples_leaf=10, max_features=auto, max_depth=10, score=-2659.278, total=   0.7s\n",
      "[CV] n_estimators=600, min_samples_split=100, min_samples_leaf=2, max_features=sqrt, max_depth=15 \n",
      "[CV]  n_estimators=600, min_samples_split=100, min_samples_leaf=2, max_features=sqrt, max_depth=15, score=-3012.063, total=   0.6s\n",
      "[CV] n_estimators=600, min_samples_split=100, min_samples_leaf=2, max_features=sqrt, max_depth=15 \n",
      "[CV]  n_estimators=600, min_samples_split=100, min_samples_leaf=2, max_features=sqrt, max_depth=15, score=-2879.808, total=   0.6s\n",
      "[CV] n_estimators=600, min_samples_split=100, min_samples_leaf=2, max_features=sqrt, max_depth=15 \n",
      "[CV]  n_estimators=600, min_samples_split=100, min_samples_leaf=2, max_features=sqrt, max_depth=15, score=-2936.789, total=   0.6s\n",
      "[CV] n_estimators=600, min_samples_split=100, min_samples_leaf=2, max_features=sqrt, max_depth=15 \n",
      "[CV]  n_estimators=600, min_samples_split=100, min_samples_leaf=2, max_features=sqrt, max_depth=15, score=-2677.435, total=   0.6s\n",
      "[CV] n_estimators=600, min_samples_split=100, min_samples_leaf=2, max_features=sqrt, max_depth=15 \n",
      "[CV]  n_estimators=600, min_samples_split=100, min_samples_leaf=2, max_features=sqrt, max_depth=15, score=-3249.278, total=   0.6s\n",
      "[CV] n_estimators=200, min_samples_split=10, min_samples_leaf=5, max_features=auto, max_depth=15 \n",
      "[CV]  n_estimators=200, min_samples_split=10, min_samples_leaf=5, max_features=auto, max_depth=15, score=-1857.935, total=   0.3s\n",
      "[CV] n_estimators=200, min_samples_split=10, min_samples_leaf=5, max_features=auto, max_depth=15 \n",
      "[CV]  n_estimators=200, min_samples_split=10, min_samples_leaf=5, max_features=auto, max_depth=15, score=-1888.938, total=   0.3s\n",
      "[CV] n_estimators=200, min_samples_split=10, min_samples_leaf=5, max_features=auto, max_depth=15 \n",
      "[CV]  n_estimators=200, min_samples_split=10, min_samples_leaf=5, max_features=auto, max_depth=15, score=-1819.351, total=   0.3s\n",
      "[CV] n_estimators=200, min_samples_split=10, min_samples_leaf=5, max_features=auto, max_depth=15 \n",
      "[CV]  n_estimators=200, min_samples_split=10, min_samples_leaf=5, max_features=auto, max_depth=15, score=-1788.407, total=   0.3s\n",
      "[CV] n_estimators=200, min_samples_split=10, min_samples_leaf=5, max_features=auto, max_depth=15 \n",
      "[CV]  n_estimators=200, min_samples_split=10, min_samples_leaf=5, max_features=auto, max_depth=15, score=-2292.187, total=   0.3s\n",
      "[CV] n_estimators=1200, min_samples_split=15, min_samples_leaf=2, max_features=sqrt, max_depth=25 \n",
      "[CV]  n_estimators=1200, min_samples_split=15, min_samples_leaf=2, max_features=sqrt, max_depth=25, score=-2107.986, total=   1.4s\n",
      "[CV] n_estimators=1200, min_samples_split=15, min_samples_leaf=2, max_features=sqrt, max_depth=25 \n",
      "[CV]  n_estimators=1200, min_samples_split=15, min_samples_leaf=2, max_features=sqrt, max_depth=25, score=-1960.776, total=   1.4s\n",
      "[CV] n_estimators=1200, min_samples_split=15, min_samples_leaf=2, max_features=sqrt, max_depth=25 \n",
      "[CV]  n_estimators=1200, min_samples_split=15, min_samples_leaf=2, max_features=sqrt, max_depth=25, score=-1932.656, total=   1.3s\n",
      "[CV] n_estimators=1200, min_samples_split=15, min_samples_leaf=2, max_features=sqrt, max_depth=25 \n",
      "[CV]  n_estimators=1200, min_samples_split=15, min_samples_leaf=2, max_features=sqrt, max_depth=25, score=-1928.190, total=   1.4s\n",
      "[CV] n_estimators=1200, min_samples_split=15, min_samples_leaf=2, max_features=sqrt, max_depth=25 \n",
      "[CV]  n_estimators=1200, min_samples_split=15, min_samples_leaf=2, max_features=sqrt, max_depth=25, score=-2494.738, total=   1.4s\n",
      "[CV] n_estimators=300, min_samples_split=15, min_samples_leaf=1, max_features=auto, max_depth=30 \n",
      "[CV]  n_estimators=300, min_samples_split=15, min_samples_leaf=1, max_features=auto, max_depth=30, score=-1820.968, total=   0.5s\n",
      "[CV] n_estimators=300, min_samples_split=15, min_samples_leaf=1, max_features=auto, max_depth=30 \n",
      "[CV]  n_estimators=300, min_samples_split=15, min_samples_leaf=1, max_features=auto, max_depth=30, score=-1797.840, total=   0.6s\n",
      "[CV] n_estimators=300, min_samples_split=15, min_samples_leaf=1, max_features=auto, max_depth=30 \n",
      "[CV]  n_estimators=300, min_samples_split=15, min_samples_leaf=1, max_features=auto, max_depth=30, score=-1725.781, total=   0.5s\n",
      "[CV] n_estimators=300, min_samples_split=15, min_samples_leaf=1, max_features=auto, max_depth=30 \n",
      "[CV]  n_estimators=300, min_samples_split=15, min_samples_leaf=1, max_features=auto, max_depth=30, score=-1739.615, total=   0.6s\n",
      "[CV] n_estimators=300, min_samples_split=15, min_samples_leaf=1, max_features=auto, max_depth=30 \n",
      "[CV]  n_estimators=300, min_samples_split=15, min_samples_leaf=1, max_features=auto, max_depth=30, score=-2189.516, total=   0.6s\n",
      "[CV] n_estimators=300, min_samples_split=2, min_samples_leaf=5, max_features=sqrt, max_depth=15 \n",
      "[CV]  n_estimators=300, min_samples_split=2, min_samples_leaf=5, max_features=sqrt, max_depth=15, score=-2170.527, total=   0.3s\n",
      "[CV] n_estimators=300, min_samples_split=2, min_samples_leaf=5, max_features=sqrt, max_depth=15 \n",
      "[CV]  n_estimators=300, min_samples_split=2, min_samples_leaf=5, max_features=sqrt, max_depth=15, score=-1977.929, total=   0.3s\n",
      "[CV] n_estimators=300, min_samples_split=2, min_samples_leaf=5, max_features=sqrt, max_depth=15 \n",
      "[CV]  n_estimators=300, min_samples_split=2, min_samples_leaf=5, max_features=sqrt, max_depth=15, score=-1985.162, total=   0.3s\n",
      "[CV] n_estimators=300, min_samples_split=2, min_samples_leaf=5, max_features=sqrt, max_depth=15 \n",
      "[CV]  n_estimators=300, min_samples_split=2, min_samples_leaf=5, max_features=sqrt, max_depth=15, score=-1923.452, total=   0.4s\n",
      "[CV] n_estimators=300, min_samples_split=2, min_samples_leaf=5, max_features=sqrt, max_depth=15 \n",
      "[CV]  n_estimators=300, min_samples_split=2, min_samples_leaf=5, max_features=sqrt, max_depth=15, score=-2525.461, total=   0.7s\n",
      "[CV] n_estimators=600, min_samples_split=100, min_samples_leaf=2, max_features=auto, max_depth=5 \n",
      "[CV]  n_estimators=600, min_samples_split=100, min_samples_leaf=2, max_features=auto, max_depth=5, score=-2794.183, total=   0.8s\n",
      "[CV] n_estimators=600, min_samples_split=100, min_samples_leaf=2, max_features=auto, max_depth=5 \n"
     ]
    },
    {
     "name": "stdout",
     "output_type": "stream",
     "text": [
      "[CV]  n_estimators=600, min_samples_split=100, min_samples_leaf=2, max_features=auto, max_depth=5, score=-2994.121, total=   0.8s\n",
      "[CV] n_estimators=600, min_samples_split=100, min_samples_leaf=2, max_features=auto, max_depth=5 \n",
      "[CV]  n_estimators=600, min_samples_split=100, min_samples_leaf=2, max_features=auto, max_depth=5, score=-2700.535, total=   0.8s\n",
      "[CV] n_estimators=600, min_samples_split=100, min_samples_leaf=2, max_features=auto, max_depth=5 \n",
      "[CV]  n_estimators=600, min_samples_split=100, min_samples_leaf=2, max_features=auto, max_depth=5, score=-2690.653, total=   0.8s\n",
      "[CV] n_estimators=600, min_samples_split=100, min_samples_leaf=2, max_features=auto, max_depth=5 \n",
      "[CV]  n_estimators=600, min_samples_split=100, min_samples_leaf=2, max_features=auto, max_depth=5, score=-3303.097, total=   0.7s\n",
      "[CV] n_estimators=400, min_samples_split=5, min_samples_leaf=1, max_features=auto, max_depth=5 \n",
      "[CV]  n_estimators=400, min_samples_split=5, min_samples_leaf=1, max_features=auto, max_depth=5, score=-2079.313, total=   0.6s\n",
      "[CV] n_estimators=400, min_samples_split=5, min_samples_leaf=1, max_features=auto, max_depth=5 \n",
      "[CV]  n_estimators=400, min_samples_split=5, min_samples_leaf=1, max_features=auto, max_depth=5, score=-2001.994, total=   0.7s\n",
      "[CV] n_estimators=400, min_samples_split=5, min_samples_leaf=1, max_features=auto, max_depth=5 \n",
      "[CV]  n_estimators=400, min_samples_split=5, min_samples_leaf=1, max_features=auto, max_depth=5, score=-1847.927, total=   0.6s\n",
      "[CV] n_estimators=400, min_samples_split=5, min_samples_leaf=1, max_features=auto, max_depth=5 \n",
      "[CV]  n_estimators=400, min_samples_split=5, min_samples_leaf=1, max_features=auto, max_depth=5, score=-1973.702, total=   0.7s\n",
      "[CV] n_estimators=400, min_samples_split=5, min_samples_leaf=1, max_features=auto, max_depth=5 \n",
      "[CV]  n_estimators=400, min_samples_split=5, min_samples_leaf=1, max_features=auto, max_depth=5, score=-2527.652, total=   0.6s\n",
      "[CV] n_estimators=1000, min_samples_split=2, min_samples_leaf=1, max_features=auto, max_depth=15 \n",
      "[CV]  n_estimators=1000, min_samples_split=2, min_samples_leaf=1, max_features=auto, max_depth=15, score=-1563.598, total=   2.2s\n",
      "[CV] n_estimators=1000, min_samples_split=2, min_samples_leaf=1, max_features=auto, max_depth=15 \n",
      "[CV]  n_estimators=1000, min_samples_split=2, min_samples_leaf=1, max_features=auto, max_depth=15, score=-1439.254, total=   2.2s\n",
      "[CV] n_estimators=1000, min_samples_split=2, min_samples_leaf=1, max_features=auto, max_depth=15 \n",
      "[CV]  n_estimators=1000, min_samples_split=2, min_samples_leaf=1, max_features=auto, max_depth=15, score=-1356.700, total=   2.1s\n",
      "[CV] n_estimators=1000, min_samples_split=2, min_samples_leaf=1, max_features=auto, max_depth=15 \n",
      "[CV]  n_estimators=1000, min_samples_split=2, min_samples_leaf=1, max_features=auto, max_depth=15, score=-1419.401, total=   2.4s\n",
      "[CV] n_estimators=1000, min_samples_split=2, min_samples_leaf=1, max_features=auto, max_depth=15 \n",
      "[CV]  n_estimators=1000, min_samples_split=2, min_samples_leaf=1, max_features=auto, max_depth=15, score=-1839.966, total=   2.5s\n",
      "[CV] n_estimators=800, min_samples_split=15, min_samples_leaf=5, max_features=sqrt, max_depth=25 \n",
      "[CV]  n_estimators=800, min_samples_split=15, min_samples_leaf=5, max_features=sqrt, max_depth=25, score=-2258.458, total=   1.0s\n",
      "[CV] n_estimators=800, min_samples_split=15, min_samples_leaf=5, max_features=sqrt, max_depth=25 \n",
      "[CV]  n_estimators=800, min_samples_split=15, min_samples_leaf=5, max_features=sqrt, max_depth=25, score=-2093.291, total=   1.0s\n",
      "[CV] n_estimators=800, min_samples_split=15, min_samples_leaf=5, max_features=sqrt, max_depth=25 \n",
      "[CV]  n_estimators=800, min_samples_split=15, min_samples_leaf=5, max_features=sqrt, max_depth=25, score=-2106.254, total=   1.0s\n",
      "[CV] n_estimators=800, min_samples_split=15, min_samples_leaf=5, max_features=sqrt, max_depth=25 \n",
      "[CV]  n_estimators=800, min_samples_split=15, min_samples_leaf=5, max_features=sqrt, max_depth=25, score=-2032.125, total=   0.9s\n",
      "[CV] n_estimators=800, min_samples_split=15, min_samples_leaf=5, max_features=sqrt, max_depth=25 \n",
      "[CV]  n_estimators=800, min_samples_split=15, min_samples_leaf=5, max_features=sqrt, max_depth=25, score=-2609.490, total=   1.0s\n",
      "[CV] n_estimators=1200, min_samples_split=5, min_samples_leaf=2, max_features=sqrt, max_depth=5 \n",
      "[CV]  n_estimators=1200, min_samples_split=5, min_samples_leaf=2, max_features=sqrt, max_depth=5, score=-2366.508, total=   1.4s\n",
      "[CV] n_estimators=1200, min_samples_split=5, min_samples_leaf=2, max_features=sqrt, max_depth=5 \n",
      "[CV]  n_estimators=1200, min_samples_split=5, min_samples_leaf=2, max_features=sqrt, max_depth=5, score=-2283.502, total=   1.3s\n",
      "[CV] n_estimators=1200, min_samples_split=5, min_samples_leaf=2, max_features=sqrt, max_depth=5 \n",
      "[CV]  n_estimators=1200, min_samples_split=5, min_samples_leaf=2, max_features=sqrt, max_depth=5, score=-2228.473, total=   1.3s\n",
      "[CV] n_estimators=1200, min_samples_split=5, min_samples_leaf=2, max_features=sqrt, max_depth=5 \n",
      "[CV]  n_estimators=1200, min_samples_split=5, min_samples_leaf=2, max_features=sqrt, max_depth=5, score=-2146.688, total=   1.2s\n",
      "[CV] n_estimators=1200, min_samples_split=5, min_samples_leaf=2, max_features=sqrt, max_depth=5 \n",
      "[CV]  n_estimators=1200, min_samples_split=5, min_samples_leaf=2, max_features=sqrt, max_depth=5, score=-2779.179, total=   1.3s\n",
      "[CV] n_estimators=1200, min_samples_split=2, min_samples_leaf=5, max_features=auto, max_depth=5 \n",
      "[CV]  n_estimators=1200, min_samples_split=2, min_samples_leaf=5, max_features=auto, max_depth=5, score=-2127.715, total=   1.7s\n",
      "[CV] n_estimators=1200, min_samples_split=2, min_samples_leaf=5, max_features=auto, max_depth=5 \n",
      "[CV]  n_estimators=1200, min_samples_split=2, min_samples_leaf=5, max_features=auto, max_depth=5, score=-2072.379, total=   2.1s\n",
      "[CV] n_estimators=1200, min_samples_split=2, min_samples_leaf=5, max_features=auto, max_depth=5 \n",
      "[CV]  n_estimators=1200, min_samples_split=2, min_samples_leaf=5, max_features=auto, max_depth=5, score=-2014.800, total=   1.8s\n",
      "[CV] n_estimators=1200, min_samples_split=2, min_samples_leaf=5, max_features=auto, max_depth=5 \n",
      "[CV]  n_estimators=1200, min_samples_split=2, min_samples_leaf=5, max_features=auto, max_depth=5, score=-2068.846, total=   1.8s\n",
      "[CV] n_estimators=1200, min_samples_split=2, min_samples_leaf=5, max_features=auto, max_depth=5 \n",
      "[CV]  n_estimators=1200, min_samples_split=2, min_samples_leaf=5, max_features=auto, max_depth=5, score=-2623.002, total=   1.8s\n",
      "[CV] n_estimators=200, min_samples_split=5, min_samples_leaf=1, max_features=auto, max_depth=25 \n",
      "[CV]  n_estimators=200, min_samples_split=5, min_samples_leaf=1, max_features=auto, max_depth=25, score=-1632.058, total=   0.4s\n",
      "[CV] n_estimators=200, min_samples_split=5, min_samples_leaf=1, max_features=auto, max_depth=25 \n",
      "[CV]  n_estimators=200, min_samples_split=5, min_samples_leaf=1, max_features=auto, max_depth=25, score=-1503.857, total=   0.4s\n",
      "[CV] n_estimators=200, min_samples_split=5, min_samples_leaf=1, max_features=auto, max_depth=25 \n",
      "[CV]  n_estimators=200, min_samples_split=5, min_samples_leaf=1, max_features=auto, max_depth=25, score=-1446.065, total=   0.4s\n",
      "[CV] n_estimators=200, min_samples_split=5, min_samples_leaf=1, max_features=auto, max_depth=25 \n",
      "[CV]  n_estimators=200, min_samples_split=5, min_samples_leaf=1, max_features=auto, max_depth=25, score=-1546.875, total=   0.4s\n",
      "[CV] n_estimators=200, min_samples_split=5, min_samples_leaf=1, max_features=auto, max_depth=25 \n",
      "[CV]  n_estimators=200, min_samples_split=5, min_samples_leaf=1, max_features=auto, max_depth=25, score=-1893.753, total=   0.4s\n",
      "[CV] n_estimators=1000, min_samples_split=10, min_samples_leaf=2, max_features=sqrt, max_depth=5 \n",
      "[CV]  n_estimators=1000, min_samples_split=10, min_samples_leaf=2, max_features=sqrt, max_depth=5, score=-2391.857, total=   1.1s\n",
      "[CV] n_estimators=1000, min_samples_split=10, min_samples_leaf=2, max_features=sqrt, max_depth=5 \n",
      "[CV]  n_estimators=1000, min_samples_split=10, min_samples_leaf=2, max_features=sqrt, max_depth=5, score=-2324.963, total=   1.1s\n",
      "[CV] n_estimators=1000, min_samples_split=10, min_samples_leaf=2, max_features=sqrt, max_depth=5 \n",
      "[CV]  n_estimators=1000, min_samples_split=10, min_samples_leaf=2, max_features=sqrt, max_depth=5, score=-2279.617, total=   1.1s\n",
      "[CV] n_estimators=1000, min_samples_split=10, min_samples_leaf=2, max_features=sqrt, max_depth=5 \n"
     ]
    },
    {
     "name": "stdout",
     "output_type": "stream",
     "text": [
      "[CV]  n_estimators=1000, min_samples_split=10, min_samples_leaf=2, max_features=sqrt, max_depth=5, score=-2217.830, total=   1.1s\n",
      "[CV] n_estimators=1000, min_samples_split=10, min_samples_leaf=2, max_features=sqrt, max_depth=5 \n",
      "[CV]  n_estimators=1000, min_samples_split=10, min_samples_leaf=2, max_features=sqrt, max_depth=5, score=-2804.801, total=   1.1s\n",
      "[CV] n_estimators=600, min_samples_split=15, min_samples_leaf=5, max_features=auto, max_depth=30 \n",
      "[CV]  n_estimators=600, min_samples_split=15, min_samples_leaf=5, max_features=auto, max_depth=30, score=-1958.761, total=   1.0s\n",
      "[CV] n_estimators=600, min_samples_split=15, min_samples_leaf=5, max_features=auto, max_depth=30 \n",
      "[CV]  n_estimators=600, min_samples_split=15, min_samples_leaf=5, max_features=auto, max_depth=30, score=-1959.801, total=   1.1s\n",
      "[CV] n_estimators=600, min_samples_split=15, min_samples_leaf=5, max_features=auto, max_depth=30 \n",
      "[CV]  n_estimators=600, min_samples_split=15, min_samples_leaf=5, max_features=auto, max_depth=30, score=-1867.429, total=   1.1s\n",
      "[CV] n_estimators=600, min_samples_split=15, min_samples_leaf=5, max_features=auto, max_depth=30 \n",
      "[CV]  n_estimators=600, min_samples_split=15, min_samples_leaf=5, max_features=auto, max_depth=30, score=-1871.461, total=   1.1s\n",
      "[CV] n_estimators=600, min_samples_split=15, min_samples_leaf=5, max_features=auto, max_depth=30 \n",
      "[CV]  n_estimators=600, min_samples_split=15, min_samples_leaf=5, max_features=auto, max_depth=30, score=-2411.458, total=   1.1s\n",
      "[CV] n_estimators=100, min_samples_split=100, min_samples_leaf=5, max_features=sqrt, max_depth=20 \n",
      "[CV]  n_estimators=100, min_samples_split=100, min_samples_leaf=5, max_features=sqrt, max_depth=20, score=-3003.399, total=   0.1s\n",
      "[CV] n_estimators=100, min_samples_split=100, min_samples_leaf=5, max_features=sqrt, max_depth=20 \n",
      "[CV]  n_estimators=100, min_samples_split=100, min_samples_leaf=5, max_features=sqrt, max_depth=20, score=-2864.094, total=   0.1s\n",
      "[CV] n_estimators=100, min_samples_split=100, min_samples_leaf=5, max_features=sqrt, max_depth=20 \n",
      "[CV]  n_estimators=100, min_samples_split=100, min_samples_leaf=5, max_features=sqrt, max_depth=20, score=-2862.164, total=   0.1s\n",
      "[CV] n_estimators=100, min_samples_split=100, min_samples_leaf=5, max_features=sqrt, max_depth=20 \n",
      "[CV]  n_estimators=100, min_samples_split=100, min_samples_leaf=5, max_features=sqrt, max_depth=20, score=-2714.103, total=   0.1s\n",
      "[CV] n_estimators=100, min_samples_split=100, min_samples_leaf=5, max_features=sqrt, max_depth=20 \n",
      "[CV]  n_estimators=100, min_samples_split=100, min_samples_leaf=5, max_features=sqrt, max_depth=20, score=-3296.491, total=   0.1s\n",
      "[CV] n_estimators=100, min_samples_split=5, min_samples_leaf=10, max_features=sqrt, max_depth=20 \n",
      "[CV]  n_estimators=100, min_samples_split=5, min_samples_leaf=10, max_features=sqrt, max_depth=20, score=-2557.066, total=   0.2s\n",
      "[CV] n_estimators=100, min_samples_split=5, min_samples_leaf=10, max_features=sqrt, max_depth=20 \n",
      "[CV]  n_estimators=100, min_samples_split=5, min_samples_leaf=10, max_features=sqrt, max_depth=20, score=-2336.826, total=   0.1s\n",
      "[CV] n_estimators=100, min_samples_split=5, min_samples_leaf=10, max_features=sqrt, max_depth=20 \n",
      "[CV]  n_estimators=100, min_samples_split=5, min_samples_leaf=10, max_features=sqrt, max_depth=20, score=-2350.777, total=   0.1s\n",
      "[CV] n_estimators=100, min_samples_split=5, min_samples_leaf=10, max_features=sqrt, max_depth=20 \n",
      "[CV]  n_estimators=100, min_samples_split=5, min_samples_leaf=10, max_features=sqrt, max_depth=20, score=-2247.799, total=   0.1s\n",
      "[CV] n_estimators=100, min_samples_split=5, min_samples_leaf=10, max_features=sqrt, max_depth=20 \n",
      "[CV]  n_estimators=100, min_samples_split=5, min_samples_leaf=10, max_features=sqrt, max_depth=20, score=-2797.035, total=   0.1s\n",
      "[CV] n_estimators=900, min_samples_split=2, min_samples_leaf=10, max_features=sqrt, max_depth=10 \n",
      "[CV]  n_estimators=900, min_samples_split=2, min_samples_leaf=10, max_features=sqrt, max_depth=10, score=-2500.589, total=   1.0s\n",
      "[CV] n_estimators=900, min_samples_split=2, min_samples_leaf=10, max_features=sqrt, max_depth=10 \n",
      "[CV]  n_estimators=900, min_samples_split=2, min_samples_leaf=10, max_features=sqrt, max_depth=10, score=-2313.893, total=   1.0s\n",
      "[CV] n_estimators=900, min_samples_split=2, min_samples_leaf=10, max_features=sqrt, max_depth=10 \n",
      "[CV]  n_estimators=900, min_samples_split=2, min_samples_leaf=10, max_features=sqrt, max_depth=10, score=-2327.542, total=   1.0s\n",
      "[CV] n_estimators=900, min_samples_split=2, min_samples_leaf=10, max_features=sqrt, max_depth=10 \n",
      "[CV]  n_estimators=900, min_samples_split=2, min_samples_leaf=10, max_features=sqrt, max_depth=10, score=-2269.370, total=   1.0s\n",
      "[CV] n_estimators=900, min_samples_split=2, min_samples_leaf=10, max_features=sqrt, max_depth=10 \n",
      "[CV]  n_estimators=900, min_samples_split=2, min_samples_leaf=10, max_features=sqrt, max_depth=10, score=-2821.883, total=   1.0s\n",
      "[CV] n_estimators=700, min_samples_split=2, min_samples_leaf=10, max_features=auto, max_depth=10 \n",
      "[CV]  n_estimators=700, min_samples_split=2, min_samples_leaf=10, max_features=auto, max_depth=10, score=-2138.304, total=   1.0s\n",
      "[CV] n_estimators=700, min_samples_split=2, min_samples_leaf=10, max_features=auto, max_depth=10 \n",
      "[CV]  n_estimators=700, min_samples_split=2, min_samples_leaf=10, max_features=auto, max_depth=10, score=-2127.901, total=   1.6s\n",
      "[CV] n_estimators=700, min_samples_split=2, min_samples_leaf=10, max_features=auto, max_depth=10 \n",
      "[CV]  n_estimators=700, min_samples_split=2, min_samples_leaf=10, max_features=auto, max_depth=10, score=-2066.902, total=   1.2s\n",
      "[CV] n_estimators=700, min_samples_split=2, min_samples_leaf=10, max_features=auto, max_depth=10 \n",
      "[CV]  n_estimators=700, min_samples_split=2, min_samples_leaf=10, max_features=auto, max_depth=10, score=-2104.254, total=   1.1s\n",
      "[CV] n_estimators=700, min_samples_split=2, min_samples_leaf=10, max_features=auto, max_depth=10 \n",
      "[CV]  n_estimators=700, min_samples_split=2, min_samples_leaf=10, max_features=auto, max_depth=10, score=-2669.569, total=   1.1s\n",
      "[CV] n_estimators=1000, min_samples_split=10, min_samples_leaf=5, max_features=sqrt, max_depth=15 \n",
      "[CV]  n_estimators=1000, min_samples_split=10, min_samples_leaf=5, max_features=sqrt, max_depth=15, score=-2162.980, total=   1.2s\n",
      "[CV] n_estimators=1000, min_samples_split=10, min_samples_leaf=5, max_features=sqrt, max_depth=15 \n",
      "[CV]  n_estimators=1000, min_samples_split=10, min_samples_leaf=5, max_features=sqrt, max_depth=15, score=-1983.522, total=   1.1s\n",
      "[CV] n_estimators=1000, min_samples_split=10, min_samples_leaf=5, max_features=sqrt, max_depth=15 \n",
      "[CV]  n_estimators=1000, min_samples_split=10, min_samples_leaf=5, max_features=sqrt, max_depth=15, score=-2001.105, total=   1.2s\n",
      "[CV] n_estimators=1000, min_samples_split=10, min_samples_leaf=5, max_features=sqrt, max_depth=15 \n",
      "[CV]  n_estimators=1000, min_samples_split=10, min_samples_leaf=5, max_features=sqrt, max_depth=15, score=-1954.199, total=   1.2s\n",
      "[CV] n_estimators=1000, min_samples_split=10, min_samples_leaf=5, max_features=sqrt, max_depth=15 \n",
      "[CV]  n_estimators=1000, min_samples_split=10, min_samples_leaf=5, max_features=sqrt, max_depth=15, score=-2513.321, total=   1.2s\n",
      "[CV] n_estimators=600, min_samples_split=2, min_samples_leaf=2, max_features=sqrt, max_depth=15 \n",
      "[CV]  n_estimators=600, min_samples_split=2, min_samples_leaf=2, max_features=sqrt, max_depth=15, score=-1786.387, total=   0.8s\n",
      "[CV] n_estimators=600, min_samples_split=2, min_samples_leaf=2, max_features=sqrt, max_depth=15 \n",
      "[CV]  n_estimators=600, min_samples_split=2, min_samples_leaf=2, max_features=sqrt, max_depth=15, score=-1570.835, total=   0.8s\n",
      "[CV] n_estimators=600, min_samples_split=2, min_samples_leaf=2, max_features=sqrt, max_depth=15 \n",
      "[CV]  n_estimators=600, min_samples_split=2, min_samples_leaf=2, max_features=sqrt, max_depth=15, score=-1603.743, total=   0.8s\n",
      "[CV] n_estimators=600, min_samples_split=2, min_samples_leaf=2, max_features=sqrt, max_depth=15 \n",
      "[CV]  n_estimators=600, min_samples_split=2, min_samples_leaf=2, max_features=sqrt, max_depth=15, score=-1591.670, total=   0.8s\n",
      "[CV] n_estimators=600, min_samples_split=2, min_samples_leaf=2, max_features=sqrt, max_depth=15 \n"
     ]
    },
    {
     "name": "stdout",
     "output_type": "stream",
     "text": [
      "[CV]  n_estimators=600, min_samples_split=2, min_samples_leaf=2, max_features=sqrt, max_depth=15, score=-2130.816, total=   0.8s\n",
      "[CV] n_estimators=600, min_samples_split=100, min_samples_leaf=10, max_features=sqrt, max_depth=10 \n",
      "[CV]  n_estimators=600, min_samples_split=100, min_samples_leaf=10, max_features=sqrt, max_depth=10, score=-3079.261, total=   0.6s\n",
      "[CV] n_estimators=600, min_samples_split=100, min_samples_leaf=10, max_features=sqrt, max_depth=10 \n",
      "[CV]  n_estimators=600, min_samples_split=100, min_samples_leaf=10, max_features=sqrt, max_depth=10, score=-2903.543, total=   0.7s\n",
      "[CV] n_estimators=600, min_samples_split=100, min_samples_leaf=10, max_features=sqrt, max_depth=10 \n",
      "[CV]  n_estimators=600, min_samples_split=100, min_samples_leaf=10, max_features=sqrt, max_depth=10, score=-2955.806, total=   1.0s\n",
      "[CV] n_estimators=600, min_samples_split=100, min_samples_leaf=10, max_features=sqrt, max_depth=10 \n",
      "[CV]  n_estimators=600, min_samples_split=100, min_samples_leaf=10, max_features=sqrt, max_depth=10, score=-2733.110, total=   0.7s\n",
      "[CV] n_estimators=600, min_samples_split=100, min_samples_leaf=10, max_features=sqrt, max_depth=10 \n",
      "[CV]  n_estimators=600, min_samples_split=100, min_samples_leaf=10, max_features=sqrt, max_depth=10, score=-3246.951, total=   0.7s\n",
      "[CV] n_estimators=300, min_samples_split=10, min_samples_leaf=1, max_features=auto, max_depth=25 \n",
      "[CV]  n_estimators=300, min_samples_split=10, min_samples_leaf=1, max_features=auto, max_depth=25, score=-1732.377, total=   0.6s\n",
      "[CV] n_estimators=300, min_samples_split=10, min_samples_leaf=1, max_features=auto, max_depth=25 \n",
      "[CV]  n_estimators=300, min_samples_split=10, min_samples_leaf=1, max_features=auto, max_depth=25, score=-1641.137, total=   0.6s\n",
      "[CV] n_estimators=300, min_samples_split=10, min_samples_leaf=1, max_features=auto, max_depth=25 \n",
      "[CV]  n_estimators=300, min_samples_split=10, min_samples_leaf=1, max_features=auto, max_depth=25, score=-1526.939, total=   0.6s\n",
      "[CV] n_estimators=300, min_samples_split=10, min_samples_leaf=1, max_features=auto, max_depth=25 \n",
      "[CV]  n_estimators=300, min_samples_split=10, min_samples_leaf=1, max_features=auto, max_depth=25, score=-1640.029, total=   0.5s\n",
      "[CV] n_estimators=300, min_samples_split=10, min_samples_leaf=1, max_features=auto, max_depth=25 \n",
      "[CV]  n_estimators=300, min_samples_split=10, min_samples_leaf=1, max_features=auto, max_depth=25, score=-2057.768, total=   0.5s\n",
      "[CV] n_estimators=600, min_samples_split=100, min_samples_leaf=5, max_features=sqrt, max_depth=30 \n",
      "[CV]  n_estimators=600, min_samples_split=100, min_samples_leaf=5, max_features=sqrt, max_depth=30, score=-3048.170, total=   0.6s\n",
      "[CV] n_estimators=600, min_samples_split=100, min_samples_leaf=5, max_features=sqrt, max_depth=30 \n",
      "[CV]  n_estimators=600, min_samples_split=100, min_samples_leaf=5, max_features=sqrt, max_depth=30, score=-2871.477, total=   0.6s\n",
      "[CV] n_estimators=600, min_samples_split=100, min_samples_leaf=5, max_features=sqrt, max_depth=30 \n",
      "[CV]  n_estimators=600, min_samples_split=100, min_samples_leaf=5, max_features=sqrt, max_depth=30, score=-2930.981, total=   0.7s\n",
      "[CV] n_estimators=600, min_samples_split=100, min_samples_leaf=5, max_features=sqrt, max_depth=30 \n",
      "[CV]  n_estimators=600, min_samples_split=100, min_samples_leaf=5, max_features=sqrt, max_depth=30, score=-2716.067, total=   0.7s\n",
      "[CV] n_estimators=600, min_samples_split=100, min_samples_leaf=5, max_features=sqrt, max_depth=30 \n",
      "[CV]  n_estimators=600, min_samples_split=100, min_samples_leaf=5, max_features=sqrt, max_depth=30, score=-3242.242, total=   0.7s\n",
      "[CV] n_estimators=500, min_samples_split=100, min_samples_leaf=1, max_features=auto, max_depth=25 \n",
      "[CV]  n_estimators=500, min_samples_split=100, min_samples_leaf=1, max_features=auto, max_depth=25, score=-2796.610, total=   0.7s\n",
      "[CV] n_estimators=500, min_samples_split=100, min_samples_leaf=1, max_features=auto, max_depth=25 \n",
      "[CV]  n_estimators=500, min_samples_split=100, min_samples_leaf=1, max_features=auto, max_depth=25, score=-2988.751, total=   0.7s\n",
      "[CV] n_estimators=500, min_samples_split=100, min_samples_leaf=1, max_features=auto, max_depth=25 \n",
      "[CV]  n_estimators=500, min_samples_split=100, min_samples_leaf=1, max_features=auto, max_depth=25, score=-2688.704, total=   0.7s\n",
      "[CV] n_estimators=500, min_samples_split=100, min_samples_leaf=1, max_features=auto, max_depth=25 \n",
      "[CV]  n_estimators=500, min_samples_split=100, min_samples_leaf=1, max_features=auto, max_depth=25, score=-2691.342, total=   0.7s\n",
      "[CV] n_estimators=500, min_samples_split=100, min_samples_leaf=1, max_features=auto, max_depth=25 \n",
      "[CV]  n_estimators=500, min_samples_split=100, min_samples_leaf=1, max_features=auto, max_depth=25, score=-3282.761, total=   0.7s\n",
      "[CV] n_estimators=1000, min_samples_split=10, min_samples_leaf=10, max_features=sqrt, max_depth=25 \n",
      "[CV]  n_estimators=1000, min_samples_split=10, min_samples_leaf=10, max_features=sqrt, max_depth=25, score=-2490.049, total=   1.2s\n",
      "[CV] n_estimators=1000, min_samples_split=10, min_samples_leaf=10, max_features=sqrt, max_depth=25 \n",
      "[CV]  n_estimators=1000, min_samples_split=10, min_samples_leaf=10, max_features=sqrt, max_depth=25, score=-2342.173, total=   1.1s\n",
      "[CV] n_estimators=1000, min_samples_split=10, min_samples_leaf=10, max_features=sqrt, max_depth=25 \n",
      "[CV]  n_estimators=1000, min_samples_split=10, min_samples_leaf=10, max_features=sqrt, max_depth=25, score=-2337.172, total=   1.2s\n",
      "[CV] n_estimators=1000, min_samples_split=10, min_samples_leaf=10, max_features=sqrt, max_depth=25 \n",
      "[CV]  n_estimators=1000, min_samples_split=10, min_samples_leaf=10, max_features=sqrt, max_depth=25, score=-2251.077, total=   1.1s\n",
      "[CV] n_estimators=1000, min_samples_split=10, min_samples_leaf=10, max_features=sqrt, max_depth=25 \n",
      "[CV]  n_estimators=1000, min_samples_split=10, min_samples_leaf=10, max_features=sqrt, max_depth=25, score=-2842.454, total=   1.1s\n",
      "[CV] n_estimators=500, min_samples_split=2, min_samples_leaf=10, max_features=sqrt, max_depth=10 \n",
      "[CV]  n_estimators=500, min_samples_split=2, min_samples_leaf=10, max_features=sqrt, max_depth=10, score=-2496.791, total=   0.6s\n",
      "[CV] n_estimators=500, min_samples_split=2, min_samples_leaf=10, max_features=sqrt, max_depth=10 \n",
      "[CV]  n_estimators=500, min_samples_split=2, min_samples_leaf=10, max_features=sqrt, max_depth=10, score=-2334.027, total=   0.6s\n",
      "[CV] n_estimators=500, min_samples_split=2, min_samples_leaf=10, max_features=sqrt, max_depth=10 \n",
      "[CV]  n_estimators=500, min_samples_split=2, min_samples_leaf=10, max_features=sqrt, max_depth=10, score=-2324.341, total=   0.6s\n",
      "[CV] n_estimators=500, min_samples_split=2, min_samples_leaf=10, max_features=sqrt, max_depth=10 \n",
      "[CV]  n_estimators=500, min_samples_split=2, min_samples_leaf=10, max_features=sqrt, max_depth=10, score=-2249.219, total=   0.6s\n",
      "[CV] n_estimators=500, min_samples_split=2, min_samples_leaf=10, max_features=sqrt, max_depth=10 \n",
      "[CV]  n_estimators=500, min_samples_split=2, min_samples_leaf=10, max_features=sqrt, max_depth=10, score=-2847.739, total=   0.6s\n",
      "[CV] n_estimators=400, min_samples_split=100, min_samples_leaf=5, max_features=auto, max_depth=15 \n",
      "[CV]  n_estimators=400, min_samples_split=100, min_samples_leaf=5, max_features=auto, max_depth=15, score=-2787.435, total=   0.6s\n",
      "[CV] n_estimators=400, min_samples_split=100, min_samples_leaf=5, max_features=auto, max_depth=15 \n",
      "[CV]  n_estimators=400, min_samples_split=100, min_samples_leaf=5, max_features=auto, max_depth=15, score=-2983.029, total=   0.6s\n",
      "[CV] n_estimators=400, min_samples_split=100, min_samples_leaf=5, max_features=auto, max_depth=15 \n",
      "[CV]  n_estimators=400, min_samples_split=100, min_samples_leaf=5, max_features=auto, max_depth=15, score=-2689.235, total=   0.5s\n",
      "[CV] n_estimators=400, min_samples_split=100, min_samples_leaf=5, max_features=auto, max_depth=15 \n",
      "[CV]  n_estimators=400, min_samples_split=100, min_samples_leaf=5, max_features=auto, max_depth=15, score=-2654.500, total=   0.6s\n",
      "[CV] n_estimators=400, min_samples_split=100, min_samples_leaf=5, max_features=auto, max_depth=15 \n",
      "[CV]  n_estimators=400, min_samples_split=100, min_samples_leaf=5, max_features=auto, max_depth=15, score=-3306.144, total=   0.6s\n",
      "[CV] n_estimators=100, min_samples_split=15, min_samples_leaf=10, max_features=auto, max_depth=20 \n",
      "[CV]  n_estimators=100, min_samples_split=15, min_samples_leaf=10, max_features=auto, max_depth=20, score=-2114.821, total=   0.2s\n",
      "[CV] n_estimators=100, min_samples_split=15, min_samples_leaf=10, max_features=auto, max_depth=20 \n"
     ]
    },
    {
     "name": "stdout",
     "output_type": "stream",
     "text": [
      "[CV]  n_estimators=100, min_samples_split=15, min_samples_leaf=10, max_features=auto, max_depth=20, score=-2121.020, total=   0.2s\n",
      "[CV] n_estimators=100, min_samples_split=15, min_samples_leaf=10, max_features=auto, max_depth=20 \n",
      "[CV]  n_estimators=100, min_samples_split=15, min_samples_leaf=10, max_features=auto, max_depth=20, score=-2087.604, total=   0.2s\n",
      "[CV] n_estimators=100, min_samples_split=15, min_samples_leaf=10, max_features=auto, max_depth=20 \n",
      "[CV]  n_estimators=100, min_samples_split=15, min_samples_leaf=10, max_features=auto, max_depth=20, score=-2056.955, total=   0.2s\n",
      "[CV] n_estimators=100, min_samples_split=15, min_samples_leaf=10, max_features=auto, max_depth=20 \n",
      "[CV]  n_estimators=100, min_samples_split=15, min_samples_leaf=10, max_features=auto, max_depth=20, score=-2717.180, total=   0.1s\n",
      "[CV] n_estimators=100, min_samples_split=100, min_samples_leaf=2, max_features=auto, max_depth=25 \n",
      "[CV]  n_estimators=100, min_samples_split=100, min_samples_leaf=2, max_features=auto, max_depth=25, score=-2778.151, total=   0.2s\n",
      "[CV] n_estimators=100, min_samples_split=100, min_samples_leaf=2, max_features=auto, max_depth=25 \n",
      "[CV]  n_estimators=100, min_samples_split=100, min_samples_leaf=2, max_features=auto, max_depth=25, score=-2990.754, total=   0.1s\n",
      "[CV] n_estimators=100, min_samples_split=100, min_samples_leaf=2, max_features=auto, max_depth=25 \n",
      "[CV]  n_estimators=100, min_samples_split=100, min_samples_leaf=2, max_features=auto, max_depth=25, score=-2734.296, total=   0.1s\n",
      "[CV] n_estimators=100, min_samples_split=100, min_samples_leaf=2, max_features=auto, max_depth=25 \n",
      "[CV]  n_estimators=100, min_samples_split=100, min_samples_leaf=2, max_features=auto, max_depth=25, score=-2662.552, total=   0.1s\n",
      "[CV] n_estimators=100, min_samples_split=100, min_samples_leaf=2, max_features=auto, max_depth=25 \n",
      "[CV]  n_estimators=100, min_samples_split=100, min_samples_leaf=2, max_features=auto, max_depth=25, score=-3320.321, total=   0.1s\n",
      "[CV] n_estimators=200, min_samples_split=10, min_samples_leaf=10, max_features=sqrt, max_depth=25 \n",
      "[CV]  n_estimators=200, min_samples_split=10, min_samples_leaf=10, max_features=sqrt, max_depth=25, score=-2516.994, total=   0.2s\n",
      "[CV] n_estimators=200, min_samples_split=10, min_samples_leaf=10, max_features=sqrt, max_depth=25 \n",
      "[CV]  n_estimators=200, min_samples_split=10, min_samples_leaf=10, max_features=sqrt, max_depth=25, score=-2311.675, total=   0.2s\n",
      "[CV] n_estimators=200, min_samples_split=10, min_samples_leaf=10, max_features=sqrt, max_depth=25 \n",
      "[CV]  n_estimators=200, min_samples_split=10, min_samples_leaf=10, max_features=sqrt, max_depth=25, score=-2358.112, total=   0.2s\n",
      "[CV] n_estimators=200, min_samples_split=10, min_samples_leaf=10, max_features=sqrt, max_depth=25 \n",
      "[CV]  n_estimators=200, min_samples_split=10, min_samples_leaf=10, max_features=sqrt, max_depth=25, score=-2258.863, total=   0.2s\n",
      "[CV] n_estimators=200, min_samples_split=10, min_samples_leaf=10, max_features=sqrt, max_depth=25 \n",
      "[CV]  n_estimators=200, min_samples_split=10, min_samples_leaf=10, max_features=sqrt, max_depth=25, score=-2820.970, total=   0.2s\n",
      "[CV] n_estimators=500, min_samples_split=5, min_samples_leaf=1, max_features=sqrt, max_depth=10 \n",
      "[CV]  n_estimators=500, min_samples_split=5, min_samples_leaf=1, max_features=sqrt, max_depth=10, score=-1787.510, total=   0.6s\n",
      "[CV] n_estimators=500, min_samples_split=5, min_samples_leaf=1, max_features=sqrt, max_depth=10 \n",
      "[CV]  n_estimators=500, min_samples_split=5, min_samples_leaf=1, max_features=sqrt, max_depth=10, score=-1527.005, total=   0.7s\n",
      "[CV] n_estimators=500, min_samples_split=5, min_samples_leaf=1, max_features=sqrt, max_depth=10 \n",
      "[CV]  n_estimators=500, min_samples_split=5, min_samples_leaf=1, max_features=sqrt, max_depth=10, score=-1579.047, total=   0.6s\n",
      "[CV] n_estimators=500, min_samples_split=5, min_samples_leaf=1, max_features=sqrt, max_depth=10 \n",
      "[CV]  n_estimators=500, min_samples_split=5, min_samples_leaf=1, max_features=sqrt, max_depth=10, score=-1584.996, total=   0.7s\n",
      "[CV] n_estimators=500, min_samples_split=5, min_samples_leaf=1, max_features=sqrt, max_depth=10 \n",
      "[CV]  n_estimators=500, min_samples_split=5, min_samples_leaf=1, max_features=sqrt, max_depth=10, score=-2190.501, total=   0.6s\n",
      "[CV] n_estimators=100, min_samples_split=10, min_samples_leaf=2, max_features=sqrt, max_depth=30 \n",
      "[CV]  n_estimators=100, min_samples_split=10, min_samples_leaf=2, max_features=sqrt, max_depth=30, score=-1982.560, total=   0.1s\n",
      "[CV] n_estimators=100, min_samples_split=10, min_samples_leaf=2, max_features=sqrt, max_depth=30 \n",
      "[CV]  n_estimators=100, min_samples_split=10, min_samples_leaf=2, max_features=sqrt, max_depth=30, score=-1812.742, total=   0.1s\n",
      "[CV] n_estimators=100, min_samples_split=10, min_samples_leaf=2, max_features=sqrt, max_depth=30 \n",
      "[CV]  n_estimators=100, min_samples_split=10, min_samples_leaf=2, max_features=sqrt, max_depth=30, score=-1767.152, total=   0.1s\n",
      "[CV] n_estimators=100, min_samples_split=10, min_samples_leaf=2, max_features=sqrt, max_depth=30 \n",
      "[CV]  n_estimators=100, min_samples_split=10, min_samples_leaf=2, max_features=sqrt, max_depth=30, score=-1765.166, total=   0.2s\n",
      "[CV] n_estimators=100, min_samples_split=10, min_samples_leaf=2, max_features=sqrt, max_depth=30 \n",
      "[CV]  n_estimators=100, min_samples_split=10, min_samples_leaf=2, max_features=sqrt, max_depth=30, score=-2358.115, total=   0.1s\n",
      "[CV] n_estimators=300, min_samples_split=10, min_samples_leaf=10, max_features=auto, max_depth=25 \n",
      "[CV]  n_estimators=300, min_samples_split=10, min_samples_leaf=10, max_features=auto, max_depth=25, score=-2162.298, total=   0.5s\n",
      "[CV] n_estimators=300, min_samples_split=10, min_samples_leaf=10, max_features=auto, max_depth=25 \n",
      "[CV]  n_estimators=300, min_samples_split=10, min_samples_leaf=10, max_features=auto, max_depth=25, score=-2128.292, total=   0.5s\n",
      "[CV] n_estimators=300, min_samples_split=10, min_samples_leaf=10, max_features=auto, max_depth=25 \n",
      "[CV]  n_estimators=300, min_samples_split=10, min_samples_leaf=10, max_features=auto, max_depth=25, score=-2093.918, total=   0.5s\n",
      "[CV] n_estimators=300, min_samples_split=10, min_samples_leaf=10, max_features=auto, max_depth=25 \n",
      "[CV]  n_estimators=300, min_samples_split=10, min_samples_leaf=10, max_features=auto, max_depth=25, score=-2052.467, total=   0.6s\n",
      "[CV] n_estimators=300, min_samples_split=10, min_samples_leaf=10, max_features=auto, max_depth=25 \n",
      "[CV]  n_estimators=300, min_samples_split=10, min_samples_leaf=10, max_features=auto, max_depth=25, score=-2678.968, total=   0.6s\n",
      "[CV] n_estimators=1000, min_samples_split=10, min_samples_leaf=5, max_features=auto, max_depth=5 \n",
      "[CV]  n_estimators=1000, min_samples_split=10, min_samples_leaf=5, max_features=auto, max_depth=5, score=-2097.688, total=   1.4s\n",
      "[CV] n_estimators=1000, min_samples_split=10, min_samples_leaf=5, max_features=auto, max_depth=5 \n",
      "[CV]  n_estimators=1000, min_samples_split=10, min_samples_leaf=5, max_features=auto, max_depth=5, score=-2092.094, total=   1.9s\n",
      "[CV] n_estimators=1000, min_samples_split=10, min_samples_leaf=5, max_features=auto, max_depth=5 \n",
      "[CV]  n_estimators=1000, min_samples_split=10, min_samples_leaf=5, max_features=auto, max_depth=5, score=-1980.489, total=   1.5s\n",
      "[CV] n_estimators=1000, min_samples_split=10, min_samples_leaf=5, max_features=auto, max_depth=5 \n",
      "[CV]  n_estimators=1000, min_samples_split=10, min_samples_leaf=5, max_features=auto, max_depth=5, score=-2067.691, total=   1.4s\n",
      "[CV] n_estimators=1000, min_samples_split=10, min_samples_leaf=5, max_features=auto, max_depth=5 \n",
      "[CV]  n_estimators=1000, min_samples_split=10, min_samples_leaf=5, max_features=auto, max_depth=5, score=-2625.610, total=   1.4s\n",
      "[CV] n_estimators=900, min_samples_split=10, min_samples_leaf=5, max_features=auto, max_depth=20 \n",
      "[CV]  n_estimators=900, min_samples_split=10, min_samples_leaf=5, max_features=auto, max_depth=20, score=-1896.179, total=   1.8s\n",
      "[CV] n_estimators=900, min_samples_split=10, min_samples_leaf=5, max_features=auto, max_depth=20 \n",
      "[CV]  n_estimators=900, min_samples_split=10, min_samples_leaf=5, max_features=auto, max_depth=20, score=-1874.019, total=   1.6s\n",
      "[CV] n_estimators=900, min_samples_split=10, min_samples_leaf=5, max_features=auto, max_depth=20 \n"
     ]
    },
    {
     "name": "stdout",
     "output_type": "stream",
     "text": [
      "[CV]  n_estimators=900, min_samples_split=10, min_samples_leaf=5, max_features=auto, max_depth=20, score=-1804.104, total=   1.9s\n",
      "[CV] n_estimators=900, min_samples_split=10, min_samples_leaf=5, max_features=auto, max_depth=20 \n",
      "[CV]  n_estimators=900, min_samples_split=10, min_samples_leaf=5, max_features=auto, max_depth=20, score=-1791.679, total=   1.5s\n",
      "[CV] n_estimators=900, min_samples_split=10, min_samples_leaf=5, max_features=auto, max_depth=20 \n",
      "[CV]  n_estimators=900, min_samples_split=10, min_samples_leaf=5, max_features=auto, max_depth=20, score=-2316.721, total=   1.6s\n",
      "[CV] n_estimators=1100, min_samples_split=15, min_samples_leaf=5, max_features=sqrt, max_depth=30 \n",
      "[CV]  n_estimators=1100, min_samples_split=15, min_samples_leaf=5, max_features=sqrt, max_depth=30, score=-2244.018, total=   1.2s\n",
      "[CV] n_estimators=1100, min_samples_split=15, min_samples_leaf=5, max_features=sqrt, max_depth=30 \n",
      "[CV]  n_estimators=1100, min_samples_split=15, min_samples_leaf=5, max_features=sqrt, max_depth=30, score=-2091.148, total=   1.3s\n",
      "[CV] n_estimators=1100, min_samples_split=15, min_samples_leaf=5, max_features=sqrt, max_depth=30 \n",
      "[CV]  n_estimators=1100, min_samples_split=15, min_samples_leaf=5, max_features=sqrt, max_depth=30, score=-2084.597, total=   1.2s\n",
      "[CV] n_estimators=1100, min_samples_split=15, min_samples_leaf=5, max_features=sqrt, max_depth=30 \n",
      "[CV]  n_estimators=1100, min_samples_split=15, min_samples_leaf=5, max_features=sqrt, max_depth=30, score=-2037.759, total=   1.2s\n",
      "[CV] n_estimators=1100, min_samples_split=15, min_samples_leaf=5, max_features=sqrt, max_depth=30 \n",
      "[CV]  n_estimators=1100, min_samples_split=15, min_samples_leaf=5, max_features=sqrt, max_depth=30, score=-2608.695, total=   1.3s\n",
      "[CV] n_estimators=500, min_samples_split=5, min_samples_leaf=2, max_features=sqrt, max_depth=30 \n",
      "[CV]  n_estimators=500, min_samples_split=5, min_samples_leaf=2, max_features=sqrt, max_depth=30, score=-1811.044, total=   0.7s\n",
      "[CV] n_estimators=500, min_samples_split=5, min_samples_leaf=2, max_features=sqrt, max_depth=30 \n",
      "[CV]  n_estimators=500, min_samples_split=5, min_samples_leaf=2, max_features=sqrt, max_depth=30, score=-1606.198, total=   0.6s\n",
      "[CV] n_estimators=500, min_samples_split=5, min_samples_leaf=2, max_features=sqrt, max_depth=30 \n",
      "[CV]  n_estimators=500, min_samples_split=5, min_samples_leaf=2, max_features=sqrt, max_depth=30, score=-1600.539, total=   0.7s\n",
      "[CV] n_estimators=500, min_samples_split=5, min_samples_leaf=2, max_features=sqrt, max_depth=30 \n",
      "[CV]  n_estimators=500, min_samples_split=5, min_samples_leaf=2, max_features=sqrt, max_depth=30, score=-1589.518, total=   0.7s\n",
      "[CV] n_estimators=500, min_samples_split=5, min_samples_leaf=2, max_features=sqrt, max_depth=30 \n",
      "[CV]  n_estimators=500, min_samples_split=5, min_samples_leaf=2, max_features=sqrt, max_depth=30, score=-2190.450, total=   0.6s\n",
      "[CV] n_estimators=900, min_samples_split=10, min_samples_leaf=1, max_features=auto, max_depth=5 \n",
      "[CV]  n_estimators=900, min_samples_split=10, min_samples_leaf=1, max_features=auto, max_depth=5, score=-2102.646, total=   1.4s\n",
      "[CV] n_estimators=900, min_samples_split=10, min_samples_leaf=1, max_features=auto, max_depth=5 \n",
      "[CV]  n_estimators=900, min_samples_split=10, min_samples_leaf=1, max_features=auto, max_depth=5, score=-2018.597, total=   1.3s\n",
      "[CV] n_estimators=900, min_samples_split=10, min_samples_leaf=1, max_features=auto, max_depth=5 \n",
      "[CV]  n_estimators=900, min_samples_split=10, min_samples_leaf=1, max_features=auto, max_depth=5, score=-1889.252, total=   1.4s\n",
      "[CV] n_estimators=900, min_samples_split=10, min_samples_leaf=1, max_features=auto, max_depth=5 \n",
      "[CV]  n_estimators=900, min_samples_split=10, min_samples_leaf=1, max_features=auto, max_depth=5, score=-2050.097, total=   1.3s\n",
      "[CV] n_estimators=900, min_samples_split=10, min_samples_leaf=1, max_features=auto, max_depth=5 \n",
      "[CV]  n_estimators=900, min_samples_split=10, min_samples_leaf=1, max_features=auto, max_depth=5, score=-2550.048, total=   1.4s\n",
      "[CV] n_estimators=1000, min_samples_split=100, min_samples_leaf=10, max_features=auto, max_depth=5 \n",
      "[CV]  n_estimators=1000, min_samples_split=100, min_samples_leaf=10, max_features=auto, max_depth=5, score=-2810.514, total=   1.2s\n",
      "[CV] n_estimators=1000, min_samples_split=100, min_samples_leaf=10, max_features=auto, max_depth=5 \n",
      "[CV]  n_estimators=1000, min_samples_split=100, min_samples_leaf=10, max_features=auto, max_depth=5, score=-2997.905, total=   1.3s\n",
      "[CV] n_estimators=1000, min_samples_split=100, min_samples_leaf=10, max_features=auto, max_depth=5 \n",
      "[CV]  n_estimators=1000, min_samples_split=100, min_samples_leaf=10, max_features=auto, max_depth=5, score=-2689.997, total=   1.2s\n",
      "[CV] n_estimators=1000, min_samples_split=100, min_samples_leaf=10, max_features=auto, max_depth=5 \n",
      "[CV]  n_estimators=1000, min_samples_split=100, min_samples_leaf=10, max_features=auto, max_depth=5, score=-2710.994, total=   1.2s\n",
      "[CV] n_estimators=1000, min_samples_split=100, min_samples_leaf=10, max_features=auto, max_depth=5 \n",
      "[CV]  n_estimators=1000, min_samples_split=100, min_samples_leaf=10, max_features=auto, max_depth=5, score=-3315.736, total=   1.2s\n",
      "[CV] n_estimators=1000, min_samples_split=15, min_samples_leaf=1, max_features=auto, max_depth=30 \n",
      "[CV]  n_estimators=1000, min_samples_split=15, min_samples_leaf=1, max_features=auto, max_depth=30, score=-1866.961, total=   1.7s\n",
      "[CV] n_estimators=1000, min_samples_split=15, min_samples_leaf=1, max_features=auto, max_depth=30 \n",
      "[CV]  n_estimators=1000, min_samples_split=15, min_samples_leaf=1, max_features=auto, max_depth=30, score=-1830.081, total=   1.8s\n",
      "[CV] n_estimators=1000, min_samples_split=15, min_samples_leaf=1, max_features=auto, max_depth=30 \n",
      "[CV]  n_estimators=1000, min_samples_split=15, min_samples_leaf=1, max_features=auto, max_depth=30, score=-1688.602, total=   1.8s\n",
      "[CV] n_estimators=1000, min_samples_split=15, min_samples_leaf=1, max_features=auto, max_depth=30 \n",
      "[CV]  n_estimators=1000, min_samples_split=15, min_samples_leaf=1, max_features=auto, max_depth=30, score=-1772.367, total=   1.7s\n",
      "[CV] n_estimators=1000, min_samples_split=15, min_samples_leaf=1, max_features=auto, max_depth=30 \n",
      "[CV]  n_estimators=1000, min_samples_split=15, min_samples_leaf=1, max_features=auto, max_depth=30, score=-2206.696, total=   1.8s\n",
      "[CV] n_estimators=300, min_samples_split=5, min_samples_leaf=5, max_features=auto, max_depth=10 \n",
      "[CV]  n_estimators=300, min_samples_split=5, min_samples_leaf=5, max_features=auto, max_depth=10, score=-1893.898, total=   0.5s\n",
      "[CV] n_estimators=300, min_samples_split=5, min_samples_leaf=5, max_features=auto, max_depth=10 \n",
      "[CV]  n_estimators=300, min_samples_split=5, min_samples_leaf=5, max_features=auto, max_depth=10, score=-1868.449, total=   0.5s\n",
      "[CV] n_estimators=300, min_samples_split=5, min_samples_leaf=5, max_features=auto, max_depth=10 \n",
      "[CV]  n_estimators=300, min_samples_split=5, min_samples_leaf=5, max_features=auto, max_depth=10, score=-1791.069, total=   0.5s\n",
      "[CV] n_estimators=300, min_samples_split=5, min_samples_leaf=5, max_features=auto, max_depth=10 \n",
      "[CV]  n_estimators=300, min_samples_split=5, min_samples_leaf=5, max_features=auto, max_depth=10, score=-1793.429, total=   0.5s\n",
      "[CV] n_estimators=300, min_samples_split=5, min_samples_leaf=5, max_features=auto, max_depth=10 \n",
      "[CV]  n_estimators=300, min_samples_split=5, min_samples_leaf=5, max_features=auto, max_depth=10, score=-2317.163, total=   0.5s\n",
      "[CV] n_estimators=600, min_samples_split=5, min_samples_leaf=2, max_features=auto, max_depth=20 \n",
      "[CV]  n_estimators=600, min_samples_split=5, min_samples_leaf=2, max_features=auto, max_depth=20, score=-1634.228, total=   1.1s\n",
      "[CV] n_estimators=600, min_samples_split=5, min_samples_leaf=2, max_features=auto, max_depth=20 \n",
      "[CV]  n_estimators=600, min_samples_split=5, min_samples_leaf=2, max_features=auto, max_depth=20, score=-1568.452, total=   1.1s\n",
      "[CV] n_estimators=600, min_samples_split=5, min_samples_leaf=2, max_features=auto, max_depth=20 \n",
      "[CV]  n_estimators=600, min_samples_split=5, min_samples_leaf=2, max_features=auto, max_depth=20, score=-1462.433, total=   1.1s\n",
      "[CV] n_estimators=600, min_samples_split=5, min_samples_leaf=2, max_features=auto, max_depth=20 \n"
     ]
    },
    {
     "name": "stdout",
     "output_type": "stream",
     "text": [
      "[CV]  n_estimators=600, min_samples_split=5, min_samples_leaf=2, max_features=auto, max_depth=20, score=-1536.687, total=   1.1s\n",
      "[CV] n_estimators=600, min_samples_split=5, min_samples_leaf=2, max_features=auto, max_depth=20 \n",
      "[CV]  n_estimators=600, min_samples_split=5, min_samples_leaf=2, max_features=auto, max_depth=20, score=-1939.112, total=   1.2s\n",
      "[CV] n_estimators=1000, min_samples_split=2, min_samples_leaf=1, max_features=auto, max_depth=25 \n",
      "[CV]  n_estimators=1000, min_samples_split=2, min_samples_leaf=1, max_features=auto, max_depth=25, score=-1560.527, total=   2.6s\n",
      "[CV] n_estimators=1000, min_samples_split=2, min_samples_leaf=1, max_features=auto, max_depth=25 \n",
      "[CV]  n_estimators=1000, min_samples_split=2, min_samples_leaf=1, max_features=auto, max_depth=25, score=-1434.105, total=   2.2s\n",
      "[CV] n_estimators=1000, min_samples_split=2, min_samples_leaf=1, max_features=auto, max_depth=25 \n",
      "[CV]  n_estimators=1000, min_samples_split=2, min_samples_leaf=1, max_features=auto, max_depth=25, score=-1363.898, total=   2.3s\n",
      "[CV] n_estimators=1000, min_samples_split=2, min_samples_leaf=1, max_features=auto, max_depth=25 \n",
      "[CV]  n_estimators=1000, min_samples_split=2, min_samples_leaf=1, max_features=auto, max_depth=25, score=-1429.291, total=   2.2s\n",
      "[CV] n_estimators=1000, min_samples_split=2, min_samples_leaf=1, max_features=auto, max_depth=25 \n",
      "[CV]  n_estimators=1000, min_samples_split=2, min_samples_leaf=1, max_features=auto, max_depth=25, score=-1846.834, total=   2.3s\n",
      "[CV] n_estimators=600, min_samples_split=5, min_samples_leaf=10, max_features=sqrt, max_depth=20 \n",
      "[CV]  n_estimators=600, min_samples_split=5, min_samples_leaf=10, max_features=sqrt, max_depth=20, score=-2496.633, total=   0.7s\n",
      "[CV] n_estimators=600, min_samples_split=5, min_samples_leaf=10, max_features=sqrt, max_depth=20 \n",
      "[CV]  n_estimators=600, min_samples_split=5, min_samples_leaf=10, max_features=sqrt, max_depth=20, score=-2336.414, total=   0.7s\n",
      "[CV] n_estimators=600, min_samples_split=5, min_samples_leaf=10, max_features=sqrt, max_depth=20 \n",
      "[CV]  n_estimators=600, min_samples_split=5, min_samples_leaf=10, max_features=sqrt, max_depth=20, score=-2338.025, total=   0.7s\n",
      "[CV] n_estimators=600, min_samples_split=5, min_samples_leaf=10, max_features=sqrt, max_depth=20 \n",
      "[CV]  n_estimators=600, min_samples_split=5, min_samples_leaf=10, max_features=sqrt, max_depth=20, score=-2280.370, total=   0.7s\n",
      "[CV] n_estimators=600, min_samples_split=5, min_samples_leaf=10, max_features=sqrt, max_depth=20 \n",
      "[CV]  n_estimators=600, min_samples_split=5, min_samples_leaf=10, max_features=sqrt, max_depth=20, score=-2820.668, total=   0.7s\n",
      "[CV] n_estimators=200, min_samples_split=15, min_samples_leaf=2, max_features=sqrt, max_depth=5 \n",
      "[CV]  n_estimators=200, min_samples_split=15, min_samples_leaf=2, max_features=sqrt, max_depth=5, score=-2451.070, total=   0.3s\n",
      "[CV] n_estimators=200, min_samples_split=15, min_samples_leaf=2, max_features=sqrt, max_depth=5 \n",
      "[CV]  n_estimators=200, min_samples_split=15, min_samples_leaf=2, max_features=sqrt, max_depth=5, score=-2341.505, total=   0.2s\n",
      "[CV] n_estimators=200, min_samples_split=15, min_samples_leaf=2, max_features=sqrt, max_depth=5 \n",
      "[CV]  n_estimators=200, min_samples_split=15, min_samples_leaf=2, max_features=sqrt, max_depth=5, score=-2358.607, total=   0.2s\n",
      "[CV] n_estimators=200, min_samples_split=15, min_samples_leaf=2, max_features=sqrt, max_depth=5 \n",
      "[CV]  n_estimators=200, min_samples_split=15, min_samples_leaf=2, max_features=sqrt, max_depth=5, score=-2248.767, total=   0.2s\n",
      "[CV] n_estimators=200, min_samples_split=15, min_samples_leaf=2, max_features=sqrt, max_depth=5 \n",
      "[CV]  n_estimators=200, min_samples_split=15, min_samples_leaf=2, max_features=sqrt, max_depth=5, score=-2803.923, total=   0.2s\n",
      "[CV] n_estimators=800, min_samples_split=2, min_samples_leaf=5, max_features=auto, max_depth=30 \n",
      "[CV]  n_estimators=800, min_samples_split=2, min_samples_leaf=5, max_features=auto, max_depth=30, score=-1893.831, total=   1.3s\n",
      "[CV] n_estimators=800, min_samples_split=2, min_samples_leaf=5, max_features=auto, max_depth=30 \n",
      "[CV]  n_estimators=800, min_samples_split=2, min_samples_leaf=5, max_features=auto, max_depth=30, score=-1873.375, total=   1.4s\n",
      "[CV] n_estimators=800, min_samples_split=2, min_samples_leaf=5, max_features=auto, max_depth=30 \n",
      "[CV]  n_estimators=800, min_samples_split=2, min_samples_leaf=5, max_features=auto, max_depth=30, score=-1819.604, total=   1.5s\n",
      "[CV] n_estimators=800, min_samples_split=2, min_samples_leaf=5, max_features=auto, max_depth=30 \n",
      "[CV]  n_estimators=800, min_samples_split=2, min_samples_leaf=5, max_features=auto, max_depth=30, score=-1770.615, total=   1.7s\n",
      "[CV] n_estimators=800, min_samples_split=2, min_samples_leaf=5, max_features=auto, max_depth=30 \n",
      "[CV]  n_estimators=800, min_samples_split=2, min_samples_leaf=5, max_features=auto, max_depth=30, score=-2310.910, total=   1.3s\n",
      "[CV] n_estimators=500, min_samples_split=10, min_samples_leaf=5, max_features=sqrt, max_depth=5 \n",
      "[CV]  n_estimators=500, min_samples_split=10, min_samples_leaf=5, max_features=sqrt, max_depth=5, score=-2454.273, total=   0.5s\n",
      "[CV] n_estimators=500, min_samples_split=10, min_samples_leaf=5, max_features=sqrt, max_depth=5 \n",
      "[CV]  n_estimators=500, min_samples_split=10, min_samples_leaf=5, max_features=sqrt, max_depth=5, score=-2350.821, total=   0.6s\n",
      "[CV] n_estimators=500, min_samples_split=10, min_samples_leaf=5, max_features=sqrt, max_depth=5 \n",
      "[CV]  n_estimators=500, min_samples_split=10, min_samples_leaf=5, max_features=sqrt, max_depth=5, score=-2324.605, total=   0.6s\n",
      "[CV] n_estimators=500, min_samples_split=10, min_samples_leaf=5, max_features=sqrt, max_depth=5 \n",
      "[CV]  n_estimators=500, min_samples_split=10, min_samples_leaf=5, max_features=sqrt, max_depth=5, score=-2248.365, total=   0.6s\n",
      "[CV] n_estimators=500, min_samples_split=10, min_samples_leaf=5, max_features=sqrt, max_depth=5 \n",
      "[CV]  n_estimators=500, min_samples_split=10, min_samples_leaf=5, max_features=sqrt, max_depth=5, score=-2878.807, total=   0.6s\n",
      "[CV] n_estimators=300, min_samples_split=100, min_samples_leaf=2, max_features=sqrt, max_depth=15 \n",
      "[CV]  n_estimators=300, min_samples_split=100, min_samples_leaf=2, max_features=sqrt, max_depth=15, score=-3031.233, total=   0.4s\n",
      "[CV] n_estimators=300, min_samples_split=100, min_samples_leaf=2, max_features=sqrt, max_depth=15 \n",
      "[CV]  n_estimators=300, min_samples_split=100, min_samples_leaf=2, max_features=sqrt, max_depth=15, score=-2862.179, total=   0.4s\n",
      "[CV] n_estimators=300, min_samples_split=100, min_samples_leaf=2, max_features=sqrt, max_depth=15 \n",
      "[CV]  n_estimators=300, min_samples_split=100, min_samples_leaf=2, max_features=sqrt, max_depth=15, score=-2904.262, total=   0.3s\n",
      "[CV] n_estimators=300, min_samples_split=100, min_samples_leaf=2, max_features=sqrt, max_depth=15 \n",
      "[CV]  n_estimators=300, min_samples_split=100, min_samples_leaf=2, max_features=sqrt, max_depth=15, score=-2712.517, total=   0.3s\n",
      "[CV] n_estimators=300, min_samples_split=100, min_samples_leaf=2, max_features=sqrt, max_depth=15 \n",
      "[CV]  n_estimators=300, min_samples_split=100, min_samples_leaf=2, max_features=sqrt, max_depth=15, score=-3244.864, total=   0.3s\n",
      "[CV] n_estimators=1200, min_samples_split=100, min_samples_leaf=10, max_features=auto, max_depth=5 \n",
      "[CV]  n_estimators=1200, min_samples_split=100, min_samples_leaf=10, max_features=auto, max_depth=5, score=-2802.214, total=   1.5s\n",
      "[CV] n_estimators=1200, min_samples_split=100, min_samples_leaf=10, max_features=auto, max_depth=5 \n",
      "[CV]  n_estimators=1200, min_samples_split=100, min_samples_leaf=10, max_features=auto, max_depth=5, score=-2989.315, total=   1.6s\n",
      "[CV] n_estimators=1200, min_samples_split=100, min_samples_leaf=10, max_features=auto, max_depth=5 \n",
      "[CV]  n_estimators=1200, min_samples_split=100, min_samples_leaf=10, max_features=auto, max_depth=5, score=-2700.034, total=   1.5s\n",
      "[CV] n_estimators=1200, min_samples_split=100, min_samples_leaf=10, max_features=auto, max_depth=5 \n",
      "[CV]  n_estimators=1200, min_samples_split=100, min_samples_leaf=10, max_features=auto, max_depth=5, score=-2701.553, total=   1.5s\n",
      "[CV] n_estimators=1200, min_samples_split=100, min_samples_leaf=10, max_features=auto, max_depth=5 \n"
     ]
    },
    {
     "name": "stdout",
     "output_type": "stream",
     "text": [
      "[CV]  n_estimators=1200, min_samples_split=100, min_samples_leaf=10, max_features=auto, max_depth=5, score=-3318.326, total=   1.5s\n",
      "[CV] n_estimators=500, min_samples_split=15, min_samples_leaf=5, max_features=auto, max_depth=5 \n",
      "[CV]  n_estimators=500, min_samples_split=15, min_samples_leaf=5, max_features=auto, max_depth=5, score=-2148.407, total=   0.7s\n",
      "[CV] n_estimators=500, min_samples_split=15, min_samples_leaf=5, max_features=auto, max_depth=5 \n",
      "[CV]  n_estimators=500, min_samples_split=15, min_samples_leaf=5, max_features=auto, max_depth=5, score=-2123.019, total=   0.7s\n",
      "[CV] n_estimators=500, min_samples_split=15, min_samples_leaf=5, max_features=auto, max_depth=5 \n",
      "[CV]  n_estimators=500, min_samples_split=15, min_samples_leaf=5, max_features=auto, max_depth=5, score=-2017.124, total=   0.7s\n",
      "[CV] n_estimators=500, min_samples_split=15, min_samples_leaf=5, max_features=auto, max_depth=5 \n",
      "[CV]  n_estimators=500, min_samples_split=15, min_samples_leaf=5, max_features=auto, max_depth=5, score=-2125.128, total=   0.8s\n",
      "[CV] n_estimators=500, min_samples_split=15, min_samples_leaf=5, max_features=auto, max_depth=5 \n",
      "[CV]  n_estimators=500, min_samples_split=15, min_samples_leaf=5, max_features=auto, max_depth=5, score=-2651.960, total=   0.7s\n",
      "[CV] n_estimators=900, min_samples_split=100, min_samples_leaf=10, max_features=sqrt, max_depth=20 \n",
      "[CV]  n_estimators=900, min_samples_split=100, min_samples_leaf=10, max_features=sqrt, max_depth=20, score=-3022.424, total=   0.9s\n",
      "[CV] n_estimators=900, min_samples_split=100, min_samples_leaf=10, max_features=sqrt, max_depth=20 \n",
      "[CV]  n_estimators=900, min_samples_split=100, min_samples_leaf=10, max_features=sqrt, max_depth=20, score=-2884.305, total=   1.0s\n",
      "[CV] n_estimators=900, min_samples_split=100, min_samples_leaf=10, max_features=sqrt, max_depth=20 \n",
      "[CV]  n_estimators=900, min_samples_split=100, min_samples_leaf=10, max_features=sqrt, max_depth=20, score=-2967.569, total=   0.9s\n",
      "[CV] n_estimators=900, min_samples_split=100, min_samples_leaf=10, max_features=sqrt, max_depth=20 \n",
      "[CV]  n_estimators=900, min_samples_split=100, min_samples_leaf=10, max_features=sqrt, max_depth=20, score=-2736.965, total=   0.9s\n",
      "[CV] n_estimators=900, min_samples_split=100, min_samples_leaf=10, max_features=sqrt, max_depth=20 \n",
      "[CV]  n_estimators=900, min_samples_split=100, min_samples_leaf=10, max_features=sqrt, max_depth=20, score=-3264.306, total=   0.9s\n",
      "[CV] n_estimators=700, min_samples_split=2, min_samples_leaf=1, max_features=sqrt, max_depth=5 \n",
      "[CV]  n_estimators=700, min_samples_split=2, min_samples_leaf=1, max_features=sqrt, max_depth=5, score=-2319.140, total=   0.8s\n",
      "[CV] n_estimators=700, min_samples_split=2, min_samples_leaf=1, max_features=sqrt, max_depth=5 \n",
      "[CV]  n_estimators=700, min_samples_split=2, min_samples_leaf=1, max_features=sqrt, max_depth=5, score=-2279.792, total=   0.8s\n",
      "[CV] n_estimators=700, min_samples_split=2, min_samples_leaf=1, max_features=sqrt, max_depth=5 \n",
      "[CV]  n_estimators=700, min_samples_split=2, min_samples_leaf=1, max_features=sqrt, max_depth=5, score=-2178.436, total=   0.8s\n",
      "[CV] n_estimators=700, min_samples_split=2, min_samples_leaf=1, max_features=sqrt, max_depth=5 \n",
      "[CV]  n_estimators=700, min_samples_split=2, min_samples_leaf=1, max_features=sqrt, max_depth=5, score=-2114.334, total=   0.8s\n",
      "[CV] n_estimators=700, min_samples_split=2, min_samples_leaf=1, max_features=sqrt, max_depth=5 \n",
      "[CV]  n_estimators=700, min_samples_split=2, min_samples_leaf=1, max_features=sqrt, max_depth=5, score=-2782.993, total=   0.8s\n",
      "[CV] n_estimators=500, min_samples_split=10, min_samples_leaf=10, max_features=sqrt, max_depth=20 \n",
      "[CV]  n_estimators=500, min_samples_split=10, min_samples_leaf=10, max_features=sqrt, max_depth=20, score=-2487.785, total=   0.5s\n",
      "[CV] n_estimators=500, min_samples_split=10, min_samples_leaf=10, max_features=sqrt, max_depth=20 \n",
      "[CV]  n_estimators=500, min_samples_split=10, min_samples_leaf=10, max_features=sqrt, max_depth=20, score=-2339.266, total=   0.5s\n",
      "[CV] n_estimators=500, min_samples_split=10, min_samples_leaf=10, max_features=sqrt, max_depth=20 \n",
      "[CV]  n_estimators=500, min_samples_split=10, min_samples_leaf=10, max_features=sqrt, max_depth=20, score=-2328.083, total=   0.5s\n",
      "[CV] n_estimators=500, min_samples_split=10, min_samples_leaf=10, max_features=sqrt, max_depth=20 \n",
      "[CV]  n_estimators=500, min_samples_split=10, min_samples_leaf=10, max_features=sqrt, max_depth=20, score=-2238.304, total=   0.6s\n",
      "[CV] n_estimators=500, min_samples_split=10, min_samples_leaf=10, max_features=sqrt, max_depth=20 \n",
      "[CV]  n_estimators=500, min_samples_split=10, min_samples_leaf=10, max_features=sqrt, max_depth=20, score=-2837.951, total=   0.6s\n",
      "[CV] n_estimators=200, min_samples_split=10, min_samples_leaf=5, max_features=auto, max_depth=5 \n",
      "[CV]  n_estimators=200, min_samples_split=10, min_samples_leaf=5, max_features=auto, max_depth=5, score=-2149.050, total=   0.3s\n",
      "[CV] n_estimators=200, min_samples_split=10, min_samples_leaf=5, max_features=auto, max_depth=5 \n",
      "[CV]  n_estimators=200, min_samples_split=10, min_samples_leaf=5, max_features=auto, max_depth=5, score=-2099.362, total=   0.3s\n",
      "[CV] n_estimators=200, min_samples_split=10, min_samples_leaf=5, max_features=auto, max_depth=5 \n",
      "[CV]  n_estimators=200, min_samples_split=10, min_samples_leaf=5, max_features=auto, max_depth=5, score=-1983.783, total=   0.3s\n",
      "[CV] n_estimators=200, min_samples_split=10, min_samples_leaf=5, max_features=auto, max_depth=5 \n",
      "[CV]  n_estimators=200, min_samples_split=10, min_samples_leaf=5, max_features=auto, max_depth=5, score=-2060.647, total=   0.3s\n",
      "[CV] n_estimators=200, min_samples_split=10, min_samples_leaf=5, max_features=auto, max_depth=5 \n",
      "[CV]  n_estimators=200, min_samples_split=10, min_samples_leaf=5, max_features=auto, max_depth=5, score=-2652.593, total=   0.3s\n",
      "[CV] n_estimators=1000, min_samples_split=100, min_samples_leaf=2, max_features=auto, max_depth=25 \n",
      "[CV]  n_estimators=1000, min_samples_split=100, min_samples_leaf=2, max_features=auto, max_depth=25, score=-2776.792, total=   1.3s\n",
      "[CV] n_estimators=1000, min_samples_split=100, min_samples_leaf=2, max_features=auto, max_depth=25 \n",
      "[CV]  n_estimators=1000, min_samples_split=100, min_samples_leaf=2, max_features=auto, max_depth=25, score=-2957.645, total=   1.3s\n",
      "[CV] n_estimators=1000, min_samples_split=100, min_samples_leaf=2, max_features=auto, max_depth=25 \n",
      "[CV]  n_estimators=1000, min_samples_split=100, min_samples_leaf=2, max_features=auto, max_depth=25, score=-2691.568, total=   1.8s\n",
      "[CV] n_estimators=1000, min_samples_split=100, min_samples_leaf=2, max_features=auto, max_depth=25 \n",
      "[CV]  n_estimators=1000, min_samples_split=100, min_samples_leaf=2, max_features=auto, max_depth=25, score=-2680.675, total=   1.4s\n",
      "[CV] n_estimators=1000, min_samples_split=100, min_samples_leaf=2, max_features=auto, max_depth=25 \n",
      "[CV]  n_estimators=1000, min_samples_split=100, min_samples_leaf=2, max_features=auto, max_depth=25, score=-3284.643, total=   1.4s\n",
      "[CV] n_estimators=1100, min_samples_split=5, min_samples_leaf=1, max_features=auto, max_depth=30 \n",
      "[CV]  n_estimators=1100, min_samples_split=5, min_samples_leaf=1, max_features=auto, max_depth=30, score=-1623.908, total=   2.2s\n",
      "[CV] n_estimators=1100, min_samples_split=5, min_samples_leaf=1, max_features=auto, max_depth=30 \n",
      "[CV]  n_estimators=1100, min_samples_split=5, min_samples_leaf=1, max_features=auto, max_depth=30, score=-1479.346, total=   2.2s\n",
      "[CV] n_estimators=1100, min_samples_split=5, min_samples_leaf=1, max_features=auto, max_depth=30 \n",
      "[CV]  n_estimators=1100, min_samples_split=5, min_samples_leaf=1, max_features=auto, max_depth=30, score=-1403.106, total=   2.3s\n",
      "[CV] n_estimators=1100, min_samples_split=5, min_samples_leaf=1, max_features=auto, max_depth=30 \n",
      "[CV]  n_estimators=1100, min_samples_split=5, min_samples_leaf=1, max_features=auto, max_depth=30, score=-1472.773, total=   2.2s\n",
      "[CV] n_estimators=1100, min_samples_split=5, min_samples_leaf=1, max_features=auto, max_depth=30 \n",
      "[CV]  n_estimators=1100, min_samples_split=5, min_samples_leaf=1, max_features=auto, max_depth=30, score=-1913.158, total=   2.1s\n",
      "[CV] n_estimators=900, min_samples_split=100, min_samples_leaf=5, max_features=auto, max_depth=25 \n"
     ]
    },
    {
     "name": "stdout",
     "output_type": "stream",
     "text": [
      "[CV]  n_estimators=900, min_samples_split=100, min_samples_leaf=5, max_features=auto, max_depth=25, score=-2788.081, total=   1.5s\n",
      "[CV] n_estimators=900, min_samples_split=100, min_samples_leaf=5, max_features=auto, max_depth=25 \n",
      "[CV]  n_estimators=900, min_samples_split=100, min_samples_leaf=5, max_features=auto, max_depth=25, score=-2958.616, total=   1.2s\n",
      "[CV] n_estimators=900, min_samples_split=100, min_samples_leaf=5, max_features=auto, max_depth=25 \n",
      "[CV]  n_estimators=900, min_samples_split=100, min_samples_leaf=5, max_features=auto, max_depth=25, score=-2695.388, total=   1.2s\n",
      "[CV] n_estimators=900, min_samples_split=100, min_samples_leaf=5, max_features=auto, max_depth=25 \n",
      "[CV]  n_estimators=900, min_samples_split=100, min_samples_leaf=5, max_features=auto, max_depth=25, score=-2683.653, total=   1.3s\n",
      "[CV] n_estimators=900, min_samples_split=100, min_samples_leaf=5, max_features=auto, max_depth=25 \n",
      "[CV]  n_estimators=900, min_samples_split=100, min_samples_leaf=5, max_features=auto, max_depth=25, score=-3297.035, total=   1.1s\n",
      "[CV] n_estimators=1200, min_samples_split=2, min_samples_leaf=10, max_features=sqrt, max_depth=10 \n",
      "[CV]  n_estimators=1200, min_samples_split=2, min_samples_leaf=10, max_features=sqrt, max_depth=10, score=-2489.461, total=   1.4s\n",
      "[CV] n_estimators=1200, min_samples_split=2, min_samples_leaf=10, max_features=sqrt, max_depth=10 \n",
      "[CV]  n_estimators=1200, min_samples_split=2, min_samples_leaf=10, max_features=sqrt, max_depth=10, score=-2340.857, total=   1.4s\n",
      "[CV] n_estimators=1200, min_samples_split=2, min_samples_leaf=10, max_features=sqrt, max_depth=10 \n",
      "[CV]  n_estimators=1200, min_samples_split=2, min_samples_leaf=10, max_features=sqrt, max_depth=10, score=-2317.776, total=   1.3s\n",
      "[CV] n_estimators=1200, min_samples_split=2, min_samples_leaf=10, max_features=sqrt, max_depth=10 \n",
      "[CV]  n_estimators=1200, min_samples_split=2, min_samples_leaf=10, max_features=sqrt, max_depth=10, score=-2273.650, total=   1.4s\n",
      "[CV] n_estimators=1200, min_samples_split=2, min_samples_leaf=10, max_features=sqrt, max_depth=10 \n",
      "[CV]  n_estimators=1200, min_samples_split=2, min_samples_leaf=10, max_features=sqrt, max_depth=10, score=-2843.176, total=   1.4s\n",
      "[CV] n_estimators=500, min_samples_split=10, min_samples_leaf=10, max_features=auto, max_depth=15 \n",
      "[CV]  n_estimators=500, min_samples_split=10, min_samples_leaf=10, max_features=auto, max_depth=15, score=-2153.732, total=   0.7s\n",
      "[CV] n_estimators=500, min_samples_split=10, min_samples_leaf=10, max_features=auto, max_depth=15 \n",
      "[CV]  n_estimators=500, min_samples_split=10, min_samples_leaf=10, max_features=auto, max_depth=15, score=-2133.731, total=   0.7s\n",
      "[CV] n_estimators=500, min_samples_split=10, min_samples_leaf=10, max_features=auto, max_depth=15 \n",
      "[CV]  n_estimators=500, min_samples_split=10, min_samples_leaf=10, max_features=auto, max_depth=15, score=-2100.340, total=   0.8s\n",
      "[CV] n_estimators=500, min_samples_split=10, min_samples_leaf=10, max_features=auto, max_depth=15 \n",
      "[CV]  n_estimators=500, min_samples_split=10, min_samples_leaf=10, max_features=auto, max_depth=15, score=-2099.820, total=   0.8s\n",
      "[CV] n_estimators=500, min_samples_split=10, min_samples_leaf=10, max_features=auto, max_depth=15 \n",
      "[CV]  n_estimators=500, min_samples_split=10, min_samples_leaf=10, max_features=auto, max_depth=15, score=-2653.925, total=   0.8s\n",
      "[CV] n_estimators=900, min_samples_split=15, min_samples_leaf=1, max_features=auto, max_depth=10 \n",
      "[CV]  n_estimators=900, min_samples_split=15, min_samples_leaf=1, max_features=auto, max_depth=10, score=-1876.152, total=   1.7s\n",
      "[CV] n_estimators=900, min_samples_split=15, min_samples_leaf=1, max_features=auto, max_depth=10 \n",
      "[CV]  n_estimators=900, min_samples_split=15, min_samples_leaf=1, max_features=auto, max_depth=10, score=-1832.756, total=   1.8s\n",
      "[CV] n_estimators=900, min_samples_split=15, min_samples_leaf=1, max_features=auto, max_depth=10 \n",
      "[CV]  n_estimators=900, min_samples_split=15, min_samples_leaf=1, max_features=auto, max_depth=10, score=-1690.677, total=   1.8s\n",
      "[CV] n_estimators=900, min_samples_split=15, min_samples_leaf=1, max_features=auto, max_depth=10 \n",
      "[CV]  n_estimators=900, min_samples_split=15, min_samples_leaf=1, max_features=auto, max_depth=10, score=-1766.861, total=   1.6s\n",
      "[CV] n_estimators=900, min_samples_split=15, min_samples_leaf=1, max_features=auto, max_depth=10 \n",
      "[CV]  n_estimators=900, min_samples_split=15, min_samples_leaf=1, max_features=auto, max_depth=10, score=-2227.310, total=   1.9s\n",
      "[CV] n_estimators=1100, min_samples_split=100, min_samples_leaf=2, max_features=auto, max_depth=25 \n",
      "[CV]  n_estimators=1100, min_samples_split=100, min_samples_leaf=2, max_features=auto, max_depth=25, score=-2774.526, total=   1.5s\n",
      "[CV] n_estimators=1100, min_samples_split=100, min_samples_leaf=2, max_features=auto, max_depth=25 \n",
      "[CV]  n_estimators=1100, min_samples_split=100, min_samples_leaf=2, max_features=auto, max_depth=25, score=-2974.333, total=   1.6s\n",
      "[CV] n_estimators=1100, min_samples_split=100, min_samples_leaf=2, max_features=auto, max_depth=25 \n",
      "[CV]  n_estimators=1100, min_samples_split=100, min_samples_leaf=2, max_features=auto, max_depth=25, score=-2690.495, total=   1.5s\n",
      "[CV] n_estimators=1100, min_samples_split=100, min_samples_leaf=2, max_features=auto, max_depth=25 \n",
      "[CV]  n_estimators=1100, min_samples_split=100, min_samples_leaf=2, max_features=auto, max_depth=25, score=-2684.256, total=   1.5s\n",
      "[CV] n_estimators=1100, min_samples_split=100, min_samples_leaf=2, max_features=auto, max_depth=25 \n",
      "[CV]  n_estimators=1100, min_samples_split=100, min_samples_leaf=2, max_features=auto, max_depth=25, score=-3286.577, total=   1.5s\n",
      "[CV] n_estimators=1100, min_samples_split=15, min_samples_leaf=1, max_features=auto, max_depth=25 \n",
      "[CV]  n_estimators=1100, min_samples_split=15, min_samples_leaf=1, max_features=auto, max_depth=25, score=-1855.481, total=   2.0s\n",
      "[CV] n_estimators=1100, min_samples_split=15, min_samples_leaf=1, max_features=auto, max_depth=25 \n",
      "[CV]  n_estimators=1100, min_samples_split=15, min_samples_leaf=1, max_features=auto, max_depth=25, score=-1799.546, total=   2.0s\n",
      "[CV] n_estimators=1100, min_samples_split=15, min_samples_leaf=1, max_features=auto, max_depth=25 \n",
      "[CV]  n_estimators=1100, min_samples_split=15, min_samples_leaf=1, max_features=auto, max_depth=25, score=-1708.186, total=   2.0s\n",
      "[CV] n_estimators=1100, min_samples_split=15, min_samples_leaf=1, max_features=auto, max_depth=25 \n",
      "[CV]  n_estimators=1100, min_samples_split=15, min_samples_leaf=1, max_features=auto, max_depth=25, score=-1755.241, total=   2.0s\n",
      "[CV] n_estimators=1100, min_samples_split=15, min_samples_leaf=1, max_features=auto, max_depth=25 \n",
      "[CV]  n_estimators=1100, min_samples_split=15, min_samples_leaf=1, max_features=auto, max_depth=25, score=-2196.848, total=   2.2s\n",
      "[CV] n_estimators=1000, min_samples_split=10, min_samples_leaf=10, max_features=auto, max_depth=30 \n",
      "[CV]  n_estimators=1000, min_samples_split=10, min_samples_leaf=10, max_features=auto, max_depth=30, score=-2154.547, total=   1.6s\n",
      "[CV] n_estimators=1000, min_samples_split=10, min_samples_leaf=10, max_features=auto, max_depth=30 \n",
      "[CV]  n_estimators=1000, min_samples_split=10, min_samples_leaf=10, max_features=auto, max_depth=30, score=-2141.108, total=   1.5s\n",
      "[CV] n_estimators=1000, min_samples_split=10, min_samples_leaf=10, max_features=auto, max_depth=30 \n",
      "[CV]  n_estimators=1000, min_samples_split=10, min_samples_leaf=10, max_features=auto, max_depth=30, score=-2071.577, total=   1.5s\n",
      "[CV] n_estimators=1000, min_samples_split=10, min_samples_leaf=10, max_features=auto, max_depth=30 \n",
      "[CV]  n_estimators=1000, min_samples_split=10, min_samples_leaf=10, max_features=auto, max_depth=30, score=-2096.830, total=   1.5s\n",
      "[CV] n_estimators=1000, min_samples_split=10, min_samples_leaf=10, max_features=auto, max_depth=30 \n",
      "[CV]  n_estimators=1000, min_samples_split=10, min_samples_leaf=10, max_features=auto, max_depth=30, score=-2659.410, total=   1.5s\n",
      "[CV] n_estimators=600, min_samples_split=100, min_samples_leaf=10, max_features=auto, max_depth=25 \n",
      "[CV]  n_estimators=600, min_samples_split=100, min_samples_leaf=10, max_features=auto, max_depth=25, score=-2814.590, total=   0.8s\n",
      "[CV] n_estimators=600, min_samples_split=100, min_samples_leaf=10, max_features=auto, max_depth=25 \n"
     ]
    },
    {
     "name": "stdout",
     "output_type": "stream",
     "text": [
      "[CV]  n_estimators=600, min_samples_split=100, min_samples_leaf=10, max_features=auto, max_depth=25, score=-2972.316, total=   0.8s\n",
      "[CV] n_estimators=600, min_samples_split=100, min_samples_leaf=10, max_features=auto, max_depth=25 \n",
      "[CV]  n_estimators=600, min_samples_split=100, min_samples_leaf=10, max_features=auto, max_depth=25, score=-2697.078, total=   0.8s\n",
      "[CV] n_estimators=600, min_samples_split=100, min_samples_leaf=10, max_features=auto, max_depth=25 \n",
      "[CV]  n_estimators=600, min_samples_split=100, min_samples_leaf=10, max_features=auto, max_depth=25, score=-2728.892, total=   0.8s\n",
      "[CV] n_estimators=600, min_samples_split=100, min_samples_leaf=10, max_features=auto, max_depth=25 \n",
      "[CV]  n_estimators=600, min_samples_split=100, min_samples_leaf=10, max_features=auto, max_depth=25, score=-3309.762, total=   0.8s\n",
      "[CV] n_estimators=800, min_samples_split=100, min_samples_leaf=2, max_features=sqrt, max_depth=10 \n",
      "[CV]  n_estimators=800, min_samples_split=100, min_samples_leaf=2, max_features=sqrt, max_depth=10, score=-3046.837, total=   0.8s\n",
      "[CV] n_estimators=800, min_samples_split=100, min_samples_leaf=2, max_features=sqrt, max_depth=10 \n",
      "[CV]  n_estimators=800, min_samples_split=100, min_samples_leaf=2, max_features=sqrt, max_depth=10, score=-2869.972, total=   0.8s\n",
      "[CV] n_estimators=800, min_samples_split=100, min_samples_leaf=2, max_features=sqrt, max_depth=10 \n",
      "[CV]  n_estimators=800, min_samples_split=100, min_samples_leaf=2, max_features=sqrt, max_depth=10, score=-2910.631, total=   0.8s\n",
      "[CV] n_estimators=800, min_samples_split=100, min_samples_leaf=2, max_features=sqrt, max_depth=10 \n",
      "[CV]  n_estimators=800, min_samples_split=100, min_samples_leaf=2, max_features=sqrt, max_depth=10, score=-2684.788, total=   0.9s\n",
      "[CV] n_estimators=800, min_samples_split=100, min_samples_leaf=2, max_features=sqrt, max_depth=10 \n",
      "[CV]  n_estimators=800, min_samples_split=100, min_samples_leaf=2, max_features=sqrt, max_depth=10, score=-3239.412, total=   0.9s\n",
      "[CV] n_estimators=300, min_samples_split=15, min_samples_leaf=5, max_features=auto, max_depth=30 \n",
      "[CV]  n_estimators=300, min_samples_split=15, min_samples_leaf=5, max_features=auto, max_depth=30, score=-1996.042, total=   0.5s\n",
      "[CV] n_estimators=300, min_samples_split=15, min_samples_leaf=5, max_features=auto, max_depth=30 \n",
      "[CV]  n_estimators=300, min_samples_split=15, min_samples_leaf=5, max_features=auto, max_depth=30, score=-1951.548, total=   0.5s\n",
      "[CV] n_estimators=300, min_samples_split=15, min_samples_leaf=5, max_features=auto, max_depth=30 \n",
      "[CV]  n_estimators=300, min_samples_split=15, min_samples_leaf=5, max_features=auto, max_depth=30, score=-1898.062, total=   0.5s\n",
      "[CV] n_estimators=300, min_samples_split=15, min_samples_leaf=5, max_features=auto, max_depth=30 \n",
      "[CV]  n_estimators=300, min_samples_split=15, min_samples_leaf=5, max_features=auto, max_depth=30, score=-1858.182, total=   0.5s\n",
      "[CV] n_estimators=300, min_samples_split=15, min_samples_leaf=5, max_features=auto, max_depth=30 \n",
      "[CV]  n_estimators=300, min_samples_split=15, min_samples_leaf=5, max_features=auto, max_depth=30, score=-2415.788, total=   0.5s\n",
      "[CV] n_estimators=1100, min_samples_split=15, min_samples_leaf=2, max_features=sqrt, max_depth=25 \n",
      "[CV]  n_estimators=1100, min_samples_split=15, min_samples_leaf=2, max_features=sqrt, max_depth=25, score=-2082.859, total=   1.2s\n",
      "[CV] n_estimators=1100, min_samples_split=15, min_samples_leaf=2, max_features=sqrt, max_depth=25 \n",
      "[CV]  n_estimators=1100, min_samples_split=15, min_samples_leaf=2, max_features=sqrt, max_depth=25, score=-1963.256, total=   1.2s\n",
      "[CV] n_estimators=1100, min_samples_split=15, min_samples_leaf=2, max_features=sqrt, max_depth=25 \n",
      "[CV]  n_estimators=1100, min_samples_split=15, min_samples_leaf=2, max_features=sqrt, max_depth=25, score=-1934.069, total=   1.3s\n",
      "[CV] n_estimators=1100, min_samples_split=15, min_samples_leaf=2, max_features=sqrt, max_depth=25 \n",
      "[CV]  n_estimators=1100, min_samples_split=15, min_samples_leaf=2, max_features=sqrt, max_depth=25, score=-1947.392, total=   1.2s\n",
      "[CV] n_estimators=1100, min_samples_split=15, min_samples_leaf=2, max_features=sqrt, max_depth=25 \n",
      "[CV]  n_estimators=1100, min_samples_split=15, min_samples_leaf=2, max_features=sqrt, max_depth=25, score=-2493.021, total=   1.3s\n",
      "[CV] n_estimators=400, min_samples_split=10, min_samples_leaf=2, max_features=sqrt, max_depth=5 \n",
      "[CV]  n_estimators=400, min_samples_split=10, min_samples_leaf=2, max_features=sqrt, max_depth=5, score=-2389.358, total=   0.4s\n",
      "[CV] n_estimators=400, min_samples_split=10, min_samples_leaf=2, max_features=sqrt, max_depth=5 \n",
      "[CV]  n_estimators=400, min_samples_split=10, min_samples_leaf=2, max_features=sqrt, max_depth=5, score=-2285.186, total=   0.4s\n",
      "[CV] n_estimators=400, min_samples_split=10, min_samples_leaf=2, max_features=sqrt, max_depth=5 \n",
      "[CV]  n_estimators=400, min_samples_split=10, min_samples_leaf=2, max_features=sqrt, max_depth=5, score=-2211.765, total=   0.4s\n",
      "[CV] n_estimators=400, min_samples_split=10, min_samples_leaf=2, max_features=sqrt, max_depth=5 \n",
      "[CV]  n_estimators=400, min_samples_split=10, min_samples_leaf=2, max_features=sqrt, max_depth=5, score=-2186.742, total=   0.4s\n",
      "[CV] n_estimators=400, min_samples_split=10, min_samples_leaf=2, max_features=sqrt, max_depth=5 \n",
      "[CV]  n_estimators=400, min_samples_split=10, min_samples_leaf=2, max_features=sqrt, max_depth=5, score=-2847.531, total=   0.4s\n",
      "[CV] n_estimators=600, min_samples_split=2, min_samples_leaf=5, max_features=sqrt, max_depth=25 \n",
      "[CV]  n_estimators=600, min_samples_split=2, min_samples_leaf=5, max_features=sqrt, max_depth=25, score=-2164.238, total=   0.7s\n",
      "[CV] n_estimators=600, min_samples_split=2, min_samples_leaf=5, max_features=sqrt, max_depth=25 \n",
      "[CV]  n_estimators=600, min_samples_split=2, min_samples_leaf=5, max_features=sqrt, max_depth=25, score=-1962.783, total=   0.7s\n",
      "[CV] n_estimators=600, min_samples_split=2, min_samples_leaf=5, max_features=sqrt, max_depth=25 \n",
      "[CV]  n_estimators=600, min_samples_split=2, min_samples_leaf=5, max_features=sqrt, max_depth=25, score=-1973.943, total=   0.7s\n",
      "[CV] n_estimators=600, min_samples_split=2, min_samples_leaf=5, max_features=sqrt, max_depth=25 \n",
      "[CV]  n_estimators=600, min_samples_split=2, min_samples_leaf=5, max_features=sqrt, max_depth=25, score=-1939.367, total=   0.7s\n",
      "[CV] n_estimators=600, min_samples_split=2, min_samples_leaf=5, max_features=sqrt, max_depth=25 \n",
      "[CV]  n_estimators=600, min_samples_split=2, min_samples_leaf=5, max_features=sqrt, max_depth=25, score=-2519.554, total=   0.7s\n",
      "[CV] n_estimators=900, min_samples_split=15, min_samples_leaf=10, max_features=auto, max_depth=15 \n",
      "[CV]  n_estimators=900, min_samples_split=15, min_samples_leaf=10, max_features=auto, max_depth=15, score=-2139.529, total=   1.3s\n",
      "[CV] n_estimators=900, min_samples_split=15, min_samples_leaf=10, max_features=auto, max_depth=15 \n",
      "[CV]  n_estimators=900, min_samples_split=15, min_samples_leaf=10, max_features=auto, max_depth=15, score=-2149.273, total=   1.3s\n",
      "[CV] n_estimators=900, min_samples_split=15, min_samples_leaf=10, max_features=auto, max_depth=15 \n",
      "[CV]  n_estimators=900, min_samples_split=15, min_samples_leaf=10, max_features=auto, max_depth=15, score=-2094.953, total=   1.3s\n",
      "[CV] n_estimators=900, min_samples_split=15, min_samples_leaf=10, max_features=auto, max_depth=15 \n",
      "[CV]  n_estimators=900, min_samples_split=15, min_samples_leaf=10, max_features=auto, max_depth=15, score=-2106.113, total=   1.3s\n",
      "[CV] n_estimators=900, min_samples_split=15, min_samples_leaf=10, max_features=auto, max_depth=15 \n",
      "[CV]  n_estimators=900, min_samples_split=15, min_samples_leaf=10, max_features=auto, max_depth=15, score=-2662.444, total=   1.3s\n",
      "[CV] n_estimators=500, min_samples_split=2, min_samples_leaf=1, max_features=auto, max_depth=20 \n",
      "[CV]  n_estimators=500, min_samples_split=2, min_samples_leaf=1, max_features=auto, max_depth=20, score=-1592.974, total=   1.1s\n",
      "[CV] n_estimators=500, min_samples_split=2, min_samples_leaf=1, max_features=auto, max_depth=20 \n",
      "[CV]  n_estimators=500, min_samples_split=2, min_samples_leaf=1, max_features=auto, max_depth=20, score=-1450.767, total=   1.5s\n",
      "[CV] n_estimators=500, min_samples_split=2, min_samples_leaf=1, max_features=auto, max_depth=20 \n"
     ]
    },
    {
     "name": "stdout",
     "output_type": "stream",
     "text": [
      "[CV]  n_estimators=500, min_samples_split=2, min_samples_leaf=1, max_features=auto, max_depth=20, score=-1362.220, total=   1.2s\n",
      "[CV] n_estimators=500, min_samples_split=2, min_samples_leaf=1, max_features=auto, max_depth=20 \n",
      "[CV]  n_estimators=500, min_samples_split=2, min_samples_leaf=1, max_features=auto, max_depth=20, score=-1472.761, total=   1.2s\n",
      "[CV] n_estimators=500, min_samples_split=2, min_samples_leaf=1, max_features=auto, max_depth=20 \n",
      "[CV]  n_estimators=500, min_samples_split=2, min_samples_leaf=1, max_features=auto, max_depth=20, score=-1835.961, total=   1.3s\n",
      "[CV] n_estimators=400, min_samples_split=10, min_samples_leaf=5, max_features=auto, max_depth=30 \n",
      "[CV]  n_estimators=400, min_samples_split=10, min_samples_leaf=5, max_features=auto, max_depth=30, score=-1890.767, total=   0.8s\n",
      "[CV] n_estimators=400, min_samples_split=10, min_samples_leaf=5, max_features=auto, max_depth=30 \n",
      "[CV]  n_estimators=400, min_samples_split=10, min_samples_leaf=5, max_features=auto, max_depth=30, score=-1852.734, total=   0.7s\n",
      "[CV] n_estimators=400, min_samples_split=10, min_samples_leaf=5, max_features=auto, max_depth=30 \n",
      "[CV]  n_estimators=400, min_samples_split=10, min_samples_leaf=5, max_features=auto, max_depth=30, score=-1790.416, total=   0.7s\n",
      "[CV] n_estimators=400, min_samples_split=10, min_samples_leaf=5, max_features=auto, max_depth=30 \n",
      "[CV]  n_estimators=400, min_samples_split=10, min_samples_leaf=5, max_features=auto, max_depth=30, score=-1731.897, total=   0.6s\n",
      "[CV] n_estimators=400, min_samples_split=10, min_samples_leaf=5, max_features=auto, max_depth=30 \n",
      "[CV]  n_estimators=400, min_samples_split=10, min_samples_leaf=5, max_features=auto, max_depth=30, score=-2279.248, total=   0.6s\n",
      "[CV] n_estimators=300, min_samples_split=100, min_samples_leaf=2, max_features=sqrt, max_depth=10 \n",
      "[CV]  n_estimators=300, min_samples_split=100, min_samples_leaf=2, max_features=sqrt, max_depth=10, score=-3016.729, total=   0.3s\n",
      "[CV] n_estimators=300, min_samples_split=100, min_samples_leaf=2, max_features=sqrt, max_depth=10 \n",
      "[CV]  n_estimators=300, min_samples_split=100, min_samples_leaf=2, max_features=sqrt, max_depth=10, score=-2884.769, total=   0.3s\n",
      "[CV] n_estimators=300, min_samples_split=100, min_samples_leaf=2, max_features=sqrt, max_depth=10 \n",
      "[CV]  n_estimators=300, min_samples_split=100, min_samples_leaf=2, max_features=sqrt, max_depth=10, score=-2928.706, total=   0.3s\n",
      "[CV] n_estimators=300, min_samples_split=100, min_samples_leaf=2, max_features=sqrt, max_depth=10 \n",
      "[CV]  n_estimators=300, min_samples_split=100, min_samples_leaf=2, max_features=sqrt, max_depth=10, score=-2728.844, total=   0.3s\n",
      "[CV] n_estimators=300, min_samples_split=100, min_samples_leaf=2, max_features=sqrt, max_depth=10 \n",
      "[CV]  n_estimators=300, min_samples_split=100, min_samples_leaf=2, max_features=sqrt, max_depth=10, score=-3221.172, total=   0.3s\n",
      "[CV] n_estimators=1100, min_samples_split=10, min_samples_leaf=5, max_features=sqrt, max_depth=30 \n",
      "[CV]  n_estimators=1100, min_samples_split=10, min_samples_leaf=5, max_features=sqrt, max_depth=30, score=-2158.556, total=   1.2s\n",
      "[CV] n_estimators=1100, min_samples_split=10, min_samples_leaf=5, max_features=sqrt, max_depth=30 \n",
      "[CV]  n_estimators=1100, min_samples_split=10, min_samples_leaf=5, max_features=sqrt, max_depth=30, score=-1978.340, total=   1.2s\n",
      "[CV] n_estimators=1100, min_samples_split=10, min_samples_leaf=5, max_features=sqrt, max_depth=30 \n",
      "[CV]  n_estimators=1100, min_samples_split=10, min_samples_leaf=5, max_features=sqrt, max_depth=30, score=-1989.056, total=   1.2s\n",
      "[CV] n_estimators=1100, min_samples_split=10, min_samples_leaf=5, max_features=sqrt, max_depth=30 \n",
      "[CV]  n_estimators=1100, min_samples_split=10, min_samples_leaf=5, max_features=sqrt, max_depth=30, score=-1948.925, total=   1.2s\n",
      "[CV] n_estimators=1100, min_samples_split=10, min_samples_leaf=5, max_features=sqrt, max_depth=30 \n",
      "[CV]  n_estimators=1100, min_samples_split=10, min_samples_leaf=5, max_features=sqrt, max_depth=30, score=-2522.027, total=   1.2s\n",
      "[CV] n_estimators=500, min_samples_split=100, min_samples_leaf=1, max_features=sqrt, max_depth=15 \n",
      "[CV]  n_estimators=500, min_samples_split=100, min_samples_leaf=1, max_features=sqrt, max_depth=15, score=-3024.819, total=   0.6s\n",
      "[CV] n_estimators=500, min_samples_split=100, min_samples_leaf=1, max_features=sqrt, max_depth=15 \n",
      "[CV]  n_estimators=500, min_samples_split=100, min_samples_leaf=1, max_features=sqrt, max_depth=15, score=-2873.012, total=   0.5s\n",
      "[CV] n_estimators=500, min_samples_split=100, min_samples_leaf=1, max_features=sqrt, max_depth=15 \n",
      "[CV]  n_estimators=500, min_samples_split=100, min_samples_leaf=1, max_features=sqrt, max_depth=15, score=-2912.618, total=   0.5s\n",
      "[CV] n_estimators=500, min_samples_split=100, min_samples_leaf=1, max_features=sqrt, max_depth=15 \n",
      "[CV]  n_estimators=500, min_samples_split=100, min_samples_leaf=1, max_features=sqrt, max_depth=15, score=-2694.695, total=   0.9s\n",
      "[CV] n_estimators=500, min_samples_split=100, min_samples_leaf=1, max_features=sqrt, max_depth=15 \n",
      "[CV]  n_estimators=500, min_samples_split=100, min_samples_leaf=1, max_features=sqrt, max_depth=15, score=-3253.572, total=   0.6s\n",
      "[CV] n_estimators=800, min_samples_split=2, min_samples_leaf=2, max_features=sqrt, max_depth=10 \n",
      "[CV]  n_estimators=800, min_samples_split=2, min_samples_leaf=2, max_features=sqrt, max_depth=10, score=-1825.216, total=   1.2s\n",
      "[CV] n_estimators=800, min_samples_split=2, min_samples_leaf=2, max_features=sqrt, max_depth=10 \n",
      "[CV]  n_estimators=800, min_samples_split=2, min_samples_leaf=2, max_features=sqrt, max_depth=10, score=-1605.183, total=   1.0s\n",
      "[CV] n_estimators=800, min_samples_split=2, min_samples_leaf=2, max_features=sqrt, max_depth=10 \n",
      "[CV]  n_estimators=800, min_samples_split=2, min_samples_leaf=2, max_features=sqrt, max_depth=10, score=-1634.856, total=   1.1s\n",
      "[CV] n_estimators=800, min_samples_split=2, min_samples_leaf=2, max_features=sqrt, max_depth=10 \n",
      "[CV]  n_estimators=800, min_samples_split=2, min_samples_leaf=2, max_features=sqrt, max_depth=10, score=-1630.029, total=   1.0s\n",
      "[CV] n_estimators=800, min_samples_split=2, min_samples_leaf=2, max_features=sqrt, max_depth=10 \n",
      "[CV]  n_estimators=800, min_samples_split=2, min_samples_leaf=2, max_features=sqrt, max_depth=10, score=-2174.132, total=   1.0s\n",
      "[CV] n_estimators=300, min_samples_split=2, min_samples_leaf=1, max_features=sqrt, max_depth=5 \n",
      "[CV]  n_estimators=300, min_samples_split=2, min_samples_leaf=1, max_features=sqrt, max_depth=5, score=-2324.047, total=   0.4s\n",
      "[CV] n_estimators=300, min_samples_split=2, min_samples_leaf=1, max_features=sqrt, max_depth=5 \n",
      "[CV]  n_estimators=300, min_samples_split=2, min_samples_leaf=1, max_features=sqrt, max_depth=5, score=-2287.956, total=   0.3s\n",
      "[CV] n_estimators=300, min_samples_split=2, min_samples_leaf=1, max_features=sqrt, max_depth=5 \n",
      "[CV]  n_estimators=300, min_samples_split=2, min_samples_leaf=1, max_features=sqrt, max_depth=5, score=-2172.567, total=   0.4s\n",
      "[CV] n_estimators=300, min_samples_split=2, min_samples_leaf=1, max_features=sqrt, max_depth=5 \n",
      "[CV]  n_estimators=300, min_samples_split=2, min_samples_leaf=1, max_features=sqrt, max_depth=5, score=-2128.572, total=   0.4s\n",
      "[CV] n_estimators=300, min_samples_split=2, min_samples_leaf=1, max_features=sqrt, max_depth=5 \n",
      "[CV]  n_estimators=300, min_samples_split=2, min_samples_leaf=1, max_features=sqrt, max_depth=5, score=-2760.187, total=   0.4s\n",
      "[CV] n_estimators=200, min_samples_split=10, min_samples_leaf=10, max_features=sqrt, max_depth=5 \n",
      "[CV]  n_estimators=200, min_samples_split=10, min_samples_leaf=10, max_features=sqrt, max_depth=5, score=-2601.293, total=   0.3s\n",
      "[CV] n_estimators=200, min_samples_split=10, min_samples_leaf=10, max_features=sqrt, max_depth=5 \n",
      "[CV]  n_estimators=200, min_samples_split=10, min_samples_leaf=10, max_features=sqrt, max_depth=5, score=-2496.781, total=   0.2s\n",
      "[CV] n_estimators=200, min_samples_split=10, min_samples_leaf=10, max_features=sqrt, max_depth=5 \n",
      "[CV]  n_estimators=200, min_samples_split=10, min_samples_leaf=10, max_features=sqrt, max_depth=5, score=-2476.532, total=   0.2s\n",
      "[CV] n_estimators=200, min_samples_split=10, min_samples_leaf=10, max_features=sqrt, max_depth=5 \n"
     ]
    },
    {
     "name": "stdout",
     "output_type": "stream",
     "text": [
      "[CV]  n_estimators=200, min_samples_split=10, min_samples_leaf=10, max_features=sqrt, max_depth=5, score=-2379.715, total=   0.2s\n",
      "[CV] n_estimators=200, min_samples_split=10, min_samples_leaf=10, max_features=sqrt, max_depth=5 \n",
      "[CV]  n_estimators=200, min_samples_split=10, min_samples_leaf=10, max_features=sqrt, max_depth=5, score=-2919.242, total=   0.2s\n",
      "[CV] n_estimators=500, min_samples_split=100, min_samples_leaf=2, max_features=auto, max_depth=20 \n",
      "[CV]  n_estimators=500, min_samples_split=100, min_samples_leaf=2, max_features=auto, max_depth=20, score=-2784.114, total=   0.7s\n",
      "[CV] n_estimators=500, min_samples_split=100, min_samples_leaf=2, max_features=auto, max_depth=20 \n",
      "[CV]  n_estimators=500, min_samples_split=100, min_samples_leaf=2, max_features=auto, max_depth=20, score=-2961.964, total=   0.7s\n",
      "[CV] n_estimators=500, min_samples_split=100, min_samples_leaf=2, max_features=auto, max_depth=20 \n",
      "[CV]  n_estimators=500, min_samples_split=100, min_samples_leaf=2, max_features=auto, max_depth=20, score=-2696.719, total=   0.7s\n",
      "[CV] n_estimators=500, min_samples_split=100, min_samples_leaf=2, max_features=auto, max_depth=20 \n",
      "[CV]  n_estimators=500, min_samples_split=100, min_samples_leaf=2, max_features=auto, max_depth=20, score=-2693.236, total=   0.7s\n",
      "[CV] n_estimators=500, min_samples_split=100, min_samples_leaf=2, max_features=auto, max_depth=20 \n",
      "[CV]  n_estimators=500, min_samples_split=100, min_samples_leaf=2, max_features=auto, max_depth=20, score=-3275.046, total=   0.6s\n",
      "[CV] n_estimators=300, min_samples_split=2, min_samples_leaf=1, max_features=auto, max_depth=25 \n",
      "[CV]  n_estimators=300, min_samples_split=2, min_samples_leaf=1, max_features=auto, max_depth=25, score=-1558.396, total=   0.7s\n",
      "[CV] n_estimators=300, min_samples_split=2, min_samples_leaf=1, max_features=auto, max_depth=25 \n",
      "[CV]  n_estimators=300, min_samples_split=2, min_samples_leaf=1, max_features=auto, max_depth=25, score=-1426.854, total=   0.7s\n",
      "[CV] n_estimators=300, min_samples_split=2, min_samples_leaf=1, max_features=auto, max_depth=25 \n",
      "[CV]  n_estimators=300, min_samples_split=2, min_samples_leaf=1, max_features=auto, max_depth=25, score=-1381.954, total=   0.7s\n",
      "[CV] n_estimators=300, min_samples_split=2, min_samples_leaf=1, max_features=auto, max_depth=25 \n",
      "[CV]  n_estimators=300, min_samples_split=2, min_samples_leaf=1, max_features=auto, max_depth=25, score=-1453.788, total=   0.7s\n",
      "[CV] n_estimators=300, min_samples_split=2, min_samples_leaf=1, max_features=auto, max_depth=25 \n",
      "[CV]  n_estimators=300, min_samples_split=2, min_samples_leaf=1, max_features=auto, max_depth=25, score=-1863.388, total=   0.7s\n",
      "[CV] n_estimators=500, min_samples_split=100, min_samples_leaf=2, max_features=auto, max_depth=30 \n",
      "[CV]  n_estimators=500, min_samples_split=100, min_samples_leaf=2, max_features=auto, max_depth=30, score=-2776.336, total=   0.6s\n",
      "[CV] n_estimators=500, min_samples_split=100, min_samples_leaf=2, max_features=auto, max_depth=30 \n",
      "[CV]  n_estimators=500, min_samples_split=100, min_samples_leaf=2, max_features=auto, max_depth=30, score=-2995.910, total=   0.6s\n",
      "[CV] n_estimators=500, min_samples_split=100, min_samples_leaf=2, max_features=auto, max_depth=30 \n",
      "[CV]  n_estimators=500, min_samples_split=100, min_samples_leaf=2, max_features=auto, max_depth=30, score=-2685.743, total=   0.6s\n",
      "[CV] n_estimators=500, min_samples_split=100, min_samples_leaf=2, max_features=auto, max_depth=30 \n",
      "[CV]  n_estimators=500, min_samples_split=100, min_samples_leaf=2, max_features=auto, max_depth=30, score=-2683.893, total=   0.6s\n",
      "[CV] n_estimators=500, min_samples_split=100, min_samples_leaf=2, max_features=auto, max_depth=30 \n",
      "[CV]  n_estimators=500, min_samples_split=100, min_samples_leaf=2, max_features=auto, max_depth=30, score=-3290.605, total=   0.6s\n",
      "[CV] n_estimators=1200, min_samples_split=5, min_samples_leaf=1, max_features=sqrt, max_depth=10 \n",
      "[CV]  n_estimators=1200, min_samples_split=5, min_samples_leaf=1, max_features=sqrt, max_depth=10, score=-1776.424, total=   1.5s\n",
      "[CV] n_estimators=1200, min_samples_split=5, min_samples_leaf=1, max_features=sqrt, max_depth=10 \n",
      "[CV]  n_estimators=1200, min_samples_split=5, min_samples_leaf=1, max_features=sqrt, max_depth=10, score=-1552.998, total=   1.4s\n",
      "[CV] n_estimators=1200, min_samples_split=5, min_samples_leaf=1, max_features=sqrt, max_depth=10 \n",
      "[CV]  n_estimators=1200, min_samples_split=5, min_samples_leaf=1, max_features=sqrt, max_depth=10, score=-1533.210, total=   1.5s\n",
      "[CV] n_estimators=1200, min_samples_split=5, min_samples_leaf=1, max_features=sqrt, max_depth=10 \n",
      "[CV]  n_estimators=1200, min_samples_split=5, min_samples_leaf=1, max_features=sqrt, max_depth=10, score=-1574.018, total=   1.5s\n",
      "[CV] n_estimators=1200, min_samples_split=5, min_samples_leaf=1, max_features=sqrt, max_depth=10 \n",
      "[CV]  n_estimators=1200, min_samples_split=5, min_samples_leaf=1, max_features=sqrt, max_depth=10, score=-2159.894, total=   1.5s\n",
      "[CV] n_estimators=800, min_samples_split=100, min_samples_leaf=2, max_features=sqrt, max_depth=30 \n",
      "[CV]  n_estimators=800, min_samples_split=100, min_samples_leaf=2, max_features=sqrt, max_depth=30, score=-3015.844, total=   0.8s\n",
      "[CV] n_estimators=800, min_samples_split=100, min_samples_leaf=2, max_features=sqrt, max_depth=30 \n",
      "[CV]  n_estimators=800, min_samples_split=100, min_samples_leaf=2, max_features=sqrt, max_depth=30, score=-2878.201, total=   0.8s\n",
      "[CV] n_estimators=800, min_samples_split=100, min_samples_leaf=2, max_features=sqrt, max_depth=30 \n",
      "[CV]  n_estimators=800, min_samples_split=100, min_samples_leaf=2, max_features=sqrt, max_depth=30, score=-2922.295, total=   0.8s\n",
      "[CV] n_estimators=800, min_samples_split=100, min_samples_leaf=2, max_features=sqrt, max_depth=30 \n",
      "[CV]  n_estimators=800, min_samples_split=100, min_samples_leaf=2, max_features=sqrt, max_depth=30, score=-2681.261, total=   0.9s\n",
      "[CV] n_estimators=800, min_samples_split=100, min_samples_leaf=2, max_features=sqrt, max_depth=30 \n",
      "[CV]  n_estimators=800, min_samples_split=100, min_samples_leaf=2, max_features=sqrt, max_depth=30, score=-3255.429, total=   0.8s\n",
      "[CV] n_estimators=800, min_samples_split=15, min_samples_leaf=1, max_features=sqrt, max_depth=10 \n",
      "[CV]  n_estimators=800, min_samples_split=15, min_samples_leaf=1, max_features=sqrt, max_depth=10, score=-2059.937, total=   0.9s\n",
      "[CV] n_estimators=800, min_samples_split=15, min_samples_leaf=1, max_features=sqrt, max_depth=10 \n",
      "[CV]  n_estimators=800, min_samples_split=15, min_samples_leaf=1, max_features=sqrt, max_depth=10, score=-1947.983, total=   0.9s\n",
      "[CV] n_estimators=800, min_samples_split=15, min_samples_leaf=1, max_features=sqrt, max_depth=10 \n",
      "[CV]  n_estimators=800, min_samples_split=15, min_samples_leaf=1, max_features=sqrt, max_depth=10, score=-1901.222, total=   0.9s\n",
      "[CV] n_estimators=800, min_samples_split=15, min_samples_leaf=1, max_features=sqrt, max_depth=10 \n",
      "[CV]  n_estimators=800, min_samples_split=15, min_samples_leaf=1, max_features=sqrt, max_depth=10, score=-1903.172, total=   0.9s\n",
      "[CV] n_estimators=800, min_samples_split=15, min_samples_leaf=1, max_features=sqrt, max_depth=10 \n",
      "[CV]  n_estimators=800, min_samples_split=15, min_samples_leaf=1, max_features=sqrt, max_depth=10, score=-2486.034, total=   0.9s\n",
      "[CV] n_estimators=800, min_samples_split=100, min_samples_leaf=10, max_features=sqrt, max_depth=20 \n",
      "[CV]  n_estimators=800, min_samples_split=100, min_samples_leaf=10, max_features=sqrt, max_depth=20, score=-3050.827, total=   0.8s\n",
      "[CV] n_estimators=800, min_samples_split=100, min_samples_leaf=10, max_features=sqrt, max_depth=20 \n",
      "[CV]  n_estimators=800, min_samples_split=100, min_samples_leaf=10, max_features=sqrt, max_depth=20, score=-2883.943, total=   0.8s\n",
      "[CV] n_estimators=800, min_samples_split=100, min_samples_leaf=10, max_features=sqrt, max_depth=20 \n",
      "[CV]  n_estimators=800, min_samples_split=100, min_samples_leaf=10, max_features=sqrt, max_depth=20, score=-2975.263, total=   0.8s\n",
      "[CV] n_estimators=800, min_samples_split=100, min_samples_leaf=10, max_features=sqrt, max_depth=20 \n",
      "[CV]  n_estimators=800, min_samples_split=100, min_samples_leaf=10, max_features=sqrt, max_depth=20, score=-2736.728, total=   0.8s\n",
      "[CV] n_estimators=800, min_samples_split=100, min_samples_leaf=10, max_features=sqrt, max_depth=20 \n"
     ]
    },
    {
     "name": "stdout",
     "output_type": "stream",
     "text": [
      "[CV]  n_estimators=800, min_samples_split=100, min_samples_leaf=10, max_features=sqrt, max_depth=20, score=-3282.144, total=   0.8s\n",
      "[CV] n_estimators=200, min_samples_split=5, min_samples_leaf=1, max_features=auto, max_depth=20 \n",
      "[CV]  n_estimators=200, min_samples_split=5, min_samples_leaf=1, max_features=auto, max_depth=20, score=-1585.724, total=   0.4s\n",
      "[CV] n_estimators=200, min_samples_split=5, min_samples_leaf=1, max_features=auto, max_depth=20 \n",
      "[CV]  n_estimators=200, min_samples_split=5, min_samples_leaf=1, max_features=auto, max_depth=20, score=-1484.140, total=   0.4s\n",
      "[CV] n_estimators=200, min_samples_split=5, min_samples_leaf=1, max_features=auto, max_depth=20 \n",
      "[CV]  n_estimators=200, min_samples_split=5, min_samples_leaf=1, max_features=auto, max_depth=20, score=-1363.819, total=   0.4s\n",
      "[CV] n_estimators=200, min_samples_split=5, min_samples_leaf=1, max_features=auto, max_depth=20 \n",
      "[CV]  n_estimators=200, min_samples_split=5, min_samples_leaf=1, max_features=auto, max_depth=20, score=-1484.428, total=   0.4s\n",
      "[CV] n_estimators=200, min_samples_split=5, min_samples_leaf=1, max_features=auto, max_depth=20 \n",
      "[CV]  n_estimators=200, min_samples_split=5, min_samples_leaf=1, max_features=auto, max_depth=20, score=-1887.902, total=   0.4s\n",
      "[CV] n_estimators=500, min_samples_split=10, min_samples_leaf=1, max_features=auto, max_depth=20 \n",
      "[CV]  n_estimators=500, min_samples_split=10, min_samples_leaf=1, max_features=auto, max_depth=20, score=-1755.341, total=   0.9s\n",
      "[CV] n_estimators=500, min_samples_split=10, min_samples_leaf=1, max_features=auto, max_depth=20 \n",
      "[CV]  n_estimators=500, min_samples_split=10, min_samples_leaf=1, max_features=auto, max_depth=20, score=-1663.963, total=   0.9s\n",
      "[CV] n_estimators=500, min_samples_split=10, min_samples_leaf=1, max_features=auto, max_depth=20 \n",
      "[CV]  n_estimators=500, min_samples_split=10, min_samples_leaf=1, max_features=auto, max_depth=20, score=-1536.492, total=   0.9s\n",
      "[CV] n_estimators=500, min_samples_split=10, min_samples_leaf=1, max_features=auto, max_depth=20 \n",
      "[CV]  n_estimators=500, min_samples_split=10, min_samples_leaf=1, max_features=auto, max_depth=20, score=-1657.128, total=   0.9s\n",
      "[CV] n_estimators=500, min_samples_split=10, min_samples_leaf=1, max_features=auto, max_depth=20 \n",
      "[CV]  n_estimators=500, min_samples_split=10, min_samples_leaf=1, max_features=auto, max_depth=20, score=-2078.924, total=   0.9s\n",
      "[CV] n_estimators=500, min_samples_split=5, min_samples_leaf=5, max_features=sqrt, max_depth=20 \n",
      "[CV]  n_estimators=500, min_samples_split=5, min_samples_leaf=5, max_features=sqrt, max_depth=20, score=-2153.277, total=   0.6s\n",
      "[CV] n_estimators=500, min_samples_split=5, min_samples_leaf=5, max_features=sqrt, max_depth=20 \n",
      "[CV]  n_estimators=500, min_samples_split=5, min_samples_leaf=5, max_features=sqrt, max_depth=20, score=-1957.309, total=   0.6s\n",
      "[CV] n_estimators=500, min_samples_split=5, min_samples_leaf=5, max_features=sqrt, max_depth=20 \n",
      "[CV]  n_estimators=500, min_samples_split=5, min_samples_leaf=5, max_features=sqrt, max_depth=20, score=-1988.253, total=   0.6s\n",
      "[CV] n_estimators=500, min_samples_split=5, min_samples_leaf=5, max_features=sqrt, max_depth=20 \n",
      "[CV]  n_estimators=500, min_samples_split=5, min_samples_leaf=5, max_features=sqrt, max_depth=20, score=-1977.098, total=   0.6s\n",
      "[CV] n_estimators=500, min_samples_split=5, min_samples_leaf=5, max_features=sqrt, max_depth=20 \n",
      "[CV]  n_estimators=500, min_samples_split=5, min_samples_leaf=5, max_features=sqrt, max_depth=20, score=-2522.946, total=   0.6s\n",
      "[CV] n_estimators=1200, min_samples_split=100, min_samples_leaf=10, max_features=sqrt, max_depth=20 \n",
      "[CV]  n_estimators=1200, min_samples_split=100, min_samples_leaf=10, max_features=sqrt, max_depth=20, score=-3039.229, total=   1.2s\n",
      "[CV] n_estimators=1200, min_samples_split=100, min_samples_leaf=10, max_features=sqrt, max_depth=20 \n",
      "[CV]  n_estimators=1200, min_samples_split=100, min_samples_leaf=10, max_features=sqrt, max_depth=20, score=-2889.669, total=   1.2s\n",
      "[CV] n_estimators=1200, min_samples_split=100, min_samples_leaf=10, max_features=sqrt, max_depth=20 \n",
      "[CV]  n_estimators=1200, min_samples_split=100, min_samples_leaf=10, max_features=sqrt, max_depth=20, score=-2948.439, total=   1.2s\n",
      "[CV] n_estimators=1200, min_samples_split=100, min_samples_leaf=10, max_features=sqrt, max_depth=20 \n",
      "[CV]  n_estimators=1200, min_samples_split=100, min_samples_leaf=10, max_features=sqrt, max_depth=20, score=-2740.131, total=   1.2s\n",
      "[CV] n_estimators=1200, min_samples_split=100, min_samples_leaf=10, max_features=sqrt, max_depth=20 \n",
      "[CV]  n_estimators=1200, min_samples_split=100, min_samples_leaf=10, max_features=sqrt, max_depth=20, score=-3283.858, total=   1.2s\n"
     ]
    },
    {
     "name": "stderr",
     "output_type": "stream",
     "text": [
      "[Parallel(n_jobs=1)]: Done 500 out of 500 | elapsed:  7.6min finished\n"
     ]
    },
    {
     "data": {
      "text/plain": [
       "RandomizedSearchCV(cv=5, estimator=RandomForestRegressor(), n_iter=100,\n",
       "                   param_distributions={'max_depth': [5, 10, 15, 20, 25, 30],\n",
       "                                        'max_features': ['auto', 'sqrt'],\n",
       "                                        'min_samples_leaf': [1, 2, 5, 10],\n",
       "                                        'min_samples_split': [2, 5, 10, 15,\n",
       "                                                              100],\n",
       "                                        'n_estimators': [100, 200, 300, 400,\n",
       "                                                         500, 600, 700, 800,\n",
       "                                                         900, 1000, 1100,\n",
       "                                                         1200]},\n",
       "                   scoring='neg_mean_squared_error', verbose=10)"
      ]
     },
     "execution_count": 161,
     "metadata": {},
     "output_type": "execute_result"
    }
   ],
   "source": [
    "random_cv.fit(x_train,y_train)"
   ]
  },
  {
   "cell_type": "code",
   "execution_count": 162,
   "id": "5decaff0",
   "metadata": {},
   "outputs": [
    {
     "data": {
      "text/plain": [
       "{'n_estimators': 1000,\n",
       " 'min_samples_split': 2,\n",
       " 'min_samples_leaf': 1,\n",
       " 'max_features': 'auto',\n",
       " 'max_depth': 15}"
      ]
     },
     "execution_count": 162,
     "metadata": {},
     "output_type": "execute_result"
    }
   ],
   "source": [
    "#getting the best parameters\n",
    "random_cv.best_params_"
   ]
  },
  {
   "cell_type": "code",
   "execution_count": 163,
   "id": "b9552979",
   "metadata": {},
   "outputs": [
    {
     "data": {
      "text/plain": [
       "-1523.7839247754887"
      ]
     },
     "execution_count": 163,
     "metadata": {},
     "output_type": "execute_result"
    }
   ],
   "source": [
    "#getting best score\n",
    "random_cv.best_score_"
   ]
  },
  {
   "cell_type": "markdown",
   "id": "5a167938",
   "metadata": {},
   "source": [
    "## Evaluating the model"
   ]
  },
  {
   "cell_type": "code",
   "execution_count": 164,
   "id": "d9a095ad",
   "metadata": {},
   "outputs": [],
   "source": [
    "predictions=random_cv.predict(x_test)"
   ]
  },
  {
   "cell_type": "code",
   "execution_count": 165,
   "id": "4147a9af",
   "metadata": {},
   "outputs": [
    {
     "data": {
      "image/png": "[encoded data removed]",
      "text/plain": [
       "<Figure size 432x288 with 1 Axes>"
      ]
     },
     "metadata": {
      "needs_background": "light"
     },
     "output_type": "display_data"
    }
   ],
   "source": [
    "sns.distplot(y_test-predictions);"
   ]
  },
  {
   "cell_type": "code",
   "execution_count": 166,
   "id": "67250cd1",
   "metadata": {},
   "outputs": [
    {
     "data": {
      "image/png": "[encoded data removed]",
      "text/plain": [
       "<Figure size 432x288 with 1 Axes>"
      ]
     },
     "metadata": {
      "needs_background": "light"
     },
     "output_type": "display_data"
    }
   ],
   "source": [
    "plt.scatter(y_test,predictions);\n",
    "plt.xlabel('y_test');\n",
    "plt.ylabel('Predicted values');"
   ]
  },
  {
   "cell_type": "code",
   "execution_count": 167,
   "id": "d0b04439",
   "metadata": {},
   "outputs": [],
   "source": [
    "from sklearn import metrics"
   ]
  },
  {
   "cell_type": "code",
   "execution_count": 168,
   "id": "5483ebcd",
   "metadata": {},
   "outputs": [
    {
     "name": "stdout",
     "output_type": "stream",
     "text": [
      "MAE:  24.07153331917732\n",
      "MSE:  1527.489515567036\n",
      "RMSE:  39.08311036198419\n"
     ]
    }
   ],
   "source": [
    "print('MAE: ',metrics.mean_absolute_error(y_test,predictions))\n",
    "print('MSE: ',metrics.mean_squared_error(y_test,predictions))\n",
    "print('RMSE: ',np.sqrt(metrics.mean_squared_error(y_test,predictions)))"
   ]
  },
  {
   "cell_type": "code",
   "execution_count": 169,
   "id": "aefbdff8",
   "metadata": {},
   "outputs": [],
   "source": [
    "import pickle\n",
    "with open('AQI_RFR_model.pkl','wb') as file:\n",
    "    pickle.dump(random_cv,file)"
   ]
  }
 ],
 "metadata": {
  "kernelspec": {
   "display_name": "Python 3 (ipykernel)",
   "language": "python",
   "name": "python3"
  },
  "language_info": {
   "codemirror_mode": {
    "name": "ipython",
    "version": 3
   },
   "file_extension": ".py",
   "mimetype": "text/x-python",
   "name": "python",
   "nbconvert_exporter": "python",
   "pygments_lexer": "ipython3",
   "version": "3.9.6"
  }
 },
 "nbformat": 4,
 "nbformat_minor": 5
}
