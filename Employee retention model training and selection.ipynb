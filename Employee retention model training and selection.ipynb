{
 "cells": [
  {
   "cell_type": "markdown",
   "id": "e0cd2759",
   "metadata": {},
   "source": [
    "# Employee Attrition\n",
    "\n",
    "## Aim: To predict whether the employed remain in his job or not.\n",
    "\n",
    "### Description: \n",
    "#### The ML model used for this data predicts whether the employee should retained or not within a company. \n",
    "#### Features used:\n",
    "\n",
    "- Age: Age of the employee(Integer type)\n",
    "- Atrrition: Whether the employee is fired or not\n",
    "- Business Travel: How often does the employee travel on business basis\n",
    "- Daily rate: The amount payed to the employee daily i.e (Monthly Rate X 12) / Total working days in a year\n",
    "- Department: Type of department the employee is working\n",
    "- DistanceFromHome: The total distance from the employee's stay\n",
    "- Education: Educational background\n",
    "- EmployeeCount: Count of employee\n",
    "- EmployeeNumber: Employee's unique number\n",
    "- EnvironmentSatisfaction: Rate of environment satisfaction\n",
    "- Gender: Gender of the employee\n",
    "- HourlyRate: How much does the employee is payed on hourly based\n",
    "- JobInvolvement: How well the employee is dedicated towards their job\n",
    "- JobLevel: Level of the job\n",
    "- JobRole: Role of the job\n",
    "- JobSatisfaction: Employee's rating for his job satisfaction\n",
    "- MartialStatus: Is employee married or not\n",
    "- MonthlyIncome: Employee's fixed income per month\n",
    "- MonthlyRate: Employee's total daily rate in a month\n",
    "- NumCompaniesWorked: Number of companies does the employee worked in\n",
    "- Over18: Is the employee is above 18 or not\n",
    "- OverTime: Does the employee works overtime or not\n",
    "- PercentSalaryHike: Increase in employee's salary in percentage\n",
    "- PerformanceRating: Rating given for employee's overall performance\n",
    "- RelationshipSatisfaction: How well the employee's relationship within organization/company\n",
    "- StandardHours: A standard hour is the amount of work achievable, at the expected level of efficiency, in an hour\n",
    "- StockOptionLevel: Level and the period of time granted to the employee to buy stocks \n",
    "- TotalWorkingYears: Number of years worked in their profession\n",
    "- TrainingTimesLastYear: Number of times does the employee got trained in last year\n",
    "- WorkLifeBalance: How well the employee balances their life\n",
    "- YearsAtCompany: Number of years worked in the company\n",
    "- YearsInCurrentRole: How many does the employee worked in a particular role\n",
    "- YearsSinceLastPromotion: How many years are completed sinse their last promotion\n",
    "- YearsWithCurrManager: How many does the employee worked under thier current manager"
   ]
  },
  {
   "cell_type": "markdown",
   "id": "5aaf0c32",
   "metadata": {},
   "source": [
    "## Pipelines used:\n",
    "- Exploratory Data Analysis \n",
    "- Feature Engineering\n",
    "- Feature selection\n",
    "- Model training and selection *"
   ]
  },
  {
   "cell_type": "code",
   "execution_count": 259,
   "id": "9799e25e",
   "metadata": {},
   "outputs": [],
   "source": [
    "#logistic regression\n",
    "#random forest classifier\n",
    "#decision tree classifier\n",
    "#XGboost classifier\n",
    "#K means clustering\n",
    "#KNN\n",
    "#SVM_SVC\n",
    "#gradient boosting"
   ]
  },
  {
   "cell_type": "code",
   "execution_count": 260,
   "id": "d2d78ef8",
   "metadata": {},
   "outputs": [],
   "source": [
    "import pandas as pd\n",
    "import numpy as np"
   ]
  },
  {
   "cell_type": "code",
   "execution_count": 261,
   "id": "48ac7d05",
   "metadata": {},
   "outputs": [],
   "source": [
    "import warnings\n",
    "warnings.filterwarnings('ignore')"
   ]
  },
  {
   "cell_type": "code",
   "execution_count": 262,
   "id": "efdaaf19",
   "metadata": {},
   "outputs": [],
   "source": [
    "from sklearn.linear_model import LogisticRegression\n",
    "from sklearn.ensemble import RandomForestClassifier\n",
    "from sklearn.tree import DecisionTreeClassifier\n",
    "from xgboost import XGBClassifier\n",
    "from sklearn.ensemble import GradientBoostingClassifier\n",
    "from sklearn.neighbors import KNeighborsClassifier\n",
    "from sklearn.cluster import KMeans"
   ]
  },
  {
   "cell_type": "code",
   "execution_count": 263,
   "id": "d75b7b43",
   "metadata": {},
   "outputs": [],
   "source": [
    "data_frame=pd.read_csv('final_input_df.csv')"
   ]
  },
  {
   "cell_type": "code",
   "execution_count": 264,
   "id": "360ca1ee",
   "metadata": {},
   "outputs": [
    {
     "data": {
      "text/html": [
       "<div>\n",
       "<style scoped>\n",
       "    .dataframe tbody tr th:only-of-type {\n",
       "        vertical-align: middle;\n",
       "    }\n",
       "\n",
       "    .dataframe tbody tr th {\n",
       "        vertical-align: top;\n",
       "    }\n",
       "\n",
       "    .dataframe thead th {\n",
       "        text-align: right;\n",
       "    }\n",
       "</style>\n",
       "<table border=\"1\" class=\"dataframe\">\n",
       "  <thead>\n",
       "    <tr style=\"text-align: right;\">\n",
       "      <th></th>\n",
       "      <th>Age</th>\n",
       "      <th>DailyRate</th>\n",
       "      <th>Department</th>\n",
       "      <th>DistanceFromHome</th>\n",
       "      <th>EducationField</th>\n",
       "      <th>EnvironmentSatisfaction</th>\n",
       "      <th>JobInvolvement</th>\n",
       "      <th>JobLevel</th>\n",
       "      <th>JobRole</th>\n",
       "      <th>JobSatisfaction</th>\n",
       "      <th>...</th>\n",
       "      <th>NumCompaniesWorked</th>\n",
       "      <th>OverTime</th>\n",
       "      <th>RelationshipSatisfaction</th>\n",
       "      <th>StockOptionLevel</th>\n",
       "      <th>TotalWorkingYears</th>\n",
       "      <th>WorkLifeBalance</th>\n",
       "      <th>YearsAtCompany</th>\n",
       "      <th>YearsInCurrentRole</th>\n",
       "      <th>YearsWithCurrManager</th>\n",
       "      <th>Attrition</th>\n",
       "    </tr>\n",
       "  </thead>\n",
       "  <tbody>\n",
       "    <tr>\n",
       "      <th>0</th>\n",
       "      <td>0.547619</td>\n",
       "      <td>0.715820</td>\n",
       "      <td>0.5</td>\n",
       "      <td>0.000000</td>\n",
       "      <td>1.0</td>\n",
       "      <td>0.333333</td>\n",
       "      <td>0.666667</td>\n",
       "      <td>0.25</td>\n",
       "      <td>1.000</td>\n",
       "      <td>1.000000</td>\n",
       "      <td>...</td>\n",
       "      <td>0.888889</td>\n",
       "      <td>0.0</td>\n",
       "      <td>0.000000</td>\n",
       "      <td>0.000000</td>\n",
       "      <td>0.200</td>\n",
       "      <td>0.000000</td>\n",
       "      <td>0.15</td>\n",
       "      <td>0.222222</td>\n",
       "      <td>0.294118</td>\n",
       "      <td>1</td>\n",
       "    </tr>\n",
       "    <tr>\n",
       "      <th>1</th>\n",
       "      <td>0.738095</td>\n",
       "      <td>0.126700</td>\n",
       "      <td>1.0</td>\n",
       "      <td>0.250000</td>\n",
       "      <td>1.0</td>\n",
       "      <td>0.666667</td>\n",
       "      <td>0.333333</td>\n",
       "      <td>0.25</td>\n",
       "      <td>0.750</td>\n",
       "      <td>0.333333</td>\n",
       "      <td>...</td>\n",
       "      <td>0.111111</td>\n",
       "      <td>1.0</td>\n",
       "      <td>1.000000</td>\n",
       "      <td>0.333333</td>\n",
       "      <td>0.250</td>\n",
       "      <td>0.666667</td>\n",
       "      <td>0.25</td>\n",
       "      <td>0.388889</td>\n",
       "      <td>0.411765</td>\n",
       "      <td>0</td>\n",
       "    </tr>\n",
       "    <tr>\n",
       "      <th>2</th>\n",
       "      <td>0.452381</td>\n",
       "      <td>0.909807</td>\n",
       "      <td>1.0</td>\n",
       "      <td>0.035714</td>\n",
       "      <td>0.2</td>\n",
       "      <td>1.000000</td>\n",
       "      <td>0.333333</td>\n",
       "      <td>0.00</td>\n",
       "      <td>0.875</td>\n",
       "      <td>0.666667</td>\n",
       "      <td>...</td>\n",
       "      <td>0.666667</td>\n",
       "      <td>0.0</td>\n",
       "      <td>0.333333</td>\n",
       "      <td>0.000000</td>\n",
       "      <td>0.175</td>\n",
       "      <td>0.666667</td>\n",
       "      <td>0.00</td>\n",
       "      <td>0.000000</td>\n",
       "      <td>0.000000</td>\n",
       "      <td>1</td>\n",
       "    </tr>\n",
       "    <tr>\n",
       "      <th>3</th>\n",
       "      <td>0.357143</td>\n",
       "      <td>0.923407</td>\n",
       "      <td>1.0</td>\n",
       "      <td>0.071429</td>\n",
       "      <td>1.0</td>\n",
       "      <td>1.000000</td>\n",
       "      <td>0.666667</td>\n",
       "      <td>0.00</td>\n",
       "      <td>0.750</td>\n",
       "      <td>0.666667</td>\n",
       "      <td>...</td>\n",
       "      <td>0.111111</td>\n",
       "      <td>0.0</td>\n",
       "      <td>0.666667</td>\n",
       "      <td>0.000000</td>\n",
       "      <td>0.200</td>\n",
       "      <td>0.666667</td>\n",
       "      <td>0.20</td>\n",
       "      <td>0.388889</td>\n",
       "      <td>0.000000</td>\n",
       "      <td>0</td>\n",
       "    </tr>\n",
       "    <tr>\n",
       "      <th>4</th>\n",
       "      <td>0.214286</td>\n",
       "      <td>0.350036</td>\n",
       "      <td>1.0</td>\n",
       "      <td>0.035714</td>\n",
       "      <td>0.8</td>\n",
       "      <td>0.000000</td>\n",
       "      <td>0.666667</td>\n",
       "      <td>0.00</td>\n",
       "      <td>0.875</td>\n",
       "      <td>0.333333</td>\n",
       "      <td>...</td>\n",
       "      <td>1.000000</td>\n",
       "      <td>1.0</td>\n",
       "      <td>1.000000</td>\n",
       "      <td>0.333333</td>\n",
       "      <td>0.150</td>\n",
       "      <td>0.666667</td>\n",
       "      <td>0.05</td>\n",
       "      <td>0.111111</td>\n",
       "      <td>0.117647</td>\n",
       "      <td>0</td>\n",
       "    </tr>\n",
       "  </tbody>\n",
       "</table>\n",
       "<p>5 rows × 21 columns</p>\n",
       "</div>"
      ],
      "text/plain": [
       "        Age  DailyRate  Department  DistanceFromHome  EducationField  \\\n",
       "0  0.547619   0.715820         0.5          0.000000             1.0   \n",
       "1  0.738095   0.126700         1.0          0.250000             1.0   \n",
       "2  0.452381   0.909807         1.0          0.035714             0.2   \n",
       "3  0.357143   0.923407         1.0          0.071429             1.0   \n",
       "4  0.214286   0.350036         1.0          0.035714             0.8   \n",
       "\n",
       "   EnvironmentSatisfaction  JobInvolvement  JobLevel  JobRole  \\\n",
       "0                 0.333333        0.666667      0.25    1.000   \n",
       "1                 0.666667        0.333333      0.25    0.750   \n",
       "2                 1.000000        0.333333      0.00    0.875   \n",
       "3                 1.000000        0.666667      0.00    0.750   \n",
       "4                 0.000000        0.666667      0.00    0.875   \n",
       "\n",
       "   JobSatisfaction  ...  NumCompaniesWorked  OverTime  \\\n",
       "0         1.000000  ...            0.888889       0.0   \n",
       "1         0.333333  ...            0.111111       1.0   \n",
       "2         0.666667  ...            0.666667       0.0   \n",
       "3         0.666667  ...            0.111111       0.0   \n",
       "4         0.333333  ...            1.000000       1.0   \n",
       "\n",
       "   RelationshipSatisfaction  StockOptionLevel  TotalWorkingYears  \\\n",
       "0                  0.000000          0.000000              0.200   \n",
       "1                  1.000000          0.333333              0.250   \n",
       "2                  0.333333          0.000000              0.175   \n",
       "3                  0.666667          0.000000              0.200   \n",
       "4                  1.000000          0.333333              0.150   \n",
       "\n",
       "   WorkLifeBalance  YearsAtCompany  YearsInCurrentRole  YearsWithCurrManager  \\\n",
       "0         0.000000            0.15            0.222222              0.294118   \n",
       "1         0.666667            0.25            0.388889              0.411765   \n",
       "2         0.666667            0.00            0.000000              0.000000   \n",
       "3         0.666667            0.20            0.388889              0.000000   \n",
       "4         0.666667            0.05            0.111111              0.117647   \n",
       "\n",
       "   Attrition  \n",
       "0          1  \n",
       "1          0  \n",
       "2          1  \n",
       "3          0  \n",
       "4          0  \n",
       "\n",
       "[5 rows x 21 columns]"
      ]
     },
     "execution_count": 264,
     "metadata": {},
     "output_type": "execute_result"
    }
   ],
   "source": [
    "data_frame.head()"
   ]
  },
  {
   "cell_type": "markdown",
   "id": "57737c2c",
   "metadata": {},
   "source": [
    "## Spliting the data"
   ]
  },
  {
   "cell_type": "code",
   "execution_count": 265,
   "id": "23bc37fe",
   "metadata": {},
   "outputs": [],
   "source": [
    "from sklearn.model_selection import train_test_split"
   ]
  },
  {
   "cell_type": "code",
   "execution_count": 266,
   "id": "24508cfb",
   "metadata": {},
   "outputs": [],
   "source": [
    "x=data_frame.iloc[:,:-1]\n",
    "y=data_frame.iloc[:,-1]"
   ]
  },
  {
   "cell_type": "code",
   "execution_count": 267,
   "id": "b5eef722",
   "metadata": {},
   "outputs": [],
   "source": [
    "x_train,x_test,y_train,y_test=train_test_split(x,y,test_size=0.3,random_state=42)"
   ]
  },
  {
   "cell_type": "markdown",
   "id": "00430b96",
   "metadata": {},
   "source": [
    "### Defining the model training function"
   ]
  },
  {
   "cell_type": "code",
   "execution_count": 268,
   "id": "0f1d8064",
   "metadata": {},
   "outputs": [],
   "source": [
    "def model_training(model,model_name):\n",
    "    print('Model name: {}'.format(model_name))\n",
    "    trained_model=model.fit(x_train,y_train)\n",
    "    model_score=model.score(x_test,y_test)\n",
    "    print('Model score: {}'.format(model_score))\n",
    "    return model_score"
   ]
  },
  {
   "cell_type": "markdown",
   "id": "08c8a9eb",
   "metadata": {},
   "source": [
    "## LogisticRegression"
   ]
  },
  {
   "cell_type": "code",
   "execution_count": 269,
   "id": "8fe2938d",
   "metadata": {},
   "outputs": [
    {
     "name": "stdout",
     "output_type": "stream",
     "text": [
      "Model name: Logistic Regression\n",
      "Model score: 0.7202702702702702\n"
     ]
    },
    {
     "data": {
      "text/plain": [
       "0.7202702702702702"
      ]
     },
     "execution_count": 269,
     "metadata": {},
     "output_type": "execute_result"
    }
   ],
   "source": [
    "model_training(LogisticRegression(),'Logistic Regression')"
   ]
  },
  {
   "cell_type": "code",
   "execution_count": 270,
   "id": "cdcd33ac",
   "metadata": {},
   "outputs": [],
   "source": [
    "models=[LogisticRegression(),RandomForestClassifier(),DecisionTreeClassifier(),XGBClassifier(),GradientBoostingClassifier(),KNeighborsClassifier(),KMeans()]\n",
    "model_name=['Logistic','RFC','DTC','XBGC','GBC','KNC','KM']"
   ]
  },
  {
   "cell_type": "code",
   "execution_count": 271,
   "id": "cf6c5f15",
   "metadata": {},
   "outputs": [
    {
     "name": "stdout",
     "output_type": "stream",
     "text": [
      "Model name: Logistic\n",
      "Model score: 0.7202702702702702\n",
      "Model name: RFC\n",
      "Model score: 0.9581081081081081\n",
      "Model name: DTC\n",
      "Model score: 0.8932432432432432\n",
      "Model name: XBGC\n",
      "[14:28:33] WARNING: /Users/travis/build/dmlc/xgboost/src/learner.cc:1061: Starting in XGBoost 1.3.0, the default evaluation metric used with the objective 'binary:logistic' was changed from 'error' to 'logloss'. Explicitly set eval_metric if you'd like to restore the old behavior.\n",
      "Model score: 0.9472972972972973\n",
      "Model name: GBC\n",
      "Model score: 0.8608108108108108\n",
      "Model name: KNC\n",
      "Model score: 0.8175675675675675\n",
      "Model name: KM\n",
      "Model score: -823.9025963184624\n"
     ]
    }
   ],
   "source": [
    "scores=[]\n",
    "for model,name in zip(models,model_name):\n",
    "    trained_score_value=model_training(model,name)\n",
    "    scores.append(trained_score_value)"
   ]
  },
  {
   "cell_type": "code",
   "execution_count": 272,
   "id": "912ada3b",
   "metadata": {},
   "outputs": [
    {
     "name": "stdout",
     "output_type": "stream",
     "text": [
      "Model name: RFC, Model score: 0.9581081081081081\n"
     ]
    }
   ],
   "source": [
    "score_index_value=scores.index(max(scores))\n",
    "score_model_name=model_name[score_index_value]\n",
    "print('Model name: {}, Model score: {}'.format(score_model_name,max(scores)))"
   ]
  },
  {
   "cell_type": "code",
   "execution_count": 309,
   "id": "3d648234",
   "metadata": {},
   "outputs": [],
   "source": [
    "model=RandomForestClassifier()"
   ]
  },
  {
   "cell_type": "code",
   "execution_count": 311,
   "id": "46a737b1",
   "metadata": {},
   "outputs": [
    {
     "data": {
      "text/plain": [
       "RandomForestClassifier()"
      ]
     },
     "execution_count": 311,
     "metadata": {},
     "output_type": "execute_result"
    }
   ],
   "source": [
    "model.fit(x_train,y_train)"
   ]
  },
  {
   "cell_type": "code",
   "execution_count": 312,
   "id": "1a83e6e7",
   "metadata": {},
   "outputs": [
    {
     "data": {
      "text/plain": [
       "0.9527027027027027"
      ]
     },
     "execution_count": 312,
     "metadata": {},
     "output_type": "execute_result"
    }
   ],
   "source": [
    "model.score(x_test,y_test)"
   ]
  },
  {
   "cell_type": "code",
   "execution_count": 313,
   "id": "53a9a389",
   "metadata": {},
   "outputs": [],
   "source": [
    "y_pred=model.predict(x_test)"
   ]
  },
  {
   "cell_type": "code",
   "execution_count": 314,
   "id": "9109d886",
   "metadata": {},
   "outputs": [],
   "source": [
    "from sklearn.metrics import classification_report,confusion_matrix"
   ]
  },
  {
   "cell_type": "code",
   "execution_count": 315,
   "id": "02a6e0e1",
   "metadata": {},
   "outputs": [
    {
     "name": "stdout",
     "output_type": "stream",
     "text": [
      "              precision    recall  f1-score   support\n",
      "\n",
      "           0       0.97      0.93      0.95       369\n",
      "           1       0.94      0.97      0.95       371\n",
      "\n",
      "    accuracy                           0.95       740\n",
      "   macro avg       0.95      0.95      0.95       740\n",
      "weighted avg       0.95      0.95      0.95       740\n",
      "\n"
     ]
    }
   ],
   "source": [
    "print(classification_report(y_test,y_pred))"
   ]
  },
  {
   "cell_type": "code",
   "execution_count": 316,
   "id": "b7b2674e",
   "metadata": {},
   "outputs": [],
   "source": [
    "tn,fp,fn,tp=confusion_matrix(y_test,y_pred).ravel()"
   ]
  },
  {
   "cell_type": "code",
   "execution_count": 317,
   "id": "32c51215",
   "metadata": {},
   "outputs": [
    {
     "name": "stdout",
     "output_type": "stream",
     "text": [
      "True Positive:  360\n",
      "True Negative:  345\n",
      "False Positive:  24\n",
      "False Negative:  11\n"
     ]
    }
   ],
   "source": [
    "print('True Positive: ',tp)\n",
    "print('True Negative: ',tn)\n",
    "print('False Positive: ',fp)\n",
    "print('False Negative: ',fn)"
   ]
  },
  {
   "cell_type": "code",
   "execution_count": 318,
   "id": "b5d03257",
   "metadata": {},
   "outputs": [],
   "source": [
    "import pickle\n",
    "with open('hr_model_pickle.pkl','wb') as file:\n",
    "    pickle.dump(model,file)"
   ]
  }
 ],
 "metadata": {
  "kernelspec": {
   "display_name": "Python 3 (ipykernel)",
   "language": "python",
   "name": "python3"
  },
  "language_info": {
   "codemirror_mode": {
    "name": "ipython",
    "version": 3
   },
   "file_extension": ".py",
   "mimetype": "text/x-python",
   "name": "python",
   "nbconvert_exporter": "python",
   "pygments_lexer": "ipython3",
   "version": "3.9.6"
  }
 },
 "nbformat": 4,
 "nbformat_minor": 5
}
