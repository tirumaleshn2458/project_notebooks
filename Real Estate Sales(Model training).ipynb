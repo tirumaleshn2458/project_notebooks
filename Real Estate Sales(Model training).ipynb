{
 "cells": [
  {
   "cell_type": "markdown",
   "id": "a17ef693",
   "metadata": {},
   "source": [
    "# Real Estate Sales\n",
    "\n",
    "## Aim: To predict the Sale Amount in Connecticut US State."
   ]
  },
  {
   "cell_type": "code",
   "execution_count": 1,
   "id": "4cb8ca6d",
   "metadata": {},
   "outputs": [],
   "source": [
    "import pandas as pd\n",
    "import numpy as np"
   ]
  },
  {
   "cell_type": "code",
   "execution_count": 2,
   "id": "7cac18c7",
   "metadata": {},
   "outputs": [],
   "source": [
    "data_frame=pd.read_csv('final_data.csv')"
   ]
  },
  {
   "cell_type": "code",
   "execution_count": 3,
   "id": "0040af39",
   "metadata": {},
   "outputs": [
    {
     "data": {
      "text/html": [
       "<div>\n",
       "<style scoped>\n",
       "    .dataframe tbody tr th:only-of-type {\n",
       "        vertical-align: middle;\n",
       "    }\n",
       "\n",
       "    .dataframe tbody tr th {\n",
       "        vertical-align: top;\n",
       "    }\n",
       "\n",
       "    .dataframe thead th {\n",
       "        text-align: right;\n",
       "    }\n",
       "</style>\n",
       "<table border=\"1\" class=\"dataframe\">\n",
       "  <thead>\n",
       "    <tr style=\"text-align: right;\">\n",
       "      <th></th>\n",
       "      <th>Town</th>\n",
       "      <th>Address</th>\n",
       "      <th>Property Type</th>\n",
       "      <th>Serial Number</th>\n",
       "      <th>List Year</th>\n",
       "      <th>Date Recorded</th>\n",
       "      <th>Assessed Value</th>\n",
       "      <th>Sale Amount</th>\n",
       "      <th>Sales Ratio</th>\n",
       "    </tr>\n",
       "  </thead>\n",
       "  <tbody>\n",
       "    <tr>\n",
       "      <th>0</th>\n",
       "      <td>93</td>\n",
       "      <td>0</td>\n",
       "      <td>14</td>\n",
       "      <td>19029</td>\n",
       "      <td>2</td>\n",
       "      <td>2</td>\n",
       "      <td>202200.0</td>\n",
       "      <td>284000.0</td>\n",
       "      <td>0.7120</td>\n",
       "    </tr>\n",
       "    <tr>\n",
       "      <th>1</th>\n",
       "      <td>124</td>\n",
       "      <td>577418</td>\n",
       "      <td>9</td>\n",
       "      <td>190189</td>\n",
       "      <td>2</td>\n",
       "      <td>1</td>\n",
       "      <td>134460.0</td>\n",
       "      <td>173800.0</td>\n",
       "      <td>0.7736</td>\n",
       "    </tr>\n",
       "    <tr>\n",
       "      <th>2</th>\n",
       "      <td>124</td>\n",
       "      <td>391996</td>\n",
       "      <td>14</td>\n",
       "      <td>190352</td>\n",
       "      <td>2</td>\n",
       "      <td>1</td>\n",
       "      <td>207450.0</td>\n",
       "      <td>317500.0</td>\n",
       "      <td>0.6534</td>\n",
       "    </tr>\n",
       "    <tr>\n",
       "      <th>3</th>\n",
       "      <td>47</td>\n",
       "      <td>391995</td>\n",
       "      <td>14</td>\n",
       "      <td>190033</td>\n",
       "      <td>2</td>\n",
       "      <td>2</td>\n",
       "      <td>111480.0</td>\n",
       "      <td>229900.0</td>\n",
       "      <td>0.4849</td>\n",
       "    </tr>\n",
       "    <tr>\n",
       "      <th>4</th>\n",
       "      <td>41</td>\n",
       "      <td>391994</td>\n",
       "      <td>14</td>\n",
       "      <td>190056</td>\n",
       "      <td>2</td>\n",
       "      <td>1</td>\n",
       "      <td>323020.0</td>\n",
       "      <td>560000.0</td>\n",
       "      <td>0.5768</td>\n",
       "    </tr>\n",
       "  </tbody>\n",
       "</table>\n",
       "</div>"
      ],
      "text/plain": [
       "   Town  Address  Property Type  Serial Number  List Year  Date Recorded  \\\n",
       "0    93        0             14          19029          2              2   \n",
       "1   124   577418              9         190189          2              1   \n",
       "2   124   391996             14         190352          2              1   \n",
       "3    47   391995             14         190033          2              2   \n",
       "4    41   391994             14         190056          2              1   \n",
       "\n",
       "   Assessed Value  Sale Amount  Sales Ratio  \n",
       "0        202200.0     284000.0       0.7120  \n",
       "1        134460.0     173800.0       0.7736  \n",
       "2        207450.0     317500.0       0.6534  \n",
       "3        111480.0     229900.0       0.4849  \n",
       "4        323020.0     560000.0       0.5768  "
      ]
     },
     "execution_count": 3,
     "metadata": {},
     "output_type": "execute_result"
    }
   ],
   "source": [
    "data_frame.head()"
   ]
  },
  {
   "cell_type": "code",
   "execution_count": 4,
   "id": "e2326096",
   "metadata": {},
   "outputs": [
    {
     "data": {
      "text/plain": [
       "Town              0\n",
       "Address           0\n",
       "Property Type     0\n",
       "Serial Number     0\n",
       "List Year         0\n",
       "Date Recorded     0\n",
       "Assessed Value    0\n",
       "Sale Amount       0\n",
       "Sales Ratio       0\n",
       "dtype: int64"
      ]
     },
     "execution_count": 4,
     "metadata": {},
     "output_type": "execute_result"
    }
   ],
   "source": [
    "data_frame.isnull().sum()"
   ]
  },
  {
   "cell_type": "code",
   "execution_count": 5,
   "id": "c12a8c0f",
   "metadata": {},
   "outputs": [],
   "source": [
    "from sklearn.ensemble import RandomForestRegressor\n",
    "from sklearn.model_selection import train_test_split"
   ]
  },
  {
   "cell_type": "code",
   "execution_count": 6,
   "id": "9afc14d1",
   "metadata": {},
   "outputs": [],
   "source": [
    "x=data_frame.drop(['Sale Amount'],axis=1)\n",
    "y=data_frame['Sale Amount']"
   ]
  },
  {
   "cell_type": "code",
   "execution_count": 7,
   "id": "5055c380",
   "metadata": {},
   "outputs": [],
   "source": [
    "model=RandomForestRegressor()"
   ]
  },
  {
   "cell_type": "code",
   "execution_count": 14,
   "id": "497508c0",
   "metadata": {},
   "outputs": [],
   "source": [
    "x_train,x_test,y_train,y_test=train_test_split(x,y,test_size=0.3,random_state=42)"
   ]
  },
  {
   "cell_type": "code",
   "execution_count": 9,
   "id": "d42b353b",
   "metadata": {},
   "outputs": [
    {
     "data": {
      "text/plain": [
       "RandomForestRegressor()"
      ]
     },
     "execution_count": 9,
     "metadata": {},
     "output_type": "execute_result"
    }
   ],
   "source": [
    "model.fit(x_train,y_train)"
   ]
  },
  {
   "cell_type": "code",
   "execution_count": 10,
   "id": "37906ed9",
   "metadata": {},
   "outputs": [
    {
     "data": {
      "text/plain": [
       "0.9541578407746407"
      ]
     },
     "execution_count": 10,
     "metadata": {},
     "output_type": "execute_result"
    }
   ],
   "source": [
    "model.score(x_test,y_test)"
   ]
  },
  {
   "cell_type": "code",
   "execution_count": 11,
   "id": "2fe8898b",
   "metadata": {},
   "outputs": [],
   "source": [
    "import matplotlib.pyplot as plt  \n",
    "import pandas as pd\n",
    "import numpy as np\n",
    "from sklearn.datasets import load_diabetes\n",
    "from sklearn.metrics import mean_absolute_error\n",
    "from sklearn.model_selection import KFold\n",
    "from sklearn.linear_model import LinearRegression\n",
    "from sklearn.tree import DecisionTreeRegressor "
   ]
  },
  {
   "cell_type": "markdown",
   "id": "e310d57c",
   "metadata": {},
   "source": [
    "## Checking the error rate for Random Forest Regressor"
   ]
  },
  {
   "cell_type": "code",
   "execution_count": 12,
   "id": "d63cf872",
   "metadata": {},
   "outputs": [],
   "source": [
    "kf = KFold(n_splits=20,shuffle=True) # defining fold parameter\n",
    " # created empty list to append score and error\n",
    "training_error = []\n",
    "training_accuracy = []\n",
    "testing_error = []\n",
    "testing_accuracy = []\n",
    "for train_index,test_index in kf.split(x):\n",
    "     #get the prediction for train and test data \n",
    "    train_data_pred = model.predict(x_train)\n",
    "    test_data_pred = model.predict(x_test)\n",
    "     #appending the errors to the list\n",
    "    training_error.append(mean_absolute_error(y_train,train_data_pred))\n",
    "    testing_error.append(mean_absolute_error(y_test,test_data_pred))\n",
    "     #appending the accuracy to the list\n",
    "    training_accuracy.append(model.score(x_train,y_train))\n",
    "    testing_accuracy.append(model.score(x_test,y_test))"
   ]
  },
  {
   "cell_type": "code",
   "execution_count": 13,
   "id": "e60b2348",
   "metadata": {},
   "outputs": [
    {
     "data": {
      "text/plain": [
       "Text(0.5, 1.0, 'Testing accuracy across folds')"
      ]
     },
     "execution_count": 13,
     "metadata": {},
     "output_type": "execute_result"
    },
    {
     "data": {
      "image/png": "[encoded data removed]",
      "text/plain": [
       "<Figure size 720x720 with 4 Axes>"
      ]
     },
     "metadata": {
      "needs_background": "light"
     },
     "output_type": "display_data"
    }
   ],
   "source": [
    "plt.figure(figsize=(10,10))\n",
    "plt.subplot(2,2,1)\n",
    "plt.plot(range(1,kf.get_n_splits()+1),np.array(training_error).ravel(),'o-')\n",
    "plt.xlabel('No of folds')\n",
    "plt.ylabel('Error')\n",
    "plt.title('Training error across folds')\n",
    "\n",
    "plt.subplot(2,2,2)\n",
    "plt.plot(range(1,kf.get_n_splits()+1),np.array(testing_error).ravel(),'o-')\n",
    "plt.xlabel('No of folds')\n",
    "plt.ylabel('Error')\n",
    "plt.title('Testing error across folds')\n",
    "\n",
    "plt.subplot(2,2,3)\n",
    "plt.plot(range(1,kf.get_n_splits()+1),np.array(training_accuracy).ravel(),'o-')\n",
    "plt.xlabel('No of folds')\n",
    "plt.ylabel('Accuracy')\n",
    "plt.title('Testing accuracy across folds')\n",
    "\n",
    "plt.subplot(2,2,4)\n",
    "plt.plot(range(1,kf.get_n_splits()+1),np.array(testing_accuracy).ravel(),'o-')\n",
    "plt.xlabel('No of folds')\n",
    "plt.ylabel('Accuracy')\n",
    "plt.title('Testing accuracy across folds')"
   ]
  },
  {
   "cell_type": "markdown",
   "id": "e777a97c",
   "metadata": {},
   "source": [
    "## Linear Regression"
   ]
  },
  {
   "cell_type": "code",
   "execution_count": 12,
   "id": "376b6e79",
   "metadata": {},
   "outputs": [],
   "source": [
    "linear_model=LinearRegression()"
   ]
  },
  {
   "cell_type": "code",
   "execution_count": 15,
   "id": "08fce417",
   "metadata": {},
   "outputs": [
    {
     "data": {
      "text/plain": [
       "LinearRegression()"
      ]
     },
     "execution_count": 15,
     "metadata": {},
     "output_type": "execute_result"
    }
   ],
   "source": [
    "linear_model.fit(x_train,y_train)"
   ]
  },
  {
   "cell_type": "code",
   "execution_count": 16,
   "id": "b2737a65",
   "metadata": {},
   "outputs": [
    {
     "data": {
      "text/plain": [
       "0.13987609811077695"
      ]
     },
     "execution_count": 16,
     "metadata": {},
     "output_type": "execute_result"
    }
   ],
   "source": [
    "linear_model.score(x_test,y_test)"
   ]
  },
  {
   "cell_type": "markdown",
   "id": "90df725b",
   "metadata": {},
   "source": [
    "## Lasso"
   ]
  },
  {
   "cell_type": "code",
   "execution_count": 17,
   "id": "dca2667a",
   "metadata": {},
   "outputs": [],
   "source": [
    "from sklearn.linear_model import Lasso"
   ]
  },
  {
   "cell_type": "code",
   "execution_count": 18,
   "id": "cb317890",
   "metadata": {},
   "outputs": [],
   "source": [
    "lasso=Lasso()"
   ]
  },
  {
   "cell_type": "code",
   "execution_count": 19,
   "id": "1f53b42f",
   "metadata": {},
   "outputs": [
    {
     "name": "stderr",
     "output_type": "stream",
     "text": [
      "/Library/Frameworks/Python.framework/Versions/3.9/lib/python3.9/site-packages/sklearn/linear_model/_coordinate_descent.py:529: ConvergenceWarning: Objective did not converge. You might want to increase the number of iterations. Duality gap: 1.0882367553855375e+18, tolerance: 235923808154862.5\n",
      "  model = cd_fast.enet_coordinate_descent(\n"
     ]
    },
    {
     "data": {
      "text/plain": [
       "Lasso()"
      ]
     },
     "execution_count": 19,
     "metadata": {},
     "output_type": "execute_result"
    }
   ],
   "source": [
    "lasso.fit(x_train,y_train)"
   ]
  },
  {
   "cell_type": "code",
   "execution_count": 20,
   "id": "1b193e05",
   "metadata": {},
   "outputs": [
    {
     "data": {
      "text/plain": [
       "0.13987621887043855"
      ]
     },
     "execution_count": 20,
     "metadata": {},
     "output_type": "execute_result"
    }
   ],
   "source": [
    "lasso.score(x_test,y_test)"
   ]
  },
  {
   "cell_type": "markdown",
   "id": "b2a136db",
   "metadata": {},
   "source": [
    "## XGBoostRegressor"
   ]
  },
  {
   "cell_type": "code",
   "execution_count": 22,
   "id": "ab9671d8",
   "metadata": {},
   "outputs": [],
   "source": [
    "from xgboost import XGBRegressor"
   ]
  },
  {
   "cell_type": "code",
   "execution_count": 23,
   "id": "c8a74576",
   "metadata": {},
   "outputs": [],
   "source": [
    "xgb=XGBRegressor()"
   ]
  },
  {
   "cell_type": "code",
   "execution_count": 24,
   "id": "487af627",
   "metadata": {},
   "outputs": [
    {
     "data": {
      "text/plain": [
       "XGBRegressor(base_score=0.5, booster='gbtree', colsample_bylevel=1,\n",
       "             colsample_bynode=1, colsample_bytree=1, gamma=0, gpu_id=-1,\n",
       "             importance_type='gain', interaction_constraints='',\n",
       "             learning_rate=0.300000012, max_delta_step=0, max_depth=6,\n",
       "             min_child_weight=1, missing=nan, monotone_constraints='()',\n",
       "             n_estimators=100, n_jobs=16, num_parallel_tree=1, random_state=0,\n",
       "             reg_alpha=0, reg_lambda=1, scale_pos_weight=1, subsample=1,\n",
       "             tree_method='exact', validate_parameters=1, verbosity=None)"
      ]
     },
     "execution_count": 24,
     "metadata": {},
     "output_type": "execute_result"
    }
   ],
   "source": [
    "xgb.fit(x_train,y_train)"
   ]
  },
  {
   "cell_type": "code",
   "execution_count": 25,
   "id": "7ea57051",
   "metadata": {},
   "outputs": [
    {
     "data": {
      "text/plain": [
       "0.892946779924441"
      ]
     },
     "execution_count": 25,
     "metadata": {},
     "output_type": "execute_result"
    }
   ],
   "source": [
    "xgb.score(x_test,y_test)"
   ]
  },
  {
   "cell_type": "code",
   "execution_count": 26,
   "id": "5ec252c5",
   "metadata": {},
   "outputs": [
    {
     "data": {
      "text/plain": [
       "Text(0.5, 1.0, 'Testing accuracy across folds')"
      ]
     },
     "execution_count": 26,
     "metadata": {},
     "output_type": "execute_result"
    },
    {
     "data": {
      "image/png": "[encoded data removed]",
      "text/plain": [
       "<Figure size 720x720 with 4 Axes>"
      ]
     },
     "metadata": {
      "needs_background": "light"
     },
     "output_type": "display_data"
    }
   ],
   "source": [
    "kf = KFold(n_splits=20,shuffle=True) # defining fold parameter\n",
    " # created empty list to append score and error\n",
    "training_error = []\n",
    "training_accuracy = []\n",
    "testing_error = []\n",
    "testing_accuracy = []\n",
    "for train_index,test_index in kf.split(x):\n",
    "     #get the prediction for train and test data \n",
    "    train_data_pred = xgb.predict(x_train)\n",
    "    test_data_pred = xgb.predict(x_test)\n",
    "     #appending the errors to the list\n",
    "    training_error.append(mean_absolute_error(y_train,train_data_pred))\n",
    "    testing_error.append(mean_absolute_error(y_test,test_data_pred))\n",
    "     #appending the accuracy to the list\n",
    "    training_accuracy.append(xgb.score(x_train,y_train))\n",
    "    testing_accuracy.append(xgb.score(x_test,y_test))\n",
    "    \n",
    "\n",
    "plt.figure(figsize=(10,10))\n",
    "plt.subplot(2,2,1)\n",
    "plt.plot(range(1,kf.get_n_splits()+1),np.array(training_error).ravel(),'o-')\n",
    "plt.xlabel('No of folds')\n",
    "plt.ylabel('Error')\n",
    "plt.title('Training error across folds')\n",
    "\n",
    "plt.subplot(2,2,2)\n",
    "plt.plot(range(1,kf.get_n_splits()+1),np.array(testing_error).ravel(),'o-')\n",
    "plt.xlabel('No of folds')\n",
    "plt.ylabel('Error')\n",
    "plt.title('Testing error across folds')\n",
    "\n",
    "plt.subplot(2,2,3)\n",
    "plt.plot(range(1,kf.get_n_splits()+1),np.array(training_accuracy).ravel(),'o-')\n",
    "plt.xlabel('No of folds')\n",
    "plt.ylabel('Accuracy')\n",
    "plt.title('Testing accuracy across folds')\n",
    "\n",
    "plt.subplot(2,2,4)\n",
    "plt.plot(range(1,kf.get_n_splits()+1),np.array(testing_accuracy).ravel(),'o-')\n",
    "plt.xlabel('No of folds')\n",
    "plt.ylabel('Accuracy')\n",
    "plt.title('Testing accuracy across folds')"
   ]
  }
 ],
 "metadata": {
  "kernelspec": {
   "display_name": "Python 3 (ipykernel)",
   "language": "python",
   "name": "python3"
  },
  "language_info": {
   "codemirror_mode": {
    "name": "ipython",
    "version": 3
   },
   "file_extension": ".py",
   "mimetype": "text/x-python",
   "name": "python",
   "nbconvert_exporter": "python",
   "pygments_lexer": "ipython3",
   "version": "3.9.6"
  }
 },
 "nbformat": 4,
 "nbformat_minor": 5
}
