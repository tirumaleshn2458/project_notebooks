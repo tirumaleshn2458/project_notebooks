{
 "cells": [
  {
   "cell_type": "markdown",
   "id": "91b7d194",
   "metadata": {},
   "source": [
    "# Air Quality Index"
   ]
  },
  {
   "cell_type": "markdown",
   "id": "3407804d",
   "metadata": {},
   "source": [
    "## ML model to be used\n",
    "\n",
    "- Linear Regression*\n",
    "- Lasso Regression\n",
    "- Ridge Regression\n",
    "- Decision Tree Regressor\n",
    "- KNN Regressor\n",
    "- RandomForestRegressor\n",
    "- Xgboost Regressor\n",
    "- ANN- Artificial Neural Network\n"
   ]
  },
  {
   "cell_type": "markdown",
   "id": "395b4f0f",
   "metadata": {},
   "source": [
    "## Linear Regression for training the data"
   ]
  },
  {
   "cell_type": "code",
   "execution_count": 69,
   "id": "087cd35c",
   "metadata": {},
   "outputs": [],
   "source": [
    "#import the libraries\n",
    "import pandas as pd\n",
    "import numpy as np\n",
    "import seaborn as sns\n",
    "import matplotlib.pyplot as plt\n",
    "from sklearn.model_selection import train_test_split\n",
    "from sklearn.linear_model import LinearRegression"
   ]
  },
  {
   "cell_type": "code",
   "execution_count": 45,
   "id": "9a1e3611",
   "metadata": {},
   "outputs": [],
   "source": [
    "import warnings\n",
    "warnings.filterwarnings('ignore')"
   ]
  },
  {
   "cell_type": "code",
   "execution_count": 3,
   "id": "71c7bf55",
   "metadata": {},
   "outputs": [],
   "source": [
    "#Reading the dataframe\n",
    "data_frame=pd.read_csv('AQI_data.csv')"
   ]
  },
  {
   "cell_type": "code",
   "execution_count": 4,
   "id": "aa892c09",
   "metadata": {},
   "outputs": [
    {
     "data": {
      "text/html": [
       "<div>\n",
       "<style scoped>\n",
       "    .dataframe tbody tr th:only-of-type {\n",
       "        vertical-align: middle;\n",
       "    }\n",
       "\n",
       "    .dataframe tbody tr th {\n",
       "        vertical-align: top;\n",
       "    }\n",
       "\n",
       "    .dataframe thead th {\n",
       "        text-align: right;\n",
       "    }\n",
       "</style>\n",
       "<table border=\"1\" class=\"dataframe\">\n",
       "  <thead>\n",
       "    <tr style=\"text-align: right;\">\n",
       "      <th></th>\n",
       "      <th>T</th>\n",
       "      <th>TM</th>\n",
       "      <th>Tm</th>\n",
       "      <th>SLP</th>\n",
       "      <th>H</th>\n",
       "      <th>VV</th>\n",
       "      <th>V</th>\n",
       "      <th>VM</th>\n",
       "      <th>PM 2.5</th>\n",
       "    </tr>\n",
       "  </thead>\n",
       "  <tbody>\n",
       "    <tr>\n",
       "      <th>0</th>\n",
       "      <td>7.4</td>\n",
       "      <td>9.8</td>\n",
       "      <td>4.8</td>\n",
       "      <td>1017.6</td>\n",
       "      <td>93.0</td>\n",
       "      <td>0.5</td>\n",
       "      <td>4.3</td>\n",
       "      <td>9.4</td>\n",
       "      <td>219.720833</td>\n",
       "    </tr>\n",
       "    <tr>\n",
       "      <th>1</th>\n",
       "      <td>7.8</td>\n",
       "      <td>12.7</td>\n",
       "      <td>4.4</td>\n",
       "      <td>1018.5</td>\n",
       "      <td>87.0</td>\n",
       "      <td>0.6</td>\n",
       "      <td>4.4</td>\n",
       "      <td>11.1</td>\n",
       "      <td>182.187500</td>\n",
       "    </tr>\n",
       "    <tr>\n",
       "      <th>2</th>\n",
       "      <td>6.7</td>\n",
       "      <td>13.4</td>\n",
       "      <td>2.4</td>\n",
       "      <td>1019.4</td>\n",
       "      <td>82.0</td>\n",
       "      <td>0.6</td>\n",
       "      <td>4.8</td>\n",
       "      <td>11.1</td>\n",
       "      <td>154.037500</td>\n",
       "    </tr>\n",
       "    <tr>\n",
       "      <th>3</th>\n",
       "      <td>8.6</td>\n",
       "      <td>15.5</td>\n",
       "      <td>3.3</td>\n",
       "      <td>1018.7</td>\n",
       "      <td>72.0</td>\n",
       "      <td>0.8</td>\n",
       "      <td>8.1</td>\n",
       "      <td>20.6</td>\n",
       "      <td>223.208333</td>\n",
       "    </tr>\n",
       "    <tr>\n",
       "      <th>4</th>\n",
       "      <td>12.4</td>\n",
       "      <td>20.9</td>\n",
       "      <td>4.4</td>\n",
       "      <td>1017.3</td>\n",
       "      <td>61.0</td>\n",
       "      <td>1.3</td>\n",
       "      <td>8.7</td>\n",
       "      <td>22.2</td>\n",
       "      <td>200.645833</td>\n",
       "    </tr>\n",
       "  </tbody>\n",
       "</table>\n",
       "</div>"
      ],
      "text/plain": [
       "      T    TM   Tm     SLP     H   VV    V    VM      PM 2.5\n",
       "0   7.4   9.8  4.8  1017.6  93.0  0.5  4.3   9.4  219.720833\n",
       "1   7.8  12.7  4.4  1018.5  87.0  0.6  4.4  11.1  182.187500\n",
       "2   6.7  13.4  2.4  1019.4  82.0  0.6  4.8  11.1  154.037500\n",
       "3   8.6  15.5  3.3  1018.7  72.0  0.8  8.1  20.6  223.208333\n",
       "4  12.4  20.9  4.4  1017.3  61.0  1.3  8.7  22.2  200.645833"
      ]
     },
     "execution_count": 4,
     "metadata": {},
     "output_type": "execute_result"
    }
   ],
   "source": [
    "data_frame.head()"
   ]
  },
  {
   "cell_type": "code",
   "execution_count": 5,
   "id": "0f005bc1",
   "metadata": {},
   "outputs": [],
   "source": [
    "x=data_frame.iloc[:,:-1]#independent features\n",
    "y=data_frame.iloc[:,-1]#dependent feature"
   ]
  },
  {
   "cell_type": "markdown",
   "id": "a11c2c88",
   "metadata": {},
   "source": [
    "## Spliting the data"
   ]
  },
  {
   "cell_type": "code",
   "execution_count": 8,
   "id": "46e26e5c",
   "metadata": {},
   "outputs": [],
   "source": [
    "#spliting the data by dividing into 70% for training data and 30% for test data"
   ]
  },
  {
   "cell_type": "code",
   "execution_count": 9,
   "id": "783b5833",
   "metadata": {},
   "outputs": [],
   "source": [
    "x_train,x_test,y_train,y_test=train_test_split(x,y,test_size=0.3,random_state=0)"
   ]
  },
  {
   "cell_type": "markdown",
   "id": "f2bc9584",
   "metadata": {},
   "source": [
    "- x_train and y_train are used for training the model.\n",
    "- x_test and y_test are used for test the model."
   ]
  },
  {
   "cell_type": "code",
   "execution_count": 6,
   "id": "51b375db",
   "metadata": {},
   "outputs": [],
   "source": [
    "#initializing the model"
   ]
  },
  {
   "cell_type": "code",
   "execution_count": 7,
   "id": "809a9f4b",
   "metadata": {},
   "outputs": [],
   "source": [
    "model=LinearRegression()"
   ]
  },
  {
   "cell_type": "code",
   "execution_count": 12,
   "id": "7fa584f0",
   "metadata": {},
   "outputs": [],
   "source": [
    "#fitting the model with data"
   ]
  },
  {
   "cell_type": "code",
   "execution_count": 11,
   "id": "ee9f4db6",
   "metadata": {},
   "outputs": [
    {
     "data": {
      "text/plain": [
       "LinearRegression()"
      ]
     },
     "execution_count": 11,
     "metadata": {},
     "output_type": "execute_result"
    }
   ],
   "source": [
    "model.fit(x_train,y_train)"
   ]
  },
  {
   "cell_type": "code",
   "execution_count": 16,
   "id": "98bc18b5",
   "metadata": {},
   "outputs": [
    {
     "data": {
      "text/plain": [
       "0.48525331308567876"
      ]
     },
     "execution_count": 16,
     "metadata": {},
     "output_type": "execute_result"
    }
   ],
   "source": [
    "#testing the data with test data\n",
    "model.score(x_test,y_test)"
   ]
  },
  {
   "cell_type": "code",
   "execution_count": 17,
   "id": "af842ac8",
   "metadata": {},
   "outputs": [
    {
     "data": {
      "text/plain": [
       "0.551516808175875"
      ]
     },
     "execution_count": 17,
     "metadata": {},
     "output_type": "execute_result"
    }
   ],
   "source": [
    "#testing the data with train data\n",
    "model.score(x_train,y_train)"
   ]
  },
  {
   "cell_type": "code",
   "execution_count": 22,
   "id": "e8c7f428",
   "metadata": {},
   "outputs": [],
   "source": [
    "#model coefficient values"
   ]
  },
  {
   "cell_type": "code",
   "execution_count": 19,
   "id": "8911565d",
   "metadata": {},
   "outputs": [
    {
     "data": {
      "text/plain": [
       "array([ -2.69090829,   0.46219975,  -3.86705184,  -0.04494855,\n",
       "        -1.21193616, -40.11490762,  -2.53563257,   0.56148181])"
      ]
     },
     "execution_count": 19,
     "metadata": {},
     "output_type": "execute_result"
    }
   ],
   "source": [
    "model.coef_"
   ]
  },
  {
   "cell_type": "code",
   "execution_count": 21,
   "id": "17cff95a",
   "metadata": {},
   "outputs": [],
   "source": [
    "#model intercept value"
   ]
  },
  {
   "cell_type": "code",
   "execution_count": 20,
   "id": "8579f006",
   "metadata": {},
   "outputs": [
    {
     "data": {
      "text/plain": [
       "448.1161696758816"
      ]
     },
     "execution_count": 20,
     "metadata": {},
     "output_type": "execute_result"
    }
   ],
   "source": [
    "model.intercept_"
   ]
  },
  {
   "cell_type": "code",
   "execution_count": 32,
   "id": "d064395f",
   "metadata": {},
   "outputs": [],
   "source": [
    "from sklearn.model_selection import cross_val_score"
   ]
  },
  {
   "cell_type": "code",
   "execution_count": 35,
   "id": "7f41a826",
   "metadata": {},
   "outputs": [
    {
     "data": {
      "text/plain": [
       "0.46503098437415796"
      ]
     },
     "execution_count": 35,
     "metadata": {},
     "output_type": "execute_result"
    }
   ],
   "source": [
    "#cross validation for test data\n",
    "score=cross_val_score(model,x_test,y_test,cv=5)\n",
    "score.mean()"
   ]
  },
  {
   "cell_type": "code",
   "execution_count": 37,
   "id": "8d10f549",
   "metadata": {},
   "outputs": [
    {
     "data": {
      "text/plain": [
       "0.5367152987678667"
      ]
     },
     "execution_count": 37,
     "metadata": {},
     "output_type": "execute_result"
    }
   ],
   "source": [
    "#cross validation for train data\n",
    "score=cross_val_score(model,x_train,y_train,cv=5)\n",
    "score.mean()"
   ]
  },
  {
   "cell_type": "markdown",
   "id": "7f0d8637",
   "metadata": {},
   "source": [
    "## Evaluating the model"
   ]
  },
  {
   "cell_type": "code",
   "execution_count": 38,
   "id": "cf283a24",
   "metadata": {},
   "outputs": [],
   "source": [
    "coeff_data=pd.DataFrame({'Coeffecient':model.coef_},index=x.columns)"
   ]
  },
  {
   "cell_type": "code",
   "execution_count": 39,
   "id": "504deb68",
   "metadata": {},
   "outputs": [
    {
     "data": {
      "text/html": [
       "<div>\n",
       "<style scoped>\n",
       "    .dataframe tbody tr th:only-of-type {\n",
       "        vertical-align: middle;\n",
       "    }\n",
       "\n",
       "    .dataframe tbody tr th {\n",
       "        vertical-align: top;\n",
       "    }\n",
       "\n",
       "    .dataframe thead th {\n",
       "        text-align: right;\n",
       "    }\n",
       "</style>\n",
       "<table border=\"1\" class=\"dataframe\">\n",
       "  <thead>\n",
       "    <tr style=\"text-align: right;\">\n",
       "      <th></th>\n",
       "      <th>Coeffecient</th>\n",
       "    </tr>\n",
       "  </thead>\n",
       "  <tbody>\n",
       "    <tr>\n",
       "      <th>T</th>\n",
       "      <td>-2.690908</td>\n",
       "    </tr>\n",
       "    <tr>\n",
       "      <th>TM</th>\n",
       "      <td>0.462200</td>\n",
       "    </tr>\n",
       "    <tr>\n",
       "      <th>Tm</th>\n",
       "      <td>-3.867052</td>\n",
       "    </tr>\n",
       "    <tr>\n",
       "      <th>SLP</th>\n",
       "      <td>-0.044949</td>\n",
       "    </tr>\n",
       "    <tr>\n",
       "      <th>H</th>\n",
       "      <td>-1.211936</td>\n",
       "    </tr>\n",
       "    <tr>\n",
       "      <th>VV</th>\n",
       "      <td>-40.114908</td>\n",
       "    </tr>\n",
       "    <tr>\n",
       "      <th>V</th>\n",
       "      <td>-2.535633</td>\n",
       "    </tr>\n",
       "    <tr>\n",
       "      <th>VM</th>\n",
       "      <td>0.561482</td>\n",
       "    </tr>\n",
       "  </tbody>\n",
       "</table>\n",
       "</div>"
      ],
      "text/plain": [
       "     Coeffecient\n",
       "T      -2.690908\n",
       "TM      0.462200\n",
       "Tm     -3.867052\n",
       "SLP    -0.044949\n",
       "H      -1.211936\n",
       "VV    -40.114908\n",
       "V      -2.535633\n",
       "VM      0.561482"
      ]
     },
     "execution_count": 39,
     "metadata": {},
     "output_type": "execute_result"
    }
   ],
   "source": [
    "coeff_data"
   ]
  },
  {
   "cell_type": "markdown",
   "id": "612d6ba2",
   "metadata": {},
   "source": [
    "Interpreting the coefficients:\n",
    "\n",
    "- Freezing the input features other than 'T' , when 1 unit is increased in T; Then there will be a decrease of 2.690 in AQI PM2.5 .\n",
    "- Freezing the input features other than 'TM' , when 1 unit is increased in TM; then there will be a increase of 0.46 in AQI PM 2.5 ."
   ]
  },
  {
   "cell_type": "code",
   "execution_count": 41,
   "id": "8b402c70",
   "metadata": {},
   "outputs": [],
   "source": [
    "#chekcing the predictions"
   ]
  },
  {
   "cell_type": "code",
   "execution_count": 40,
   "id": "ffa0c699",
   "metadata": {},
   "outputs": [],
   "source": [
    "predictions=model.predict(x_test)"
   ]
  },
  {
   "cell_type": "code",
   "execution_count": 46,
   "id": "7c7a0860",
   "metadata": {},
   "outputs": [
    {
     "data": {
      "image/png": "[encoded data removed]",
      "text/plain": [
       "<Figure size 432x288 with 1 Axes>"
      ]
     },
     "metadata": {
      "needs_background": "light"
     },
     "output_type": "display_data"
    }
   ],
   "source": [
    "sns.distplot(predictions-y_test);"
   ]
  },
  {
   "cell_type": "code",
   "execution_count": 51,
   "id": "4eec78d8",
   "metadata": {},
   "outputs": [
    {
     "data": {
      "text/plain": [
       "Text(0.5, 1.0, 'Relation between the y_test and predicted values')"
      ]
     },
     "execution_count": 51,
     "metadata": {},
     "output_type": "execute_result"
    },
    {
     "data": {
      "image/png": "[encoded data removed]",
      "text/plain": [
       "<Figure size 432x288 with 1 Axes>"
      ]
     },
     "metadata": {
      "needs_background": "light"
     },
     "output_type": "display_data"
    }
   ],
   "source": [
    "plt.scatter(y_test,predictions);\n",
    "plt.xlabel('y_test');\n",
    "plt.ylabel('Predicted values');\n",
    "plt.title('Relation between the y_test and predicted values')"
   ]
  },
  {
   "cell_type": "markdown",
   "id": "bbabc432",
   "metadata": {},
   "source": [
    "## Evaluating the model using the most common evaluation metrics from scratch"
   ]
  },
  {
   "cell_type": "markdown",
   "id": "10893223",
   "metadata": {},
   "source": [
    "- MAE:- Mean Absolute Error\n",
    "- MSE:- Mean Squared Error\n",
    "- RSME:- Root Mean Squared Error"
   ]
  },
  {
   "cell_type": "markdown",
   "id": "988cfbd5",
   "metadata": {},
   "source": [
    "**MAE**"
   ]
  },
  {
   "cell_type": "code",
   "execution_count": 58,
   "id": "d587be45",
   "metadata": {
    "scrolled": true
   },
   "outputs": [
    {
     "name": "stdout",
     "output_type": "stream",
     "text": [
      "MAE:  44.836241266286386\n"
     ]
    }
   ],
   "source": [
    "mae=0\n",
    "n=len(y_test)\n",
    "for i,j in zip(y_test,predictions):\n",
    "    val=abs(i-j)\n",
    "    mae=mae+val\n",
    "final_val=(1/n)*mae\n",
    "print('MAE: ',final_val)"
   ]
  },
  {
   "cell_type": "markdown",
   "id": "69581cd7",
   "metadata": {},
   "source": [
    "**MSE**"
   ]
  },
  {
   "cell_type": "code",
   "execution_count": 60,
   "id": "62d90413",
   "metadata": {},
   "outputs": [
    {
     "name": "stdout",
     "output_type": "stream",
     "text": [
      "MSE:  3687.5430309324192\n"
     ]
    }
   ],
   "source": [
    "mse=0\n",
    "n=len(y_test)\n",
    "for i,j in zip(y_test,predictions):\n",
    "    val=(i-j)**2\n",
    "    mse=mse+val\n",
    "final_val=(1/n)*mse\n",
    "print('MSE: ',final_val)"
   ]
  },
  {
   "cell_type": "markdown",
   "id": "9102f4fe",
   "metadata": {},
   "source": [
    "**RSME**"
   ]
  },
  {
   "cell_type": "code",
   "execution_count": 62,
   "id": "0a1428c1",
   "metadata": {},
   "outputs": [
    {
     "name": "stdout",
     "output_type": "stream",
     "text": [
      "RMSE:  5.168296483830895\n"
     ]
    }
   ],
   "source": [
    "rmse=0\n",
    "n=len(y_test)\n",
    "for i,j in zip(y_test,predictions):\n",
    "    val=(i-j)**2\n",
    "    rmse=rmse+val\n",
    "final_val=(1/n)*rmse\n",
    "final_val=final_val**0.2\n",
    "print('RMSE: ',final_val)"
   ]
  },
  {
   "cell_type": "code",
   "execution_count": 71,
   "id": "e1753d0f",
   "metadata": {},
   "outputs": [
    {
     "name": "stdout",
     "output_type": "stream",
     "text": [
      "MAE:  44.83624126628639\n",
      "MSE:  3687.5430309324192\n",
      "RMSE:  60.725143317512384\n"
     ]
    }
   ],
   "source": [
    "#python module for metrics\n",
    "from sklearn import metrics\n",
    "print('MAE: ',metrics.mean_absolute_error(y_test,predictions))\n",
    "print('MSE: ',metrics.mean_squared_error(y_test,predictions))\n",
    "print('RMSE: ',np.sqrt(metrics.mean_squared_error(y_test,predictions)))"
   ]
  }
 ],
 "metadata": {
  "kernelspec": {
   "display_name": "Python 3 (ipykernel)",
   "language": "python",
   "name": "python3"
  },
  "language_info": {
   "codemirror_mode": {
    "name": "ipython",
    "version": 3
   },
   "file_extension": ".py",
   "mimetype": "text/x-python",
   "name": "python",
   "nbconvert_exporter": "python",
   "pygments_lexer": "ipython3",
   "version": "3.9.6"
  }
 },
 "nbformat": 4,
 "nbformat_minor": 5
}
